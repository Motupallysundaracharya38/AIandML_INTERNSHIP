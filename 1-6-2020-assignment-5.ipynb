{
 "cells": [
  {
   "cell_type": "markdown",
   "metadata": {},
   "source": [
    "### CSE-221710302038-MOTUPALLY SUNDARA CHARYA"
   ]
  },
  {
   "cell_type": "code",
   "execution_count": null,
   "metadata": {},
   "outputs": [
    {
     "name": "stdout",
     "output_type": "stream",
     "text": [
      "triccat&7\n"
     ]
    }
   ],
   "source": [
    "import random\n",
    "list1=[\"own\",'consist','jog','peep','deliver','weight','tric','agree','detect']\n",
    "list2=[\"current\",\"morning\",\"monkey\",\"example\",'snakes','corona','cat','woman','pig','error']\n",
    "list3=[\"/\",'?','@','$','%','^','&','<','>','?']\n",
    "while True:\n",
    "    st=random.choice(list1)+random.choice(list2)+random.choice(list3)+str(random.randint(0,100))\n",
    "    print(st)\n",
    "    s=input(\"you need another password yes(or)no   :\")\n",
    "    s=s.lower()\n",
    "    if s=='no':\n",
    "        break"
   ]
  },
  {
   "cell_type": "code",
   "execution_count": null,
   "metadata": {},
   "outputs": [],
   "source": []
  }
 ],
 "metadata": {
  "kernelspec": {
   "display_name": "Python 3",
   "language": "python",
   "name": "python3"
  },
  "language_info": {
   "codemirror_mode": {
    "name": "ipython",
    "version": 3
   },
   "file_extension": ".py",
   "mimetype": "text/x-python",
   "name": "python",
   "nbconvert_exporter": "python",
   "pygments_lexer": "ipython3",
   "version": "3.7.4"
  }
 },
 "nbformat": 4,
 "nbformat_minor": 2
}

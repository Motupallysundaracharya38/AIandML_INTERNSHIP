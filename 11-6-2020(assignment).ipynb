{
 "cells": [
  {
   "cell_type": "markdown",
   "metadata": {},
   "source": [
    "## cse-221710302038-motupally sundara charya"
   ]
  },
  {
   "cell_type": "markdown",
   "metadata": {},
   "source": [
    "### Question 1:\n",
    "- Codechef Question\n",
    "- Chef has a string $S$ consisting of lowercase English characters. Chef defined functions left shift $L(X)$ and right shift\n",
    "$R(X)$ as follows.\n",
    "- $L(X)$ is defined as shifting all characters of string $X$ one step towards the left and moving the first character to the end.\n",
    "- $R(X)$ is defined as shifting all characters of string $X$ one step towards the right and moving the last character to the\n",
    "  beginning.\n",
    "- For example, L(\"abcd\") = \"bcda\" and R(\"abcd\") = \"dabc\"\n",
    "- Chef wants to find out whether there exists a string $V$ of the same length as $S$ such that both $L(V) = S$ and $R(V) = S$ holds."
   ]
  },
  {
   "cell_type": "code",
   "execution_count": 2,
   "metadata": {},
   "outputs": [
    {
     "name": "stdout",
     "output_type": "stream",
     "text": [
      "a aa ab abcd\n"
     ]
    },
    {
     "ename": "ValueError",
     "evalue": "invalid literal for int() with base 10: 'a aa ab abcd'",
     "output_type": "error",
     "traceback": [
      "\u001b[1;31m---------------------------------------------------------------------------\u001b[0m",
      "\u001b[1;31mValueError\u001b[0m                                Traceback (most recent call last)",
      "\u001b[1;32m<ipython-input-2-5ba3574e3c14>\u001b[0m in \u001b[0;36m<module>\u001b[1;34m\u001b[0m\n\u001b[0;32m      5\u001b[0m     \u001b[1;32mreturn\u001b[0m \u001b[0mx\u001b[0m\u001b[1;33m[\u001b[0m\u001b[1;33m-\u001b[0m\u001b[1;36m1\u001b[0m\u001b[1;33m]\u001b[0m\u001b[1;33m+\u001b[0m\u001b[0mx\u001b[0m\u001b[1;33m[\u001b[0m\u001b[1;33m:\u001b[0m\u001b[0mlen\u001b[0m\u001b[1;33m(\u001b[0m\u001b[0mx\u001b[0m\u001b[1;33m)\u001b[0m\u001b[1;33m-\u001b[0m\u001b[1;36m1\u001b[0m\u001b[1;33m]\u001b[0m\u001b[1;33m\u001b[0m\u001b[1;33m\u001b[0m\u001b[0m\n\u001b[0;32m      6\u001b[0m \u001b[1;33m\u001b[0m\u001b[0m\n\u001b[1;32m----> 7\u001b[1;33m \u001b[0mn\u001b[0m\u001b[1;33m=\u001b[0m\u001b[0mint\u001b[0m\u001b[1;33m(\u001b[0m\u001b[0minput\u001b[0m\u001b[1;33m(\u001b[0m\u001b[1;33m)\u001b[0m\u001b[1;33m)\u001b[0m\u001b[1;33m\u001b[0m\u001b[1;33m\u001b[0m\u001b[0m\n\u001b[0m\u001b[0;32m      8\u001b[0m \u001b[0ms\u001b[0m\u001b[1;33m=\u001b[0m\u001b[1;33m[\u001b[0m\u001b[0minput\u001b[0m\u001b[1;33m(\u001b[0m\u001b[1;33m)\u001b[0m \u001b[1;32mfor\u001b[0m \u001b[0mi\u001b[0m \u001b[1;32min\u001b[0m \u001b[0mrange\u001b[0m\u001b[1;33m(\u001b[0m\u001b[0mn\u001b[0m\u001b[1;33m)\u001b[0m\u001b[1;33m]\u001b[0m\u001b[1;33m\u001b[0m\u001b[1;33m\u001b[0m\u001b[0m\n\u001b[0;32m      9\u001b[0m \u001b[1;32mfor\u001b[0m \u001b[0mx\u001b[0m \u001b[1;32min\u001b[0m \u001b[0ms\u001b[0m\u001b[1;33m:\u001b[0m\u001b[1;33m\u001b[0m\u001b[1;33m\u001b[0m\u001b[0m\n",
      "\u001b[1;31mValueError\u001b[0m: invalid literal for int() with base 10: 'a aa ab abcd'"
     ]
    }
   ],
   "source": [
    "def L(x):\n",
    "    return x[1:]+x[0]\n",
    "\n",
    "def R(x):\n",
    "    return x[-1]+x[:len(x)-1]\n",
    "\n",
    "n=int(input())\n",
    "s=[input() for i in range(n)]\n",
    "for x in s:\n",
    "    print(\"YES\") if L(x)==R(x) else print(\"NO\")"
   ]
  },
  {
   "cell_type": "markdown",
   "metadata": {},
   "source": [
    "# Question 2:\n",
    "- Question in hackerrank"
   ]
  },
  {
   "cell_type": "code",
   "execution_count": 4,
   "metadata": {},
   "outputs": [
    {
     "name": "stdout",
     "output_type": "stream",
     "text": [
      "20 23 6\n",
      "2\n"
     ]
    }
   ],
   "source": [
    "def rev(n):\n",
    "    r=0\n",
    "    while(n>0):\n",
    "        r=r*10+n%10\n",
    "        n=n//10\n",
    "    return r\n",
    "s=input().split()\n",
    "cou=0\n",
    "s=[int(i) for i in s]\n",
    "for i in range(s[0],s[1]):\n",
    "    if (abs(i-rev(i)))%s[2]==0:\n",
    "        cou+=1\n",
    "\n",
    "print(cou)"
   ]
  },
  {
   "cell_type": "markdown",
   "metadata": {},
   "source": [
    "# Question 3:\n",
    "- Question in hackerrank"
   ]
  },
  {
   "cell_type": "code",
   "execution_count": 6,
   "metadata": {},
   "outputs": [
    {
     "name": "stdout",
     "output_type": "stream",
     "text": [
      "4\n",
      "3 1 2 3\n",
      "2\n"
     ]
    }
   ],
   "source": [
    "\n",
    "n=int(input())\n",
    "ca=input().split()\n",
    "ca=[int(ca[i]) for i in range(n)]\n",
    "ma=max(ca)\n",
    "print(ca.count(ma))"
   ]
  },
  {
   "cell_type": "markdown",
   "metadata": {},
   "source": [
    "# Question 4:(InfyTQ)\n",
    "   Consider a non-empty array inarr containing non-zero positive single digit integers separated by “,” (comma).Print a string\n",
    "    based on the below logic:\n",
    "    From all possible unique three digit number combinations with the elements of inarr\n",
    "    Identify the maximum number maxnum among the three digit combinations formed.\n",
    "    Print the maxnum followed by the total number of unique digit combinations formed,separating them with a “,” (comma)\n",
    "    Assumption: inarr will contain at least 3 elements\n",
    "    Note : An element present at a particular index should not be considered more than once while forming a combination.\n",
    "    Input format:\n",
    "    Read the array inarr from the standard input stream\n",
    "    Output format:\n",
    "    Print the output to the standard output stream\n",
    "\n",
    "\n",
    "    Sample Input : 1,2,1\n",
    "    Sample Output: 211,3\n",
    "\n",
    "\n",
    "     Sample Input:1,2,1,4\n",
    "     Sample output:4211,12"
   ]
  },
  {
   "cell_type": "markdown",
   "metadata": {},
   "source": []
  },
  {
   "cell_type": "code",
   "execution_count": 8,
   "metadata": {},
   "outputs": [
    {
     "name": "stdout",
     "output_type": "stream",
     "text": [
      "4,1,2,1\n",
      "4211,12\n"
     ]
    }
   ],
   "source": [
    "import math as m\n",
    "n=input().split(\",\")\n",
    "n.sort()\n",
    "a=''.join(n[::-1])\n",
    "n=[int(i) for i in n]\n",
    "his=dict()\n",
    "for i in n:\n",
    "    his[i]=his.get(i,0)+1\n",
    "p=m.factorial(len(n))\n",
    "k=1\n",
    "for i in his.values():\n",
    "    k*=m.factorial(i)\n",
    "print(a+\",\"+str(p//k))"
   ]
  },
  {
   "cell_type": "markdown",
   "metadata": {},
   "source": [
    "## Question 5:(InfyTQ)\n",
    "For a given positive number num,identify the palindrome formed by performing the following operations\n",
    "Add num and its reverse\n",
    "Check whether the sum is palindrome or not.If not,add the sum and its reverse and repeat the process until a palindrome is obtained.\n",
    "Input format : Read num from the standard input stream\n",
    "Output format: print the palindrome calculated to the standard output stream\n",
    "\n",
    "\n",
    "Sample input : 124\n",
    "Sample Output : 545\n",
    "\n",
    "\n",
    "Sample input:195\n",
    "Sample output: 9339"
   ]
  },
  {
   "cell_type": "code",
   "execution_count": 9,
   "metadata": {},
   "outputs": [
    {
     "name": "stdout",
     "output_type": "stream",
     "text": [
      "195\n",
      "9339\n"
     ]
    }
   ],
   "source": [
    "def rev(n):\n",
    "    r=0\n",
    "    while(n>0):\n",
    "        r=r*10+n%10\n",
    "        n=n//10\n",
    "    return r\n",
    "\n",
    "n=int(input())\n",
    "while True:\n",
    "    r=rev(n)\n",
    "    if n==r:\n",
    "        print(n)\n",
    "        break\n",
    "    else:\n",
    "        n=n+r"
   ]
  },
  {
   "cell_type": "markdown",
   "metadata": {},
   "source": [
    "## Question 6:\n",
    "Question in Codechef"
   ]
  },
  {
   "cell_type": "code",
   "execution_count": 10,
   "metadata": {},
   "outputs": [
    {
     "name": "stdout",
     "output_type": "stream",
     "text": [
      "2\n",
      "5 3\n",
      "2 4 2 4 2\n",
      "5\n",
      "8 5\n",
      "9 3 5 7 8 11 17 2\n",
      "3\n"
     ]
    }
   ],
   "source": [
    "for i in range(int(input())):\n",
    "    n,k = map(int,input().split())\n",
    "    a = list(map(int,input().split()))\n",
    "    c,x,i1,i2,b = 0,0,0,0,list()\n",
    "    for j in range(n):\n",
    "        c += 1\n",
    "        if a[j] > k :\n",
    "            x += 1\n",
    "            if x == 1 :\n",
    "                i1 = j\n",
    "            else:\n",
    "                if a[j] == a[i1]:\n",
    "                    x -= 1\n",
    "                else:i2 = j\n",
    "        if x == 2 :\n",
    "            x = 1\n",
    "            b.append(c-1)\n",
    "            c = i2-i1\n",
    "            i1 = i2\n",
    "            i2 = 0\n",
    "        if j == n-1 and b == [ ]:b.append(n)\n",
    "    print(max(b))"
   ]
  },
  {
   "cell_type": "code",
   "execution_count": null,
   "metadata": {},
   "outputs": [],
   "source": []
  }
 ],
 "metadata": {
  "kernelspec": {
   "display_name": "Python 3",
   "language": "python",
   "name": "python3"
  },
  "language_info": {
   "codemirror_mode": {
    "name": "ipython",
    "version": 3
   },
   "file_extension": ".py",
   "mimetype": "text/x-python",
   "name": "python",
   "nbconvert_exporter": "python",
   "pygments_lexer": "ipython3",
   "version": "3.7.4"
  }
 },
 "nbformat": 4,
 "nbformat_minor": 2
}

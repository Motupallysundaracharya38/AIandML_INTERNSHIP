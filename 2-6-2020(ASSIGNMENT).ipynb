{
 "cells": [
  {
   "cell_type": "markdown",
   "metadata": {},
   "source": [
    "### cse-221710302038-MOTUPALLY SUNDARA CHARYA"
   ]
  },
  {
   "cell_type": "markdown",
   "metadata": {},
   "source": [
    "# nine lives"
   ]
  },
  {
   "cell_type": "code",
   "execution_count": 4,
   "metadata": {},
   "outputs": [],
   "source": [
    "import random\n",
    "lives=9\n",
    "heart_symbol='\\u2764'\n",
    "words=['hello','pizza','apple','fairy','teeth']\n",
    "secret_word=random.choice(words)\n",
    "clue=list('?????')\n",
    "guessed_word_correctly=False"
   ]
  },
  {
   "cell_type": "code",
   "execution_count": 5,
   "metadata": {},
   "outputs": [],
   "source": [
    "def update_clue(guessed_letter,secret_word,clue):\n",
    "    index=0\n",
    "    while index<len(secret_word):\n",
    "        if guessed_letter==secret_word[i]:\n",
    "            clue[i]==guessed_letter\n",
    "        index+=i"
   ]
  },
  {
   "cell_type": "code",
   "execution_count": 7,
   "metadata": {},
   "outputs": [
    {
     "ename": "NameError",
     "evalue": "name 'lives' is not defined",
     "output_type": "error",
     "traceback": [
      "\u001b[1;31m---------------------------------------------------------------------------\u001b[0m",
      "\u001b[1;31mNameError\u001b[0m                                 Traceback (most recent call last)",
      "\u001b[1;32m<ipython-input-7-49ea7487604d>\u001b[0m in \u001b[0;36m<module>\u001b[1;34m\u001b[0m\n\u001b[1;32m----> 1\u001b[1;33m \u001b[1;32mwhile\u001b[0m \u001b[0mlives\u001b[0m\u001b[1;33m>\u001b[0m\u001b[1;36m0\u001b[0m\u001b[1;33m:\u001b[0m\u001b[1;33m\u001b[0m\u001b[1;33m\u001b[0m\u001b[0m\n\u001b[0m\u001b[0;32m      2\u001b[0m     \u001b[0mprint\u001b[0m\u001b[1;33m(\u001b[0m\u001b[0mclues\u001b[0m\u001b[1;33m)\u001b[0m\u001b[1;33m\u001b[0m\u001b[1;33m\u001b[0m\u001b[0m\n\u001b[0;32m      3\u001b[0m     \u001b[0mprint\u001b[0m\u001b[1;33m(\u001b[0m\u001b[1;34m\"lives left :\"\u001b[0m\u001b[1;33m,\u001b[0m\u001b[0mheart_symbol\u001b[0m\u001b[1;33m*\u001b[0m\u001b[0mlives\u001b[0m\u001b[1;33m)\u001b[0m\u001b[1;33m\u001b[0m\u001b[1;33m\u001b[0m\u001b[0m\n\u001b[0;32m      4\u001b[0m     \u001b[0mguess\u001b[0m\u001b[1;33m=\u001b[0m\u001b[0minput\u001b[0m\u001b[1;33m(\u001b[0m\u001b[1;34m\"guess a letter or whole world\"\u001b[0m\u001b[1;33m)\u001b[0m\u001b[1;33m\u001b[0m\u001b[1;33m\u001b[0m\u001b[0m\n\u001b[0;32m      5\u001b[0m     \u001b[1;32mif\u001b[0m \u001b[0mguess\u001b[0m\u001b[1;33m==\u001b[0m \u001b[0msecret_word\u001b[0m\u001b[1;33m:\u001b[0m\u001b[1;33m\u001b[0m\u001b[1;33m\u001b[0m\u001b[0m\n",
      "\u001b[1;31mNameError\u001b[0m: name 'lives' is not defined"
     ]
    }
   ],
   "source": [
    "while lives>0:\n",
    "    print(clues)\n",
    "    print(\"lives left :\",heart_symbol*lives)\n",
    "    guess=input(\"guess a letter or whole world\")\n",
    "    if guess== secret_word:\n",
    "        guessed_word_correctly=True\n",
    "        break\n",
    "    elif guess in secret_word:\n",
    "        update_clue(guessed_letter,secret_word,clue)\n",
    "    else:\n",
    "        print(\"incorrect guess. you lose a life\")\n",
    "        lives-=1\n",
    "if guessed_word_correctly:\n",
    "    print(\"you won the game,secret_word was:\",secret_word)\n",
    "else:\n",
    "    print(\"you lost the game,secret_word was:\",secret_word)\n",
    "    "
   ]
  },
  {
   "cell_type": "code",
   "execution_count": 11,
   "metadata": {},
   "outputs": [
    {
     "name": "stdout",
     "output_type": "stream",
     "text": [
      "True\n"
     ]
    }
   ],
   "source": [
    "f = None\n",
    "\n",
    "\n",
    "for i in range (5):\n",
    "\n",
    "    with open(\"myfile.txt\", \"w\") as f:\n",
    "\n",
    "        if i > 2:\n",
    "\n",
    "            break\n",
    "\n",
    "\n",
    "print (f.closed)"
   ]
  },
  {
   "cell_type": "code",
   "execution_count": null,
   "metadata": {},
   "outputs": [],
   "source": []
  }
 ],
 "metadata": {
  "kernelspec": {
   "display_name": "Python 3",
   "language": "python",
   "name": "python3"
  }
 },
 "nbformat": 4,
 "nbformat_minor": 2
}

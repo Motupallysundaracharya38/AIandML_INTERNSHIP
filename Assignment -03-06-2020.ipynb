{
 "cells": [
  {
   "cell_type": "markdown",
   "metadata": {},
   "source": [
    "## cse-221710302038-motupally sundara charya"
   ]
  },
  {
   "cell_type": "code",
   "execution_count": 6,
   "metadata": {},
   "outputs": [],
   "source": [
    "f1=open(\"first.txt\",\"r\")\n",
    "f2=open(\"second.txt\",\"w\")\n",
    "for i in f1:\n",
    "    f2.write(i)"
   ]
  },
  {
   "cell_type": "code",
   "execution_count": 7,
   "metadata": {},
   "outputs": [
    {
     "name": "stdout",
     "output_type": "stream",
     "text": [
      "\n",
      " .egaugnal gnimmargorp esoprup-lareneg ,level-hgih ,deterpretni na si nohtyP\n",
      "\n",
      " .ecapsetihw tnacifingis fo esu elbaton sti htiw ytilibadaer edoc sezisahpme yhposolihp ngised s'nohtyP ,1991 ni desaeler tsrif dna mussoR nav odiuG yb detaerC\n",
      "\n",
      ".stcejorp elacs-egral dna llams rof edoc lacigol ,raelc etirw sremmargorp pleh ot mia hcaorppa detneiro-tcejbo dna stcurtsnoc egaugnal stI\n",
      "\n",
      "\n",
      "\n",
      " .detcelloc-egabrag dna depyt yllacimanyd si nohtyP\n",
      ".yrarbil dradnats evisneherpmoc sti ot eud egaugnal \"dedulcni seirettab\" a sa debircsed netfo si nohtyP .gnimmargorp lanoitcnuf dna ,detneiro-tcejbo ,)larudecorp ,ylralucitrap( derutcurts gnidulcni ,smgidarap gnimmargorp elpitlum stroppus tI\n"
     ]
    }
   ],
   "source": [
    "f2=open(\"second.txt\",\"r\")\n",
    "for i in f2:\n",
    "    print(i[::-1])"
   ]
  },
  {
   "cell_type": "code",
   "execution_count": 8,
   "metadata": {},
   "outputs": [
    {
     "name": "stdout",
     "output_type": "stream",
     "text": [
      "1 Python is an interpreted, high-level, general-purpose programming language. \n",
      "\n",
      "2 Created by Guido van Rossum and first released in 1991, Python's design philosophy emphasizes code readability with its notable use of significant whitespace. \n",
      "\n",
      "3 Its language constructs and object-oriented approach aim to help programmers write clear, logical code for small and large-scale projects.\n",
      "\n",
      "4 \n",
      "\n",
      "5 Python is dynamically typed and garbage-collected. \n",
      "\n",
      "6 It supports multiple programming paradigms, including structured (particularly, procedural), object-oriented, and functional programming. Python is often described as a \"batteries included\" language due to its comprehensive standard library.\n"
     ]
    }
   ],
   "source": [
    "f=open(\"first.txt\",\"r\")\n",
    "x=1\n",
    "for i in f:\n",
    "    print(x,i)\n",
    "    x+=1"
   ]
  },
  {
   "cell_type": "code",
   "execution_count": 36,
   "metadata": {},
   "outputs": [
    {
     "name": "stdout",
     "output_type": "stream",
     "text": [
      "True\n",
      "[2, 4, 6, 8]\n"
     ]
    }
   ],
   "source": [
    "def duplicates(l):\n",
    "    for i in range(len(l)):\n",
    "        if l[i] in l[i+1::]:\n",
    "            return True\n",
    "            break\n",
    "        else:\n",
    "            continue\n",
    "    return False\n",
    "def remove(l):\n",
    "    c=0\n",
    "    for i in range(len(l)):\n",
    "        if l[i] in l[:i]:\n",
    "            l[i]='*'\n",
    "            c+=1\n",
    "    for i in range(c):\n",
    "        l.remove('*')\n",
    "    return l\n",
    "list1=[2,4,4,6,8,4]\n",
    "f=duplicates(list1)\n",
    "print(f)\n",
    "if f==True:\n",
    "    print(remove(list1))"
   ]
  },
  {
   "cell_type": "code",
   "execution_count": 42,
   "metadata": {},
   "outputs": [
    {
     "ename": "SyntaxError",
     "evalue": "unexpected EOF while parsing (<ipython-input-42-2728a888b46e>, line 4)",
     "output_type": "error",
     "traceback": [
      "\u001b[1;36m  File \u001b[1;32m\"<ipython-input-42-2728a888b46e>\"\u001b[1;36m, line \u001b[1;32m4\u001b[0m\n\u001b[1;33m    print(frac(add(1,2))\u001b[0m\n\u001b[1;37m                        ^\u001b[0m\n\u001b[1;31mSyntaxError\u001b[0m\u001b[1;31m:\u001b[0m unexpected EOF while parsing\n"
     ]
    }
   ],
   "source": [
    "from fraction import Fraction as frac\n",
    "f1=\"fraction.py\"\n",
    "f2=open(f1,'r')\n",
    "print(frac(add(1,2))\n"
   ]
  },
  {
   "cell_type": "code",
   "execution_count": 48,
   "metadata": {},
   "outputs": [
    {
     "name": "stdout",
     "output_type": "stream",
     "text": [
      "Add: 14\n",
      "Subtract: 13\n",
      "Multiply: 10\n",
      "Divide: 20/3\n",
      "Power: 125\n"
     ]
    }
   ],
   "source": [
    "from fractions import Fraction as frac\n",
    "print('Add: ' + str(frac('5') + frac('9')))\n",
    "print('Subtract: ' + str(frac('15') - frac('2')))\n",
    "print('Multiply: ' + str(frac('2') * frac('5')))\n",
    "print('Divide: ' + str(frac('80') / frac('12')))\n",
    "print('Power: ' + str(frac('5') ** 3))"
   ]
  },
  {
   "cell_type": "code",
   "execution_count": 1,
   "metadata": {},
   "outputs": [
    {
     "data": {
      "text/plain": [
       "False"
      ]
     },
     "execution_count": 1,
     "metadata": {},
     "output_type": "execute_result"
    }
   ],
   "source": [
    "def permutation(l1,l2):\n",
    "    for i in range(len(l1)):\n",
    "        c=0\n",
    "        for j in range(len(l2)):\n",
    "            if l1[i]==l2[j]:\n",
    "                del l2[j]\n",
    "                c=0\n",
    "                break\n",
    "            else:\n",
    "                c=1\n",
    "        if c==1:\n",
    "            return False\n",
    "    return True\n",
    "list1=[1,1,2]\n",
    "list2=[2,2,1]\n",
    "permutation(list1,list2)"
   ]
  },
  {
   "cell_type": "code",
   "execution_count": null,
   "metadata": {},
   "outputs": [],
   "source": []
  }
 ],
 "metadata": {
  "kernelspec": {
   "display_name": "Python 3",
   "language": "python",
   "name": "python3"
  },
  "language_info": {
   "codemirror_mode": {
    "name": "ipython",
    "version": 3
   },
   "file_extension": ".py",
   "mimetype": "text/x-python",
   "name": "python",
   "nbconvert_exporter": "python",
   "pygments_lexer": "ipython3",
   "version": "3.7.4"
  }
 },
 "nbformat": 4,
 "nbformat_minor": 2
}

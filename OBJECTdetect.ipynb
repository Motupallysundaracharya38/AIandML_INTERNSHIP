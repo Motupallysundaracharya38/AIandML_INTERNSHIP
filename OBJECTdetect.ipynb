{
  "nbformat": 4,
  "nbformat_minor": 0,
  "metadata": {
    "colab": {
      "name": "OBJECTdetect",
      "provenance": [],
      "mount_file_id": "1IXWqA7A8fzytpdrE1Xe6CpefMlinKopJ",
      "authorship_tag": "ABX9TyN52ZvW/rtnHAUVVIr8HvOw",
      "include_colab_link": true
    },
    "kernelspec": {
      "name": "python3",
      "display_name": "Python 3"
    },
    "accelerator": "GPU"
  },
  "cells": [
    {
      "cell_type": "markdown",
      "metadata": {
        "id": "view-in-github",
        "colab_type": "text"
      },
      "source": [
        "<a href=\"https://colab.research.google.com/github/Motupallysundaracharya38/AIandML_INTERNSHIP/blob/master/OBJECTdetect.ipynb\" target=\"_parent\"><img src=\"https://colab.research.google.com/assets/colab-badge.svg\" alt=\"Open In Colab\"/></a>"
      ]
    },
    {
      "cell_type": "code",
      "metadata": {
        "id": "J6V5Qw2ll74k",
        "colab_type": "code",
        "colab": {}
      },
      "source": [
        ""
      ],
      "execution_count": null,
      "outputs": []
    },
    {
      "cell_type": "code",
      "metadata": {
        "id": "YzjsVFubmL8d",
        "colab_type": "code",
        "colab": {
          "base_uri": "https://localhost:8080/",
          "height": 122
        },
        "outputId": "516072df-527f-4cca-d34b-6f745d9970e4"
      },
      "source": [
        "from google.colab import drive\n",
        "drive.mount('/gdrive')"
      ],
      "execution_count": 1,
      "outputs": [
        {
          "output_type": "stream",
          "text": [
            "Go to this URL in a browser: https://accounts.google.com/o/oauth2/auth?client_id=947318989803-6bn6qk8qdgf4n4g3pfee6491hc0brc4i.apps.googleusercontent.com&redirect_uri=urn%3aietf%3awg%3aoauth%3a2.0%3aoob&response_type=code&scope=email%20https%3a%2f%2fwww.googleapis.com%2fauth%2fdocs.test%20https%3a%2f%2fwww.googleapis.com%2fauth%2fdrive%20https%3a%2f%2fwww.googleapis.com%2fauth%2fdrive.photos.readonly%20https%3a%2f%2fwww.googleapis.com%2fauth%2fpeopleapi.readonly\n",
            "\n",
            "Enter your authorization code:\n",
            "··········\n",
            "Mounted at /gdrive\n"
          ],
          "name": "stdout"
        }
      ]
    },
    {
      "cell_type": "code",
      "metadata": {
        "id": "sIhkZz7RmL7x",
        "colab_type": "code",
        "colab": {
          "base_uri": "https://localhost:8080/",
          "height": 34
        },
        "outputId": "fb1cc849-25c5-4fda-ea8c-37773261adcc"
      },
      "source": [
        "with open('/gdrive/My Drive/foo.txt', 'w') as f:\n",
        "  f.write('Hello Google Drive!')\n",
        "!cat '/gdrive/My Drive/foo.txt'"
      ],
      "execution_count": 2,
      "outputs": [
        {
          "output_type": "stream",
          "text": [
            "Hello Google Drive!"
          ],
          "name": "stdout"
        }
      ]
    },
    {
      "cell_type": "code",
      "metadata": {
        "id": "efY-_nL3mVyc",
        "colab_type": "code",
        "colab": {
          "base_uri": "https://localhost:8080/",
          "height": 34
        },
        "outputId": "c980db67-ca46-4ccd-cf8e-64afb9215da5"
      },
      "source": [
        "%tensorflow_version 1.x"
      ],
      "execution_count": 3,
      "outputs": [
        {
          "output_type": "stream",
          "text": [
            "TensorFlow 1.x selected.\n"
          ],
          "name": "stdout"
        }
      ]
    },
    {
      "cell_type": "code",
      "metadata": {
        "id": "WnYlMCPwmcbQ",
        "colab_type": "code",
        "colab": {}
      },
      "source": [
        "# Some models to train on\n",
        "MODELS_CONFIG = {\n",
        "    'ssd_mobilenet_v2': {\n",
        "        'model_name': 'ssd_mobilenet_v2_coco_2018_03_29', # Layers input and output shape how many neurons in each layer(Model building)\n",
        "        'pipeline_file': 'ssd_mobilenet_v2_coco.config', # While compiling and fitting the model some parameters should be tuned (Defining the arguments values)\n",
        "    },\n",
        "    'faster_rcnn_inception_v2': {\n",
        "        'model_name': 'faster_rcnn_inception_v2_coco_2018_01_28',\n",
        "        'pipeline_file': 'faster_rcnn_inception_v2_pets.config',\n",
        "    },\n",
        "    'rfcn_resnet101': {\n",
        "        'model_name': 'rfcn_resnet101_coco_2018_01_28',\n",
        "        'pipeline_file': 'rfcn_resnet101_pets.config',\n",
        "    }\n",
        "}\n",
        "\n",
        "# Select a model in `MODELS_CONFIG`.\n",
        "# I chose ssd_mobilenet_v2 for this project, you could choose any\n",
        "selected_model = 'ssd_mobilenet_v2'"
      ],
      "execution_count": 4,
      "outputs": []
    },
    {
      "cell_type": "code",
      "metadata": {
        "id": "y3tpovFJmfGI",
        "colab_type": "code",
        "colab": {
          "base_uri": "https://localhost:8080/",
          "height": 663
        },
        "outputId": "29aedcc6-0b5f-4838-b803-6591367a969c"
      },
      "source": [
        "!apt-get install -qq protobuf-compiler python-pil python-lxml python-tk\n",
        "\n",
        "!pip install -qq Cython contextlib2 pillow lxml matplotlib\n",
        "\n",
        "!pip install -qq pycocotools"
      ],
      "execution_count": 5,
      "outputs": [
        {
          "output_type": "stream",
          "text": [
            "Selecting previously unselected package python-bs4.\n",
            "(Reading database ... 144465 files and directories currently installed.)\n",
            "Preparing to unpack .../0-python-bs4_4.6.0-1_all.deb ...\n",
            "Unpacking python-bs4 (4.6.0-1) ...\n",
            "Selecting previously unselected package python-pkg-resources.\n",
            "Preparing to unpack .../1-python-pkg-resources_39.0.1-2_all.deb ...\n",
            "Unpacking python-pkg-resources (39.0.1-2) ...\n",
            "Selecting previously unselected package python-chardet.\n",
            "Preparing to unpack .../2-python-chardet_3.0.4-1_all.deb ...\n",
            "Unpacking python-chardet (3.0.4-1) ...\n",
            "Selecting previously unselected package python-six.\n",
            "Preparing to unpack .../3-python-six_1.11.0-2_all.deb ...\n",
            "Unpacking python-six (1.11.0-2) ...\n",
            "Selecting previously unselected package python-webencodings.\n",
            "Preparing to unpack .../4-python-webencodings_0.5-2_all.deb ...\n",
            "Unpacking python-webencodings (0.5-2) ...\n",
            "Selecting previously unselected package python-html5lib.\n",
            "Preparing to unpack .../5-python-html5lib_0.999999999-1_all.deb ...\n",
            "Unpacking python-html5lib (0.999999999-1) ...\n",
            "Selecting previously unselected package python-lxml:amd64.\n",
            "Preparing to unpack .../6-python-lxml_4.2.1-1ubuntu0.1_amd64.deb ...\n",
            "Unpacking python-lxml:amd64 (4.2.1-1ubuntu0.1) ...\n",
            "Selecting previously unselected package python-olefile.\n",
            "Preparing to unpack .../7-python-olefile_0.45.1-1_all.deb ...\n",
            "Unpacking python-olefile (0.45.1-1) ...\n",
            "Selecting previously unselected package python-pil:amd64.\n",
            "Preparing to unpack .../8-python-pil_5.1.0-1ubuntu0.2_amd64.deb ...\n",
            "Unpacking python-pil:amd64 (5.1.0-1ubuntu0.2) ...\n",
            "Setting up python-pkg-resources (39.0.1-2) ...\n",
            "Setting up python-six (1.11.0-2) ...\n",
            "Setting up python-bs4 (4.6.0-1) ...\n",
            "Setting up python-lxml:amd64 (4.2.1-1ubuntu0.1) ...\n",
            "Setting up python-olefile (0.45.1-1) ...\n",
            "Setting up python-pil:amd64 (5.1.0-1ubuntu0.2) ...\n",
            "Setting up python-webencodings (0.5-2) ...\n",
            "Setting up python-chardet (3.0.4-1) ...\n",
            "Setting up python-html5lib (0.999999999-1) ...\n",
            "Processing triggers for man-db (2.8.3-2ubuntu0.1) ...\n"
          ],
          "name": "stdout"
        }
      ]
    },
    {
      "cell_type": "code",
      "metadata": {
        "id": "N1IhMc7nmiG5",
        "colab_type": "code",
        "colab": {}
      },
      "source": [
        "from __future__ import division, print_function, absolute_import\n",
        "\n",
        "import pandas as pd\n",
        "import numpy as np\n",
        "import csv\n",
        "import re\n",
        "import cv2 \n",
        "import os\n",
        "import glob\n",
        "import xml.etree.ElementTree as ET\n",
        "\n",
        "import io\n",
        "import tensorflow.compat.v1 as tf\n",
        "\n",
        "from PIL import Image\n",
        "from collections import namedtuple, OrderedDict\n",
        "\n",
        "import shutil\n",
        "import urllib.request\n",
        "import tarfile\n",
        "\n",
        "from google.colab import files"
      ],
      "execution_count": 6,
      "outputs": []
    },
    {
      "cell_type": "code",
      "metadata": {
        "id": "DdQLt20Hmp2M",
        "colab_type": "code",
        "colab": {
          "base_uri": "https://localhost:8080/",
          "height": 34
        },
        "outputId": "7af4672b-8305-459c-e77d-1ce0e1b818dc"
      },
      "source": [
        "print(tf.__version__)"
      ],
      "execution_count": 7,
      "outputs": [
        {
          "output_type": "stream",
          "text": [
            "1.15.2\n"
          ],
          "name": "stdout"
        }
      ]
    },
    {
      "cell_type": "code",
      "metadata": {
        "id": "1xEUqpTRmwpS",
        "colab_type": "code",
        "colab": {}
      },
      "source": [
        "#creates a directory for the whole project\n",
        "!mkdir aeroplane_detection"
      ],
      "execution_count": 8,
      "outputs": []
    },
    {
      "cell_type": "code",
      "metadata": {
        "id": "dw_ZfpgLmy_3",
        "colab_type": "code",
        "colab": {
          "base_uri": "https://localhost:8080/",
          "height": 34
        },
        "outputId": "963cbc44-b419-4219-8555-7c7a149b680b"
      },
      "source": [
        "!ls"
      ],
      "execution_count": 9,
      "outputs": [
        {
          "output_type": "stream",
          "text": [
            "aeroplane_detection  drive  sample_data\n"
          ],
          "name": "stdout"
        }
      ]
    },
    {
      "cell_type": "code",
      "metadata": {
        "id": "AxxaqL7Km1Po",
        "colab_type": "code",
        "colab": {
          "base_uri": "https://localhost:8080/",
          "height": 34
        },
        "outputId": "1b21840f-bee4-4d3d-af9b-8ef0ca39cf33"
      },
      "source": [
        "cd aeroplane_detection"
      ],
      "execution_count": 10,
      "outputs": [
        {
          "output_type": "stream",
          "text": [
            "/content/aeroplane_detection\n"
          ],
          "name": "stdout"
        }
      ]
    },
    {
      "cell_type": "code",
      "metadata": {
        "id": "mGepZJ6-m3Nn",
        "colab_type": "code",
        "colab": {}
      },
      "source": [
        "# creating a directory to store the training and testing data\n",
        "!mkdir data\n",
        "\n",
        "# folders for the training and testing data.\n",
        "!mkdir data/images data/train_labels data/test_labels"
      ],
      "execution_count": 11,
      "outputs": []
    },
    {
      "cell_type": "code",
      "metadata": {
        "id": "Tj8D3Pmkm5Ov",
        "colab_type": "code",
        "colab": {
          "base_uri": "https://localhost:8080/",
          "height": 34
        },
        "outputId": "fb47cf12-f21a-429b-c2d8-4a19f4962d8e"
      },
      "source": [
        "!ls"
      ],
      "execution_count": 12,
      "outputs": [
        {
          "output_type": "stream",
          "text": [
            "data\n"
          ],
          "name": "stdout"
        }
      ]
    },
    {
      "cell_type": "code",
      "metadata": {
        "id": "R2Y4XnRCm8Z1",
        "colab_type": "code",
        "colab": {
          "base_uri": "https://localhost:8080/",
          "height": 34
        },
        "outputId": "41d220d2-4acf-4cd4-9031-e38be4bd8b2c"
      },
      "source": [
        "!pwd"
      ],
      "execution_count": 13,
      "outputs": [
        {
          "output_type": "stream",
          "text": [
            "/content/aeroplane_detection\n"
          ],
          "name": "stdout"
        }
      ]
    },
    {
      "cell_type": "code",
      "metadata": {
        "id": "lYOm3B-am-q4",
        "colab_type": "code",
        "colab": {
          "base_uri": "https://localhost:8080/",
          "height": 34
        },
        "outputId": "c43e33b8-9f42-47f8-f78d-a45a6240e750"
      },
      "source": [
        "import os\n",
        "os.listdir('data')"
      ],
      "execution_count": 14,
      "outputs": [
        {
          "output_type": "execute_result",
          "data": {
            "text/plain": [
              "['test_labels', 'train_labels', 'images']"
            ]
          },
          "metadata": {
            "tags": []
          },
          "execution_count": 14
        }
      ]
    },
    {
      "cell_type": "code",
      "metadata": {
        "id": "JSPrV-AMnBFP",
        "colab_type": "code",
        "colab": {}
      },
      "source": [
        "import os\n",
        "import zipfile\n",
        "local_zip = \"/content/drive/My Drive/Images.zip\" ## which zip file you want to extarct\n",
        "zip_ref = zipfile.ZipFile(local_zip,'r')\n",
        "zip_ref.extractall('/tmp') ## In which location you want to store extracted files\n",
        "zip_ref.close()"
      ],
      "execution_count": 15,
      "outputs": []
    },
    {
      "cell_type": "code",
      "metadata": {
        "id": "WmIb_is2nF-r",
        "colab_type": "code",
        "colab": {}
      },
      "source": [
        "import os\n",
        "import zipfile\n",
        "local_zip = \"/content/drive/My Drive/Airplanes_Annotations.zip\" ## which zip file you want to extarct\n",
        "zip_ref = zipfile.ZipFile(local_zip,'r')\n",
        "zip_ref.extractall('/tmp') ## In which location you want to store extracted files\n",
        "zip_ref.close()"
      ],
      "execution_count": 16,
      "outputs": []
    },
    {
      "cell_type": "code",
      "metadata": {
        "id": "CI1sonG5v4gr",
        "colab_type": "code",
        "colab": {
          "base_uri": "https://localhost:8080/",
          "height": 1000
        },
        "outputId": "60436961-aadc-41d8-81ab-903a1458c7d1"
      },
      "source": [
        "os.listdir(\"/tmp/Images\")"
      ],
      "execution_count": 17,
      "outputs": [
        {
          "output_type": "execute_result",
          "data": {
            "text/plain": [
              "['airplane_296.jpg',\n",
              " 'airplane_227.jpg',\n",
              " 'airplane_279.jpg',\n",
              " 'airplane_176.jpg',\n",
              " 'airplane_659.jpg',\n",
              " 'airplane_481.jpg',\n",
              " 'airplane_619.jpg',\n",
              " '42848.jpg',\n",
              " 'airplane_194.jpg',\n",
              " 'airplane_361.jpg',\n",
              " 'airplane_496.jpg',\n",
              " 'airplane_435.jpg',\n",
              " 'airplane_381.jpg',\n",
              " 'hotanairport5.jpg',\n",
              " 'airplane_165.jpg',\n",
              " '42850.jpg',\n",
              " '428462.jpg',\n",
              " 'airplane_640.jpg',\n",
              " '428491.jpg',\n",
              " 'airplane_650.jpg',\n",
              " 'airplane_653.jpg',\n",
              " 'airplane_006.jpg',\n",
              " 'airplane_691.jpg',\n",
              " 'airplane_431.jpg',\n",
              " 'airplane_599.jpg',\n",
              " '42847.jpg',\n",
              " 'airplane_535.jpg',\n",
              " 'airplane_324.jpg',\n",
              " 'airplane_125.jpg',\n",
              " 'airplane_090.jpg',\n",
              " 'airplane_371.jpg',\n",
              " 'airplane_281.jpg',\n",
              " 'airplane_645.jpg',\n",
              " 'airplane_068.jpg',\n",
              " 'airplane_444.jpg',\n",
              " 'airplane_198.jpg',\n",
              " 'airplane_153.jpg',\n",
              " 'airplane_355.jpg',\n",
              " 'airplane_266.jpg',\n",
              " 'airplane_547.jpg',\n",
              " 'airplane_578.jpg',\n",
              " 'airplane_517.jpg',\n",
              " 'airplane_531.jpg',\n",
              " 'airplane_337.jpg',\n",
              " 'airplane_239.jpg',\n",
              " 'airplane_468.jpg',\n",
              " 'airplane_221.jpg',\n",
              " 'airplane_548.jpg',\n",
              " 'airplane_216.jpg',\n",
              " 'airplane_544.jpg',\n",
              " 'airplane_579.jpg',\n",
              " 'airplane_035.jpg',\n",
              " 'airplane_480.jpg',\n",
              " 'airplane_689.jpg',\n",
              " 'airplane_208.jpg',\n",
              " 'airplane_565.jpg',\n",
              " 'airplane_055.jpg',\n",
              " 'airplane_164.jpg',\n",
              " 'airplane_493.jpg',\n",
              " 'airplane_130.jpg',\n",
              " 'airplane_043.jpg',\n",
              " 'airplane_683.jpg',\n",
              " 'airplane_412.jpg',\n",
              " 'airplane_025.jpg',\n",
              " 'airplane_280.jpg',\n",
              " 'airplane_572.jpg',\n",
              " 'airplane_230.jpg',\n",
              " 'airplane_411.jpg',\n",
              " 'airplane_695.jpg',\n",
              " 'airplane_429.jpg',\n",
              " 'airplane_213.jpg',\n",
              " 'airplane_646.jpg',\n",
              " 'airplane_553.jpg',\n",
              " 'airplane_368.jpg',\n",
              " 'airplane_567.jpg',\n",
              " 'airplane_290.jpg',\n",
              " 'airplane_163.jpg',\n",
              " 'airplane_627.jpg',\n",
              " 'airplane_065.jpg',\n",
              " 'airplane_654.jpg',\n",
              " 'airplane_110.jpg',\n",
              " 'airplane_536.jpg',\n",
              " 'airplane_235.jpg',\n",
              " 'airplane_602.jpg',\n",
              " 'airplane_512.jpg',\n",
              " 'airplane_224.jpg',\n",
              " 'airplane_564.jpg',\n",
              " 'airplane_097.jpg',\n",
              " 'airplane_148.jpg',\n",
              " 'airplane_191.jpg',\n",
              " 'airplane_052.jpg',\n",
              " 'airplane_693.jpg',\n",
              " 'airplane_143.jpg',\n",
              " 'airplane_530.jpg',\n",
              " 'airplane_348.jpg',\n",
              " 'airplane_388.jpg',\n",
              " 'airplane_073.jpg',\n",
              " 'airplane_091.jpg',\n",
              " 'airplane_674.jpg',\n",
              " 'airplane_657.jpg',\n",
              " 'airplane_401.jpg',\n",
              " 'airplane_606.jpg',\n",
              " 'airplane_630.jpg',\n",
              " 'airplane_077.jpg',\n",
              " 'airplane_261.jpg',\n",
              " 'airplane_643.jpg',\n",
              " 'airplane_154.jpg',\n",
              " 'airplane_104.jpg',\n",
              " 'airplane_622.jpg',\n",
              " 'airplane_085.jpg',\n",
              " 'airplane_394.jpg',\n",
              " 'airplane_056.jpg',\n",
              " 'airplane_576.jpg',\n",
              " 'airplane_057.jpg',\n",
              " 'airplane_175.jpg',\n",
              " 'airplane_238.jpg',\n",
              " 'airplane_152.jpg',\n",
              " 'airplane_354.jpg',\n",
              " 'airplane_615.jpg',\n",
              " 'airplane_374.jpg',\n",
              " 'airplane_680.jpg',\n",
              " 'airplane_588.jpg',\n",
              " 'airplane_470.jpg',\n",
              " 'airplane_312.jpg',\n",
              " 'airplane_259.jpg',\n",
              " 'Planes8.jpg',\n",
              " 'airplane_574.jpg',\n",
              " 'airplane_610.jpg',\n",
              " 'airplane_313.jpg',\n",
              " 'airplane_293.jpg',\n",
              " 'airplane_036.jpg',\n",
              " 'airplane_318.jpg',\n",
              " 'airplane_087.jpg',\n",
              " 'airplane_608.jpg',\n",
              " 'airplane_193.jpg',\n",
              " 'airplane_158.jpg',\n",
              " 'airplane_353.jpg',\n",
              " 'airplane_350.jpg',\n",
              " 'airplane_319.jpg',\n",
              " 'airplane_170.jpg',\n",
              " 'airplane_637.jpg',\n",
              " 'airplane_236.jpg',\n",
              " 'airplane_133.jpg',\n",
              " 'airplane_094.jpg',\n",
              " 'airplane_256.jpg',\n",
              " 'airplane_334.jpg',\n",
              " 'airplane_034.jpg',\n",
              " 'airplane_101.jpg',\n",
              " 'airplane_301.jpg',\n",
              " 'airplane_614.jpg',\n",
              " 'airplane_347.jpg',\n",
              " 'airplane_063.jpg',\n",
              " 'airplane_159.jpg',\n",
              " 'airplane_088.jpg',\n",
              " 'airplane_112.jpg',\n",
              " 'airplane_314.jpg',\n",
              " 'airplane_651.jpg',\n",
              " 'airplane_545.jpg',\n",
              " 'Planes9.jpg',\n",
              " 'airplane_423.jpg',\n",
              " 'airplane_332.jpg',\n",
              " '428482.jpg',\n",
              " 'airplane_593.jpg',\n",
              " 'airplane_007.jpg',\n",
              " 'airplane_096.jpg',\n",
              " '428483.jpg',\n",
              " 'airplane_464.jpg',\n",
              " 'airplane_132.jpg',\n",
              " 'airplane_084.jpg',\n",
              " '428481.jpg',\n",
              " 'airplane_240.jpg',\n",
              " 'airplane_604.jpg',\n",
              " 'airplane_298.jpg',\n",
              " 'airplane_053.jpg',\n",
              " 'airplane_327.jpg',\n",
              " 'airplane_070.jpg',\n",
              " 'airplane_570.jpg',\n",
              " 'airplane_538.jpg',\n",
              " 'airplane_042.jpg',\n",
              " 'airplane_338.jpg',\n",
              " 'airplane_427.jpg',\n",
              " 'airplane_566.jpg',\n",
              " 'airplane_292.jpg',\n",
              " 'airplane_197.jpg',\n",
              " 'airplane_561.jpg',\n",
              " 'airplane_228.jpg',\n",
              " 'airplane_200.jpg',\n",
              " 'airplane_666.jpg',\n",
              " 'airplane_357.jpg',\n",
              " 'airplane_363.jpg',\n",
              " 'airplane_466.jpg',\n",
              " 'airplane_003.jpg',\n",
              " 'airplane_307.jpg',\n",
              " 'airplane_497.jpg',\n",
              " 'airplane_508.jpg',\n",
              " 'airplane_288.jpg',\n",
              " 'airplane_038.jpg',\n",
              " 'airplane_028.jpg',\n",
              " 'airplane_267.jpg',\n",
              " 'airplane_471.jpg',\n",
              " 'airplane_524.jpg',\n",
              " 'airplane_613.jpg',\n",
              " 'airplane_183.jpg',\n",
              " 'airplane_416.jpg',\n",
              " 'airplane_217.jpg',\n",
              " 'airplane_321.jpg',\n",
              " 'airplane_516.jpg',\n",
              " 'airplane_253.jpg',\n",
              " 'airplane_625.jpg',\n",
              " 'airplane_403.jpg',\n",
              " 'airplane_699.jpg',\n",
              " 'airplane_384.jpg',\n",
              " 'airplane_215.jpg',\n",
              " 'airplane_505.jpg',\n",
              " 'airplane_387.jpg',\n",
              " 'airplane_686.jpg',\n",
              " 'airplane_543.jpg',\n",
              " 'airplane_252.jpg',\n",
              " 'airplane_521.jpg',\n",
              " 'airplane_392.jpg',\n",
              " 'airplane_269.jpg',\n",
              " 'airplane_122.jpg',\n",
              " 'airplane_694.jpg',\n",
              " 'airplane_511.jpg',\n",
              " 'airplane_250.jpg',\n",
              " 'airplane_489.jpg',\n",
              " 'airplane_336.jpg',\n",
              " 'airplane_257.jpg',\n",
              " 'airplane_668.jpg',\n",
              " 'airplane_605.jpg',\n",
              " 'airplane_333.jpg',\n",
              " 'airplane_299.jpg',\n",
              " 'airplane_440.jpg',\n",
              " 'airplane_024.jpg',\n",
              " 'airplane_001.jpg',\n",
              " 'airplane_079.jpg',\n",
              " 'airplane_120.jpg',\n",
              " 'airplane_618.jpg',\n",
              " 'airplane_271.jpg',\n",
              " 'airplane_124.jpg',\n",
              " 'airplane_014.jpg',\n",
              " 'airplane_272.jpg',\n",
              " 'airplane_135.jpg',\n",
              " 'airplane_098.jpg',\n",
              " 'airplane_410.jpg',\n",
              " 'airplane_467.jpg',\n",
              " 'airplane_560.jpg',\n",
              " 'airplane_249.jpg',\n",
              " 'airplane_682.jpg',\n",
              " 'airplane_377.jpg',\n",
              " 'airplane_475.jpg',\n",
              " 'airplane_451.jpg',\n",
              " 'airplane_204.jpg',\n",
              " 'airplane_438.jpg',\n",
              " 'airplane_270.jpg',\n",
              " 'airplane_304.jpg',\n",
              " 'Planes3.jpg',\n",
              " 'airplane_019.jpg',\n",
              " 'airplane_037.jpg',\n",
              " 'airplane_032.jpg',\n",
              " 'airplane_491.jpg',\n",
              " 'airplane_580.jpg',\n",
              " 'airplane_310.jpg',\n",
              " '42849.jpg',\n",
              " 'airplane_391.jpg',\n",
              " 'airplane_482.jpg',\n",
              " 'airplane_276.jpg',\n",
              " 'airplane_093.jpg',\n",
              " 'airplane_278.jpg',\n",
              " 'airplane_479.jpg',\n",
              " 'airplane_326.jpg',\n",
              " '428461.jpg',\n",
              " 'airplane_059.jpg',\n",
              " 'airplane_002.jpg',\n",
              " 'airplane_526.jpg',\n",
              " 'airplane_237.jpg',\n",
              " 'airplane_031.jpg',\n",
              " 'airplane_457.jpg',\n",
              " 'airplane_409.jpg',\n",
              " 'airplane_078.jpg',\n",
              " 'airplane_402.jpg',\n",
              " 'airplane_540.jpg',\n",
              " 'airplane_495.jpg',\n",
              " 'airplane_612.jpg',\n",
              " 'airplane_611.jpg',\n",
              " 'airplane_681.jpg',\n",
              " 'airplane_476.jpg',\n",
              " 'airplane_044.jpg',\n",
              " 'airplane_066.jpg',\n",
              " 'airplane_244.jpg',\n",
              " 'airplane_226.jpg',\n",
              " 'airplane_160.jpg',\n",
              " '428472.jpg',\n",
              " 'airplane_161.jpg',\n",
              " 'airplane_291.jpg',\n",
              " 'airplane_128.jpg',\n",
              " 'airplane_243.jpg',\n",
              " 'airplane_529.jpg',\n",
              " 'airplane_045.jpg',\n",
              " 'airplane_080.jpg',\n",
              " 'airplane_082.jpg',\n",
              " 'airplane_306.jpg',\n",
              " 'airplane_684.jpg',\n",
              " 'airplane_596.jpg',\n",
              " 'airplane_518.jpg',\n",
              " 'airplane_676.jpg',\n",
              " 'airplane_500.jpg',\n",
              " 'airplane_400.jpg',\n",
              " 'airplane_670.jpg',\n",
              " '428501.jpg',\n",
              " 'airplane_636.jpg',\n",
              " 'airplane_552.jpg',\n",
              " 'airplane_365.jpg',\n",
              " 'airplane_315.jpg',\n",
              " 'airplane_414.jpg',\n",
              " 'airplane_005.jpg',\n",
              " 'airplane_632.jpg',\n",
              " 'airplane_346.jpg',\n",
              " 'airplane_048.jpg',\n",
              " 'airplane_490.jpg',\n",
              " 'airplane_437.jpg',\n",
              " 'airplane_386.jpg',\n",
              " 'airplane_652.jpg',\n",
              " 'airplane_589.jpg',\n",
              " 'airplane_389.jpg',\n",
              " 'airplane_174.jpg',\n",
              " 'airplane_421.jpg',\n",
              " 'airplane_696.jpg',\n",
              " 'airplane_169.jpg',\n",
              " 'airplane_021.jpg',\n",
              " 'airplane_351.jpg',\n",
              " 'airplane_283.jpg',\n",
              " 'airplane_268.jpg',\n",
              " 'airplane_116.jpg',\n",
              " 'airplane_264.jpg',\n",
              " 'airplane_123.jpg',\n",
              " 'airplane_342.jpg',\n",
              " 'airplane_443.jpg',\n",
              " 'airplane_501.jpg',\n",
              " 'airplane_408.jpg',\n",
              " 'airplane_404.jpg',\n",
              " 'airplane_303.jpg',\n",
              " 'airplane_195.jpg',\n",
              " 'airplane_687.jpg',\n",
              " 'airplane_406.jpg',\n",
              " 'airplane_655.jpg',\n",
              " 'airplane_597.jpg',\n",
              " 'airplane_008.jpg',\n",
              " 'airplane_103.jpg',\n",
              " 'airplane_058.jpg',\n",
              " 'airplane_046.jpg',\n",
              " 'airplane_439.jpg',\n",
              " 'airplane_550.jpg',\n",
              " 'airplane_072.jpg',\n",
              " 'airplane_187.jpg',\n",
              " '428492.jpg',\n",
              " 'airplane_114.jpg',\n",
              " 'airplane_071.jpg',\n",
              " 'airplane_390.jpg',\n",
              " 'airplane_364.jpg',\n",
              " 'airplane_329.jpg',\n",
              " 'airplane_446.jpg',\n",
              " 'airplane_370.jpg',\n",
              " 'airplane_660.jpg',\n",
              " 'airplane_366.jpg',\n",
              " 'airplane_677.jpg',\n",
              " 'airplane_623.jpg',\n",
              " 'airplane_121.jpg',\n",
              " 'airplane_362.jpg',\n",
              " 'airplane_462.jpg',\n",
              " 'airplane_587.jpg',\n",
              " 'Planes11.jpg',\n",
              " 'airplane_150.jpg',\n",
              " 'airplane_140.jpg',\n",
              " 'airplane_413.jpg',\n",
              " 'airplane_273.jpg',\n",
              " 'airplane_634.jpg',\n",
              " 'airplane_510.jpg',\n",
              " 'airplane_331.jpg',\n",
              " 'airplane_205.jpg',\n",
              " 'airplane_022.jpg',\n",
              " 'airplane_385.jpg',\n",
              " 'airplane_638.jpg',\n",
              " 'airplane_274.jpg',\n",
              " 'airplane_147.jpg',\n",
              " 'airplane_688.jpg',\n",
              " 'airplane_425.jpg',\n",
              " 'airplane_294.jpg',\n",
              " 'Planes1.jpg',\n",
              " 'airplane_407.jpg',\n",
              " 'airplane_453.jpg',\n",
              " 'airplane_369.jpg',\n",
              " 'airplane_234.jpg',\n",
              " 'airplane_577.jpg',\n",
              " 'airplane_151.jpg',\n",
              " 'airplane_558.jpg',\n",
              " 'airplane_277.jpg',\n",
              " 'airplane_192.jpg',\n",
              " 'airplane_382.jpg',\n",
              " 'airplane_459.jpg',\n",
              " 'airplane_642.jpg',\n",
              " 'airplane_263.jpg',\n",
              " 'airplane_673.jpg',\n",
              " 'airplane_211.jpg',\n",
              " 'airplane_300.jpg',\n",
              " 'airplane_015.jpg',\n",
              " 'airplane_515.jpg',\n",
              " 'airplane_430.jpg',\n",
              " 'airplane_665.jpg',\n",
              " 'airplane_202.jpg',\n",
              " 'airplane_141.jpg',\n",
              " 'airplane_083.jpg',\n",
              " 'airplane_358.jpg',\n",
              " 'airplane_522.jpg',\n",
              " 'airplane_426.jpg',\n",
              " 'airplane_557.jpg',\n",
              " 'hotanairport5-rgb.jpg',\n",
              " 'airplane_118.jpg',\n",
              " 'airplane_460.jpg',\n",
              " 'airplane_697.jpg',\n",
              " 'airplane_449.jpg',\n",
              " 'airplane_033.jpg',\n",
              " 'airplane_488.jpg',\n",
              " 'airplane_671.jpg',\n",
              " 'airplane_241.jpg',\n",
              " 'airplane_349.jpg',\n",
              " 'airplane_534.jpg',\n",
              " 'airplane_212.jpg',\n",
              " 'airplane_011.jpg',\n",
              " 'airplane_295.jpg',\n",
              " 'airplane_020.jpg',\n",
              " 'airplane_679.jpg',\n",
              " 'airplane_584.jpg',\n",
              " 'airplane_473.jpg',\n",
              " 'airplane_603.jpg',\n",
              " 'airplane_422.jpg',\n",
              " 'airplane_494.jpg',\n",
              " 'airplane_039.jpg',\n",
              " 'airplane_452.jpg',\n",
              " 'airplane_539.jpg',\n",
              " 'airplane_573.jpg',\n",
              " 'airplane_533.jpg',\n",
              " 'airplane_528.jpg',\n",
              " 'airplane_359.jpg',\n",
              " 'airplane_442.jpg',\n",
              " 'airplane_275.jpg',\n",
              " 'airplane_302.jpg',\n",
              " 'airplane_089.jpg',\n",
              " 'airplane_222.jpg',\n",
              " 'airplane_559.jpg',\n",
              " 'airplane_600.jpg',\n",
              " 'airplane_074.jpg',\n",
              " 'airplane_656.jpg',\n",
              " 'airplane_592.jpg',\n",
              " 'airplane_447.jpg',\n",
              " 'airplane_126.jpg',\n",
              " 'airplane_203.jpg',\n",
              " 'airplane_598.jpg',\n",
              " 'airplane_260.jpg',\n",
              " 'airplane_519.jpg',\n",
              " '42845.jpg',\n",
              " 'airplane_662.jpg',\n",
              " 'airplane_323.jpg',\n",
              " 'airplane_173.jpg',\n",
              " 'airplane_633.jpg',\n",
              " 'airplane_012.jpg',\n",
              " 'airplane_064.jpg',\n",
              " 'airplane_644.jpg',\n",
              " 'airplane_189.jpg',\n",
              " 'airplane_105.jpg',\n",
              " 'airplane_181.jpg',\n",
              " 'airplane_383.jpg',\n",
              " 'airplane_184.jpg',\n",
              " 'airplane_607.jpg',\n",
              " 'airplane_009.jpg',\n",
              " 'airplane_609.jpg',\n",
              " 'airplane_134.jpg',\n",
              " 'airplane_231.jpg',\n",
              " 'airplane_255.jpg',\n",
              " 'airplane_218.jpg',\n",
              " 'airplane_258.jpg',\n",
              " 'airplane_398.jpg',\n",
              " 'airplane_450.jpg',\n",
              " 'airplane_095.jpg',\n",
              " 'airplane_629.jpg',\n",
              " 'airplane_308.jpg',\n",
              " 'airplane_115.jpg',\n",
              " 'airplane_509.jpg',\n",
              " 'airplane_100.jpg',\n",
              " 'airplane_320.jpg',\n",
              " 'airplane_119.jpg',\n",
              " 'airplane_040.jpg',\n",
              " 'airplane_254.jpg',\n",
              " 'airplane_041.jpg',\n",
              " 'airplane_675.jpg',\n",
              " 'airplane_487.jpg',\n",
              " 'airplane_185.jpg',\n",
              " 'airplane_155.jpg',\n",
              " 'airplane_247.jpg',\n",
              " 'airplane_554.jpg',\n",
              " 'airplane_317.jpg',\n",
              " 'airplane_149.jpg',\n",
              " 'airplane_309.jpg',\n",
              " 'airplane_542.jpg',\n",
              " 'airplane_428.jpg',\n",
              " 'airplane_099.jpg',\n",
              " 'airplane_225.jpg',\n",
              " 'airplane_219.jpg',\n",
              " 'airplane_285.jpg',\n",
              " 'airplane_102.jpg',\n",
              " 'airplane_569.jpg',\n",
              " 'airplane_297.jpg',\n",
              " 'airplane_586.jpg',\n",
              " 'airplane_092.jpg',\n",
              " 'airplane_144.jpg',\n",
              " 'airplane_251.jpg',\n",
              " 'airplane_692.jpg',\n",
              " 'airplane_167.jpg',\n",
              " 'airplane_571.jpg',\n",
              " 'airplane_345.jpg',\n",
              " 'airplane_621.jpg',\n",
              " 'airplane_546.jpg',\n",
              " 'airplane_054.jpg',\n",
              " 'airplane_396.jpg',\n",
              " 'airplane_672.jpg',\n",
              " 'airplane_061.jpg',\n",
              " 'airplane_010.jpg',\n",
              " 'airplane_395.jpg',\n",
              " 'airplane_129.jpg',\n",
              " 'airplane_262.jpg',\n",
              " 'airplane_585.jpg',\n",
              " 'airplane_575.jpg',\n",
              " 'airplane_551.jpg',\n",
              " 'airplane_537.jpg',\n",
              " 'airplane_229.jpg',\n",
              " 'airplane_448.jpg',\n",
              " 'airplane_316.jpg',\n",
              " 'airplane_062.jpg',\n",
              " 'airplane_182.jpg',\n",
              " 'airplane_139.jpg',\n",
              " 'airplane_399.jpg',\n",
              " 'airplane_372.jpg',\n",
              " 'airplane_289.jpg',\n",
              " 'airplane_376.jpg',\n",
              " 'airplane_282.jpg',\n",
              " 'airplane_341.jpg',\n",
              " 'airplane_506.jpg',\n",
              " 'airplane_484.jpg',\n",
              " 'airplane_455.jpg',\n",
              " 'airplane_051.jpg',\n",
              " 'airplane_265.jpg',\n",
              " 'airplane_661.jpg',\n",
              " 'airplane_162.jpg',\n",
              " 'airplane_620.jpg',\n",
              " 'airplane_685.jpg',\n",
              " 'planes2.jpg',\n",
              " 'airplane_405.jpg',\n",
              " 'Planes10.jpg',\n",
              " 'airplane_504.jpg',\n",
              " '428451.jpg',\n",
              " 'airplane_107.jpg',\n",
              " 'airplane_393.jpg',\n",
              " 'airplane_583.jpg',\n",
              " 'airplane_113.jpg',\n",
              " 'airplane_018.jpg',\n",
              " 'airplane_367.jpg',\n",
              " 'airplane_595.jpg',\n",
              " 'airplane_563.jpg',\n",
              " 'airplane_502.jpg',\n",
              " 'airplane_360.jpg',\n",
              " 'airplane_417.jpg',\n",
              " 'airplane_635.jpg',\n",
              " 'airplane_441.jpg',\n",
              " 'airplane_352.jpg',\n",
              " 'airplane_131.jpg',\n",
              " 'airplane_172.jpg',\n",
              " 'airplane_514.jpg',\n",
              " 'airplane_330.jpg',\n",
              " 'airplane_648.jpg',\n",
              " 'Planes4.jpg',\n",
              " 'airplane_639.jpg',\n",
              " 'airplane_127.jpg',\n",
              " 'airplane_201.jpg',\n",
              " 'airplane_166.jpg',\n",
              " 'airplane_305.jpg',\n",
              " 'airplane_199.jpg',\n",
              " 'airplane_503.jpg',\n",
              " 'airplane_700.jpg',\n",
              " 'airplane_436.jpg',\n",
              " 'airplane_004.jpg',\n",
              " 'airplane_325.jpg',\n",
              " 'Planes7.jpg',\n",
              " 'airplane_242.jpg',\n",
              " 'airplane_492.jpg',\n",
              " 'airplane_461.jpg',\n",
              " 'airplane_049.jpg',\n",
              " 'airplane_669.jpg',\n",
              " 'airplane_582.jpg',\n",
              " 'airplane_248.jpg',\n",
              " 'airplane_340.jpg',\n",
              " 'airplane_060.jpg',\n",
              " 'airplane_047.jpg',\n",
              " 'airplane_109.jpg',\n",
              " 'airplane_397.jpg',\n",
              " 'airplane_527.jpg',\n",
              " 'airplane_445.jpg',\n",
              " 'airplane_145.jpg',\n",
              " 'airplane_532.jpg',\n",
              " 'airplane_698.jpg',\n",
              " 'airplane_463.jpg',\n",
              " 'airplane_616.jpg',\n",
              " 'airplane_017.jpg',\n",
              " 'airplane_108.jpg',\n",
              " 'airplane_418.jpg',\n",
              " 'airplane_335.jpg',\n",
              " 'airplane_594.jpg',\n",
              " 'airplane_549.jpg',\n",
              " 'airplane_472.jpg',\n",
              " 'airplane_628.jpg',\n",
              " 'airplane_419.jpg',\n",
              " 'airplane_220.jpg',\n",
              " 'airplane_678.jpg',\n",
              " 'airplane_556.jpg',\n",
              " 'airplane_190.jpg',\n",
              " 'airplane_188.jpg',\n",
              " 'airplane_186.jpg',\n",
              " 'airplane_168.jpg',\n",
              " 'airplane_136.jpg',\n",
              " 'airplane_339.jpg',\n",
              " 'airplane_206.jpg',\n",
              " 'airplane_209.jpg',\n",
              " 'airplane_171.jpg',\n",
              " 'airplane_541.jpg',\n",
              " 'airplane_513.jpg',\n",
              " 'airplane_523.jpg',\n",
              " 'airplane_210.jpg',\n",
              " 'airplane_590.jpg',\n",
              " 'airplane_631.jpg',\n",
              " 'airplane_649.jpg',\n",
              " 'airplane_344.jpg',\n",
              " 'airplane_664.jpg',\n",
              " 'airplane_117.jpg',\n",
              " 'airplane_284.jpg',\n",
              " 'airplane_617.jpg',\n",
              " 'airplane_469.jpg',\n",
              " 'airplane_433.jpg',\n",
              " 'airplane_641.jpg',\n",
              " 'airplane_067.jpg',\n",
              " 'airplane_311.jpg',\n",
              " 'airplane_498.jpg',\n",
              " 'airplane_157.jpg',\n",
              " 'airplane_483.jpg',\n",
              " 'airplane_420.jpg',\n",
              " 'airplane_499.jpg',\n",
              " 'airplane_076.jpg',\n",
              " 'airplane_380.jpg',\n",
              " 'Planes12.jpg',\n",
              " 'airplane_179.jpg',\n",
              " 'airplane_562.jpg',\n",
              " 'airplane_378.jpg',\n",
              " 'hotanairport2-rgb.jpg',\n",
              " 'airplane_474.jpg',\n",
              " 'airplane_356.jpg',\n",
              " 'airplane_196.jpg',\n",
              " 'airplane_178.jpg',\n",
              " 'airplane_478.jpg',\n",
              " 'airplane_379.jpg',\n",
              " 'airplane_075.jpg',\n",
              " 'airplane_568.jpg',\n",
              " 'airplane_023.jpg',\n",
              " 'airplane_690.jpg',\n",
              " 'airplane_424.jpg',\n",
              " 'airplane_465.jpg',\n",
              " '428503.jpg',\n",
              " 'airplane_456.jpg',\n",
              " 'airplane_658.jpg',\n",
              " 'airplane_180.jpg',\n",
              " 'airplane_207.jpg',\n",
              " 'airplane_223.jpg',\n",
              " 'airplane_086.jpg',\n",
              " 'airplane_626.jpg',\n",
              " 'airplane_525.jpg',\n",
              " 'airplane_520.jpg',\n",
              " 'Planes6.jpg',\n",
              " 'airplane_111.jpg',\n",
              " 'airplane_328.jpg',\n",
              " 'airplane_081.jpg',\n",
              " 'airplane_485.jpg',\n",
              " 'airplane_434.jpg',\n",
              " 'airplane_245.jpg',\n",
              " 'airplane_142.jpg',\n",
              " 'airplane_233.jpg',\n",
              " 'airplane_343.jpg',\n",
              " 'airplane_030.jpg',\n",
              " 'airplane_214.jpg',\n",
              " 'airplane_591.jpg',\n",
              " 'airplane_454.jpg',\n",
              " 'airplane_373.jpg',\n",
              " 'airplane_137.jpg',\n",
              " 'airplane_477.jpg',\n",
              " 'airplane_232.jpg',\n",
              " 'airplane_286.jpg',\n",
              " 'airplane_027.jpg',\n",
              " 'airplane_555.jpg',\n",
              " 'airplane_050.jpg',\n",
              " 'airplane_601.jpg',\n",
              " 'airplane_624.jpg',\n",
              " 'airplane_138.jpg',\n",
              " 'airplane_106.jpg',\n",
              " 'airplane_507.jpg',\n",
              " 'airplane_415.jpg',\n",
              " 'airplane_146.jpg',\n",
              " 'airplane_177.jpg',\n",
              " 'airplane_663.jpg',\n",
              " 'hotanairport1-rgb.jpg',\n",
              " 'airplane_486.jpg',\n",
              " 'airplane_287.jpg',\n",
              " 'airplane_013.jpg',\n",
              " 'airplane_156.jpg',\n",
              " 'airplane_029.jpg',\n",
              " 'airplane_322.jpg',\n",
              " 'airplane_026.jpg',\n",
              " 'airplane_246.jpg',\n",
              " 'airplane_647.jpg',\n",
              " 'airplane_458.jpg',\n",
              " 'airplane_581.jpg',\n",
              " 'airplane_016.jpg',\n",
              " 'airplane_069.jpg',\n",
              " 'airplane_432.jpg']"
            ]
          },
          "metadata": {
            "tags": []
          },
          "execution_count": 17
        }
      ]
    },
    {
      "cell_type": "code",
      "metadata": {
        "id": "iW6TZUExv8Cl",
        "colab_type": "code",
        "colab": {
          "base_uri": "https://localhost:8080/",
          "height": 1000
        },
        "outputId": "94f2419c-08e1-4dbc-ebdb-b92467a07800"
      },
      "source": [
        "os.listdir(\"/tmp/Airplanes_Annotations\")"
      ],
      "execution_count": 18,
      "outputs": [
        {
          "output_type": "execute_result",
          "data": {
            "text/plain": [
              "['airplane_337.csv',\n",
              " 'airplane_628.csv',\n",
              " 'airplane_080.csv',\n",
              " 'airplane_363.csv',\n",
              " 'airplane_414.csv',\n",
              " 'airplane_582.csv',\n",
              " 'airplane_696.csv',\n",
              " 'airplane_559.csv',\n",
              " 'airplane_488.csv',\n",
              " 'airplane_336.csv',\n",
              " 'airplane_533.csv',\n",
              " 'airplane_249.csv',\n",
              " 'airplane_645.csv',\n",
              " 'airplane_493.csv',\n",
              " 'airplane_260.csv',\n",
              " 'airplane_208.csv',\n",
              " 'airplane_436.csv',\n",
              " 'airplane_097.csv',\n",
              " 'airplane_418.csv',\n",
              " 'airplane_644.csv',\n",
              " 'airplane_278.csv',\n",
              " 'airplane_257.csv',\n",
              " 'airplane_573.csv',\n",
              " 'airplane_373.csv',\n",
              " 'airplane_658.csv',\n",
              " 'airplane_214.csv',\n",
              " 'airplane_699.csv',\n",
              " 'airplane_213.csv',\n",
              " 'airplane_229.csv',\n",
              " 'airplane_687.csv',\n",
              " 'airplane_676.csv',\n",
              " 'airplane_020.csv',\n",
              " 'airplane_595.csv',\n",
              " 'airplane_109.csv',\n",
              " 'airplane_005.csv',\n",
              " 'Planes3.csv',\n",
              " 'airplane_591.csv',\n",
              " 'airplane_479.csv',\n",
              " 'airplane_556.csv',\n",
              " 'airplane_172.csv',\n",
              " 'airplane_425.csv',\n",
              " 'airplane_546.csv',\n",
              " 'airplane_274.csv',\n",
              " 'airplane_597.csv',\n",
              " 'airplane_095.csv',\n",
              " 'airplane_238.csv',\n",
              " 'airplane_641.csv',\n",
              " 'airplane_173.csv',\n",
              " 'airplane_386.csv',\n",
              " 'airplane_247.csv',\n",
              " 'airplane_230.csv',\n",
              " 'airplane_466.csv',\n",
              " 'airplane_090.csv',\n",
              " 'airplane_659.csv',\n",
              " 'airplane_446.csv',\n",
              " 'airplane_334.csv',\n",
              " 'airplane_524.csv',\n",
              " 'airplane_539.csv',\n",
              " 'airplane_352.csv',\n",
              " 'airplane_682.csv',\n",
              " 'airplane_133.csv',\n",
              " 'airplane_515.csv',\n",
              " 'airplane_521.csv',\n",
              " 'airplane_523.csv',\n",
              " 'airplane_248.csv',\n",
              " 'airplane_234.csv',\n",
              " 'airplane_113.csv',\n",
              " 'airplane_327.csv',\n",
              " 'airplane_576.csv',\n",
              " 'airplane_625.csv',\n",
              " 'airplane_116.csv',\n",
              " 'airplane_105.csv',\n",
              " 'airplane_118.csv',\n",
              " 'airplane_165.csv',\n",
              " 'airplane_277.csv',\n",
              " 'airplane_307.csv',\n",
              " 'airplane_381.csv',\n",
              " 'airplane_344.csv',\n",
              " 'airplane_649.csv',\n",
              " 'airplane_154.csv',\n",
              " 'airplane_169.csv',\n",
              " '428501.csv',\n",
              " 'airplane_584.csv',\n",
              " 'Planes4.csv',\n",
              " 'airplane_021.csv',\n",
              " 'airplane_003.csv',\n",
              " 'airplane_662.csv',\n",
              " 'airplane_666.csv',\n",
              " 'airplane_155.csv',\n",
              " 'airplane_242.csv',\n",
              " 'airplane_289.csv',\n",
              " 'airplane_070.csv',\n",
              " 'airplane_161.csv',\n",
              " 'airplane_435.csv',\n",
              " 'airplane_117.csv',\n",
              " 'airplane_618.csv',\n",
              " 'airplane_064.csv',\n",
              " 'airplane_228.csv',\n",
              " 'airplane_204.csv',\n",
              " 'airplane_282.csv',\n",
              " 'airplane_246.csv',\n",
              " 'airplane_018.csv',\n",
              " 'hotanairport5-rgb.csv',\n",
              " 'airplane_664.csv',\n",
              " 'airplane_548.csv',\n",
              " 'airplane_602.csv',\n",
              " 'airplane_449.csv',\n",
              " '428483.csv',\n",
              " 'airplane_594.csv',\n",
              " 'airplane_006.csv',\n",
              " 'airplane_589.csv',\n",
              " 'airplane_302.csv',\n",
              " 'airplane_675.csv',\n",
              " 'airplane_350.csv',\n",
              " 'airplane_075.csv',\n",
              " 'airplane_298.csv',\n",
              " 'airplane_151.csv',\n",
              " 'airplane_162.csv',\n",
              " 'airplane_427.csv',\n",
              " 'airplane_060.csv',\n",
              " 'airplane_580.csv',\n",
              " 'airplane_400.csv',\n",
              " 'airplane_506.csv',\n",
              " 'airplane_045.csv',\n",
              " 'airplane_464.csv',\n",
              " 'airplane_293.csv',\n",
              " 'airplane_358.csv',\n",
              " 'airplane_558.csv',\n",
              " 'airplane_456.csv',\n",
              " 'airplane_112.csv',\n",
              " 'airplane_195.csv',\n",
              " 'airplane_499.csv',\n",
              " 'airplane_232.csv',\n",
              " 'airplane_305.csv',\n",
              " 'airplane_012.csv',\n",
              " 'airplane_086.csv',\n",
              " 'airplane_049.csv',\n",
              " 'Planes1.csv',\n",
              " 'airplane_210.csv',\n",
              " 'airplane_196.csv',\n",
              " 'airplane_485.csv',\n",
              " 'airplane_266.csv',\n",
              " 'airplane_207.csv',\n",
              " 'airplane_009.csv',\n",
              " 'airplane_093.csv',\n",
              " 'airplane_536.csv',\n",
              " 'airplane_560.csv',\n",
              " 'airplane_286.csv',\n",
              " 'airplane_053.csv',\n",
              " 'airplane_025.csv',\n",
              " 'airplane_163.csv',\n",
              " 'airplane_643.csv',\n",
              " 'airplane_447.csv',\n",
              " 'airplane_188.csv',\n",
              " 'airplane_325.csv',\n",
              " 'airplane_402.csv',\n",
              " 'airplane_507.csv',\n",
              " 'airplane_273.csv',\n",
              " 'airplane_681.csv',\n",
              " 'airplane_651.csv',\n",
              " 'airplane_413.csv',\n",
              " 'airplane_011.csv',\n",
              " 'airplane_497.csv',\n",
              " 'airplane_043.csv',\n",
              " 'airplane_181.csv',\n",
              " 'airplane_258.csv',\n",
              " 'airplane_420.csv',\n",
              " 'airplane_587.csv',\n",
              " 'airplane_610.csv',\n",
              " 'airplane_008.csv',\n",
              " 'airplane_241.csv',\n",
              " 'airplane_014.csv',\n",
              " 'airplane_570.csv',\n",
              " 'airplane_167.csv',\n",
              " 'airplane_146.csv',\n",
              " 'airplane_357.csv',\n",
              " 'airplane_037.csv',\n",
              " 'airplane_055.csv',\n",
              " 'airplane_688.csv',\n",
              " 'airplane_283.csv',\n",
              " 'airplane_279.csv',\n",
              " 'airplane_341.csv',\n",
              " 'airplane_469.csv',\n",
              " 'airplane_672.csv',\n",
              " 'airplane_632.csv',\n",
              " 'airplane_486.csv',\n",
              " 'airplane_482.csv',\n",
              " 'airplane_130.csv',\n",
              " 'airplane_015.csv',\n",
              " 'airplane_335.csv',\n",
              " 'airplane_477.csv',\n",
              " 'airplane_048.csv',\n",
              " 'airplane_179.csv',\n",
              " 'airplane_692.csv',\n",
              " 'airplane_007.csv',\n",
              " 'airplane_013.csv',\n",
              " 'airplane_136.csv',\n",
              " 'airplane_216.csv',\n",
              " 'airplane_239.csv',\n",
              " 'airplane_297.csv',\n",
              " 'airplane_615.csv',\n",
              " 'airplane_211.csv',\n",
              " 'airplane_553.csv',\n",
              " 'airplane_392.csv',\n",
              " 'airplane_498.csv',\n",
              " 'airplane_476.csv',\n",
              " 'airplane_494.csv',\n",
              " 'airplane_189.csv',\n",
              " 'airplane_544.csv',\n",
              " 'airplane_512.csv',\n",
              " 'airplane_567.csv',\n",
              " 'airplane_099.csv',\n",
              " 'airplane_581.csv',\n",
              " 'airplane_419.csv',\n",
              " 'airplane_520.csv',\n",
              " 'airplane_623.csv',\n",
              " 'airplane_272.csv',\n",
              " 'airplane_027.csv',\n",
              " 'airplane_190.csv',\n",
              " 'airplane_526.csv',\n",
              " 'airplane_270.csv',\n",
              " 'airplane_656.csv',\n",
              " 'airplane_550.csv',\n",
              " 'airplane_399.csv',\n",
              " 'airplane_295.csv',\n",
              " 'airplane_098.csv',\n",
              " 'airplane_690.csv',\n",
              " 'airplane_549.csv',\n",
              " 'airplane_697.csv',\n",
              " 'airplane_668.csv',\n",
              " 'airplane_452.csv',\n",
              " 'airplane_227.csv',\n",
              " 'airplane_470.csv',\n",
              " 'airplane_174.csv',\n",
              " 'airplane_153.csv',\n",
              " 'airplane_689.csv',\n",
              " 'airplane_568.csv',\n",
              " 'airplane_032.csv',\n",
              " 'airplane_561.csv',\n",
              " 'airplane_264.csv',\n",
              " 'airplane_565.csv',\n",
              " 'airplane_288.csv',\n",
              " 'airplane_378.csv',\n",
              " 'airplane_685.csv',\n",
              " 'airplane_284.csv',\n",
              " 'airplane_429.csv',\n",
              " 'airplane_359.csv',\n",
              " 'airplane_529.csv',\n",
              " 'airplane_608.csv',\n",
              " '428472.csv',\n",
              " '42849.csv',\n",
              " 'airplane_198.csv',\n",
              " 'airplane_321.csv',\n",
              " 'airplane_441.csv',\n",
              " 'airplane_450.csv',\n",
              " 'airplane_177.csv',\n",
              " 'airplane_077.csv',\n",
              " 'airplane_564.csv',\n",
              " 'airplane_084.csv',\n",
              " 'airplane_605.csv',\n",
              " 'airplane_590.csv',\n",
              " 'airplane_269.csv',\n",
              " 'airplane_046.csv',\n",
              " 'airplane_115.csv',\n",
              " 'airplane_245.csv',\n",
              " 'airplane_035.csv',\n",
              " 'airplane_223.csv',\n",
              " 'airplane_547.csv',\n",
              " 'airplane_370.csv',\n",
              " 'airplane_104.csv',\n",
              " 'airplane_050.csv',\n",
              " 'airplane_461.csv',\n",
              " 'airplane_287.csv',\n",
              " 'airplane_191.csv',\n",
              " 'airplane_062.csv',\n",
              " 'airplane_606.csv',\n",
              " 'airplane_255.csv',\n",
              " 'airplane_371.csv',\n",
              " 'airplane_586.csv',\n",
              " 'airplane_212.csv',\n",
              " 'airplane_063.csv',\n",
              " 'airplane_638.csv',\n",
              " 'airplane_574.csv',\n",
              " 'airplane_583.csv',\n",
              " 'airplane_218.csv',\n",
              " 'airplane_308.csv',\n",
              " 'airplane_528.csv',\n",
              " 'airplane_252.csv',\n",
              " 'airplane_537.csv',\n",
              " 'airplane_160.csv',\n",
              " 'airplane_085.csv',\n",
              " 'airplane_374.csv',\n",
              " 'airplane_023.csv',\n",
              " 'airplane_444.csv',\n",
              " 'airplane_680.csv',\n",
              " 'airplane_677.csv',\n",
              " 'airplane_144.csv',\n",
              " 'airplane_457.csv',\n",
              " 'airplane_426.csv',\n",
              " 'airplane_624.csv',\n",
              " 'airplane_532.csv',\n",
              " 'airplane_554.csv',\n",
              " 'airplane_423.csv',\n",
              " 'airplane_609.csv',\n",
              " 'airplane_593.csv',\n",
              " 'airplane_219.csv',\n",
              " 'airplane_125.csv',\n",
              " 'airplane_059.csv',\n",
              " 'airplane_416.csv',\n",
              " 'airplane_324.csv',\n",
              " 'airplane_439.csv',\n",
              " 'airplane_433.csv',\n",
              " 'airplane_081.csv',\n",
              " 'airplane_415.csv',\n",
              " 'airplane_106.csv',\n",
              " 'airplane_074.csv',\n",
              " 'airplane_619.csv',\n",
              " 'airplane_678.csv',\n",
              " 'airplane_487.csv',\n",
              " 'airplane_156.csv',\n",
              " 'airplane_094.csv',\n",
              " 'airplane_541.csv',\n",
              " 'airplane_502.csv',\n",
              " 'airplane_123.csv',\n",
              " 'airplane_700.csv',\n",
              " 'airplane_693.csv',\n",
              " '42850.csv',\n",
              " 'airplane_017.csv',\n",
              " 'airplane_067.csv',\n",
              " 'airplane_362.csv',\n",
              " 'airplane_159.csv',\n",
              " 'airplane_366.csv',\n",
              " 'airplane_473.csv',\n",
              " 'airplane_001.csv',\n",
              " 'airplane_351.csv',\n",
              " 'airplane_522.csv',\n",
              " 'airplane_182.csv',\n",
              " 'airplane_465.csv',\n",
              " 'airplane_285.csv',\n",
              " 'airplane_135.csv',\n",
              " 'airplane_543.csv',\n",
              " 'airplane_604.csv',\n",
              " 'airplane_315.csv',\n",
              " 'airplane_226.csv',\n",
              " 'airplane_143.csv',\n",
              " 'Planes10.csv',\n",
              " 'airplane_698.csv',\n",
              " 'airplane_187.csv',\n",
              " 'airplane_331.csv',\n",
              " 'airplane_612.csv',\n",
              " 'airplane_648.csv',\n",
              " 'airplane_563.csv',\n",
              " 'airplane_611.csv',\n",
              " 'airplane_222.csv',\n",
              " 'airplane_460.csv',\n",
              " 'airplane_178.csv',\n",
              " 'airplane_132.csv',\n",
              " 'airplane_281.csv',\n",
              " 'airplane_490.csv',\n",
              " 'airplane_440.csv',\n",
              " 'airplane_540.csv',\n",
              " 'airplane_404.csv',\n",
              " 'airplane_057.csv',\n",
              " 'airplane_364.csv',\n",
              " 'airplane_655.csv',\n",
              " 'airplane_372.csv',\n",
              " 'airplane_599.csv',\n",
              " 'airplane_034.csv',\n",
              " 'airplane_463.csv',\n",
              " 'airplane_616.csv',\n",
              " 'airplane_566.csv',\n",
              " 'hotanairport1-rgb.csv',\n",
              " 'airplane_071.csv',\n",
              " 'airplane_107.csv',\n",
              " 'airplane_217.csv',\n",
              " '428492.csv',\n",
              " 'Planes6.csv',\n",
              " 'airplane_519.csv',\n",
              " 'airplane_010.csv',\n",
              " 'airplane_495.csv',\n",
              " 'airplane_513.csv',\n",
              " 'airplane_551.csv',\n",
              " 'airplane_596.csv',\n",
              " 'airplane_346.csv',\n",
              " 'airplane_318.csv',\n",
              " 'airplane_168.csv',\n",
              " 'airplane_579.csv',\n",
              " 'airplane_365.csv',\n",
              " 'airplane_042.csv',\n",
              " 'airplane_376.csv',\n",
              " 'airplane_552.csv',\n",
              " 'airplane_694.csv',\n",
              " 'airplane_119.csv',\n",
              " 'Planes9.csv',\n",
              " 'airplane_369.csv',\n",
              " 'airplane_205.csv',\n",
              " 'airplane_642.csv',\n",
              " 'airplane_474.csv',\n",
              " 'airplane_367.csv',\n",
              " 'airplane_525.csv',\n",
              " 'airplane_183.csv',\n",
              " 'airplane_215.csv',\n",
              " 'airplane_531.csv',\n",
              " 'airplane_396.csv',\n",
              " 'airplane_225.csv',\n",
              " 'airplane_361.csv',\n",
              " 'airplane_401.csv',\n",
              " 'airplane_061.csv',\n",
              " 'airplane_091.csv',\n",
              " 'airplane_387.csv',\n",
              " 'airplane_311.csv',\n",
              " 'airplane_088.csv',\n",
              " 'airplane_575.csv',\n",
              " 'airplane_314.csv',\n",
              " 'airplane_100.csv',\n",
              " 'airplane_197.csv',\n",
              " 'airplane_265.csv',\n",
              " 'airplane_588.csv',\n",
              " 'airplane_138.csv',\n",
              " 'airplane_545.csv',\n",
              " 'airplane_065.csv',\n",
              " 'airplane_233.csv',\n",
              " 'airplane_022.csv',\n",
              " 'airplane_294.csv',\n",
              " 'airplane_653.csv',\n",
              " 'airplane_669.csv',\n",
              " 'airplane_261.csv',\n",
              " 'airplane_670.csv',\n",
              " 'airplane_636.csv',\n",
              " 'airplane_353.csv',\n",
              " 'airplane_627.csv',\n",
              " 'airplane_443.csv',\n",
              " 'airplane_673.csv',\n",
              " 'airplane_069.csv',\n",
              " 'airplane_002.csv',\n",
              " 'airplane_348.csv',\n",
              " 'airplane_384.csv',\n",
              " 'hotanairport2-rgb.csv',\n",
              " 'airplane_480.csv',\n",
              " 'airplane_148.csv',\n",
              " 'airplane_150.csv',\n",
              " 'airplane_339.csv',\n",
              " 'airplane_630.csv',\n",
              " 'airplane_472.csv',\n",
              " 'airplane_079.csv',\n",
              " 'airplane_534.csv',\n",
              " 'airplane_235.csv',\n",
              " 'airplane_660.csv',\n",
              " 'airplane_542.csv',\n",
              " 'airplane_422.csv',\n",
              " 'airplane_170.csv',\n",
              " 'airplane_571.csv',\n",
              " 'airplane_501.csv',\n",
              " 'airplane_640.csv',\n",
              " 'airplane_388.csv',\n",
              " 'airplane_408.csv',\n",
              " 'airplane_607.csv',\n",
              " 'airplane_101.csv',\n",
              " 'airplane_405.csv',\n",
              " 'airplane_622.csv',\n",
              " 'airplane_145.csv',\n",
              " '428451.csv',\n",
              " 'airplane_504.csv',\n",
              " 'airplane_417.csv',\n",
              " 'airplane_492.csv',\n",
              " 'airplane_603.csv',\n",
              " 'airplane_516.csv',\n",
              " 'airplane_437.csv',\n",
              " 'airplane_019.csv',\n",
              " 'airplane_092.csv',\n",
              " 'airplane_139.csv',\n",
              " 'airplane_200.csv',\n",
              " 'airplane_128.csv',\n",
              " 'airplane_368.csv',\n",
              " 'airplane_517.csv',\n",
              " 'airplane_028.csv',\n",
              " 'airplane_256.csv',\n",
              " 'airplane_438.csv',\n",
              " 'airplane_683.csv',\n",
              " 'airplane_403.csv',\n",
              " 'airplane_406.csv',\n",
              " 'airplane_424.csv',\n",
              " 'airplane_510.csv',\n",
              " 'airplane_467.csv',\n",
              " 'airplane_518.csv',\n",
              " 'airplane_186.csv',\n",
              " 'airplane_171.csv',\n",
              " 'airplane_338.csv',\n",
              " 'airplane_240.csv',\n",
              " 'airplane_103.csv',\n",
              " 'planes2.csv',\n",
              " 'airplane_039.csv',\n",
              " 'airplane_299.csv',\n",
              " 'airplane_024.csv',\n",
              " '428481.csv',\n",
              " 'airplane_317.csv',\n",
              " 'airplane_126.csv',\n",
              " 'airplane_412.csv',\n",
              " 'airplane_268.csv',\n",
              " 'airplane_377.csv',\n",
              " 'airplane_141.csv',\n",
              " 'airplane_296.csv',\n",
              " 'airplane_129.csv',\n",
              " 'airplane_262.csv',\n",
              " 'airplane_639.csv',\n",
              " 'airplane_276.csv',\n",
              " 'airplane_601.csv',\n",
              " '428482.csv',\n",
              " 'airplane_066.csv',\n",
              " 'airplane_614.csv',\n",
              " 'airplane_379.csv',\n",
              " 'airplane_342.csv',\n",
              " 'airplane_657.csv',\n",
              " 'airplane_254.csv',\n",
              " 'airplane_333.csv',\n",
              " 'airplane_127.csv',\n",
              " 'airplane_038.csv',\n",
              " 'airplane_114.csv',\n",
              " 'airplane_072.csv',\n",
              " 'airplane_631.csv',\n",
              " 'airplane_220.csv',\n",
              " 'airplane_633.csv',\n",
              " 'airplane_394.csv',\n",
              " 'airplane_483.csv',\n",
              " 'airplane_475.csv',\n",
              " 'airplane_634.csv',\n",
              " 'airplane_428.csv',\n",
              " 'airplane_332.csv',\n",
              " 'airplane_646.csv',\n",
              " 'airplane_621.csv',\n",
              " 'airplane_236.csv',\n",
              " 'airplane_029.csv',\n",
              " 'airplane_380.csv',\n",
              " 'airplane_562.csv',\n",
              " 'airplane_004.csv',\n",
              " 'airplane_535.csv',\n",
              " 'airplane_572.csv',\n",
              " 'Planes8.csv',\n",
              " 'hotanairport5.csv',\n",
              " 'airplane_192.csv',\n",
              " 'airplane_111.csv',\n",
              " 'airplane_500.csv',\n",
              " 'airplane_578.csv',\n",
              " 'airplane_096.csv',\n",
              " 'airplane_508.csv',\n",
              " 'airplane_393.csv',\n",
              " 'airplane_626.csv',\n",
              " 'airplane_509.csv',\n",
              " 'airplane_434.csv',\n",
              " 'airplane_030.csv',\n",
              " 'airplane_290.csv',\n",
              " 'airplane_360.csv',\n",
              " 'airplane_514.csv',\n",
              " 'airplane_665.csv',\n",
              " 'airplane_343.csv',\n",
              " 'airplane_082.csv',\n",
              " '42848.csv',\n",
              " 'airplane_253.csv',\n",
              " '428503.csv',\n",
              " 'airplane_695.csv',\n",
              " 'airplane_267.csv',\n",
              " 'airplane_489.csv',\n",
              " 'airplane_345.csv',\n",
              " 'airplane_462.csv',\n",
              " 'airplane_671.csv',\n",
              " 'airplane_203.csv',\n",
              " 'airplane_044.csv',\n",
              " 'airplane_691.csv',\n",
              " 'airplane_647.csv',\n",
              " 'airplane_304.csv',\n",
              " 'airplane_237.csv',\n",
              " 'airplane_124.csv',\n",
              " 'airplane_073.csv',\n",
              " 'airplane_577.csv',\n",
              " '42845.csv',\n",
              " 'airplane_244.csv',\n",
              " 'airplane_251.csv',\n",
              " 'airplane_310.csv',\n",
              " '428461.csv',\n",
              " 'airplane_629.csv',\n",
              " 'airplane_684.csv',\n",
              " 'airplane_180.csv',\n",
              " 'airplane_041.csv',\n",
              " 'airplane_329.csv',\n",
              " 'airplane_347.csv',\n",
              " 'airplane_410.csv',\n",
              " 'airplane_194.csv',\n",
              " 'airplane_421.csv',\n",
              " 'airplane_280.csv',\n",
              " 'airplane_674.csv',\n",
              " 'airplane_555.csv',\n",
              " 'airplane_430.csv',\n",
              " 'airplane_054.csv',\n",
              " 'airplane_102.csv',\n",
              " 'airplane_120.csv',\n",
              " 'airplane_202.csv',\n",
              " 'airplane_395.csv',\n",
              " 'airplane_199.csv',\n",
              " 'airplane_193.csv',\n",
              " 'airplane_263.csv',\n",
              " 'airplane_432.csv',\n",
              " 'airplane_569.csv',\n",
              " 'airplane_454.csv',\n",
              " '42847.csv',\n",
              " 'airplane_686.csv',\n",
              " 'airplane_306.csv',\n",
              " 'airplane_635.csv',\n",
              " 'airplane_389.csv',\n",
              " 'airplane_122.csv',\n",
              " 'airplane_448.csv',\n",
              " 'airplane_663.csv',\n",
              " 'airplane_390.csv',\n",
              " 'airplane_152.csv',\n",
              " 'airplane_431.csv',\n",
              " 'airplane_455.csv',\n",
              " 'airplane_323.csv',\n",
              " 'airplane_411.csv',\n",
              " 'airplane_068.csv',\n",
              " 'airplane_459.csv',\n",
              " 'airplane_326.csv',\n",
              " 'Planes7.csv',\n",
              " 'airplane_026.csv',\n",
              " 'airplane_661.csv',\n",
              " 'airplane_303.csv',\n",
              " 'airplane_637.csv',\n",
              " 'airplane_481.csv',\n",
              " 'airplane_184.csv',\n",
              " 'airplane_391.csv',\n",
              " 'airplane_033.csv',\n",
              " 'airplane_076.csv',\n",
              " 'airplane_052.csv',\n",
              " 'airplane_158.csv',\n",
              " 'airplane_149.csv',\n",
              " 'airplane_511.csv',\n",
              " 'airplane_620.csv',\n",
              " 'airplane_527.csv',\n",
              " 'airplane_243.csv',\n",
              " 'airplane_134.csv',\n",
              " 'airplane_078.csv',\n",
              " 'airplane_231.csv',\n",
              " 'airplane_206.csv',\n",
              " 'airplane_121.csv',\n",
              " 'airplane_491.csv',\n",
              " 'airplane_040.csv',\n",
              " 'airplane_505.csv',\n",
              " 'airplane_051.csv',\n",
              " 'airplane_484.csv',\n",
              " 'airplane_259.csv',\n",
              " 'airplane_275.csv',\n",
              " 'airplane_058.csv',\n",
              " 'airplane_407.csv',\n",
              " 'airplane_397.csv',\n",
              " 'airplane_652.csv',\n",
              " 'airplane_142.csv',\n",
              " 'airplane_340.csv',\n",
              " 'Planes11.csv',\n",
              " 'airplane_442.csv',\n",
              " 'airplane_557.csv',\n",
              " '428491.csv',\n",
              " 'airplane_538.csv',\n",
              " 'airplane_383.csv',\n",
              " 'airplane_503.csv',\n",
              " 'airplane_110.csv',\n",
              " 'airplane_451.csv',\n",
              " 'airplane_300.csv',\n",
              " 'airplane_382.csv',\n",
              " 'airplane_083.csv',\n",
              " 'airplane_409.csv',\n",
              " 'airplane_036.csv',\n",
              " 'airplane_330.csv',\n",
              " 'airplane_157.csv',\n",
              " 'airplane_221.csv',\n",
              " 'airplane_354.csv',\n",
              " 'airplane_600.csv',\n",
              " 'airplane_320.csv',\n",
              " 'airplane_592.csv',\n",
              " 'airplane_016.csv',\n",
              " 'airplane_319.csv',\n",
              " 'airplane_164.csv',\n",
              " 'airplane_031.csv',\n",
              " 'airplane_147.csv',\n",
              " 'Planes12.csv',\n",
              " 'airplane_087.csv',\n",
              " 'airplane_530.csv',\n",
              " 'airplane_349.csv',\n",
              " 'airplane_108.csv',\n",
              " 'airplane_056.csv',\n",
              " 'airplane_328.csv',\n",
              " 'airplane_398.csv',\n",
              " 'airplane_458.csv',\n",
              " 'airplane_617.csv',\n",
              " 'airplane_650.csv',\n",
              " 'airplane_654.csv',\n",
              " 'airplane_131.csv',\n",
              " 'airplane_291.csv',\n",
              " 'airplane_468.csv',\n",
              " 'airplane_176.csv',\n",
              " 'airplane_301.csv',\n",
              " 'airplane_355.csv',\n",
              " '428462.csv',\n",
              " 'airplane_209.csv',\n",
              " 'airplane_679.csv',\n",
              " 'airplane_312.csv',\n",
              " 'airplane_250.csv',\n",
              " 'airplane_292.csv',\n",
              " 'airplane_471.csv',\n",
              " 'airplane_201.csv',\n",
              " 'airplane_309.csv',\n",
              " 'airplane_385.csv',\n",
              " 'airplane_445.csv',\n",
              " 'airplane_166.csv',\n",
              " 'airplane_224.csv',\n",
              " 'airplane_089.csv',\n",
              " 'airplane_137.csv',\n",
              " 'airplane_496.csv',\n",
              " 'airplane_585.csv',\n",
              " 'airplane_185.csv',\n",
              " 'airplane_313.csv',\n",
              " 'airplane_453.csv',\n",
              " 'airplane_175.csv',\n",
              " 'airplane_271.csv',\n",
              " 'airplane_356.csv',\n",
              " 'airplane_613.csv',\n",
              " 'airplane_140.csv',\n",
              " 'airplane_598.csv',\n",
              " 'airplane_047.csv',\n",
              " 'airplane_478.csv',\n",
              " 'airplane_316.csv',\n",
              " 'airplane_322.csv']"
            ]
          },
          "metadata": {
            "tags": []
          },
          "execution_count": 18
        }
      ]
    },
    {
      "cell_type": "code",
      "metadata": {
        "id": "gneNhJVUv_ux",
        "colab_type": "code",
        "colab": {}
      },
      "source": [
        "!mv /tmp/Images/* data/images"
      ],
      "execution_count": 19,
      "outputs": []
    },
    {
      "cell_type": "code",
      "metadata": {
        "id": "ytbgN8MjwD-P",
        "colab_type": "code",
        "colab": {}
      },
      "source": [
        "!mv /tmp/Airplanes_Annotations/* data/train_labels"
      ],
      "execution_count": 20,
      "outputs": []
    },
    {
      "cell_type": "code",
      "metadata": {
        "id": "ayclXQikwMeQ",
        "colab_type": "code",
        "colab": {}
      },
      "source": [
        "# lists the files inside 'annotations' in a random order (not really random, by their hash value instead)\n",
        "# Moves the first 100 labels to the testing dir: `test_labels`\n",
        "!ls data/train_labels/* | sort -R | head -200 | xargs -I{} mv {} data/test_labels"
      ],
      "execution_count": 23,
      "outputs": []
    },
    {
      "cell_type": "code",
      "metadata": {
        "id": "s2HaDjsEwP3R",
        "colab_type": "code",
        "colab": {
          "base_uri": "https://localhost:8080/",
          "height": 34
        },
        "outputId": "2d6fe3a6-54e2-41b3-849a-c9a6e9c31171"
      },
      "source": [
        "!ls data/train_labels/ | wc -l"
      ],
      "execution_count": 24,
      "outputs": [
        {
          "output_type": "stream",
          "text": [
            "529\n"
          ],
          "name": "stdout"
        }
      ]
    },
    {
      "cell_type": "code",
      "metadata": {
        "id": "JRPkNlIlwTOq",
        "colab_type": "code",
        "colab": {
          "base_uri": "https://localhost:8080/",
          "height": 34
        },
        "outputId": "845bda9c-8245-4e9b-bb44-9b13ae782c46"
      },
      "source": [
        "!ls  data/test_labels/ | wc -l"
      ],
      "execution_count": 25,
      "outputs": [
        {
          "output_type": "stream",
          "text": [
            "200\n"
          ],
          "name": "stdout"
        }
      ]
    },
    {
      "cell_type": "code",
      "metadata": {
        "id": "SOunmA9fwcc0",
        "colab_type": "code",
        "colab": {
          "base_uri": "https://localhost:8080/",
          "height": 34
        },
        "outputId": "7e30d9b4-221e-44dc-dc9a-4746adcbb886"
      },
      "source": [
        "%cd /content/aeroplane_detection/data"
      ],
      "execution_count": 26,
      "outputs": [
        {
          "output_type": "stream",
          "text": [
            "/content/aeroplane_detection/data\n"
          ],
          "name": "stdout"
        }
      ]
    },
    {
      "cell_type": "code",
      "metadata": {
        "id": "yminYZ8rwmFt",
        "colab_type": "code",
        "colab": {
          "base_uri": "https://localhost:8080/",
          "height": 34
        },
        "outputId": "cdc9adcb-4b4f-40be-9f7e-03ce2e2645bb"
      },
      "source": [
        "cd train_labels"
      ],
      "execution_count": 27,
      "outputs": [
        {
          "output_type": "stream",
          "text": [
            "/content/aeroplane_detection/data/train_labels\n"
          ],
          "name": "stdout"
        }
      ]
    },
    {
      "cell_type": "code",
      "metadata": {
        "id": "UTj9t2Tt0sbP",
        "colab_type": "code",
        "colab": {
          "base_uri": "https://localhost:8080/",
          "height": 34
        },
        "outputId": "ad915c51-deea-4c82-b1e8-a31d6ae66ed3"
      },
      "source": [
        "import glob\n",
        "glob.glob('*.csv')"
      ],
      "execution_count": 167,
      "outputs": [
        {
          "output_type": "execute_result",
          "data": {
            "text/plain": [
              "[]"
            ]
          },
          "metadata": {
            "tags": []
          },
          "execution_count": 167
        }
      ]
    },
    {
      "cell_type": "code",
      "metadata": {
        "id": "fnhr_9_rwpiK",
        "colab_type": "code",
        "colab": {
          "base_uri": "https://localhost:8080/",
          "height": 34
        },
        "outputId": "1304b045-32d6-4cc8-df70-45c944f52285"
      },
      "source": [
        "train=[]\n",
        "import os\n",
        "for f in os.listdir():\n",
        "  file1=open(f,'r')\n",
        "  for line in file1.readlines():\n",
        "    line=line.strip('\\n')\n",
        "    l=[str(f.split('.')[0])+\".jpg\"]\n",
        "    l=l+line.split(' ')\n",
        "    train.append(l)\n",
        "print(len(train))"
      ],
      "execution_count": 28,
      "outputs": [
        {
          "output_type": "stream",
          "text": [
            "2277\n"
          ],
          "name": "stdout"
        }
      ]
    },
    {
      "cell_type": "code",
      "metadata": {
        "id": "bjx4aKS6wtfH",
        "colab_type": "code",
        "colab": {
          "base_uri": "https://localhost:8080/",
          "height": 34
        },
        "outputId": "4f7a938e-0817-4f96-e51b-32183ac493b5"
      },
      "source": [
        "%cd /content/aeroplane_detection/data"
      ],
      "execution_count": 29,
      "outputs": [
        {
          "output_type": "stream",
          "text": [
            "/content/aeroplane_detection/data\n"
          ],
          "name": "stdout"
        }
      ]
    },
    {
      "cell_type": "code",
      "metadata": {
        "id": "Ps9ZYqsCw5fN",
        "colab_type": "code",
        "colab": {
          "base_uri": "https://localhost:8080/",
          "height": 34
        },
        "outputId": "1a4f3ff1-5a38-4172-92d4-270357ae2a62"
      },
      "source": [
        "cd test_labels"
      ],
      "execution_count": 30,
      "outputs": [
        {
          "output_type": "stream",
          "text": [
            "/content/aeroplane_detection/data/test_labels\n"
          ],
          "name": "stdout"
        }
      ]
    },
    {
      "cell_type": "code",
      "metadata": {
        "id": "kgW--M7Aw-Ix",
        "colab_type": "code",
        "colab": {
          "base_uri": "https://localhost:8080/",
          "height": 34
        },
        "outputId": "5807f2e0-07fb-49e8-dbe9-65cd4ab97353"
      },
      "source": [
        "!pwd"
      ],
      "execution_count": 31,
      "outputs": [
        {
          "output_type": "stream",
          "text": [
            "/content/aeroplane_detection/data/test_labels\n"
          ],
          "name": "stdout"
        }
      ]
    },
    {
      "cell_type": "code",
      "metadata": {
        "id": "Gdivpk5hwxPb",
        "colab_type": "code",
        "colab": {
          "base_uri": "https://localhost:8080/",
          "height": 34
        },
        "outputId": "c145a9a9-681d-4e40-9765-5ebe30049352"
      },
      "source": [
        "test=[]\n",
        "import os\n",
        "for f in os.listdir():\n",
        "  file1=open(f,'r')\n",
        "  for line in file1.readlines():\n",
        "    line=line.strip('\\n')\n",
        "    l=[str(f.split('.')[0])+\".jpg\"]\n",
        "    \n",
        "    l=l+line.split(' ')\n",
        "    test.append(l)\n",
        "print(len(test))"
      ],
      "execution_count": 32,
      "outputs": [
        {
          "output_type": "stream",
          "text": [
            "630\n"
          ],
          "name": "stdout"
        }
      ]
    },
    {
      "cell_type": "code",
      "metadata": {
        "id": "_z3ZmGXUw3bU",
        "colab_type": "code",
        "colab": {}
      },
      "source": [
        "train=pd.DataFrame(train,columns=['filename','xmin','ymin','xmax','ymax'])"
      ],
      "execution_count": 33,
      "outputs": []
    },
    {
      "cell_type": "code",
      "metadata": {
        "id": "KeFn3YCMxGa2",
        "colab_type": "code",
        "colab": {}
      },
      "source": [
        "test=pd.DataFrame(test,columns=['filename','xmin','ymin','xmax','ymax'])"
      ],
      "execution_count": 34,
      "outputs": []
    },
    {
      "cell_type": "code",
      "metadata": {
        "id": "dRElyuHOxNrt",
        "colab_type": "code",
        "colab": {
          "base_uri": "https://localhost:8080/",
          "height": 204
        },
        "outputId": "d8582707-ae7c-42b4-da21-e3f482c914c3"
      },
      "source": [
        "test.head()"
      ],
      "execution_count": 35,
      "outputs": [
        {
          "output_type": "execute_result",
          "data": {
            "text/html": [
              "<div>\n",
              "<style scoped>\n",
              "    .dataframe tbody tr th:only-of-type {\n",
              "        vertical-align: middle;\n",
              "    }\n",
              "\n",
              "    .dataframe tbody tr th {\n",
              "        vertical-align: top;\n",
              "    }\n",
              "\n",
              "    .dataframe thead th {\n",
              "        text-align: right;\n",
              "    }\n",
              "</style>\n",
              "<table border=\"1\" class=\"dataframe\">\n",
              "  <thead>\n",
              "    <tr style=\"text-align: right;\">\n",
              "      <th></th>\n",
              "      <th>filename</th>\n",
              "      <th>xmin</th>\n",
              "      <th>ymin</th>\n",
              "      <th>xmax</th>\n",
              "      <th>ymax</th>\n",
              "    </tr>\n",
              "  </thead>\n",
              "  <tbody>\n",
              "    <tr>\n",
              "      <th>0</th>\n",
              "      <td>airplane_337.jpg</td>\n",
              "      <td>4</td>\n",
              "      <td>26</td>\n",
              "      <td>41</td>\n",
              "      <td>63</td>\n",
              "    </tr>\n",
              "    <tr>\n",
              "      <th>1</th>\n",
              "      <td>airplane_337.jpg</td>\n",
              "      <td>13</td>\n",
              "      <td>65</td>\n",
              "      <td>60</td>\n",
              "      <td>97</td>\n",
              "    </tr>\n",
              "    <tr>\n",
              "      <th>2</th>\n",
              "      <td>airplane_337.jpg</td>\n",
              "      <td>24</td>\n",
              "      <td>108</td>\n",
              "      <td>62</td>\n",
              "      <td>141</td>\n",
              "    </tr>\n",
              "    <tr>\n",
              "      <th>3</th>\n",
              "      <td>airplane_337.jpg</td>\n",
              "      <td>29</td>\n",
              "      <td>207</td>\n",
              "      <td>65</td>\n",
              "      <td>239</td>\n",
              "    </tr>\n",
              "    <tr>\n",
              "      <th>4</th>\n",
              "      <td>airplane_080.jpg</td>\n",
              "      <td>68</td>\n",
              "      <td>132</td>\n",
              "      <td>174</td>\n",
              "      <td>244</td>\n",
              "    </tr>\n",
              "  </tbody>\n",
              "</table>\n",
              "</div>"
            ],
            "text/plain": [
              "           filename xmin ymin xmax ymax\n",
              "0  airplane_337.jpg    4   26   41   63\n",
              "1  airplane_337.jpg   13   65   60   97\n",
              "2  airplane_337.jpg   24  108   62  141\n",
              "3  airplane_337.jpg   29  207   65  239\n",
              "4  airplane_080.jpg   68  132  174  244"
            ]
          },
          "metadata": {
            "tags": []
          },
          "execution_count": 35
        }
      ]
    },
    {
      "cell_type": "code",
      "metadata": {
        "id": "pJhQRckxxUVd",
        "colab_type": "code",
        "colab": {
          "base_uri": "https://localhost:8080/",
          "height": 204
        },
        "outputId": "92ecfae5-67bd-47ac-dd70-93ff95a9b0e4"
      },
      "source": [
        "train.head()"
      ],
      "execution_count": 36,
      "outputs": [
        {
          "output_type": "execute_result",
          "data": {
            "text/html": [
              "<div>\n",
              "<style scoped>\n",
              "    .dataframe tbody tr th:only-of-type {\n",
              "        vertical-align: middle;\n",
              "    }\n",
              "\n",
              "    .dataframe tbody tr th {\n",
              "        vertical-align: top;\n",
              "    }\n",
              "\n",
              "    .dataframe thead th {\n",
              "        text-align: right;\n",
              "    }\n",
              "</style>\n",
              "<table border=\"1\" class=\"dataframe\">\n",
              "  <thead>\n",
              "    <tr style=\"text-align: right;\">\n",
              "      <th></th>\n",
              "      <th>filename</th>\n",
              "      <th>xmin</th>\n",
              "      <th>ymin</th>\n",
              "      <th>xmax</th>\n",
              "      <th>ymax</th>\n",
              "    </tr>\n",
              "  </thead>\n",
              "  <tbody>\n",
              "    <tr>\n",
              "      <th>0</th>\n",
              "      <td>airplane_628.jpg</td>\n",
              "      <td>98</td>\n",
              "      <td>8</td>\n",
              "      <td>127</td>\n",
              "      <td>31</td>\n",
              "    </tr>\n",
              "    <tr>\n",
              "      <th>1</th>\n",
              "      <td>airplane_628.jpg</td>\n",
              "      <td>74</td>\n",
              "      <td>45</td>\n",
              "      <td>114</td>\n",
              "      <td>79</td>\n",
              "    </tr>\n",
              "    <tr>\n",
              "      <th>2</th>\n",
              "      <td>airplane_628.jpg</td>\n",
              "      <td>35</td>\n",
              "      <td>128</td>\n",
              "      <td>77</td>\n",
              "      <td>163</td>\n",
              "    </tr>\n",
              "    <tr>\n",
              "      <th>3</th>\n",
              "      <td>airplane_628.jpg</td>\n",
              "      <td>8</td>\n",
              "      <td>177</td>\n",
              "      <td>50</td>\n",
              "      <td>210</td>\n",
              "    </tr>\n",
              "    <tr>\n",
              "      <th>4</th>\n",
              "      <td>airplane_363.jpg</td>\n",
              "      <td>44</td>\n",
              "      <td>98</td>\n",
              "      <td>115</td>\n",
              "      <td>179</td>\n",
              "    </tr>\n",
              "  </tbody>\n",
              "</table>\n",
              "</div>"
            ],
            "text/plain": [
              "           filename xmin ymin xmax ymax\n",
              "0  airplane_628.jpg   98    8  127   31\n",
              "1  airplane_628.jpg   74   45  114   79\n",
              "2  airplane_628.jpg   35  128   77  163\n",
              "3  airplane_628.jpg    8  177   50  210\n",
              "4  airplane_363.jpg   44   98  115  179"
            ]
          },
          "metadata": {
            "tags": []
          },
          "execution_count": 36
        }
      ]
    },
    {
      "cell_type": "code",
      "metadata": {
        "id": "UiYFutlzz1Wd",
        "colab_type": "code",
        "colab": {
          "base_uri": "https://localhost:8080/",
          "height": 34
        },
        "outputId": "eb2e61a7-0815-46b5-af10-9bbb4a1e2fad"
      },
      "source": [
        "!pwd"
      ],
      "execution_count": 37,
      "outputs": [
        {
          "output_type": "stream",
          "text": [
            "/content/aeroplane_detection/data/test_labels\n"
          ],
          "name": "stdout"
        }
      ]
    },
    {
      "cell_type": "code",
      "metadata": {
        "id": "A7wGcFvd42hK",
        "colab_type": "code",
        "colab": {}
      },
      "source": [
        ""
      ],
      "execution_count": 37,
      "outputs": []
    },
    {
      "cell_type": "code",
      "metadata": {
        "id": "vPOtndl95C9b",
        "colab_type": "code",
        "colab": {
          "base_uri": "https://localhost:8080/",
          "height": 34
        },
        "outputId": "25bbad24-7f05-4a55-bc0e-86b9d2dc1809"
      },
      "source": [
        "!pwd"
      ],
      "execution_count": 38,
      "outputs": [
        {
          "output_type": "stream",
          "text": [
            "/content/aeroplane_detection/data/test_labels\n"
          ],
          "name": "stdout"
        }
      ]
    },
    {
      "cell_type": "code",
      "metadata": {
        "id": "8zIDzzOR5HL7",
        "colab_type": "code",
        "colab": {
          "base_uri": "https://localhost:8080/",
          "height": 34
        },
        "outputId": "7f56ae22-e03c-4322-e4ee-9ad386904a58"
      },
      "source": [
        "cd -"
      ],
      "execution_count": 39,
      "outputs": [
        {
          "output_type": "stream",
          "text": [
            "/content/aeroplane_detection/data\n"
          ],
          "name": "stdout"
        }
      ]
    },
    {
      "cell_type": "code",
      "metadata": {
        "id": "9g5R_y8B5L2d",
        "colab_type": "code",
        "colab": {
          "base_uri": "https://localhost:8080/",
          "height": 51
        },
        "outputId": "d98665c4-afed-4e1b-9a61-a89e76e059c7"
      },
      "source": [
        "%cd /content/aeroplane_detection/data\n",
        "label_map_path = os.path.join(\"label_map.pbtxt\")\n",
        "classes=['aeroplane']\n",
        "pbtxt_content = \"\"\n",
        "print(type(classes))\n",
        "#creats a pbtxt file the has the class names.\n",
        "for i, class_name in enumerate(classes):\n",
        "    # display_name is optional.\n",
        "    pbtxt_content = (\n",
        "        pbtxt_content\n",
        "        + \"item {{\\n    id: {0}\\n    name: '{1}'\\n    display_name: 'aeroplane'\\n }}\\n\\n\".format(i + 1, class_name)\n",
        "    )\n",
        "pbtxt_content = pbtxt_content.strip()\n",
        "with open(label_map_path, \"w\") as f:\n",
        "    f.write(pbtxt_content)"
      ],
      "execution_count": 40,
      "outputs": [
        {
          "output_type": "stream",
          "text": [
            "/content/aeroplane_detection/data\n",
            "<class 'list'>\n"
          ],
          "name": "stdout"
        }
      ]
    },
    {
      "cell_type": "code",
      "metadata": {
        "id": "7e3G98Fg5SZo",
        "colab_type": "code",
        "colab": {
          "base_uri": "https://localhost:8080/",
          "height": 102
        },
        "outputId": "ca436cef-793f-4eca-e77d-bdacc356d5f8"
      },
      "source": [
        "#checking the pbtxt file\n",
        "!cat label_map.pbtxt"
      ],
      "execution_count": 41,
      "outputs": [
        {
          "output_type": "stream",
          "text": [
            "item {\n",
            "    id: 1\n",
            "    name: 'aeroplane'\n",
            "    display_name: 'aeroplane'\n",
            " }"
          ],
          "name": "stdout"
        }
      ]
    },
    {
      "cell_type": "code",
      "metadata": {
        "id": "ZSpk9MXn5cv7",
        "colab_type": "code",
        "colab": {
          "base_uri": "https://localhost:8080/",
          "height": 102
        },
        "outputId": "251399d6-2aa2-478c-f9de-aea9e20f22c5"
      },
      "source": [
        "!ls -l"
      ],
      "execution_count": 42,
      "outputs": [
        {
          "output_type": "stream",
          "text": [
            "total 80\n",
            "drwxr-xr-x 2 root root 32768 Jul 20 09:14 images\n",
            "-rw-r--r-- 1 root root    71 Jul 20 09:14 label_map.pbtxt\n",
            "drwxr-xr-x 2 root root 12288 Jul 20 09:14 test_labels\n",
            "drwxr-xr-x 2 root root 32768 Jul 20 09:14 train_labels\n"
          ],
          "name": "stdout"
        }
      ]
    },
    {
      "cell_type": "code",
      "metadata": {
        "id": "OhWeMwcc5gEG",
        "colab_type": "code",
        "colab": {
          "base_uri": "https://localhost:8080/",
          "height": 34
        },
        "outputId": "a6c67271-b8e3-4d93-b915-45079ca6d42b"
      },
      "source": [
        "!pwd\n"
      ],
      "execution_count": 43,
      "outputs": [
        {
          "output_type": "stream",
          "text": [
            "/content/aeroplane_detection/data\n"
          ],
          "name": "stdout"
        }
      ]
    },
    {
      "cell_type": "code",
      "metadata": {
        "id": "adPVaxsI5kTd",
        "colab_type": "code",
        "colab": {}
      },
      "source": [
        "\n",
        "# https://colab.research.google.com/drive/166QSWpRQVr7Da1afFeBlmyhDHkoDi5BR?authuser=2\n"
      ],
      "execution_count": 44,
      "outputs": []
    },
    {
      "cell_type": "code",
      "metadata": {
        "id": "RArBYzM37lWq",
        "colab_type": "code",
        "colab": {
          "base_uri": "https://localhost:8080/",
          "height": 34
        },
        "outputId": "37e49071-5caf-471a-c2da-b5724bbb6ac5"
      },
      "source": [
        "%cd /content/aeroplane_detection/data\n",
        "train.to_csv('train_labels.csv', encoding='utf-8', index=False)\n",
        "test.to_csv('test_labels.csv', encoding='utf-8', index=False)"
      ],
      "execution_count": 45,
      "outputs": [
        {
          "output_type": "stream",
          "text": [
            "/content/aeroplane_detection/data\n"
          ],
          "name": "stdout"
        }
      ]
    },
    {
      "cell_type": "code",
      "metadata": {
        "id": "4soU965M8LbV",
        "colab_type": "code",
        "colab": {
          "base_uri": "https://localhost:8080/",
          "height": 136
        },
        "outputId": "4acc3689-a0aa-49ba-f014-c3ae4a9b09ad"
      },
      "source": [
        "!ls -l"
      ],
      "execution_count": 46,
      "outputs": [
        {
          "output_type": "stream",
          "text": [
            "total 168\n",
            "drwxr-xr-x 2 root root 32768 Jul 20 09:14 images\n",
            "-rw-r--r-- 1 root root    71 Jul 20 09:14 label_map.pbtxt\n",
            "drwxr-xr-x 2 root root 12288 Jul 20 09:14 test_labels\n",
            "-rw-r--r-- 1 root root 19466 Jul 20 09:15 test_labels.csv\n",
            "drwxr-xr-x 2 root root 32768 Jul 20 09:14 train_labels\n",
            "-rw-r--r-- 1 root root 68751 Jul 20 09:15 train_labels.csv\n"
          ],
          "name": "stdout"
        }
      ]
    },
    {
      "cell_type": "code",
      "metadata": {
        "id": "-lvzPNJr8Sf2",
        "colab_type": "code",
        "colab": {
          "base_uri": "https://localhost:8080/",
          "height": 303
        },
        "outputId": "f9eeb130-d3fd-427a-eb2d-54dac72dc676"
      },
      "source": [
        "%cd /content/aeroplane_detection/data\n",
        "from PIL import Image\n",
        "\n",
        "os.listdir('images')\n",
        "#image = Image.open(\"images/4f30dc4b8e2a583d.jpg\")\n",
        "#height,width=image.size\n",
        "#print(height,width)\n",
        "import matplotlib.pyplot as plt\n",
        "import matplotlib.patches as patches\n",
        "for row in train.values[1:]:\n",
        "  img = plt.imread(\"images/\"+row[0])\n",
        "  plt.imshow(img)\n",
        "  print(row[0],row[2],row[3],row[4])\n",
        "  plt.plot([float(row[2]),float(row[3]),float(row[3]),float(row[2]),float(row[2])],[float(row[4]),float(row[4]),float(row[2]),float(row[2]),float(row[4])],color='r')\n",
        "  break"
      ],
      "execution_count": 68,
      "outputs": [
        {
          "output_type": "stream",
          "text": [
            "/content/aeroplane_detection/data\n",
            "airplane_628.jpg 45 114 79\n"
          ],
          "name": "stdout"
        },
        {
          "output_type": "display_data",
          "data": {
            "image/png": "[encoded data removed]",
            "text/plain": [
              "<Figure size 432x288 with 1 Axes>"
            ]
          },
          "metadata": {
            "tags": [],
            "needs_background": "light"
          }
        }
      ]
    },
    {
      "cell_type": "code",
      "metadata": {
        "id": "Pqn2DaZxc79q",
        "colab_type": "code",
        "colab": {
          "base_uri": "https://localhost:8080/",
          "height": 34
        },
        "outputId": "21ecbb46-0d81-4f43-a3cf-b7e8d16a1053"
      },
      "source": [
        "# Downlaods Tenorflow\n",
        "%cd /content/aeroplane_detection/\n",
        "!git clone --q https://github.com/tensorflow/models.git"
      ],
      "execution_count": 66,
      "outputs": [
        {
          "output_type": "stream",
          "text": [
            "/content/aeroplane_detection\n"
          ],
          "name": "stdout"
        }
      ]
    },
    {
      "cell_type": "code",
      "metadata": {
        "id": "61buYNdZgstD",
        "colab_type": "code",
        "colab": {}
      },
      "source": [
        "!mv models/official models/research/official"
      ],
      "execution_count": 69,
      "outputs": []
    },
    {
      "cell_type": "code",
      "metadata": {
        "id": "7QL13sT1iG4P",
        "colab_type": "code",
        "colab": {
          "base_uri": "https://localhost:8080/",
          "height": 51
        },
        "outputId": "a3833c9b-7e2a-4b19-edd5-80b282a9e922"
      },
      "source": [
        "%cd /content/aeroplane_detection/models/research\n",
        "#compiling the proto buffers (not important to understand for this project but you can learn more about them here: https://developers.google.com/protocol-buffers/)\n",
        "!protoc object_detection/protos/*.proto --python_out=.\n",
        "\n",
        "# exports the PYTHONPATH environment variable with the reasearch and slim folders' paths\n",
        "os.environ['PYTHONPATH'] += ':/content/aeroplane_detection/models/research/:/content/aeroplane_detection/models/research/slim/'"
      ],
      "execution_count": 70,
      "outputs": [
        {
          "output_type": "stream",
          "text": [
            "/content/aeroplane_detection/models/research\n",
            "object_detection/protos/input_reader.proto: warning: Import object_detection/protos/image_resizer.proto but not used.\n"
          ],
          "name": "stdout"
        }
      ]
    },
    {
      "cell_type": "code",
      "metadata": {
        "id": "HRw6xdghiTNN",
        "colab_type": "code",
        "colab": {
          "base_uri": "https://localhost:8080/",
          "height": 156
        },
        "outputId": "7b0feb06-b30a-4a58-c494-e8df1e2da40b"
      },
      "source": [
        "# testing the model builder\n",
        "!pip install tf_slim\n",
        "\n",
        "!python3 object_detection/builders/model_builder_test.py"
      ],
      "execution_count": 71,
      "outputs": [
        {
          "output_type": "stream",
          "text": [
            "Collecting tf_slim\n",
            "\u001b[?25l  Downloading https://files.pythonhosted.org/packages/02/97/b0f4a64df018ca018cc035d44f2ef08f91e2e8aa67271f6f19633a015ff7/tf_slim-1.1.0-py2.py3-none-any.whl (352kB)\n",
            "\r\u001b[K     |█                               | 10kB 24.1MB/s eta 0:00:01\r\u001b[K     |█▉                              | 20kB 4.4MB/s eta 0:00:01\r\u001b[K     |██▉                             | 30kB 5.7MB/s eta 0:00:01\r\u001b[K     |███▊                            | 40kB 6.0MB/s eta 0:00:01\r\u001b[K     |████▋                           | 51kB 5.0MB/s eta 0:00:01\r\u001b[K     |█████▋                          | 61kB 5.6MB/s eta 0:00:01\r\u001b[K     |██████▌                         | 71kB 6.0MB/s eta 0:00:01\r\u001b[K     |███████▌                        | 81kB 6.5MB/s eta 0:00:01\r\u001b[K     |████████▍                       | 92kB 6.9MB/s eta 0:00:01\r\u001b[K     |█████████▎                      | 102kB 6.9MB/s eta 0:00:01\r\u001b[K     |██████████▎                     | 112kB 6.9MB/s eta 0:00:01\r\u001b[K     |███████████▏                    | 122kB 6.9MB/s eta 0:00:01\r\u001b[K     |████████████                    | 133kB 6.9MB/s eta 0:00:01\r\u001b[K     |█████████████                   | 143kB 6.9MB/s eta 0:00:01\r\u001b[K     |██████████████                  | 153kB 6.9MB/s eta 0:00:01\r\u001b[K     |███████████████                 | 163kB 6.9MB/s eta 0:00:01\r\u001b[K     |███████████████▉                | 174kB 6.9MB/s eta 0:00:01\r\u001b[K     |████████████████▊               | 184kB 6.9MB/s eta 0:00:01\r\u001b[K     |█████████████████▊              | 194kB 6.9MB/s eta 0:00:01\r\u001b[K     |██████████████████▋             | 204kB 6.9MB/s eta 0:00:01\r\u001b[K     |███████████████████▌            | 215kB 6.9MB/s eta 0:00:01\r\u001b[K     |████████████████████▌           | 225kB 6.9MB/s eta 0:00:01\r\u001b[K     |█████████████████████▍          | 235kB 6.9MB/s eta 0:00:01\r\u001b[K     |██████████████████████▍         | 245kB 6.9MB/s eta 0:00:01\r\u001b[K     |███████████████████████▎        | 256kB 6.9MB/s eta 0:00:01\r\u001b[K     |████████████████████████▏       | 266kB 6.9MB/s eta 0:00:01\r\u001b[K     |█████████████████████████▏      | 276kB 6.9MB/s eta 0:00:01\r\u001b[K     |██████████████████████████      | 286kB 6.9MB/s eta 0:00:01\r\u001b[K     |███████████████████████████     | 296kB 6.9MB/s eta 0:00:01\r\u001b[K     |████████████████████████████    | 307kB 6.9MB/s eta 0:00:01\r\u001b[K     |████████████████████████████▉   | 317kB 6.9MB/s eta 0:00:01\r\u001b[K     |█████████████████████████████▉  | 327kB 6.9MB/s eta 0:00:01\r\u001b[K     |██████████████████████████████▊ | 337kB 6.9MB/s eta 0:00:01\r\u001b[K     |███████████████████████████████▋| 348kB 6.9MB/s eta 0:00:01\r\u001b[K     |████████████████████████████████| 358kB 6.9MB/s \n",
            "\u001b[?25hRequirement already satisfied: absl-py>=0.2.2 in /usr/local/lib/python3.6/dist-packages (from tf_slim) (0.9.0)\n",
            "Requirement already satisfied: six in /usr/local/lib/python3.6/dist-packages (from absl-py>=0.2.2->tf_slim) (1.12.0)\n",
            "Installing collected packages: tf-slim\n",
            "Successfully installed tf-slim-1.1.0\n"
          ],
          "name": "stdout"
        }
      ]
    },
    {
      "cell_type": "code",
      "metadata": {
        "id": "eNM79Up7iXLk",
        "colab_type": "code",
        "colab": {
          "base_uri": "https://localhost:8080/",
          "height": 68
        },
        "outputId": "50ddb69a-1449-4c7f-e495-c44390cdb1f8"
      },
      "source": [
        "#adjusted from: https://github.com/datitran/raccoon_dataset\n",
        "\n",
        "# converts the csv files for training and testing data to two TFRecords files.\n",
        "# places the output in the same directory as the input\n",
        "\n",
        "\n",
        "from object_detection.utils import dataset_util\n",
        "%cd /content/aeroplane_detection/models/\n",
        "\n",
        "DATA_BASE_PATH = '/content/aeroplane_detection/data/'\n",
        "image_dir = DATA_BASE_PATH +'images/'\n",
        "\n",
        "def class_text_to_int(row_label):\n",
        "\t\tif row_label == 'Handgun':\n",
        "\t\t\t\treturn 1\n",
        "\t\telse:\n",
        "\t\t\t\tNone\n",
        "\n",
        "\n",
        "def split(df, group):\n",
        "\t\tdata = namedtuple('data', ['filename', 'object'])\n",
        "\t\tgb = df.groupby(group)\n",
        "\t\treturn [data(filename, gb.get_group(x)) for filename, x in zip(gb.groups.keys(), gb.groups)]\n",
        "\n",
        "def create_tf_example(group, path):\n",
        "\t\twith tf.io.gfile.GFile(os.path.join(path, '{}'.format(group.filename)), 'rb') as fid:\n",
        "\t\t\t\tencoded_jpg = fid.read()\n",
        "\t\tencoded_jpg_io = io.BytesIO(encoded_jpg)\n",
        "\t\timage = Image.open(encoded_jpg_io)\n",
        "\t\twidth, height = image.size\n",
        "\n",
        "\t\tfilename = group.filename.encode('utf8')\n",
        "\t\timage_format = b'jpg'\n",
        "\t\txmins = []\n",
        "\t\txmaxs = []\n",
        "\t\tymins = []\n",
        "\t\tymaxs = []\n",
        "\t\tclasses_text = []\n",
        "\t\tclasses = []\n",
        "\n",
        "\t\tfor index, row in group.object.iterrows():\n",
        "\t\t\t\txmins.append(float(row['xmin']) / width)\n",
        "\t\t\t\txmaxs.append(float(row['xmax']) / width)\n",
        "\t\t\t\tymins.append(float(row['ymin']) / height)\n",
        "\t\t\t\tymaxs.append(float(row['ymax']) / height)\n",
        "\t\t\t\n",
        "\n",
        "\t\ttf_example = tf.train.Example(features=tf.train.Features(feature={\n",
        "\t\t\t\t'image/height': dataset_util.int64_feature(height),\n",
        "\t\t\t\t'image/width': dataset_util.int64_feature(width),\n",
        "\t\t\t\t'image/filename': dataset_util.bytes_feature(filename),\n",
        "\t\t\t\t'image/source_id': dataset_util.bytes_feature(filename),\n",
        "\t\t\t\t'image/encoded': dataset_util.bytes_feature(encoded_jpg),\n",
        "\t\t\t\t'image/format': dataset_util.bytes_feature(image_format),\n",
        "\t\t\t\t'image/object/bbox/xmin': dataset_util.float_list_feature(xmins),\n",
        "\t\t\t\t'image/object/bbox/xmax': dataset_util.float_list_feature(xmaxs),\n",
        "\t\t\t\t'image/object/bbox/ymin': dataset_util.float_list_feature(ymins),\n",
        "\t\t\t\t'image/object/bbox/ymax': dataset_util.float_list_feature(ymaxs),\n",
        "\t\t}))\n",
        "\t\treturn tf_example\n",
        "\n",
        "for csv in ['train_labels', 'test_labels']:\n",
        "  writer = tf.io.TFRecordWriter(DATA_BASE_PATH + csv + '.record')\n",
        "  path = os.path.join(image_dir)\n",
        "  examples = pd.read_csv(DATA_BASE_PATH + csv + '.csv')\n",
        "  grouped = split(examples, 'filename')\n",
        "  for group in grouped:\n",
        "      tf_example = create_tf_example(group, path)\n",
        "      writer.write(tf_example.SerializeToString())\n",
        "    \n",
        "  writer.close()\n",
        "  output_path = os.path.join(os.getcwd(), DATA_BASE_PATH + csv + '.record')\n",
        "  print('Successfully created the TFRecords: {}'.format(DATA_BASE_PATH +csv + '.record'))\n"
      ],
      "execution_count": 73,
      "outputs": [
        {
          "output_type": "stream",
          "text": [
            "/content/aeroplane_detection/models\n",
            "Successfully created the TFRecords: /content/aeroplane_detection/data/train_labels.record\n",
            "Successfully created the TFRecords: /content/aeroplane_detection/data/test_labels.record\n"
          ],
          "name": "stdout"
        }
      ]
    },
    {
      "cell_type": "code",
      "metadata": {
        "id": "5tnL0DA_irgW",
        "colab_type": "code",
        "colab": {
          "base_uri": "https://localhost:8080/",
          "height": 419
        },
        "outputId": "0e3f475e-eef0-4fa1-a895-fdf86275e865"
      },
      "source": [
        "examples"
      ],
      "execution_count": 74,
      "outputs": [
        {
          "output_type": "execute_result",
          "data": {
            "text/html": [
              "<div>\n",
              "<style scoped>\n",
              "    .dataframe tbody tr th:only-of-type {\n",
              "        vertical-align: middle;\n",
              "    }\n",
              "\n",
              "    .dataframe tbody tr th {\n",
              "        vertical-align: top;\n",
              "    }\n",
              "\n",
              "    .dataframe thead th {\n",
              "        text-align: right;\n",
              "    }\n",
              "</style>\n",
              "<table border=\"1\" class=\"dataframe\">\n",
              "  <thead>\n",
              "    <tr style=\"text-align: right;\">\n",
              "      <th></th>\n",
              "      <th>filename</th>\n",
              "      <th>xmin</th>\n",
              "      <th>ymin</th>\n",
              "      <th>xmax</th>\n",
              "      <th>ymax</th>\n",
              "    </tr>\n",
              "  </thead>\n",
              "  <tbody>\n",
              "    <tr>\n",
              "      <th>0</th>\n",
              "      <td>airplane_337.jpg</td>\n",
              "      <td>4</td>\n",
              "      <td>26.0</td>\n",
              "      <td>41.0</td>\n",
              "      <td>63.0</td>\n",
              "    </tr>\n",
              "    <tr>\n",
              "      <th>1</th>\n",
              "      <td>airplane_337.jpg</td>\n",
              "      <td>13</td>\n",
              "      <td>65.0</td>\n",
              "      <td>60.0</td>\n",
              "      <td>97.0</td>\n",
              "    </tr>\n",
              "    <tr>\n",
              "      <th>2</th>\n",
              "      <td>airplane_337.jpg</td>\n",
              "      <td>24</td>\n",
              "      <td>108.0</td>\n",
              "      <td>62.0</td>\n",
              "      <td>141.0</td>\n",
              "    </tr>\n",
              "    <tr>\n",
              "      <th>3</th>\n",
              "      <td>airplane_337.jpg</td>\n",
              "      <td>29</td>\n",
              "      <td>207.0</td>\n",
              "      <td>65.0</td>\n",
              "      <td>239.0</td>\n",
              "    </tr>\n",
              "    <tr>\n",
              "      <th>4</th>\n",
              "      <td>airplane_080.jpg</td>\n",
              "      <td>68</td>\n",
              "      <td>132.0</td>\n",
              "      <td>174.0</td>\n",
              "      <td>244.0</td>\n",
              "    </tr>\n",
              "    <tr>\n",
              "      <th>...</th>\n",
              "      <td>...</td>\n",
              "      <td>...</td>\n",
              "      <td>...</td>\n",
              "      <td>...</td>\n",
              "      <td>...</td>\n",
              "    </tr>\n",
              "    <tr>\n",
              "      <th>625</th>\n",
              "      <td>airplane_047.jpg</td>\n",
              "      <td>47</td>\n",
              "      <td>72.0</td>\n",
              "      <td>179.0</td>\n",
              "      <td>173.0</td>\n",
              "    </tr>\n",
              "    <tr>\n",
              "      <th>626</th>\n",
              "      <td>airplane_316.jpg</td>\n",
              "      <td>79</td>\n",
              "      <td>31.0</td>\n",
              "      <td>119.0</td>\n",
              "      <td>67.0</td>\n",
              "    </tr>\n",
              "    <tr>\n",
              "      <th>627</th>\n",
              "      <td>airplane_316.jpg</td>\n",
              "      <td>226</td>\n",
              "      <td>99.0</td>\n",
              "      <td>253.0</td>\n",
              "      <td>125.0</td>\n",
              "    </tr>\n",
              "    <tr>\n",
              "      <th>628</th>\n",
              "      <td>airplane_316.jpg</td>\n",
              "      <td>107</td>\n",
              "      <td>164.0</td>\n",
              "      <td>145.0</td>\n",
              "      <td>202.0</td>\n",
              "    </tr>\n",
              "    <tr>\n",
              "      <th>629</th>\n",
              "      <td>airplane_316.jpg</td>\n",
              "      <td>4</td>\n",
              "      <td>89.0</td>\n",
              "      <td>41.0</td>\n",
              "      <td>120.0</td>\n",
              "    </tr>\n",
              "  </tbody>\n",
              "</table>\n",
              "<p>630 rows × 5 columns</p>\n",
              "</div>"
            ],
            "text/plain": [
              "             filename  xmin   ymin   xmax   ymax\n",
              "0    airplane_337.jpg     4   26.0   41.0   63.0\n",
              "1    airplane_337.jpg    13   65.0   60.0   97.0\n",
              "2    airplane_337.jpg    24  108.0   62.0  141.0\n",
              "3    airplane_337.jpg    29  207.0   65.0  239.0\n",
              "4    airplane_080.jpg    68  132.0  174.0  244.0\n",
              "..                ...   ...    ...    ...    ...\n",
              "625  airplane_047.jpg    47   72.0  179.0  173.0\n",
              "626  airplane_316.jpg    79   31.0  119.0   67.0\n",
              "627  airplane_316.jpg   226   99.0  253.0  125.0\n",
              "628  airplane_316.jpg   107  164.0  145.0  202.0\n",
              "629  airplane_316.jpg     4   89.0   41.0  120.0\n",
              "\n",
              "[630 rows x 5 columns]"
            ]
          },
          "metadata": {
            "tags": []
          },
          "execution_count": 74
        }
      ]
    },
    {
      "cell_type": "code",
      "metadata": {
        "id": "8mxM7R8Li_tJ",
        "colab_type": "code",
        "colab": {
          "base_uri": "https://localhost:8080/",
          "height": 187
        },
        "outputId": "91001df9-4946-49d4-af15-cb8d54af5aff"
      },
      "source": [
        "# TFRecords are created\n",
        "!ls -lX /content/aeroplane_detection/data/"
      ],
      "execution_count": 75,
      "outputs": [
        {
          "output_type": "stream",
          "text": [
            "total 9216\n",
            "drwxr-xr-x 2 root root   32768 Jul 20 09:14 images\n",
            "drwxr-xr-x 7 root root    4096 Jul 20 09:22 models\n",
            "drwxr-xr-x 2 root root   12288 Jul 20 09:14 test_labels\n",
            "drwxr-xr-x 2 root root   32768 Jul 20 09:14 train_labels\n",
            "-rw-r--r-- 1 root root   19466 Jul 20 09:15 test_labels.csv\n",
            "-rw-r--r-- 1 root root   68751 Jul 20 09:15 train_labels.csv\n",
            "-rw-r--r-- 1 root root      71 Jul 20 09:14 label_map.pbtxt\n",
            "-rw-r--r-- 1 root root 2466674 Jul 20 09:26 test_labels.record\n",
            "-rw-r--r-- 1 root root 6789455 Jul 20 09:26 train_labels.record\n"
          ],
          "name": "stdout"
        }
      ]
    },
    {
      "cell_type": "code",
      "metadata": {
        "id": "LxJHPFfRjIVs",
        "colab_type": "code",
        "colab": {
          "base_uri": "https://localhost:8080/",
          "height": 34
        },
        "outputId": "b5d1d52e-b9c9-4542-ca0c-7d33eb537450"
      },
      "source": [
        "%cd /content/aeroplane_detection/models/research\n",
        "\n",
        "# Name of the object detection model to use.\n",
        "MODEL = MODELS_CONFIG[selected_model]['model_name']\n",
        "\n",
        "# Name of the pipline file in tensorflow object detection API.\n",
        "pipeline_file = MODELS_CONFIG[selected_model]['pipeline_file']\n",
        "\n",
        "#selecting the model\n",
        "MODEL_FILE = MODEL + '.tar.gz'\n",
        "\n",
        "#creating the downlaod link for the model selected\n",
        "DOWNLOAD_BASE = 'http://download.tensorflow.org/models/object_detection/'\n",
        "\n",
        "#the distination folder where the model will be saved\n",
        "fine_tune_dir = '/content/aeroplane_detection/models/research/pretrained_model'\n",
        "\n",
        "#checks if the model has already been downloaded\n",
        "if not (os.path.exists(MODEL_FILE)):\n",
        "    urllib.request.urlretrieve(DOWNLOAD_BASE + MODEL_FILE, MODEL_FILE)\n",
        "\n",
        "#unzipping the file and extracting its content\n",
        "tar = tarfile.open(MODEL_FILE)\n",
        "tar.extractall()\n",
        "tar.close()\n",
        "\n",
        "# creating an output file to save the model while training\n",
        "os.remove(MODEL_FILE)\n",
        "if (os.path.exists(fine_tune_dir)):\n",
        "    shutil.rmtree(fine_tune_dir)\n",
        "os.rename(MODEL, fine_tune_dir)\n"
      ],
      "execution_count": 77,
      "outputs": [
        {
          "output_type": "stream",
          "text": [
            "/content/aeroplane_detection/models/research\n"
          ],
          "name": "stdout"
        }
      ]
    },
    {
      "cell_type": "code",
      "metadata": {
        "id": "OcK9zfvrjUYV",
        "colab_type": "code",
        "colab": {
          "base_uri": "https://localhost:8080/",
          "height": 204
        },
        "outputId": "cf936f3d-95c8-4332-e2d0-b3064d9b3ce9"
      },
      "source": [
        "#checking the content of the pretrained model.\n",
        "# this is the directory of the \"fine_tune_checkpoint\" that is used in the config file.\n",
        "!echo {fine_tune_dir}\n",
        "!ls -alh {fine_tune_dir}"
      ],
      "execution_count": 78,
      "outputs": [
        {
          "output_type": "stream",
          "text": [
            "/content/aeroplane_detection/models/research/pretrained_model\n",
            "total 135M\n",
            "drwxr-xr-x  3 345018 89939 4.0K Mar 30  2018 .\n",
            "drwxr-xr-x 63 root   root  4.0K Jul 20 09:29 ..\n",
            "-rw-r--r--  1 345018 89939   77 Mar 30  2018 checkpoint\n",
            "-rw-r--r--  1 345018 89939  67M Mar 30  2018 frozen_inference_graph.pb\n",
            "-rw-r--r--  1 345018 89939  65M Mar 30  2018 model.ckpt.data-00000-of-00001\n",
            "-rw-r--r--  1 345018 89939  15K Mar 30  2018 model.ckpt.index\n",
            "-rw-r--r--  1 345018 89939 3.4M Mar 30  2018 model.ckpt.meta\n",
            "-rw-r--r--  1 345018 89939 4.2K Mar 30  2018 pipeline.config\n",
            "drwxr-xr-x  3 345018 89939 4.0K Mar 30  2018 saved_model\n"
          ],
          "name": "stdout"
        }
      ]
    },
    {
      "cell_type": "code",
      "metadata": {
        "id": "jJZfT79sjn5K",
        "colab_type": "code",
        "colab": {
          "base_uri": "https://localhost:8080/",
          "height": 35
        },
        "outputId": "cff375f8-9f39-46a7-c93e-6ac156b76404"
      },
      "source": [
        "#the path to the folder containing all the sample config files\n",
        "CONFIG_BASE = \"/content/aeroplane_detection/models/research/object_detection/samples/configs/\"\n",
        "\n",
        "#path to the specified model's config file\n",
        "model_pipline = os.path.join(CONFIG_BASE, pipeline_file)\n",
        "model_pipline"
      ],
      "execution_count": 79,
      "outputs": [
        {
          "output_type": "execute_result",
          "data": {
            "application/vnd.google.colaboratory.intrinsic": {
              "type": "string"
            },
            "text/plain": [
              "'/content/aeroplane_detection/models/research/object_detection/samples/configs/ssd_mobilenet_v2_coco.config'"
            ]
          },
          "metadata": {
            "tags": []
          },
          "execution_count": 79
        }
      ]
    },
    {
      "cell_type": "code",
      "metadata": {
        "id": "mVW2Ibg2jzSy",
        "colab_type": "code",
        "colab": {
          "base_uri": "https://localhost:8080/",
          "height": 1000
        },
        "outputId": "8b9bb197-3b55-423b-9a8c-3000c1a464d4"
      },
      "source": [
        "!cat /content/aeroplane_detection/models/research/object_detection/samples/configs/ssd_mobilenet_v2_coco.config"
      ],
      "execution_count": 80,
      "outputs": [
        {
          "output_type": "stream",
          "text": [
            "# SSD with Mobilenet v2 configuration for MSCOCO Dataset.\n",
            "# Users should configure the fine_tune_checkpoint field in the train config as\n",
            "# well as the label_map_path and input_path fields in the train_input_reader and\n",
            "# eval_input_reader. Search for \"PATH_TO_BE_CONFIGURED\" to find the fields that\n",
            "# should be configured.\n",
            "\n",
            "model {\n",
            "  ssd {\n",
            "    num_classes: 90\n",
            "    box_coder {\n",
            "      faster_rcnn_box_coder {\n",
            "        y_scale: 10.0\n",
            "        x_scale: 10.0\n",
            "        height_scale: 5.0\n",
            "        width_scale: 5.0\n",
            "      }\n",
            "    }\n",
            "    matcher {\n",
            "      argmax_matcher {\n",
            "        matched_threshold: 0.5\n",
            "        unmatched_threshold: 0.5\n",
            "        ignore_thresholds: false\n",
            "        negatives_lower_than_unmatched: true\n",
            "        force_match_for_each_row: true\n",
            "      }\n",
            "    }\n",
            "    similarity_calculator {\n",
            "      iou_similarity {\n",
            "      }\n",
            "    }\n",
            "    anchor_generator {\n",
            "      ssd_anchor_generator {\n",
            "        num_layers: 6\n",
            "        min_scale: 0.2\n",
            "        max_scale: 0.95\n",
            "        aspect_ratios: 1.0\n",
            "        aspect_ratios: 2.0\n",
            "        aspect_ratios: 0.5\n",
            "        aspect_ratios: 3.0\n",
            "        aspect_ratios: 0.3333\n",
            "      }\n",
            "    }\n",
            "    image_resizer {\n",
            "      fixed_shape_resizer {\n",
            "        height: 300\n",
            "        width: 300\n",
            "      }\n",
            "    }\n",
            "    box_predictor {\n",
            "      convolutional_box_predictor {\n",
            "        min_depth: 0\n",
            "        max_depth: 0\n",
            "        num_layers_before_predictor: 0\n",
            "        use_dropout: false\n",
            "        dropout_keep_probability: 0.8\n",
            "        kernel_size: 1\n",
            "        box_code_size: 4\n",
            "        apply_sigmoid_to_scores: false\n",
            "        conv_hyperparams {\n",
            "          activation: RELU_6,\n",
            "          regularizer {\n",
            "            l2_regularizer {\n",
            "              weight: 0.00004\n",
            "            }\n",
            "          }\n",
            "          initializer {\n",
            "            truncated_normal_initializer {\n",
            "              stddev: 0.03\n",
            "              mean: 0.0\n",
            "            }\n",
            "          }\n",
            "          batch_norm {\n",
            "            train: true,\n",
            "            scale: true,\n",
            "            center: true,\n",
            "            decay: 0.9997,\n",
            "            epsilon: 0.001,\n",
            "          }\n",
            "        }\n",
            "      }\n",
            "    }\n",
            "    feature_extractor {\n",
            "      type: 'ssd_mobilenet_v2'\n",
            "      min_depth: 16\n",
            "      depth_multiplier: 1.0\n",
            "      conv_hyperparams {\n",
            "        activation: RELU_6,\n",
            "        regularizer {\n",
            "          l2_regularizer {\n",
            "            weight: 0.00004\n",
            "          }\n",
            "        }\n",
            "        initializer {\n",
            "          truncated_normal_initializer {\n",
            "            stddev: 0.03\n",
            "            mean: 0.0\n",
            "          }\n",
            "        }\n",
            "        batch_norm {\n",
            "          train: true,\n",
            "          scale: true,\n",
            "          center: true,\n",
            "          decay: 0.9997,\n",
            "          epsilon: 0.001,\n",
            "        }\n",
            "      }\n",
            "    }\n",
            "    loss {\n",
            "      classification_loss {\n",
            "        weighted_sigmoid {\n",
            "        }\n",
            "      }\n",
            "      localization_loss {\n",
            "        weighted_smooth_l1 {\n",
            "        }\n",
            "      }\n",
            "      hard_example_miner {\n",
            "        num_hard_examples: 3000\n",
            "        iou_threshold: 0.99\n",
            "        loss_type: CLASSIFICATION\n",
            "        max_negatives_per_positive: 3\n",
            "        min_negatives_per_image: 3\n",
            "      }\n",
            "      classification_weight: 1.0\n",
            "      localization_weight: 1.0\n",
            "    }\n",
            "    normalize_loss_by_num_matches: true\n",
            "    post_processing {\n",
            "      batch_non_max_suppression {\n",
            "        score_threshold: 1e-8\n",
            "        iou_threshold: 0.6\n",
            "        max_detections_per_class: 100\n",
            "        max_total_detections: 100\n",
            "      }\n",
            "      score_converter: SIGMOID\n",
            "    }\n",
            "  }\n",
            "}\n",
            "\n",
            "train_config: {\n",
            "  batch_size: 24\n",
            "  optimizer {\n",
            "    rms_prop_optimizer: {\n",
            "      learning_rate: {\n",
            "        exponential_decay_learning_rate {\n",
            "          initial_learning_rate: 0.004\n",
            "          decay_steps: 800720\n",
            "          decay_factor: 0.95\n",
            "        }\n",
            "      }\n",
            "      momentum_optimizer_value: 0.9\n",
            "      decay: 0.9\n",
            "      epsilon: 1.0\n",
            "    }\n",
            "  }\n",
            "  fine_tune_checkpoint: \"PATH_TO_BE_CONFIGURED/model.ckpt\"\n",
            "  fine_tune_checkpoint_type:  \"detection\"\n",
            "  # Note: The below line limits the training process to 200K steps, which we\n",
            "  # empirically found to be sufficient enough to train the pets dataset. This\n",
            "  # effectively bypasses the learning rate schedule (the learning rate will\n",
            "  # never decay). Remove the below line to train indefinitely.\n",
            "  num_steps: 200000\n",
            "  data_augmentation_options {\n",
            "    random_horizontal_flip {\n",
            "    }\n",
            "  }\n",
            "  data_augmentation_options {\n",
            "    ssd_random_crop {\n",
            "    }\n",
            "  }\n",
            "}\n",
            "\n",
            "train_input_reader: {\n",
            "  tf_record_input_reader {\n",
            "    input_path: \"PATH_TO_BE_CONFIGURED/mscoco_train.record-?????-of-00100\"\n",
            "  }\n",
            "  label_map_path: \"PATH_TO_BE_CONFIGURED/mscoco_label_map.pbtxt\"\n",
            "}\n",
            "\n",
            "eval_config: {\n",
            "  num_examples: 8000\n",
            "  # Note: The below line limits the evaluation process to 10 evaluations.\n",
            "  # Remove the below line to evaluate indefinitely.\n",
            "  max_evals: 10\n",
            "}\n",
            "\n",
            "eval_input_reader: {\n",
            "  tf_record_input_reader {\n",
            "    input_path: \"PATH_TO_BE_CONFIGURED/mscoco_val.record-?????-of-00010\"\n",
            "  }\n",
            "  label_map_path: \"PATH_TO_BE_CONFIGURED/mscoco_label_map.pbtxt\"\n",
            "  shuffle: false\n",
            "  num_readers: 1\n",
            "}"
          ],
          "name": "stdout"
        }
      ]
    },
    {
      "cell_type": "code",
      "metadata": {
        "id": "elr554a3j6LT",
        "colab_type": "code",
        "colab": {
          "base_uri": "https://localhost:8080/",
          "height": 35
        },
        "outputId": "9ff718a4-286c-4987-d3c8-5e4516b975af"
      },
      "source": [
        "model_pipline"
      ],
      "execution_count": 81,
      "outputs": [
        {
          "output_type": "execute_result",
          "data": {
            "application/vnd.google.colaboratory.intrinsic": {
              "type": "string"
            },
            "text/plain": [
              "'/content/aeroplane_detection/models/research/object_detection/samples/configs/ssd_mobilenet_v2_coco.config'"
            ]
          },
          "metadata": {
            "tags": []
          },
          "execution_count": 81
        }
      ]
    },
    {
      "cell_type": "code",
      "metadata": {
        "id": "tojY9ZDNj-op",
        "colab_type": "code",
        "colab": {
          "base_uri": "https://localhost:8080/",
          "height": 34
        },
        "outputId": "ae6d62e7-c299-4e6f-e16e-7ef2156830c1"
      },
      "source": [
        "#editing the configuration file to add the path for the TFRecords files, pbtxt,batch_size,num_steps,num_classes.\n",
        "# any image augmentation, hyperparemeter tunning (drop out, batch normalization... etc) would be editted here\n",
        "\n",
        "%%writefile {model_pipline}\n",
        "model {\n",
        "  ssd {\n",
        "    num_classes: 1 # number of classes to be detected\n",
        "    box_coder {\n",
        "      faster_rcnn_box_coder {\n",
        "        y_scale: 10.0\n",
        "        x_scale: 10.0\n",
        "        height_scale: 5.0\n",
        "        width_scale: 5.0\n",
        "      }\n",
        "    }\n",
        "    matcher {\n",
        "      argmax_matcher {\n",
        "        matched_threshold: 0.5\n",
        "        unmatched_threshold: 0.5\n",
        "        ignore_thresholds: false\n",
        "        negatives_lower_than_unmatched: true\n",
        "        force_match_for_each_row: true\n",
        "      }\n",
        "    }\n",
        "    similarity_calculator {\n",
        "      iou_similarity {\n",
        "      }\n",
        "    }\n",
        "    anchor_generator {\n",
        "      ssd_anchor_generator {\n",
        "        num_layers: 6\n",
        "        min_scale: 0.2\n",
        "        max_scale: 0.95\n",
        "        aspect_ratios: 1.0\n",
        "        aspect_ratios: 2.0\n",
        "        aspect_ratios: 0.5\n",
        "        aspect_ratios: 3.0\n",
        "        aspect_ratios: 0.3333\n",
        "      }\n",
        "    }\n",
        "    # all images will be resized to the below W x H.\n",
        "    image_resizer { \n",
        "      fixed_shape_resizer {\n",
        "        height: 300\n",
        "        width: 300\n",
        "      }\n",
        "    }\n",
        "    box_predictor {\n",
        "      convolutional_box_predictor {\n",
        "        min_depth: 0\n",
        "        max_depth: 0\n",
        "        num_layers_before_predictor: 0\n",
        "        #use_dropout: false\n",
        "        use_dropout: true # to counter over fitting. you can also try tweaking its probability below\n",
        "        dropout_keep_probability: 0.8\n",
        "        kernel_size: 1\n",
        "        box_code_size: 4\n",
        "        apply_sigmoid_to_scores: false\n",
        "        conv_hyperparams {\n",
        "          activation: RELU_6,\n",
        "          regularizer {\n",
        "            l2_regularizer {\n",
        "            # weight: 0.00004\n",
        "            weight: 0.001 # higher regularizition to counter overfitting\n",
        "          }\n",
        "          }\n",
        "          initializer {\n",
        "            truncated_normal_initializer {\n",
        "              stddev: 0.03\n",
        "              mean: 0.0\n",
        "            }\n",
        "          }\n",
        "          batch_norm {\n",
        "            train: true,\n",
        "            scale: true,\n",
        "            center: true,\n",
        "            decay: 0.9997,\n",
        "            epsilon: 0.001,\n",
        "          }\n",
        "        }\n",
        "      }\n",
        "    }\n",
        "    feature_extractor {\n",
        "      type: 'ssd_mobilenet_v2'\n",
        "      min_depth: 16\n",
        "      depth_multiplier: 1.0\n",
        "      conv_hyperparams {\n",
        "        activation: RELU_6,\n",
        "        regularizer {\n",
        "          l2_regularizer {\n",
        "            # weight: 0.00004\n",
        "            weight: 0.001 # higher regularizition to counter overfitting\n",
        "          }\n",
        "        }\n",
        "        initializer {\n",
        "          truncated_normal_initializer {\n",
        "            stddev: 0.03\n",
        "            mean: 0.0\n",
        "          }\n",
        "        }\n",
        "        batch_norm {\n",
        "          train: true,\n",
        "          scale: true,\n",
        "          center: true,\n",
        "          decay: 0.9997,\n",
        "          epsilon: 0.001,\n",
        "        }\n",
        "      }\n",
        "    }\n",
        "    loss {\n",
        "      classification_loss {\n",
        "        weighted_sigmoid {\n",
        "        }\n",
        "      }\n",
        "      localization_loss {\n",
        "        weighted_smooth_l1 {\n",
        "        }\n",
        "      }\n",
        "      hard_example_miner {\n",
        "        num_hard_examples: 3000 \n",
        "        iou_threshold: 0.95\n",
        "        loss_type: CLASSIFICATION\n",
        "        max_negatives_per_positive: 3\n",
        "        min_negatives_per_image: 3\n",
        "      }\n",
        "      classification_weight: 1.0\n",
        "      localization_weight: 1.0\n",
        "    }\n",
        "    normalize_loss_by_num_matches: true\n",
        "    post_processing {\n",
        "      batch_non_max_suppression {\n",
        "        score_threshold: 1e-8\n",
        "        iou_threshold: 0.6\n",
        "        \n",
        "        #adjust this to the max number of objects per class. \n",
        "        # ex, in my case, i have one pistol in most of the images.\n",
        "        # . there are some images with more than one up to 16.\n",
        "        max_detections_per_class: 16\n",
        "        # max number of detections among all classes. I have 1 class only so\n",
        "        max_total_detections: 16\n",
        "      }\n",
        "      score_converter: SIGMOID\n",
        "    }\n",
        "  }\n",
        "}\n",
        "\n",
        "train_config: {\n",
        "  batch_size: 16 # training batch size\n",
        "  optimizer {\n",
        "    rms_prop_optimizer: {\n",
        "      learning_rate: {\n",
        "        exponential_decay_learning_rate {\n",
        "          initial_learning_rate: 0.003\n",
        "          decay_steps: 800720\n",
        "          decay_factor: 0.95\n",
        "        }\n",
        "      }\n",
        "      momentum_optimizer_value: 0.9\n",
        "      decay: 0.9\n",
        "      epsilon: 1.0\n",
        "    }\n",
        "  }\n",
        "\n",
        "  #the path to the pretrained model. \n",
        "  fine_tune_checkpoint: \"/content/aeroplane_detection/models/research/pretrained_model/model.ckpt\"\n",
        "  fine_tune_checkpoint_type:  \"detection\"\n",
        "  # Note: The below line limits the training process to 200K steps, which we\n",
        "  # empirically found to be sufficient enough to train the pets dataset. This\n",
        "  # effectively bypasses the learning rate schedule (the learning rate will\n",
        "  # never decay). Remove the below line to train indefinitely.\n",
        "  num_steps: 1000\n",
        "  \n",
        "\n",
        "  #data augmentaion is done here, you can remove or add more.\n",
        "  # They will help the model generalize but the training time will increase greatly by using more data augmentation.\n",
        "  # Check this link to add more image augmentation: https://github.com/tensorflow/models/blob/master/research/object_detection/protos/preprocessor.proto\n",
        "  \n",
        "  data_augmentation_options {\n",
        "    random_horizontal_flip {\n",
        "    }\n",
        "  }\n",
        "  data_augmentation_options {\n",
        "    random_adjust_contrast {\n",
        "    }\n",
        "  }\n",
        "  data_augmentation_options {\n",
        "    ssd_random_crop {\n",
        "    }\n",
        "  }\n",
        "}\n",
        "\n",
        "train_input_reader: {\n",
        "  tf_record_input_reader {\n",
        "    #path to the training TFRecord\n",
        "    input_path: \"/content/aeroplane_detection/data/train_labels.record\"\n",
        "  }\n",
        "  #path to the label map \n",
        "  label_map_path: \"/content/aeroplane_detection/data/label_map.pbtxt\"\n",
        "}\n",
        "\n",
        "eval_config: {\n",
        "  # the number of images in your \"testing\" data (was 600 but we removed one above :) )\n",
        "  num_examples: 599\n",
        "  # the number of images to disply in Tensorboard while training\n",
        "  num_visualizations: 20\n",
        "\n",
        "  # Note: The below line limits the evaluation process to 10 evaluations.\n",
        "  # Remove the below line to evaluate indefinitely.\n",
        "  #max_evals: 10\n",
        "}\n",
        "\n",
        "eval_input_reader: {\n",
        "  tf_record_input_reader {\n",
        "      \n",
        "    #path to the testing TFRecord\n",
        "    input_path: \"/content/aeroplane_detection/data/test_labels.record\"\n",
        "  }\n",
        "  #path to the label map \n",
        "  label_map_path: \"/aeroplane/handgun_detection/data/label_map.pbtxt\"\n",
        "  shuffle: false\n",
        "  num_readers: 1\n",
        "}"
      ],
      "execution_count": 82,
      "outputs": [
        {
          "output_type": "stream",
          "text": [
            "Overwriting /content/aeroplane_detection/models/research/object_detection/samples/configs/ssd_mobilenet_v2_coco.config\n"
          ],
          "name": "stdout"
        }
      ]
    },
    {
      "cell_type": "code",
      "metadata": {
        "id": "GxRalDMkkber",
        "colab_type": "code",
        "colab": {
          "base_uri": "https://localhost:8080/",
          "height": 35
        },
        "outputId": "4ff33c54-c0dd-4e13-cdd7-41a095090b09"
      },
      "source": [
        "# where the model will be saved at each checkpoint while training \n",
        "model_dir = 'training/'\n",
        "\n",
        "# Optionally: remove content in output model directory to fresh start.\n",
        "!rm -rf {model_dir}\n",
        "os.makedirs(model_dir, exist_ok=True)\n",
        "model_dir"
      ],
      "execution_count": 83,
      "outputs": [
        {
          "output_type": "execute_result",
          "data": {
            "application/vnd.google.colaboratory.intrinsic": {
              "type": "string"
            },
            "text/plain": [
              "'training/'"
            ]
          },
          "metadata": {
            "tags": []
          },
          "execution_count": 83
        }
      ]
    },
    {
      "cell_type": "code",
      "metadata": {
        "id": "riNBfzLjkfif",
        "colab_type": "code",
        "colab": {
          "base_uri": "https://localhost:8080/",
          "height": 238
        },
        "outputId": "2c3819a9-a92b-4d5c-ff2a-8acc3c7335ad"
      },
      "source": [
        "#downlaoding ngrok to be able to access tensorboard on google colab\n",
        "!wget https://bin.equinox.io/c/4VmDzA7iaHb/ngrok-stable-linux-amd64.zip\n",
        "!unzip -o ngrok-stable-linux-amd64.zip"
      ],
      "execution_count": 84,
      "outputs": [
        {
          "output_type": "stream",
          "text": [
            "--2020-07-20 09:34:11--  https://bin.equinox.io/c/4VmDzA7iaHb/ngrok-stable-linux-amd64.zip\n",
            "Resolving bin.equinox.io (bin.equinox.io)... 34.234.58.229, 100.24.239.43, 18.208.90.15, ...\n",
            "Connecting to bin.equinox.io (bin.equinox.io)|34.234.58.229|:443... connected.\n",
            "HTTP request sent, awaiting response... 200 OK\n",
            "Length: 13773305 (13M) [application/octet-stream]\n",
            "Saving to: ‘ngrok-stable-linux-amd64.zip’\n",
            "\n",
            "ngrok-stable-linux- 100%[===================>]  13.13M  12.1MB/s    in 1.1s    \n",
            "\n",
            "2020-07-20 09:34:13 (12.1 MB/s) - ‘ngrok-stable-linux-amd64.zip’ saved [13773305/13773305]\n",
            "\n",
            "Archive:  ngrok-stable-linux-amd64.zip\n",
            "  inflating: ngrok                   \n"
          ],
          "name": "stdout"
        }
      ]
    },
    {
      "cell_type": "code",
      "metadata": {
        "id": "P0IKfvGRksya",
        "colab_type": "code",
        "colab": {}
      },
      "source": [
        "#the logs that are created while training \n",
        "LOG_DIR = model_dir\n",
        "get_ipython().system_raw(\n",
        "    'tensorboard --logdir {} --host 0.0.0.0 --port 6006 &'\n",
        "    .format(LOG_DIR)\n",
        ")\n",
        "get_ipython().system_raw('./ngrok http 6006 &')"
      ],
      "execution_count": 85,
      "outputs": []
    },
    {
      "cell_type": "code",
      "metadata": {
        "id": "4GxmCOtkkx7b",
        "colab_type": "code",
        "colab": {
          "base_uri": "https://localhost:8080/",
          "height": 34
        },
        "outputId": "db5761ee-d8c2-440e-c241-0df11a02717e"
      },
      "source": [
        "#The link to tensorboard.\n",
        "#works after the training starts.\n",
        "\n",
        "### note: if you didnt get a link as output, rerun this cell and the one above\n",
        "!curl -s http://localhost:4040/api/tunnels | python3 -c \\\n",
        "    \"import sys, json; print(json.load(sys.stdin)['tunnels'][0]['public_url'])\""
      ],
      "execution_count": 86,
      "outputs": [
        {
          "output_type": "stream",
          "text": [
            "https://a5e7d76eb60c.ngrok.io\n"
          ],
          "name": "stdout"
        }
      ]
    },
    {
      "cell_type": "code",
      "metadata": {
        "id": "5dYrHBZGk37x",
        "colab_type": "code",
        "colab": {
          "base_uri": "https://localhost:8080/",
          "height": 35
        },
        "outputId": "a7079c4f-69ec-4c8d-d961-2e5170330e9d"
      },
      "source": [
        "model_pipline"
      ],
      "execution_count": 87,
      "outputs": [
        {
          "output_type": "execute_result",
          "data": {
            "application/vnd.google.colaboratory.intrinsic": {
              "type": "string"
            },
            "text/plain": [
              "'/content/aeroplane_detection/models/research/object_detection/samples/configs/ssd_mobilenet_v2_coco.config'"
            ]
          },
          "metadata": {
            "tags": []
          },
          "execution_count": 87
        }
      ]
    },
    {
      "cell_type": "code",
      "metadata": {
        "id": "2APkONpClLhD",
        "colab_type": "code",
        "colab": {
          "base_uri": "https://localhost:8080/",
          "height": 35
        },
        "outputId": "3ca6a280-2a94-47ca-c1ea-a62375ed1064"
      },
      "source": [
        "model_dir"
      ],
      "execution_count": 88,
      "outputs": [
        {
          "output_type": "execute_result",
          "data": {
            "application/vnd.google.colaboratory.intrinsic": {
              "type": "string"
            },
            "text/plain": [
              "'training/'"
            ]
          },
          "metadata": {
            "tags": []
          },
          "execution_count": 88
        }
      ]
    },
    {
      "cell_type": "code",
      "metadata": {
        "id": "Q2XTxnaYlm6E",
        "colab_type": "code",
        "colab": {
          "base_uri": "https://localhost:8080/",
          "height": 1000
        },
        "outputId": "2f1fadfd-c813-4c3e-fce7-694696a0f123"
      },
      "source": [
        "\n",
        "!python3 /content/aeroplane_detection/models/research/object_detection/model_main.py \\\n",
        "    --pipeline_config_path={model_pipline}\\\n",
        "    --model_dir={model_dir} \\\n",
        "    --alsologtostderr \\"
      ],
      "execution_count": 89,
      "outputs": [
        {
          "output_type": "stream",
          "text": [
            "WARNING:tensorflow:Forced number of epochs for all eval validations to be 1.\n",
            "W0720 09:39:05.909368 140432927119232 model_lib.py:758] Forced number of epochs for all eval validations to be 1.\n",
            "INFO:tensorflow:Maybe overwriting train_steps: None\n",
            "I0720 09:39:05.909639 140432927119232 config_util.py:552] Maybe overwriting train_steps: None\n",
            "INFO:tensorflow:Maybe overwriting use_bfloat16: False\n",
            "I0720 09:39:05.909775 140432927119232 config_util.py:552] Maybe overwriting use_bfloat16: False\n",
            "INFO:tensorflow:Maybe overwriting sample_1_of_n_eval_examples: 1\n",
            "I0720 09:39:05.909911 140432927119232 config_util.py:552] Maybe overwriting sample_1_of_n_eval_examples: 1\n",
            "INFO:tensorflow:Maybe overwriting eval_num_epochs: 1\n",
            "I0720 09:39:05.910044 140432927119232 config_util.py:552] Maybe overwriting eval_num_epochs: 1\n",
            "WARNING:tensorflow:Expected number of evaluation epochs is 1, but instead encountered `eval_on_train_input_config.num_epochs` = 0. Overwriting `num_epochs` to 1.\n",
            "W0720 09:39:05.910282 140432927119232 model_lib.py:774] Expected number of evaluation epochs is 1, but instead encountered `eval_on_train_input_config.num_epochs` = 0. Overwriting `num_epochs` to 1.\n",
            "INFO:tensorflow:create_estimator_and_inputs: use_tpu False, export_to_tpu None\n",
            "I0720 09:39:05.910425 140432927119232 model_lib.py:809] create_estimator_and_inputs: use_tpu False, export_to_tpu None\n",
            "INFO:tensorflow:Using config: {'_model_dir': 'training/', '_tf_random_seed': None, '_save_summary_steps': 100, '_save_checkpoints_steps': None, '_save_checkpoints_secs': 600, '_session_config': allow_soft_placement: true\n",
            "graph_options {\n",
            "  rewrite_options {\n",
            "    meta_optimizer_iterations: ONE\n",
            "  }\n",
            "}\n",
            ", '_keep_checkpoint_max': 5, '_keep_checkpoint_every_n_hours': 10000, '_log_step_count_steps': 100, '_train_distribute': None, '_device_fn': None, '_protocol': None, '_eval_distribute': None, '_experimental_distribute': None, '_experimental_max_worker_delay_secs': None, '_session_creation_timeout_secs': 7200, '_service': None, '_cluster_spec': <tensorflow.python.training.server_lib.ClusterSpec object at 0x7fb8adb17358>, '_task_type': 'worker', '_task_id': 0, '_global_id_in_cluster': 0, '_master': '', '_evaluation_master': '', '_is_chief': True, '_num_ps_replicas': 0, '_num_worker_replicas': 1}\n",
            "I0720 09:39:05.910902 140432927119232 estimator.py:212] Using config: {'_model_dir': 'training/', '_tf_random_seed': None, '_save_summary_steps': 100, '_save_checkpoints_steps': None, '_save_checkpoints_secs': 600, '_session_config': allow_soft_placement: true\n",
            "graph_options {\n",
            "  rewrite_options {\n",
            "    meta_optimizer_iterations: ONE\n",
            "  }\n",
            "}\n",
            ", '_keep_checkpoint_max': 5, '_keep_checkpoint_every_n_hours': 10000, '_log_step_count_steps': 100, '_train_distribute': None, '_device_fn': None, '_protocol': None, '_eval_distribute': None, '_experimental_distribute': None, '_experimental_max_worker_delay_secs': None, '_session_creation_timeout_secs': 7200, '_service': None, '_cluster_spec': <tensorflow.python.training.server_lib.ClusterSpec object at 0x7fb8adb17358>, '_task_type': 'worker', '_task_id': 0, '_global_id_in_cluster': 0, '_master': '', '_evaluation_master': '', '_is_chief': True, '_num_ps_replicas': 0, '_num_worker_replicas': 1}\n",
            "WARNING:tensorflow:Estimator's model_fn (<function create_model_fn.<locals>.model_fn at 0x7fb8adb22158>) includes params argument, but params are not passed to Estimator.\n",
            "W0720 09:39:05.911704 140432927119232 model_fn.py:630] Estimator's model_fn (<function create_model_fn.<locals>.model_fn at 0x7fb8adb22158>) includes params argument, but params are not passed to Estimator.\n",
            "INFO:tensorflow:Not using Distribute Coordinator.\n",
            "I0720 09:39:05.912482 140432927119232 estimator_training.py:186] Not using Distribute Coordinator.\n",
            "INFO:tensorflow:Running training and evaluation locally (non-distributed).\n",
            "I0720 09:39:05.912726 140432927119232 training.py:612] Running training and evaluation locally (non-distributed).\n",
            "INFO:tensorflow:Start train and evaluate loop. The evaluate will happen after every checkpoint. Checkpoint frequency is determined based on RunConfig arguments: save_checkpoints_steps None or save_checkpoints_secs 600.\n",
            "I0720 09:39:05.913020 140432927119232 training.py:700] Start train and evaluate loop. The evaluate will happen after every checkpoint. Checkpoint frequency is determined based on RunConfig arguments: save_checkpoints_steps None or save_checkpoints_secs 600.\n",
            "WARNING:tensorflow:From /tensorflow-1.15.2/python3.6/tensorflow_core/python/training/training_util.py:236: Variable.initialized_value (from tensorflow.python.ops.variables) is deprecated and will be removed in a future version.\n",
            "Instructions for updating:\n",
            "Use Variable.read_value. Variables in 2.X are initialized automatically both in eager and graph (inside tf.defun) contexts.\n",
            "W0720 09:39:05.933671 140432927119232 deprecation.py:323] From /tensorflow-1.15.2/python3.6/tensorflow_core/python/training/training_util.py:236: Variable.initialized_value (from tensorflow.python.ops.variables) is deprecated and will be removed in a future version.\n",
            "Instructions for updating:\n",
            "Use Variable.read_value. Variables in 2.X are initialized automatically both in eager and graph (inside tf.defun) contexts.\n",
            "WARNING:tensorflow:num_readers has been reduced to 1 to match input file shards.\n",
            "W0720 09:39:05.971042 140432927119232 dataset_builder.py:83] num_readers has been reduced to 1 to match input file shards.\n",
            "WARNING:tensorflow:From /content/aeroplane_detection/models/research/object_detection/builders/dataset_builder.py:100: parallel_interleave (from tensorflow.python.data.experimental.ops.interleave_ops) is deprecated and will be removed in a future version.\n",
            "Instructions for updating:\n",
            "Use `tf.data.Dataset.interleave(map_func, cycle_length, block_length, num_parallel_calls=tf.data.experimental.AUTOTUNE)` instead. If sloppy execution is desired, use `tf.data.Options.experimental_determinstic`.\n",
            "W0720 09:39:05.977236 140432927119232 deprecation.py:323] From /content/aeroplane_detection/models/research/object_detection/builders/dataset_builder.py:100: parallel_interleave (from tensorflow.python.data.experimental.ops.interleave_ops) is deprecated and will be removed in a future version.\n",
            "Instructions for updating:\n",
            "Use `tf.data.Dataset.interleave(map_func, cycle_length, block_length, num_parallel_calls=tf.data.experimental.AUTOTUNE)` instead. If sloppy execution is desired, use `tf.data.Options.experimental_determinstic`.\n",
            "WARNING:tensorflow:From /content/aeroplane_detection/models/research/object_detection/builders/dataset_builder.py:175: DatasetV1.map_with_legacy_function (from tensorflow.python.data.ops.dataset_ops) is deprecated and will be removed in a future version.\n",
            "Instructions for updating:\n",
            "Use `tf.data.Dataset.map()\n",
            "W0720 09:39:06.000108 140432927119232 deprecation.py:323] From /content/aeroplane_detection/models/research/object_detection/builders/dataset_builder.py:175: DatasetV1.map_with_legacy_function (from tensorflow.python.data.ops.dataset_ops) is deprecated and will be removed in a future version.\n",
            "Instructions for updating:\n",
            "Use `tf.data.Dataset.map()\n",
            "WARNING:tensorflow:Entity <bound method TfExampleDecoder.decode of <object_detection.data_decoders.tf_example_decoder.TfExampleDecoder object at 0x7fb8adb17da0>> could not be transformed and will be executed as-is. Please report this to the AutoGraph team. When filing the bug, set the verbosity to 10 (on Linux, `export AUTOGRAPH_VERBOSITY=10`) and attach the full output. Cause: module 'gast' has no attribute 'Num'\n",
            "W0720 09:39:06.037925 140432927119232 ag_logging.py:146] Entity <bound method TfExampleDecoder.decode of <object_detection.data_decoders.tf_example_decoder.TfExampleDecoder object at 0x7fb8adb17da0>> could not be transformed and will be executed as-is. Please report this to the AutoGraph team. When filing the bug, set the verbosity to 10 (on Linux, `export AUTOGRAPH_VERBOSITY=10`) and attach the full output. Cause: module 'gast' has no attribute 'Num'\n",
            "WARNING:tensorflow:Entity <function train_input.<locals>.transform_and_pad_input_data_fn at 0x7fb8d3c68268> could not be transformed and will be executed as-is. Please report this to the AutoGraph team. When filing the bug, set the verbosity to 10 (on Linux, `export AUTOGRAPH_VERBOSITY=10`) and attach the full output. Cause: Bad argument number for Name: 3, expecting 4\n",
            "W0720 09:39:06.284190 140432927119232 ag_logging.py:146] Entity <function train_input.<locals>.transform_and_pad_input_data_fn at 0x7fb8d3c68268> could not be transformed and will be executed as-is. Please report this to the AutoGraph team. When filing the bug, set the verbosity to 10 (on Linux, `export AUTOGRAPH_VERBOSITY=10`) and attach the full output. Cause: Bad argument number for Name: 3, expecting 4\n",
            "WARNING:tensorflow:From /content/aeroplane_detection/models/research/object_detection/inputs.py:80: sparse_to_dense (from tensorflow.python.ops.sparse_ops) is deprecated and will be removed in a future version.\n",
            "Instructions for updating:\n",
            "Create a `tf.sparse.SparseTensor` and use `tf.sparse.to_dense` instead.\n",
            "W0720 09:39:06.291542 140432927119232 deprecation.py:323] From /content/aeroplane_detection/models/research/object_detection/inputs.py:80: sparse_to_dense (from tensorflow.python.ops.sparse_ops) is deprecated and will be removed in a future version.\n",
            "Instructions for updating:\n",
            "Create a `tf.sparse.SparseTensor` and use `tf.sparse.to_dense` instead.\n",
            "WARNING:tensorflow:From /content/aeroplane_detection/models/research/object_detection/utils/ops.py:493: where (from tensorflow.python.ops.array_ops) is deprecated and will be removed in a future version.\n",
            "Instructions for updating:\n",
            "Use tf.where in 2.0, which has the same broadcast rule as np.where\n",
            "W0720 09:39:06.300324 140432927119232 deprecation.py:323] From /content/aeroplane_detection/models/research/object_detection/utils/ops.py:493: where (from tensorflow.python.ops.array_ops) is deprecated and will be removed in a future version.\n",
            "Instructions for updating:\n",
            "Use tf.where in 2.0, which has the same broadcast rule as np.where\n",
            "WARNING:tensorflow:From /content/aeroplane_detection/models/research/object_detection/core/preprocessor.py:199: sample_distorted_bounding_box (from tensorflow.python.ops.image_ops_impl) is deprecated and will be removed in a future version.\n",
            "Instructions for updating:\n",
            "`seed2` arg is deprecated.Use sample_distorted_bounding_box_v2 instead.\n",
            "W0720 09:39:06.434318 140432927119232 deprecation.py:323] From /content/aeroplane_detection/models/research/object_detection/core/preprocessor.py:199: sample_distorted_bounding_box (from tensorflow.python.ops.image_ops_impl) is deprecated and will be removed in a future version.\n",
            "Instructions for updating:\n",
            "`seed2` arg is deprecated.Use sample_distorted_bounding_box_v2 instead.\n",
            "WARNING:tensorflow:From /content/aeroplane_detection/models/research/object_detection/inputs.py:261: to_float (from tensorflow.python.ops.math_ops) is deprecated and will be removed in a future version.\n",
            "Instructions for updating:\n",
            "Use `tf.cast` instead.\n",
            "W0720 09:39:07.474867 140432927119232 deprecation.py:323] From /content/aeroplane_detection/models/research/object_detection/inputs.py:261: to_float (from tensorflow.python.ops.math_ops) is deprecated and will be removed in a future version.\n",
            "Instructions for updating:\n",
            "Use `tf.cast` instead.\n",
            "INFO:tensorflow:Calling model_fn.\n",
            "I0720 09:39:08.072955 140432927119232 estimator.py:1148] Calling model_fn.\n",
            "WARNING:tensorflow:From /usr/local/lib/python3.6/dist-packages/tf_slim/layers/layers.py:1089: Layer.apply (from tensorflow.python.keras.engine.base_layer) is deprecated and will be removed in a future version.\n",
            "Instructions for updating:\n",
            "Please use `layer.__call__` method instead.\n",
            "W0720 09:39:08.394935 140432927119232 deprecation.py:323] From /usr/local/lib/python3.6/dist-packages/tf_slim/layers/layers.py:1089: Layer.apply (from tensorflow.python.keras.engine.base_layer) is deprecated and will be removed in a future version.\n",
            "Instructions for updating:\n",
            "Please use `layer.__call__` method instead.\n",
            "INFO:tensorflow:depth of additional conv before box predictor: 0\n",
            "I0720 09:39:11.722605 140432927119232 convolutional_box_predictor.py:156] depth of additional conv before box predictor: 0\n",
            "INFO:tensorflow:depth of additional conv before box predictor: 0\n",
            "I0720 09:39:11.770664 140432927119232 convolutional_box_predictor.py:156] depth of additional conv before box predictor: 0\n",
            "INFO:tensorflow:depth of additional conv before box predictor: 0\n",
            "I0720 09:39:11.827342 140432927119232 convolutional_box_predictor.py:156] depth of additional conv before box predictor: 0\n",
            "INFO:tensorflow:depth of additional conv before box predictor: 0\n",
            "I0720 09:39:11.875066 140432927119232 convolutional_box_predictor.py:156] depth of additional conv before box predictor: 0\n",
            "INFO:tensorflow:depth of additional conv before box predictor: 0\n",
            "I0720 09:39:11.921913 140432927119232 convolutional_box_predictor.py:156] depth of additional conv before box predictor: 0\n",
            "INFO:tensorflow:depth of additional conv before box predictor: 0\n",
            "I0720 09:39:11.970049 140432927119232 convolutional_box_predictor.py:156] depth of additional conv before box predictor: 0\n",
            "WARNING:tensorflow:From /tensorflow-1.15.2/python3.6/tensorflow_core/python/training/rmsprop.py:119: calling Ones.__init__ (from tensorflow.python.ops.init_ops) with dtype is deprecated and will be removed in a future version.\n",
            "Instructions for updating:\n",
            "Call initializer instance with the dtype argument instead of passing it to the constructor\n",
            "W0720 09:39:18.140847 140432927119232 deprecation.py:506] From /tensorflow-1.15.2/python3.6/tensorflow_core/python/training/rmsprop.py:119: calling Ones.__init__ (from tensorflow.python.ops.init_ops) with dtype is deprecated and will be removed in a future version.\n",
            "Instructions for updating:\n",
            "Call initializer instance with the dtype argument instead of passing it to the constructor\n",
            "INFO:tensorflow:Done calling model_fn.\n",
            "I0720 09:39:25.864145 140432927119232 estimator.py:1150] Done calling model_fn.\n",
            "INFO:tensorflow:Create CheckpointSaverHook.\n",
            "I0720 09:39:25.865872 140432927119232 basic_session_run_hooks.py:541] Create CheckpointSaverHook.\n",
            "INFO:tensorflow:Graph was finalized.\n",
            "I0720 09:39:30.050093 140432927119232 monitored_session.py:240] Graph was finalized.\n",
            "2020-07-20 09:39:30.068759: I tensorflow/core/platform/profile_utils/cpu_utils.cc:94] CPU Frequency: 2300000000 Hz\n",
            "2020-07-20 09:39:30.069089: I tensorflow/compiler/xla/service/service.cc:168] XLA service 0x175de1c0 initialized for platform Host (this does not guarantee that XLA will be used). Devices:\n",
            "2020-07-20 09:39:30.069126: I tensorflow/compiler/xla/service/service.cc:176]   StreamExecutor device (0): Host, Default Version\n",
            "2020-07-20 09:39:30.075725: I tensorflow/stream_executor/platform/default/dso_loader.cc:44] Successfully opened dynamic library libcuda.so.1\n",
            "2020-07-20 09:39:30.228041: I tensorflow/stream_executor/cuda/cuda_gpu_executor.cc:983] successful NUMA node read from SysFS had negative value (-1), but there must be at least one NUMA node, so returning NUMA node zero\n",
            "2020-07-20 09:39:30.228963: I tensorflow/compiler/xla/service/service.cc:168] XLA service 0x175de000 initialized for platform CUDA (this does not guarantee that XLA will be used). Devices:\n",
            "2020-07-20 09:39:30.228997: I tensorflow/compiler/xla/service/service.cc:176]   StreamExecutor device (0): Tesla K80, Compute Capability 3.7\n",
            "2020-07-20 09:39:30.230473: I tensorflow/stream_executor/cuda/cuda_gpu_executor.cc:983] successful NUMA node read from SysFS had negative value (-1), but there must be at least one NUMA node, so returning NUMA node zero\n",
            "2020-07-20 09:39:30.231319: I tensorflow/core/common_runtime/gpu/gpu_device.cc:1639] Found device 0 with properties: \n",
            "name: Tesla K80 major: 3 minor: 7 memoryClockRate(GHz): 0.8235\n",
            "pciBusID: 0000:00:04.0\n",
            "2020-07-20 09:39:30.231769: I tensorflow/stream_executor/platform/default/dso_loader.cc:44] Successfully opened dynamic library libcudart.so.10.1\n",
            "2020-07-20 09:39:30.534053: I tensorflow/stream_executor/platform/default/dso_loader.cc:44] Successfully opened dynamic library libcublas.so.10\n",
            "2020-07-20 09:39:30.672445: I tensorflow/stream_executor/platform/default/dso_loader.cc:44] Successfully opened dynamic library libcufft.so.10\n",
            "2020-07-20 09:39:30.703697: I tensorflow/stream_executor/platform/default/dso_loader.cc:44] Successfully opened dynamic library libcurand.so.10\n",
            "2020-07-20 09:39:30.998369: I tensorflow/stream_executor/platform/default/dso_loader.cc:44] Successfully opened dynamic library libcusolver.so.10\n",
            "2020-07-20 09:39:31.028076: I tensorflow/stream_executor/platform/default/dso_loader.cc:44] Successfully opened dynamic library libcusparse.so.10\n",
            "2020-07-20 09:39:31.531907: I tensorflow/stream_executor/platform/default/dso_loader.cc:44] Successfully opened dynamic library libcudnn.so.7\n",
            "2020-07-20 09:39:31.532192: I tensorflow/stream_executor/cuda/cuda_gpu_executor.cc:983] successful NUMA node read from SysFS had negative value (-1), but there must be at least one NUMA node, so returning NUMA node zero\n",
            "2020-07-20 09:39:31.533094: I tensorflow/stream_executor/cuda/cuda_gpu_executor.cc:983] successful NUMA node read from SysFS had negative value (-1), but there must be at least one NUMA node, so returning NUMA node zero\n",
            "2020-07-20 09:39:31.533864: I tensorflow/core/common_runtime/gpu/gpu_device.cc:1767] Adding visible gpu devices: 0\n",
            "2020-07-20 09:39:31.539924: I tensorflow/stream_executor/platform/default/dso_loader.cc:44] Successfully opened dynamic library libcudart.so.10.1\n",
            "2020-07-20 09:39:31.541890: I tensorflow/core/common_runtime/gpu/gpu_device.cc:1180] Device interconnect StreamExecutor with strength 1 edge matrix:\n",
            "2020-07-20 09:39:31.541927: I tensorflow/core/common_runtime/gpu/gpu_device.cc:1186]      0 \n",
            "2020-07-20 09:39:31.541952: I tensorflow/core/common_runtime/gpu/gpu_device.cc:1199] 0:   N \n",
            "2020-07-20 09:39:31.543562: I tensorflow/stream_executor/cuda/cuda_gpu_executor.cc:983] successful NUMA node read from SysFS had negative value (-1), but there must be at least one NUMA node, so returning NUMA node zero\n",
            "2020-07-20 09:39:31.544670: I tensorflow/stream_executor/cuda/cuda_gpu_executor.cc:983] successful NUMA node read from SysFS had negative value (-1), but there must be at least one NUMA node, so returning NUMA node zero\n",
            "2020-07-20 09:39:31.545420: W tensorflow/core/common_runtime/gpu/gpu_bfc_allocator.cc:39] Overriding allow_growth setting because the TF_FORCE_GPU_ALLOW_GROWTH environment variable is set. Original config value was 0.\n",
            "2020-07-20 09:39:31.545486: I tensorflow/core/common_runtime/gpu/gpu_device.cc:1325] Created TensorFlow device (/job:localhost/replica:0/task:0/device:GPU:0 with 10805 MB memory) -> physical GPU (device: 0, name: Tesla K80, pci bus id: 0000:00:04.0, compute capability: 3.7)\n",
            "INFO:tensorflow:Running local_init_op.\n",
            "I0720 09:39:41.164722 140432927119232 session_manager.py:500] Running local_init_op.\n",
            "INFO:tensorflow:Done running local_init_op.\n",
            "I0720 09:39:41.575093 140432927119232 session_manager.py:502] Done running local_init_op.\n",
            "INFO:tensorflow:Saving checkpoints for 0 into training/model.ckpt.\n",
            "I0720 09:39:52.814318 140432927119232 basic_session_run_hooks.py:606] Saving checkpoints for 0 into training/model.ckpt.\n",
            "Traceback (most recent call last):\n",
            "  File \"/tensorflow-1.15.2/python3.6/tensorflow_core/python/client/session.py\", line 1365, in _do_call\n",
            "    return fn(*args)\n",
            "  File \"/tensorflow-1.15.2/python3.6/tensorflow_core/python/client/session.py\", line 1350, in _run_fn\n",
            "    target_list, run_metadata)\n",
            "  File \"/tensorflow-1.15.2/python3.6/tensorflow_core/python/client/session.py\", line 1443, in _call_tf_sessionrun\n",
            "    run_metadata)\n",
            "tensorflow.python.framework.errors_impl.InvalidArgumentError: 2 root error(s) found.\n",
            "  (0) Invalid argument: {{function_node Dataset_map_transform_and_pad_input_data_fn_423}} indices[0] = 0 is not in [0, 0)\n",
            "\t [[{{node GatherV2_4}}]]\n",
            "\t [[IteratorGetNext]]\n",
            "\t [[IteratorGetNext/_5639]]\n",
            "  (1) Invalid argument: {{function_node Dataset_map_transform_and_pad_input_data_fn_423}} indices[0] = 0 is not in [0, 0)\n",
            "\t [[{{node GatherV2_4}}]]\n",
            "\t [[IteratorGetNext]]\n",
            "0 successful operations.\n",
            "0 derived errors ignored.\n",
            "\n",
            "During handling of the above exception, another exception occurred:\n",
            "\n",
            "Traceback (most recent call last):\n",
            "  File \"/content/aeroplane_detection/models/research/object_detection/model_main.py\", line 108, in <module>\n",
            "    tf.app.run()\n",
            "  File \"/tensorflow-1.15.2/python3.6/tensorflow_core/python/platform/app.py\", line 40, in run\n",
            "    _run(main=main, argv=argv, flags_parser=_parse_flags_tolerate_undef)\n",
            "  File \"/usr/local/lib/python3.6/dist-packages/absl/app.py\", line 299, in run\n",
            "    _run_main(main, args)\n",
            "  File \"/usr/local/lib/python3.6/dist-packages/absl/app.py\", line 250, in _run_main\n",
            "    sys.exit(main(argv))\n",
            "  File \"/content/aeroplane_detection/models/research/object_detection/model_main.py\", line 104, in main\n",
            "    tf.estimator.train_and_evaluate(estimator, train_spec, eval_specs[0])\n",
            "  File \"/tensorflow-1.15.2/python3.6/tensorflow_estimator/python/estimator/training.py\", line 473, in train_and_evaluate\n",
            "    return executor.run()\n",
            "  File \"/tensorflow-1.15.2/python3.6/tensorflow_estimator/python/estimator/training.py\", line 613, in run\n",
            "    return self.run_local()\n",
            "  File \"/tensorflow-1.15.2/python3.6/tensorflow_estimator/python/estimator/training.py\", line 714, in run_local\n",
            "    saving_listeners=saving_listeners)\n",
            "  File \"/tensorflow-1.15.2/python3.6/tensorflow_estimator/python/estimator/estimator.py\", line 370, in train\n",
            "    loss = self._train_model(input_fn, hooks, saving_listeners)\n",
            "  File \"/tensorflow-1.15.2/python3.6/tensorflow_estimator/python/estimator/estimator.py\", line 1161, in _train_model\n",
            "    return self._train_model_default(input_fn, hooks, saving_listeners)\n",
            "  File \"/tensorflow-1.15.2/python3.6/tensorflow_estimator/python/estimator/estimator.py\", line 1195, in _train_model_default\n",
            "    saving_listeners)\n",
            "  File \"/tensorflow-1.15.2/python3.6/tensorflow_estimator/python/estimator/estimator.py\", line 1494, in _train_with_estimator_spec\n",
            "    _, loss = mon_sess.run([estimator_spec.train_op, estimator_spec.loss])\n",
            "  File \"/tensorflow-1.15.2/python3.6/tensorflow_core/python/training/monitored_session.py\", line 754, in run\n",
            "    run_metadata=run_metadata)\n",
            "  File \"/tensorflow-1.15.2/python3.6/tensorflow_core/python/training/monitored_session.py\", line 1259, in run\n",
            "    run_metadata=run_metadata)\n",
            "  File \"/tensorflow-1.15.2/python3.6/tensorflow_core/python/training/monitored_session.py\", line 1360, in run\n",
            "    raise six.reraise(*original_exc_info)\n",
            "  File \"/usr/local/lib/python3.6/dist-packages/six.py\", line 693, in reraise\n",
            "    raise value\n",
            "  File \"/tensorflow-1.15.2/python3.6/tensorflow_core/python/training/monitored_session.py\", line 1345, in run\n",
            "    return self._sess.run(*args, **kwargs)\n",
            "  File \"/tensorflow-1.15.2/python3.6/tensorflow_core/python/training/monitored_session.py\", line 1418, in run\n",
            "    run_metadata=run_metadata)\n",
            "  File \"/tensorflow-1.15.2/python3.6/tensorflow_core/python/training/monitored_session.py\", line 1176, in run\n",
            "    return self._sess.run(*args, **kwargs)\n",
            "  File \"/tensorflow-1.15.2/python3.6/tensorflow_core/python/client/session.py\", line 956, in run\n",
            "    run_metadata_ptr)\n",
            "  File \"/tensorflow-1.15.2/python3.6/tensorflow_core/python/client/session.py\", line 1180, in _run\n",
            "    feed_dict_tensor, options, run_metadata)\n",
            "  File \"/tensorflow-1.15.2/python3.6/tensorflow_core/python/client/session.py\", line 1359, in _do_run\n",
            "    run_metadata)\n",
            "  File \"/tensorflow-1.15.2/python3.6/tensorflow_core/python/client/session.py\", line 1384, in _do_call\n",
            "    raise type(e)(node_def, op, message)\n",
            "tensorflow.python.framework.errors_impl.InvalidArgumentError: 2 root error(s) found.\n",
            "  (0) Invalid argument:  indices[0] = 0 is not in [0, 0)\n",
            "\t [[{{node GatherV2_4}}]]\n",
            "\t [[IteratorGetNext]]\n",
            "\t [[IteratorGetNext/_5639]]\n",
            "  (1) Invalid argument:  indices[0] = 0 is not in [0, 0)\n",
            "\t [[{{node GatherV2_4}}]]\n",
            "\t [[IteratorGetNext]]\n",
            "0 successful operations.\n",
            "0 derived errors ignored.\n"
          ],
          "name": "stdout"
        }
      ]
    },
    {
      "cell_type": "code",
      "metadata": {
        "id": "6njWqCiFlzYC",
        "colab_type": "code",
        "colab": {
          "base_uri": "https://localhost:8080/",
          "height": 35
        },
        "outputId": "939d77f6-d5a1-4d4e-a1f3-296116320364"
      },
      "source": [
        "model_dir"
      ],
      "execution_count": 90,
      "outputs": [
        {
          "output_type": "execute_result",
          "data": {
            "application/vnd.google.colaboratory.intrinsic": {
              "type": "string"
            },
            "text/plain": [
              "'training/'"
            ]
          },
          "metadata": {
            "tags": []
          },
          "execution_count": 90
        }
      ]
    },
    {
      "cell_type": "code",
      "metadata": {
        "id": "EdwwOXZMmR-S",
        "colab_type": "code",
        "colab": {
          "base_uri": "https://localhost:8080/",
          "height": 35
        },
        "outputId": "98f85461-624b-425a-b2b6-76d9bfbb0271"
      },
      "source": [
        "model_pipline"
      ],
      "execution_count": 91,
      "outputs": [
        {
          "output_type": "execute_result",
          "data": {
            "application/vnd.google.colaboratory.intrinsic": {
              "type": "string"
            },
            "text/plain": [
              "'/content/aeroplane_detection/models/research/object_detection/samples/configs/ssd_mobilenet_v2_coco.config'"
            ]
          },
          "metadata": {
            "tags": []
          },
          "execution_count": 91
        }
      ]
    },
    {
      "cell_type": "code",
      "metadata": {
        "id": "MFfGbpyimVAI",
        "colab_type": "code",
        "colab": {
          "base_uri": "https://localhost:8080/",
          "height": 1000
        },
        "outputId": "ad7bfb3f-97e2-4ef4-9e2e-6363f3423fe1"
      },
      "source": [
        "\n",
        "#the location where the exported model will be saved in.\n",
        "output_directory = '/content/aeroplane_detection/models/research/fine_tuned_model'\n",
        "\n",
        "# goes through the model is the training/ dir and gets the last one.\n",
        "# you could choose a specfic one instead of the last\n",
        "lst = os.listdir(model_dir)\n",
        "lst = [l for l in lst if 'model.ckpt-' in l and '.meta' in l]\n",
        "steps=np.array([int(re.findall('\\d+', l)[0]) for l in lst])\n",
        "last_model = lst[steps.argmax()].replace('.meta', '')\n",
        "last_model_path = os.path.join(model_dir, last_model)\n",
        "print(last_model_path)\n",
        "\n",
        "#exports the model specifed and inference graph\n",
        "!python /content/aeroplane_detection/models/research/object_detection/export_inference_graph.py \\\n",
        "    --input_type=image_tensor \\\n",
        "    --pipeline_config_path={model_pipline} \\\n",
        "    --output_directory={output_directory} \\\n",
        "    --trained_checkpoint_prefix={last_model_path}"
      ],
      "execution_count": 92,
      "outputs": [
        {
          "output_type": "stream",
          "text": [
            "training/model.ckpt-0\n",
            "WARNING:tensorflow:From /usr/local/lib/python3.6/dist-packages/tf_slim/layers/layers.py:1089: Layer.apply (from tensorflow.python.keras.engine.base_layer) is deprecated and will be removed in a future version.\n",
            "Instructions for updating:\n",
            "Please use `layer.__call__` method instead.\n",
            "W0720 09:42:13.139958 140038348003200 deprecation.py:323] From /usr/local/lib/python3.6/dist-packages/tf_slim/layers/layers.py:1089: Layer.apply (from tensorflow.python.keras.engine.base_layer) is deprecated and will be removed in a future version.\n",
            "Instructions for updating:\n",
            "Please use `layer.__call__` method instead.\n",
            "INFO:tensorflow:depth of additional conv before box predictor: 0\n",
            "I0720 09:42:15.776027 140038348003200 convolutional_box_predictor.py:156] depth of additional conv before box predictor: 0\n",
            "INFO:tensorflow:depth of additional conv before box predictor: 0\n",
            "I0720 09:42:15.825701 140038348003200 convolutional_box_predictor.py:156] depth of additional conv before box predictor: 0\n",
            "INFO:tensorflow:depth of additional conv before box predictor: 0\n",
            "I0720 09:42:15.983379 140038348003200 convolutional_box_predictor.py:156] depth of additional conv before box predictor: 0\n",
            "INFO:tensorflow:depth of additional conv before box predictor: 0\n",
            "I0720 09:42:16.034484 140038348003200 convolutional_box_predictor.py:156] depth of additional conv before box predictor: 0\n",
            "INFO:tensorflow:depth of additional conv before box predictor: 0\n",
            "I0720 09:42:16.095308 140038348003200 convolutional_box_predictor.py:156] depth of additional conv before box predictor: 0\n",
            "INFO:tensorflow:depth of additional conv before box predictor: 0\n",
            "I0720 09:42:16.144670 140038348003200 convolutional_box_predictor.py:156] depth of additional conv before box predictor: 0\n",
            "WARNING:tensorflow:From /content/aeroplane_detection/models/research/object_detection/core/post_processing.py:583: where (from tensorflow.python.ops.array_ops) is deprecated and will be removed in a future version.\n",
            "Instructions for updating:\n",
            "Use tf.where in 2.0, which has the same broadcast rule as np.where\n",
            "W0720 09:42:16.466293 140038348003200 deprecation.py:323] From /content/aeroplane_detection/models/research/object_detection/core/post_processing.py:583: where (from tensorflow.python.ops.array_ops) is deprecated and will be removed in a future version.\n",
            "Instructions for updating:\n",
            "Use tf.where in 2.0, which has the same broadcast rule as np.where\n",
            "WARNING:tensorflow:From /content/aeroplane_detection/models/research/object_detection/exporter.py:474: get_or_create_global_step (from tf_slim.ops.variables) is deprecated and will be removed in a future version.\n",
            "Instructions for updating:\n",
            "Please switch to tf.train.get_or_create_global_step\n",
            "W0720 09:42:16.865682 140038348003200 deprecation.py:323] From /content/aeroplane_detection/models/research/object_detection/exporter.py:474: get_or_create_global_step (from tf_slim.ops.variables) is deprecated and will be removed in a future version.\n",
            "Instructions for updating:\n",
            "Please switch to tf.train.get_or_create_global_step\n",
            "WARNING:tensorflow:From /content/aeroplane_detection/models/research/object_detection/exporter.py:653: print_model_analysis (from tensorflow.contrib.tfprof.model_analyzer) is deprecated and will be removed after 2018-01-01.\n",
            "Instructions for updating:\n",
            "Use `tf.profiler.profile(graph, run_meta, op_log, cmd, options)`. Build `options` with `tf.profiler.ProfileOptionBuilder`. See README.md for details\n",
            "W0720 09:42:16.869741 140038348003200 deprecation.py:323] From /content/aeroplane_detection/models/research/object_detection/exporter.py:653: print_model_analysis (from tensorflow.contrib.tfprof.model_analyzer) is deprecated and will be removed after 2018-01-01.\n",
            "Instructions for updating:\n",
            "Use `tf.profiler.profile(graph, run_meta, op_log, cmd, options)`. Build `options` with `tf.profiler.ProfileOptionBuilder`. See README.md for details\n",
            "WARNING:tensorflow:From /tensorflow-1.15.2/python3.6/tensorflow_core/python/profiler/internal/flops_registry.py:142: tensor_shape_from_node_def_name (from tensorflow.python.framework.graph_util_impl) is deprecated and will be removed in a future version.\n",
            "Instructions for updating:\n",
            "Use `tf.compat.v1.graph_util.tensor_shape_from_node_def_name`\n",
            "W0720 09:42:16.870338 140038348003200 deprecation.py:323] From /tensorflow-1.15.2/python3.6/tensorflow_core/python/profiler/internal/flops_registry.py:142: tensor_shape_from_node_def_name (from tensorflow.python.framework.graph_util_impl) is deprecated and will be removed in a future version.\n",
            "Instructions for updating:\n",
            "Use `tf.compat.v1.graph_util.tensor_shape_from_node_def_name`\n",
            "133 ops no flops stats due to incomplete shapes.\n",
            "Parsing Inputs...\n",
            "Incomplete shape.\n",
            "\n",
            "=========================Options=============================\n",
            "-max_depth                  10000\n",
            "-min_bytes                  0\n",
            "-min_peak_bytes             0\n",
            "-min_residual_bytes         0\n",
            "-min_output_bytes           0\n",
            "-min_micros                 0\n",
            "-min_accelerator_micros     0\n",
            "-min_cpu_micros             0\n",
            "-min_params                 0\n",
            "-min_float_ops              0\n",
            "-min_occurrence             0\n",
            "-step                       -1\n",
            "-order_by                   name\n",
            "-account_type_regexes       _trainable_variables\n",
            "-start_name_regexes         .*\n",
            "-trim_name_regexes          .*BatchNorm.*\n",
            "-show_name_regexes          .*\n",
            "-hide_name_regexes          \n",
            "-account_displayed_op_only  true\n",
            "-select                     params\n",
            "-output                     stdout:\n",
            "\n",
            "==================Model Analysis Report======================\n",
            "Incomplete shape.\n",
            "\n",
            "Doc:\n",
            "scope: The nodes in the model graph are organized by their names, which is hierarchical like filesystem.\n",
            "param: Number of parameters (in the Variable).\n",
            "\n",
            "Profile:\n",
            "node name | # parameters\n",
            "_TFProfRoot (--/4.57m params)\n",
            "  BoxPredictor_0 (--/10.39k params)\n",
            "    BoxPredictor_0/BoxEncodingPredictor (--/6.92k params)\n",
            "      BoxPredictor_0/BoxEncodingPredictor/biases (12, 12/12 params)\n",
            "      BoxPredictor_0/BoxEncodingPredictor/weights (1x1x576x12, 6.91k/6.91k params)\n",
            "    BoxPredictor_0/ClassPredictor (--/3.46k params)\n",
            "      BoxPredictor_0/ClassPredictor/biases (6, 6/6 params)\n",
            "      BoxPredictor_0/ClassPredictor/weights (1x1x576x6, 3.46k/3.46k params)\n",
            "  BoxPredictor_1 (--/46.12k params)\n",
            "    BoxPredictor_1/BoxEncodingPredictor (--/30.74k params)\n",
            "      BoxPredictor_1/BoxEncodingPredictor/biases (24, 24/24 params)\n",
            "      BoxPredictor_1/BoxEncodingPredictor/weights (1x1x1280x24, 30.72k/30.72k params)\n",
            "    BoxPredictor_1/ClassPredictor (--/15.37k params)\n",
            "      BoxPredictor_1/ClassPredictor/biases (12, 12/12 params)\n",
            "      BoxPredictor_1/ClassPredictor/weights (1x1x1280x12, 15.36k/15.36k params)\n",
            "  BoxPredictor_2 (--/18.47k params)\n",
            "    BoxPredictor_2/BoxEncodingPredictor (--/12.31k params)\n",
            "      BoxPredictor_2/BoxEncodingPredictor/biases (24, 24/24 params)\n",
            "      BoxPredictor_2/BoxEncodingPredictor/weights (1x1x512x24, 12.29k/12.29k params)\n",
            "    BoxPredictor_2/ClassPredictor (--/6.16k params)\n",
            "      BoxPredictor_2/ClassPredictor/biases (12, 12/12 params)\n",
            "      BoxPredictor_2/ClassPredictor/weights (1x1x512x12, 6.14k/6.14k params)\n",
            "  BoxPredictor_3 (--/9.25k params)\n",
            "    BoxPredictor_3/BoxEncodingPredictor (--/6.17k params)\n",
            "      BoxPredictor_3/BoxEncodingPredictor/biases (24, 24/24 params)\n",
            "      BoxPredictor_3/BoxEncodingPredictor/weights (1x1x256x24, 6.14k/6.14k params)\n",
            "    BoxPredictor_3/ClassPredictor (--/3.08k params)\n",
            "      BoxPredictor_3/ClassPredictor/biases (12, 12/12 params)\n",
            "      BoxPredictor_3/ClassPredictor/weights (1x1x256x12, 3.07k/3.07k params)\n",
            "  BoxPredictor_4 (--/9.25k params)\n",
            "    BoxPredictor_4/BoxEncodingPredictor (--/6.17k params)\n",
            "      BoxPredictor_4/BoxEncodingPredictor/biases (24, 24/24 params)\n",
            "      BoxPredictor_4/BoxEncodingPredictor/weights (1x1x256x24, 6.14k/6.14k params)\n",
            "    BoxPredictor_4/ClassPredictor (--/3.08k params)\n",
            "      BoxPredictor_4/ClassPredictor/biases (12, 12/12 params)\n",
            "      BoxPredictor_4/ClassPredictor/weights (1x1x256x12, 3.07k/3.07k params)\n",
            "  BoxPredictor_5 (--/4.64k params)\n",
            "    BoxPredictor_5/BoxEncodingPredictor (--/3.10k params)\n",
            "      BoxPredictor_5/BoxEncodingPredictor/biases (24, 24/24 params)\n",
            "      BoxPredictor_5/BoxEncodingPredictor/weights (1x1x128x24, 3.07k/3.07k params)\n",
            "    BoxPredictor_5/ClassPredictor (--/1.55k params)\n",
            "      BoxPredictor_5/ClassPredictor/biases (12, 12/12 params)\n",
            "      BoxPredictor_5/ClassPredictor/weights (1x1x128x12, 1.54k/1.54k params)\n",
            "  FeatureExtractor (--/4.48m params)\n",
            "    FeatureExtractor/MobilenetV2 (--/4.48m params)\n",
            "      FeatureExtractor/MobilenetV2/Conv (--/864 params)\n",
            "        FeatureExtractor/MobilenetV2/Conv/BatchNorm (--/0 params)\n",
            "        FeatureExtractor/MobilenetV2/Conv/weights (3x3x3x32, 864/864 params)\n",
            "      FeatureExtractor/MobilenetV2/Conv_1 (--/409.60k params)\n",
            "        FeatureExtractor/MobilenetV2/Conv_1/BatchNorm (--/0 params)\n",
            "        FeatureExtractor/MobilenetV2/Conv_1/weights (1x1x320x1280, 409.60k/409.60k params)\n",
            "      FeatureExtractor/MobilenetV2/expanded_conv (--/800 params)\n",
            "        FeatureExtractor/MobilenetV2/expanded_conv/depthwise (--/288 params)\n",
            "          FeatureExtractor/MobilenetV2/expanded_conv/depthwise/BatchNorm (--/0 params)\n",
            "          FeatureExtractor/MobilenetV2/expanded_conv/depthwise/depthwise_weights (3x3x32x1, 288/288 params)\n",
            "        FeatureExtractor/MobilenetV2/expanded_conv/project (--/512 params)\n",
            "          FeatureExtractor/MobilenetV2/expanded_conv/project/BatchNorm (--/0 params)\n",
            "          FeatureExtractor/MobilenetV2/expanded_conv/project/weights (1x1x32x16, 512/512 params)\n",
            "      FeatureExtractor/MobilenetV2/expanded_conv_1 (--/4.70k params)\n",
            "        FeatureExtractor/MobilenetV2/expanded_conv_1/depthwise (--/864 params)\n",
            "          FeatureExtractor/MobilenetV2/expanded_conv_1/depthwise/BatchNorm (--/0 params)\n",
            "          FeatureExtractor/MobilenetV2/expanded_conv_1/depthwise/depthwise_weights (3x3x96x1, 864/864 params)\n",
            "        FeatureExtractor/MobilenetV2/expanded_conv_1/expand (--/1.54k params)\n",
            "          FeatureExtractor/MobilenetV2/expanded_conv_1/expand/BatchNorm (--/0 params)\n",
            "          FeatureExtractor/MobilenetV2/expanded_conv_1/expand/weights (1x1x16x96, 1.54k/1.54k params)\n",
            "        FeatureExtractor/MobilenetV2/expanded_conv_1/project (--/2.30k params)\n",
            "          FeatureExtractor/MobilenetV2/expanded_conv_1/project/BatchNorm (--/0 params)\n",
            "          FeatureExtractor/MobilenetV2/expanded_conv_1/project/weights (1x1x96x24, 2.30k/2.30k params)\n",
            "      FeatureExtractor/MobilenetV2/expanded_conv_10 (--/64.90k params)\n",
            "        FeatureExtractor/MobilenetV2/expanded_conv_10/depthwise (--/3.46k params)\n",
            "          FeatureExtractor/MobilenetV2/expanded_conv_10/depthwise/BatchNorm (--/0 params)\n",
            "          FeatureExtractor/MobilenetV2/expanded_conv_10/depthwise/depthwise_weights (3x3x384x1, 3.46k/3.46k params)\n",
            "        FeatureExtractor/MobilenetV2/expanded_conv_10/expand (--/24.58k params)\n",
            "          FeatureExtractor/MobilenetV2/expanded_conv_10/expand/BatchNorm (--/0 params)\n",
            "          FeatureExtractor/MobilenetV2/expanded_conv_10/expand/weights (1x1x64x384, 24.58k/24.58k params)\n",
            "        FeatureExtractor/MobilenetV2/expanded_conv_10/project (--/36.86k params)\n",
            "          FeatureExtractor/MobilenetV2/expanded_conv_10/project/BatchNorm (--/0 params)\n",
            "          FeatureExtractor/MobilenetV2/expanded_conv_10/project/weights (1x1x384x96, 36.86k/36.86k params)\n",
            "      FeatureExtractor/MobilenetV2/expanded_conv_11 (--/115.78k params)\n",
            "        FeatureExtractor/MobilenetV2/expanded_conv_11/depthwise (--/5.18k params)\n",
            "          FeatureExtractor/MobilenetV2/expanded_conv_11/depthwise/BatchNorm (--/0 params)\n",
            "          FeatureExtractor/MobilenetV2/expanded_conv_11/depthwise/depthwise_weights (3x3x576x1, 5.18k/5.18k params)\n",
            "        FeatureExtractor/MobilenetV2/expanded_conv_11/expand (--/55.30k params)\n",
            "          FeatureExtractor/MobilenetV2/expanded_conv_11/expand/BatchNorm (--/0 params)\n",
            "          FeatureExtractor/MobilenetV2/expanded_conv_11/expand/weights (1x1x96x576, 55.30k/55.30k params)\n",
            "        FeatureExtractor/MobilenetV2/expanded_conv_11/project (--/55.30k params)\n",
            "          FeatureExtractor/MobilenetV2/expanded_conv_11/project/BatchNorm (--/0 params)\n",
            "          FeatureExtractor/MobilenetV2/expanded_conv_11/project/weights (1x1x576x96, 55.30k/55.30k params)\n",
            "      FeatureExtractor/MobilenetV2/expanded_conv_12 (--/115.78k params)\n",
            "        FeatureExtractor/MobilenetV2/expanded_conv_12/depthwise (--/5.18k params)\n",
            "          FeatureExtractor/MobilenetV2/expanded_conv_12/depthwise/BatchNorm (--/0 params)\n",
            "          FeatureExtractor/MobilenetV2/expanded_conv_12/depthwise/depthwise_weights (3x3x576x1, 5.18k/5.18k params)\n",
            "        FeatureExtractor/MobilenetV2/expanded_conv_12/expand (--/55.30k params)\n",
            "          FeatureExtractor/MobilenetV2/expanded_conv_12/expand/BatchNorm (--/0 params)\n",
            "          FeatureExtractor/MobilenetV2/expanded_conv_12/expand/weights (1x1x96x576, 55.30k/55.30k params)\n",
            "        FeatureExtractor/MobilenetV2/expanded_conv_12/project (--/55.30k params)\n",
            "          FeatureExtractor/MobilenetV2/expanded_conv_12/project/BatchNorm (--/0 params)\n",
            "          FeatureExtractor/MobilenetV2/expanded_conv_12/project/weights (1x1x576x96, 55.30k/55.30k params)\n",
            "      FeatureExtractor/MobilenetV2/expanded_conv_13 (--/152.64k params)\n",
            "        FeatureExtractor/MobilenetV2/expanded_conv_13/depthwise (--/5.18k params)\n",
            "          FeatureExtractor/MobilenetV2/expanded_conv_13/depthwise/BatchNorm (--/0 params)\n",
            "          FeatureExtractor/MobilenetV2/expanded_conv_13/depthwise/depthwise_weights (3x3x576x1, 5.18k/5.18k params)\n",
            "        FeatureExtractor/MobilenetV2/expanded_conv_13/expand (--/55.30k params)\n",
            "          FeatureExtractor/MobilenetV2/expanded_conv_13/expand/BatchNorm (--/0 params)\n",
            "          FeatureExtractor/MobilenetV2/expanded_conv_13/expand/weights (1x1x96x576, 55.30k/55.30k params)\n",
            "        FeatureExtractor/MobilenetV2/expanded_conv_13/project (--/92.16k params)\n",
            "          FeatureExtractor/MobilenetV2/expanded_conv_13/project/BatchNorm (--/0 params)\n",
            "          FeatureExtractor/MobilenetV2/expanded_conv_13/project/weights (1x1x576x160, 92.16k/92.16k params)\n",
            "      FeatureExtractor/MobilenetV2/expanded_conv_14 (--/315.84k params)\n",
            "        FeatureExtractor/MobilenetV2/expanded_conv_14/depthwise (--/8.64k params)\n",
            "          FeatureExtractor/MobilenetV2/expanded_conv_14/depthwise/BatchNorm (--/0 params)\n",
            "          FeatureExtractor/MobilenetV2/expanded_conv_14/depthwise/depthwise_weights (3x3x960x1, 8.64k/8.64k params)\n",
            "        FeatureExtractor/MobilenetV2/expanded_conv_14/expand (--/153.60k params)\n",
            "          FeatureExtractor/MobilenetV2/expanded_conv_14/expand/BatchNorm (--/0 params)\n",
            "          FeatureExtractor/MobilenetV2/expanded_conv_14/expand/weights (1x1x160x960, 153.60k/153.60k params)\n",
            "        FeatureExtractor/MobilenetV2/expanded_conv_14/project (--/153.60k params)\n",
            "          FeatureExtractor/MobilenetV2/expanded_conv_14/project/BatchNorm (--/0 params)\n",
            "          FeatureExtractor/MobilenetV2/expanded_conv_14/project/weights (1x1x960x160, 153.60k/153.60k params)\n",
            "      FeatureExtractor/MobilenetV2/expanded_conv_15 (--/315.84k params)\n",
            "        FeatureExtractor/MobilenetV2/expanded_conv_15/depthwise (--/8.64k params)\n",
            "          FeatureExtractor/MobilenetV2/expanded_conv_15/depthwise/BatchNorm (--/0 params)\n",
            "          FeatureExtractor/MobilenetV2/expanded_conv_15/depthwise/depthwise_weights (3x3x960x1, 8.64k/8.64k params)\n",
            "        FeatureExtractor/MobilenetV2/expanded_conv_15/expand (--/153.60k params)\n",
            "          FeatureExtractor/MobilenetV2/expanded_conv_15/expand/BatchNorm (--/0 params)\n",
            "          FeatureExtractor/MobilenetV2/expanded_conv_15/expand/weights (1x1x160x960, 153.60k/153.60k params)\n",
            "        FeatureExtractor/MobilenetV2/expanded_conv_15/project (--/153.60k params)\n",
            "          FeatureExtractor/MobilenetV2/expanded_conv_15/project/BatchNorm (--/0 params)\n",
            "          FeatureExtractor/MobilenetV2/expanded_conv_15/project/weights (1x1x960x160, 153.60k/153.60k params)\n",
            "      FeatureExtractor/MobilenetV2/expanded_conv_16 (--/469.44k params)\n",
            "        FeatureExtractor/MobilenetV2/expanded_conv_16/depthwise (--/8.64k params)\n",
            "          FeatureExtractor/MobilenetV2/expanded_conv_16/depthwise/BatchNorm (--/0 params)\n",
            "          FeatureExtractor/MobilenetV2/expanded_conv_16/depthwise/depthwise_weights (3x3x960x1, 8.64k/8.64k params)\n",
            "        FeatureExtractor/MobilenetV2/expanded_conv_16/expand (--/153.60k params)\n",
            "          FeatureExtractor/MobilenetV2/expanded_conv_16/expand/BatchNorm (--/0 params)\n",
            "          FeatureExtractor/MobilenetV2/expanded_conv_16/expand/weights (1x1x160x960, 153.60k/153.60k params)\n",
            "        FeatureExtractor/MobilenetV2/expanded_conv_16/project (--/307.20k params)\n",
            "          FeatureExtractor/MobilenetV2/expanded_conv_16/project/BatchNorm (--/0 params)\n",
            "          FeatureExtractor/MobilenetV2/expanded_conv_16/project/weights (1x1x960x320, 307.20k/307.20k params)\n",
            "      FeatureExtractor/MobilenetV2/expanded_conv_2 (--/8.21k params)\n",
            "        FeatureExtractor/MobilenetV2/expanded_conv_2/depthwise (--/1.30k params)\n",
            "          FeatureExtractor/MobilenetV2/expanded_conv_2/depthwise/BatchNorm (--/0 params)\n",
            "          FeatureExtractor/MobilenetV2/expanded_conv_2/depthwise/depthwise_weights (3x3x144x1, 1.30k/1.30k params)\n",
            "        FeatureExtractor/MobilenetV2/expanded_conv_2/expand (--/3.46k params)\n",
            "          FeatureExtractor/MobilenetV2/expanded_conv_2/expand/BatchNorm (--/0 params)\n",
            "          FeatureExtractor/MobilenetV2/expanded_conv_2/expand/weights (1x1x24x144, 3.46k/3.46k params)\n",
            "        FeatureExtractor/MobilenetV2/expanded_conv_2/project (--/3.46k params)\n",
            "          FeatureExtractor/MobilenetV2/expanded_conv_2/project/BatchNorm (--/0 params)\n",
            "          FeatureExtractor/MobilenetV2/expanded_conv_2/project/weights (1x1x144x24, 3.46k/3.46k params)\n",
            "      FeatureExtractor/MobilenetV2/expanded_conv_3 (--/9.36k params)\n",
            "        FeatureExtractor/MobilenetV2/expanded_conv_3/depthwise (--/1.30k params)\n",
            "          FeatureExtractor/MobilenetV2/expanded_conv_3/depthwise/BatchNorm (--/0 params)\n",
            "          FeatureExtractor/MobilenetV2/expanded_conv_3/depthwise/depthwise_weights (3x3x144x1, 1.30k/1.30k params)\n",
            "        FeatureExtractor/MobilenetV2/expanded_conv_3/expand (--/3.46k params)\n",
            "          FeatureExtractor/MobilenetV2/expanded_conv_3/expand/BatchNorm (--/0 params)\n",
            "          FeatureExtractor/MobilenetV2/expanded_conv_3/expand/weights (1x1x24x144, 3.46k/3.46k params)\n",
            "        FeatureExtractor/MobilenetV2/expanded_conv_3/project (--/4.61k params)\n",
            "          FeatureExtractor/MobilenetV2/expanded_conv_3/project/BatchNorm (--/0 params)\n",
            "          FeatureExtractor/MobilenetV2/expanded_conv_3/project/weights (1x1x144x32, 4.61k/4.61k params)\n",
            "      FeatureExtractor/MobilenetV2/expanded_conv_4 (--/14.02k params)\n",
            "        FeatureExtractor/MobilenetV2/expanded_conv_4/depthwise (--/1.73k params)\n",
            "          FeatureExtractor/MobilenetV2/expanded_conv_4/depthwise/BatchNorm (--/0 params)\n",
            "          FeatureExtractor/MobilenetV2/expanded_conv_4/depthwise/depthwise_weights (3x3x192x1, 1.73k/1.73k params)\n",
            "        FeatureExtractor/MobilenetV2/expanded_conv_4/expand (--/6.14k params)\n",
            "          FeatureExtractor/MobilenetV2/expanded_conv_4/expand/BatchNorm (--/0 params)\n",
            "          FeatureExtractor/MobilenetV2/expanded_conv_4/expand/weights (1x1x32x192, 6.14k/6.14k params)\n",
            "        FeatureExtractor/MobilenetV2/expanded_conv_4/project (--/6.14k params)\n",
            "          FeatureExtractor/MobilenetV2/expanded_conv_4/project/BatchNorm (--/0 params)\n",
            "          FeatureExtractor/MobilenetV2/expanded_conv_4/project/weights (1x1x192x32, 6.14k/6.14k params)\n",
            "      FeatureExtractor/MobilenetV2/expanded_conv_5 (--/14.02k params)\n",
            "        FeatureExtractor/MobilenetV2/expanded_conv_5/depthwise (--/1.73k params)\n",
            "          FeatureExtractor/MobilenetV2/expanded_conv_5/depthwise/BatchNorm (--/0 params)\n",
            "          FeatureExtractor/MobilenetV2/expanded_conv_5/depthwise/depthwise_weights (3x3x192x1, 1.73k/1.73k params)\n",
            "        FeatureExtractor/MobilenetV2/expanded_conv_5/expand (--/6.14k params)\n",
            "          FeatureExtractor/MobilenetV2/expanded_conv_5/expand/BatchNorm (--/0 params)\n",
            "          FeatureExtractor/MobilenetV2/expanded_conv_5/expand/weights (1x1x32x192, 6.14k/6.14k params)\n",
            "        FeatureExtractor/MobilenetV2/expanded_conv_5/project (--/6.14k params)\n",
            "          FeatureExtractor/MobilenetV2/expanded_conv_5/project/BatchNorm (--/0 params)\n",
            "          FeatureExtractor/MobilenetV2/expanded_conv_5/project/weights (1x1x192x32, 6.14k/6.14k params)\n",
            "      FeatureExtractor/MobilenetV2/expanded_conv_6 (--/20.16k params)\n",
            "        FeatureExtractor/MobilenetV2/expanded_conv_6/depthwise (--/1.73k params)\n",
            "          FeatureExtractor/MobilenetV2/expanded_conv_6/depthwise/BatchNorm (--/0 params)\n",
            "          FeatureExtractor/MobilenetV2/expanded_conv_6/depthwise/depthwise_weights (3x3x192x1, 1.73k/1.73k params)\n",
            "        FeatureExtractor/MobilenetV2/expanded_conv_6/expand (--/6.14k params)\n",
            "          FeatureExtractor/MobilenetV2/expanded_conv_6/expand/BatchNorm (--/0 params)\n",
            "          FeatureExtractor/MobilenetV2/expanded_conv_6/expand/weights (1x1x32x192, 6.14k/6.14k params)\n",
            "        FeatureExtractor/MobilenetV2/expanded_conv_6/project (--/12.29k params)\n",
            "          FeatureExtractor/MobilenetV2/expanded_conv_6/project/BatchNorm (--/0 params)\n",
            "          FeatureExtractor/MobilenetV2/expanded_conv_6/project/weights (1x1x192x64, 12.29k/12.29k params)\n",
            "      FeatureExtractor/MobilenetV2/expanded_conv_7 (--/52.61k params)\n",
            "        FeatureExtractor/MobilenetV2/expanded_conv_7/depthwise (--/3.46k params)\n",
            "          FeatureExtractor/MobilenetV2/expanded_conv_7/depthwise/BatchNorm (--/0 params)\n",
            "          FeatureExtractor/MobilenetV2/expanded_conv_7/depthwise/depthwise_weights (3x3x384x1, 3.46k/3.46k params)\n",
            "        FeatureExtractor/MobilenetV2/expanded_conv_7/expand (--/24.58k params)\n",
            "          FeatureExtractor/MobilenetV2/expanded_conv_7/expand/BatchNorm (--/0 params)\n",
            "          FeatureExtractor/MobilenetV2/expanded_conv_7/expand/weights (1x1x64x384, 24.58k/24.58k params)\n",
            "        FeatureExtractor/MobilenetV2/expanded_conv_7/project (--/24.58k params)\n",
            "          FeatureExtractor/MobilenetV2/expanded_conv_7/project/BatchNorm (--/0 params)\n",
            "          FeatureExtractor/MobilenetV2/expanded_conv_7/project/weights (1x1x384x64, 24.58k/24.58k params)\n",
            "      FeatureExtractor/MobilenetV2/expanded_conv_8 (--/52.61k params)\n",
            "        FeatureExtractor/MobilenetV2/expanded_conv_8/depthwise (--/3.46k params)\n",
            "          FeatureExtractor/MobilenetV2/expanded_conv_8/depthwise/BatchNorm (--/0 params)\n",
            "          FeatureExtractor/MobilenetV2/expanded_conv_8/depthwise/depthwise_weights (3x3x384x1, 3.46k/3.46k params)\n",
            "        FeatureExtractor/MobilenetV2/expanded_conv_8/expand (--/24.58k params)\n",
            "          FeatureExtractor/MobilenetV2/expanded_conv_8/expand/BatchNorm (--/0 params)\n",
            "          FeatureExtractor/MobilenetV2/expanded_conv_8/expand/weights (1x1x64x384, 24.58k/24.58k params)\n",
            "        FeatureExtractor/MobilenetV2/expanded_conv_8/project (--/24.58k params)\n",
            "          FeatureExtractor/MobilenetV2/expanded_conv_8/project/BatchNorm (--/0 params)\n",
            "          FeatureExtractor/MobilenetV2/expanded_conv_8/project/weights (1x1x384x64, 24.58k/24.58k params)\n",
            "      FeatureExtractor/MobilenetV2/expanded_conv_9 (--/52.61k params)\n",
            "        FeatureExtractor/MobilenetV2/expanded_conv_9/depthwise (--/3.46k params)\n",
            "          FeatureExtractor/MobilenetV2/expanded_conv_9/depthwise/BatchNorm (--/0 params)\n",
            "          FeatureExtractor/MobilenetV2/expanded_conv_9/depthwise/depthwise_weights (3x3x384x1, 3.46k/3.46k params)\n",
            "        FeatureExtractor/MobilenetV2/expanded_conv_9/expand (--/24.58k params)\n",
            "          FeatureExtractor/MobilenetV2/expanded_conv_9/expand/BatchNorm (--/0 params)\n",
            "          FeatureExtractor/MobilenetV2/expanded_conv_9/expand/weights (1x1x64x384, 24.58k/24.58k params)\n",
            "        FeatureExtractor/MobilenetV2/expanded_conv_9/project (--/24.58k params)\n",
            "          FeatureExtractor/MobilenetV2/expanded_conv_9/project/BatchNorm (--/0 params)\n",
            "          FeatureExtractor/MobilenetV2/expanded_conv_9/project/weights (1x1x384x64, 24.58k/24.58k params)\n",
            "      FeatureExtractor/MobilenetV2/layer_19_1_Conv2d_2_1x1_256 (--/327.68k params)\n",
            "        FeatureExtractor/MobilenetV2/layer_19_1_Conv2d_2_1x1_256/BatchNorm (--/0 params)\n",
            "        FeatureExtractor/MobilenetV2/layer_19_1_Conv2d_2_1x1_256/weights (1x1x1280x256, 327.68k/327.68k params)\n",
            "      FeatureExtractor/MobilenetV2/layer_19_1_Conv2d_3_1x1_128 (--/65.54k params)\n",
            "        FeatureExtractor/MobilenetV2/layer_19_1_Conv2d_3_1x1_128/BatchNorm (--/0 params)\n",
            "        FeatureExtractor/MobilenetV2/layer_19_1_Conv2d_3_1x1_128/weights (1x1x512x128, 65.54k/65.54k params)\n",
            "      FeatureExtractor/MobilenetV2/layer_19_1_Conv2d_4_1x1_128 (--/32.77k params)\n",
            "        FeatureExtractor/MobilenetV2/layer_19_1_Conv2d_4_1x1_128/BatchNorm (--/0 params)\n",
            "        FeatureExtractor/MobilenetV2/layer_19_1_Conv2d_4_1x1_128/weights (1x1x256x128, 32.77k/32.77k params)\n",
            "      FeatureExtractor/MobilenetV2/layer_19_1_Conv2d_5_1x1_64 (--/16.38k params)\n",
            "        FeatureExtractor/MobilenetV2/layer_19_1_Conv2d_5_1x1_64/BatchNorm (--/0 params)\n",
            "        FeatureExtractor/MobilenetV2/layer_19_1_Conv2d_5_1x1_64/weights (1x1x256x64, 16.38k/16.38k params)\n",
            "      FeatureExtractor/MobilenetV2/layer_19_2_Conv2d_2_3x3_s2_512 (--/1.18m params)\n",
            "        FeatureExtractor/MobilenetV2/layer_19_2_Conv2d_2_3x3_s2_512/BatchNorm (--/0 params)\n",
            "        FeatureExtractor/MobilenetV2/layer_19_2_Conv2d_2_3x3_s2_512/weights (3x3x256x512, 1.18m/1.18m params)\n",
            "      FeatureExtractor/MobilenetV2/layer_19_2_Conv2d_3_3x3_s2_256 (--/294.91k params)\n",
            "        FeatureExtractor/MobilenetV2/layer_19_2_Conv2d_3_3x3_s2_256/BatchNorm (--/0 params)\n",
            "        FeatureExtractor/MobilenetV2/layer_19_2_Conv2d_3_3x3_s2_256/weights (3x3x128x256, 294.91k/294.91k params)\n",
            "      FeatureExtractor/MobilenetV2/layer_19_2_Conv2d_4_3x3_s2_256 (--/294.91k params)\n",
            "        FeatureExtractor/MobilenetV2/layer_19_2_Conv2d_4_3x3_s2_256/BatchNorm (--/0 params)\n",
            "        FeatureExtractor/MobilenetV2/layer_19_2_Conv2d_4_3x3_s2_256/weights (3x3x128x256, 294.91k/294.91k params)\n",
            "      FeatureExtractor/MobilenetV2/layer_19_2_Conv2d_5_3x3_s2_128 (--/73.73k params)\n",
            "        FeatureExtractor/MobilenetV2/layer_19_2_Conv2d_5_3x3_s2_128/BatchNorm (--/0 params)\n",
            "        FeatureExtractor/MobilenetV2/layer_19_2_Conv2d_5_3x3_s2_128/weights (3x3x64x128, 73.73k/73.73k params)\n",
            "\n",
            "======================End of Report==========================\n",
            "133 ops no flops stats due to incomplete shapes.\n",
            "Parsing Inputs...\n",
            "Incomplete shape.\n",
            "\n",
            "=========================Options=============================\n",
            "-max_depth                  10000\n",
            "-min_bytes                  0\n",
            "-min_peak_bytes             0\n",
            "-min_residual_bytes         0\n",
            "-min_output_bytes           0\n",
            "-min_micros                 0\n",
            "-min_accelerator_micros     0\n",
            "-min_cpu_micros             0\n",
            "-min_params                 0\n",
            "-min_float_ops              1\n",
            "-min_occurrence             0\n",
            "-step                       -1\n",
            "-order_by                   float_ops\n",
            "-account_type_regexes       .*\n",
            "-start_name_regexes         .*\n",
            "-trim_name_regexes          .*BatchNorm.*,.*Initializer.*,.*Regularizer.*,.*BiasAdd.*\n",
            "-show_name_regexes          .*\n",
            "-hide_name_regexes          \n",
            "-account_displayed_op_only  true\n",
            "-select                     float_ops\n",
            "-output                     stdout:\n",
            "\n",
            "==================Model Analysis Report======================\n",
            "Incomplete shape.\n",
            "\n",
            "Doc:\n",
            "scope: The nodes in the model graph are organized by their names, which is hierarchical like filesystem.\n",
            "flops: Number of float operations. Note: Please read the implementation for the math behind it.\n",
            "\n",
            "Profile:\n",
            "node name | # float_ops\n",
            "_TFProfRoot (--/13.71k flops)\n",
            "  MultipleGridAnchorGenerator/sub (2.17k/2.17k flops)\n",
            "  MultipleGridAnchorGenerator/mul_20 (2.17k/2.17k flops)\n",
            "  MultipleGridAnchorGenerator/mul_19 (2.17k/2.17k flops)\n",
            "  MultipleGridAnchorGenerator/mul_27 (1.20k/1.20k flops)\n",
            "  MultipleGridAnchorGenerator/mul_28 (1.20k/1.20k flops)\n",
            "  MultipleGridAnchorGenerator/sub_1 (1.20k/1.20k flops)\n",
            "  MultipleGridAnchorGenerator/mul_21 (1.08k/1.08k flops)\n",
            "  MultipleGridAnchorGenerator/mul_29 (600/600 flops)\n",
            "  MultipleGridAnchorGenerator/mul_36 (300/300 flops)\n",
            "  MultipleGridAnchorGenerator/mul_35 (300/300 flops)\n",
            "  MultipleGridAnchorGenerator/sub_2 (300/300 flops)\n",
            "  MultipleGridAnchorGenerator/mul_37 (150/150 flops)\n",
            "  MultipleGridAnchorGenerator/mul_43 (108/108 flops)\n",
            "  MultipleGridAnchorGenerator/mul_44 (108/108 flops)\n",
            "  MultipleGridAnchorGenerator/sub_3 (108/108 flops)\n",
            "  MultipleGridAnchorGenerator/mul_45 (54/54 flops)\n",
            "  MultipleGridAnchorGenerator/mul_52 (48/48 flops)\n",
            "  MultipleGridAnchorGenerator/mul_51 (48/48 flops)\n",
            "  MultipleGridAnchorGenerator/sub_4 (48/48 flops)\n",
            "  MultipleGridAnchorGenerator/mul_53 (24/24 flops)\n",
            "  MultipleGridAnchorGenerator/mul_18 (19/19 flops)\n",
            "  MultipleGridAnchorGenerator/mul_17 (19/19 flops)\n",
            "  MultipleGridAnchorGenerator/sub_5 (12/12 flops)\n",
            "  MultipleGridAnchorGenerator/mul_60 (12/12 flops)\n",
            "  MultipleGridAnchorGenerator/mul_59 (12/12 flops)\n",
            "  MultipleGridAnchorGenerator/mul_25 (10/10 flops)\n",
            "  MultipleGridAnchorGenerator/mul_26 (10/10 flops)\n",
            "  MultipleGridAnchorGenerator/mul_46 (6/6 flops)\n",
            "  MultipleGridAnchorGenerator/mul_40 (6/6 flops)\n",
            "  MultipleGridAnchorGenerator/mul_54 (6/6 flops)\n",
            "  MultipleGridAnchorGenerator/truediv_17 (6/6 flops)\n",
            "  MultipleGridAnchorGenerator/truediv_16 (6/6 flops)\n",
            "  MultipleGridAnchorGenerator/truediv_15 (6/6 flops)\n",
            "  MultipleGridAnchorGenerator/mul_24 (6/6 flops)\n",
            "  MultipleGridAnchorGenerator/mul_47 (6/6 flops)\n",
            "  MultipleGridAnchorGenerator/mul_48 (6/6 flops)\n",
            "  MultipleGridAnchorGenerator/mul_61 (6/6 flops)\n",
            "  MultipleGridAnchorGenerator/mul_39 (6/6 flops)\n",
            "  MultipleGridAnchorGenerator/mul_38 (6/6 flops)\n",
            "  MultipleGridAnchorGenerator/truediv_19 (6/6 flops)\n",
            "  MultipleGridAnchorGenerator/mul_55 (6/6 flops)\n",
            "  MultipleGridAnchorGenerator/mul_56 (6/6 flops)\n",
            "  MultipleGridAnchorGenerator/mul_32 (6/6 flops)\n",
            "  MultipleGridAnchorGenerator/mul_31 (6/6 flops)\n",
            "  MultipleGridAnchorGenerator/mul_30 (6/6 flops)\n",
            "  MultipleGridAnchorGenerator/truediv_18 (6/6 flops)\n",
            "  MultipleGridAnchorGenerator/mul_22 (6/6 flops)\n",
            "  MultipleGridAnchorGenerator/mul_23 (6/6 flops)\n",
            "  MultipleGridAnchorGenerator/mul_34 (5/5 flops)\n",
            "  MultipleGridAnchorGenerator/mul_33 (5/5 flops)\n",
            "  MultipleGridAnchorGenerator/mul_42 (3/3 flops)\n",
            "  MultipleGridAnchorGenerator/mul_41 (3/3 flops)\n",
            "  MultipleGridAnchorGenerator/mul_16 (3/3 flops)\n",
            "  MultipleGridAnchorGenerator/mul_15 (3/3 flops)\n",
            "  MultipleGridAnchorGenerator/mul_14 (3/3 flops)\n",
            "  MultipleGridAnchorGenerator/truediv_14 (3/3 flops)\n",
            "  MultipleGridAnchorGenerator/mul_50 (2/2 flops)\n",
            "  MultipleGridAnchorGenerator/mul_49 (2/2 flops)\n",
            "  Postprocessor/BatchMultiClassNonMaxSuppression/map/while/PadOrClipBoxList/sub (1/1 flops)\n",
            "  Postprocessor/BatchMultiClassNonMaxSuppression/map/while/PadOrClipBoxList/Greater_9 (1/1 flops)\n",
            "  Postprocessor/BatchMultiClassNonMaxSuppression/map/while/MultiClassNonMaxSuppression/Minimum_1 (1/1 flops)\n",
            "  Postprocessor/BatchMultiClassNonMaxSuppression/map/while/PadOrClipBoxList/Greater_8 (1/1 flops)\n",
            "  Postprocessor/BatchMultiClassNonMaxSuppression/map/while/PadOrClipBoxList/Greater_7 (1/1 flops)\n",
            "  Postprocessor/BatchMultiClassNonMaxSuppression/map/while/PadOrClipBoxList/Greater_6 (1/1 flops)\n",
            "  Postprocessor/BatchMultiClassNonMaxSuppression/map/while/PadOrClipBoxList/Greater_5 (1/1 flops)\n",
            "  Postprocessor/BatchMultiClassNonMaxSuppression/map/while/PadOrClipBoxList/Greater_4 (1/1 flops)\n",
            "  Postprocessor/BatchMultiClassNonMaxSuppression/map/while/PadOrClipBoxList/Greater_3 (1/1 flops)\n",
            "  Postprocessor/BatchMultiClassNonMaxSuppression/map/while/PadOrClipBoxList/Greater_2 (1/1 flops)\n",
            "  Postprocessor/BatchMultiClassNonMaxSuppression/map/while/PadOrClipBoxList/Greater_1 (1/1 flops)\n",
            "  Postprocessor/BatchMultiClassNonMaxSuppression/map/while/PadOrClipBoxList/Greater (1/1 flops)\n",
            "  Postprocessor/BatchMultiClassNonMaxSuppression/map/while/MultiClassNonMaxSuppression/sub_1 (1/1 flops)\n",
            "  Postprocessor/BatchMultiClassNonMaxSuppression/map/while/MultiClassNonMaxSuppression/sub (1/1 flops)\n",
            "  Postprocessor/BatchMultiClassNonMaxSuppression/map/while/MultiClassNonMaxSuppression/SortByField_1/Equal (1/1 flops)\n",
            "  Postprocessor/BatchMultiClassNonMaxSuppression/map/while/MultiClassNonMaxSuppression/SortByField/Equal (1/1 flops)\n",
            "  Preprocessor/map/while/Less_1 (1/1 flops)\n",
            "  Postprocessor/BatchMultiClassNonMaxSuppression/map/while/PadOrClipBoxList/sub_2 (1/1 flops)\n",
            "  MultipleGridAnchorGenerator/Minimum (1/1 flops)\n",
            "  Preprocessor/map/while/Less (1/1 flops)\n",
            "  Postprocessor/BatchMultiClassNonMaxSuppression/ones/Less (1/1 flops)\n",
            "  Postprocessor/BatchMultiClassNonMaxSuppression/map/while/PadOrClipBoxList/sub_9 (1/1 flops)\n",
            "  Postprocessor/BatchMultiClassNonMaxSuppression/map/while/PadOrClipBoxList/sub_8 (1/1 flops)\n",
            "  Postprocessor/BatchMultiClassNonMaxSuppression/map/while/PadOrClipBoxList/sub_7 (1/1 flops)\n",
            "  Postprocessor/BatchMultiClassNonMaxSuppression/map/while/PadOrClipBoxList/sub_6 (1/1 flops)\n",
            "  Postprocessor/BatchMultiClassNonMaxSuppression/map/while/PadOrClipBoxList/sub_5 (1/1 flops)\n",
            "  Postprocessor/BatchMultiClassNonMaxSuppression/map/while/PadOrClipBoxList/sub_4 (1/1 flops)\n",
            "  Postprocessor/BatchMultiClassNonMaxSuppression/map/while/PadOrClipBoxList/sub_3 (1/1 flops)\n",
            "  Postprocessor/BatchMultiClassNonMaxSuppression/map/while/PadOrClipBoxList/sub_1 (1/1 flops)\n",
            "  Postprocessor/BatchMultiClassNonMaxSuppression/map/while/PadOrClipBoxList/sub_19 (1/1 flops)\n",
            "  Postprocessor/BatchMultiClassNonMaxSuppression/map/while/PadOrClipBoxList/sub_18 (1/1 flops)\n",
            "  Postprocessor/BatchMultiClassNonMaxSuppression/map/while/PadOrClipBoxList/sub_17 (1/1 flops)\n",
            "  Postprocessor/BatchMultiClassNonMaxSuppression/map/while/PadOrClipBoxList/sub_16 (1/1 flops)\n",
            "  Postprocessor/BatchMultiClassNonMaxSuppression/map/while/PadOrClipBoxList/sub_15 (1/1 flops)\n",
            "  Postprocessor/BatchMultiClassNonMaxSuppression/map/while/PadOrClipBoxList/sub_14 (1/1 flops)\n",
            "  Postprocessor/BatchMultiClassNonMaxSuppression/map/while/PadOrClipBoxList/sub_13 (1/1 flops)\n",
            "  Postprocessor/BatchMultiClassNonMaxSuppression/map/while/PadOrClipBoxList/sub_12 (1/1 flops)\n",
            "  Postprocessor/BatchMultiClassNonMaxSuppression/map/while/PadOrClipBoxList/sub_11 (1/1 flops)\n",
            "  Postprocessor/BatchMultiClassNonMaxSuppression/map/while/PadOrClipBoxList/sub_10 (1/1 flops)\n",
            "  MultipleGridAnchorGenerator/mul_4 (1/1 flops)\n",
            "  MultipleGridAnchorGenerator/truediv_1 (1/1 flops)\n",
            "  MultipleGridAnchorGenerator/truediv (1/1 flops)\n",
            "  MultipleGridAnchorGenerator/mul_9 (1/1 flops)\n",
            "  MultipleGridAnchorGenerator/mul_8 (1/1 flops)\n",
            "  MultipleGridAnchorGenerator/mul_7 (1/1 flops)\n",
            "  MultipleGridAnchorGenerator/mul_6 (1/1 flops)\n",
            "  MultipleGridAnchorGenerator/mul_58 (1/1 flops)\n",
            "  MultipleGridAnchorGenerator/mul_57 (1/1 flops)\n",
            "  MultipleGridAnchorGenerator/mul_5 (1/1 flops)\n",
            "  MultipleGridAnchorGenerator/truediv_10 (1/1 flops)\n",
            "  MultipleGridAnchorGenerator/mul_3 (1/1 flops)\n",
            "  MultipleGridAnchorGenerator/mul_2 (1/1 flops)\n",
            "  MultipleGridAnchorGenerator/mul_13 (1/1 flops)\n",
            "  MultipleGridAnchorGenerator/mul_12 (1/1 flops)\n",
            "  MultipleGridAnchorGenerator/mul_11 (1/1 flops)\n",
            "  MultipleGridAnchorGenerator/mul_10 (1/1 flops)\n",
            "  MultipleGridAnchorGenerator/mul_1 (1/1 flops)\n",
            "  MultipleGridAnchorGenerator/mul (1/1 flops)\n",
            "  MultipleGridAnchorGenerator/assert_equal_1/Equal (1/1 flops)\n",
            "  MultipleGridAnchorGenerator/truediv_7 (1/1 flops)\n",
            "  Postprocessor/BatchMultiClassNonMaxSuppression/map/while/MultiClassNonMaxSuppression/Greater (1/1 flops)\n",
            "  Postprocessor/BatchMultiClassNonMaxSuppression/map/while/MultiClassNonMaxSuppression/ChangeCoordinateFrame/truediv_1 (1/1 flops)\n",
            "  Postprocessor/BatchMultiClassNonMaxSuppression/map/while/MultiClassNonMaxSuppression/ChangeCoordinateFrame/truediv (1/1 flops)\n",
            "  Postprocessor/BatchMultiClassNonMaxSuppression/map/while/MultiClassNonMaxSuppression/ChangeCoordinateFrame/sub_1 (1/1 flops)\n",
            "  Postprocessor/BatchMultiClassNonMaxSuppression/map/while/MultiClassNonMaxSuppression/ChangeCoordinateFrame/sub (1/1 flops)\n",
            "  Postprocessor/BatchMultiClassNonMaxSuppression/map/while/Less_1 (1/1 flops)\n",
            "  Postprocessor/BatchMultiClassNonMaxSuppression/map/while/Less (1/1 flops)\n",
            "  MultipleGridAnchorGenerator/truediv_9 (1/1 flops)\n",
            "  MultipleGridAnchorGenerator/truediv_8 (1/1 flops)\n",
            "  Postprocessor/BatchMultiClassNonMaxSuppression/map/while/MultiClassNonMaxSuppression/Minimum (1/1 flops)\n",
            "  MultipleGridAnchorGenerator/truediv_6 (1/1 flops)\n",
            "  MultipleGridAnchorGenerator/truediv_5 (1/1 flops)\n",
            "  MultipleGridAnchorGenerator/truediv_4 (1/1 flops)\n",
            "  MultipleGridAnchorGenerator/truediv_3 (1/1 flops)\n",
            "  MultipleGridAnchorGenerator/truediv_2 (1/1 flops)\n",
            "  MultipleGridAnchorGenerator/truediv_13 (1/1 flops)\n",
            "  MultipleGridAnchorGenerator/truediv_12 (1/1 flops)\n",
            "  MultipleGridAnchorGenerator/truediv_11 (1/1 flops)\n",
            "\n",
            "======================End of Report==========================\n",
            "2020-07-20 09:42:19.193307: I tensorflow/stream_executor/platform/default/dso_loader.cc:44] Successfully opened dynamic library libcuda.so.1\n",
            "2020-07-20 09:42:19.212095: I tensorflow/stream_executor/cuda/cuda_gpu_executor.cc:983] successful NUMA node read from SysFS had negative value (-1), but there must be at least one NUMA node, so returning NUMA node zero\n",
            "2020-07-20 09:42:19.212861: I tensorflow/core/common_runtime/gpu/gpu_device.cc:1639] Found device 0 with properties: \n",
            "name: Tesla K80 major: 3 minor: 7 memoryClockRate(GHz): 0.8235\n",
            "pciBusID: 0000:00:04.0\n",
            "2020-07-20 09:42:19.213149: I tensorflow/stream_executor/platform/default/dso_loader.cc:44] Successfully opened dynamic library libcudart.so.10.1\n",
            "2020-07-20 09:42:19.214853: I tensorflow/stream_executor/platform/default/dso_loader.cc:44] Successfully opened dynamic library libcublas.so.10\n",
            "2020-07-20 09:42:19.216541: I tensorflow/stream_executor/platform/default/dso_loader.cc:44] Successfully opened dynamic library libcufft.so.10\n",
            "2020-07-20 09:42:19.216897: I tensorflow/stream_executor/platform/default/dso_loader.cc:44] Successfully opened dynamic library libcurand.so.10\n",
            "2020-07-20 09:42:19.234167: I tensorflow/stream_executor/platform/default/dso_loader.cc:44] Successfully opened dynamic library libcusolver.so.10\n",
            "2020-07-20 09:42:19.252806: I tensorflow/stream_executor/platform/default/dso_loader.cc:44] Successfully opened dynamic library libcusparse.so.10\n",
            "2020-07-20 09:42:19.273934: I tensorflow/stream_executor/platform/default/dso_loader.cc:44] Successfully opened dynamic library libcudnn.so.7\n",
            "2020-07-20 09:42:19.274121: I tensorflow/stream_executor/cuda/cuda_gpu_executor.cc:983] successful NUMA node read from SysFS had negative value (-1), but there must be at least one NUMA node, so returning NUMA node zero\n",
            "2020-07-20 09:42:19.275070: I tensorflow/stream_executor/cuda/cuda_gpu_executor.cc:983] successful NUMA node read from SysFS had negative value (-1), but there must be at least one NUMA node, so returning NUMA node zero\n",
            "2020-07-20 09:42:19.275812: I tensorflow/core/common_runtime/gpu/gpu_device.cc:1767] Adding visible gpu devices: 0\n",
            "2020-07-20 09:42:19.283883: I tensorflow/core/platform/profile_utils/cpu_utils.cc:94] CPU Frequency: 2300000000 Hz\n",
            "2020-07-20 09:42:19.284170: I tensorflow/compiler/xla/service/service.cc:168] XLA service 0x2216bc0 initialized for platform Host (this does not guarantee that XLA will be used). Devices:\n",
            "2020-07-20 09:42:19.284213: I tensorflow/compiler/xla/service/service.cc:176]   StreamExecutor device (0): Host, Default Version\n",
            "2020-07-20 09:42:19.348602: I tensorflow/stream_executor/cuda/cuda_gpu_executor.cc:983] successful NUMA node read from SysFS had negative value (-1), but there must be at least one NUMA node, so returning NUMA node zero\n",
            "2020-07-20 09:42:19.349440: I tensorflow/compiler/xla/service/service.cc:168] XLA service 0x2216f40 initialized for platform CUDA (this does not guarantee that XLA will be used). Devices:\n",
            "2020-07-20 09:42:19.349474: I tensorflow/compiler/xla/service/service.cc:176]   StreamExecutor device (0): Tesla K80, Compute Capability 3.7\n",
            "2020-07-20 09:42:19.349762: I tensorflow/stream_executor/cuda/cuda_gpu_executor.cc:983] successful NUMA node read from SysFS had negative value (-1), but there must be at least one NUMA node, so returning NUMA node zero\n",
            "2020-07-20 09:42:19.350458: I tensorflow/core/common_runtime/gpu/gpu_device.cc:1639] Found device 0 with properties: \n",
            "name: Tesla K80 major: 3 minor: 7 memoryClockRate(GHz): 0.8235\n",
            "pciBusID: 0000:00:04.0\n",
            "2020-07-20 09:42:19.350559: I tensorflow/stream_executor/platform/default/dso_loader.cc:44] Successfully opened dynamic library libcudart.so.10.1\n",
            "2020-07-20 09:42:19.350605: I tensorflow/stream_executor/platform/default/dso_loader.cc:44] Successfully opened dynamic library libcublas.so.10\n",
            "2020-07-20 09:42:19.350653: I tensorflow/stream_executor/platform/default/dso_loader.cc:44] Successfully opened dynamic library libcufft.so.10\n",
            "2020-07-20 09:42:19.350693: I tensorflow/stream_executor/platform/default/dso_loader.cc:44] Successfully opened dynamic library libcurand.so.10\n",
            "2020-07-20 09:42:19.350740: I tensorflow/stream_executor/platform/default/dso_loader.cc:44] Successfully opened dynamic library libcusolver.so.10\n",
            "2020-07-20 09:42:19.350780: I tensorflow/stream_executor/platform/default/dso_loader.cc:44] Successfully opened dynamic library libcusparse.so.10\n",
            "2020-07-20 09:42:19.350819: I tensorflow/stream_executor/platform/default/dso_loader.cc:44] Successfully opened dynamic library libcudnn.so.7\n",
            "2020-07-20 09:42:19.350955: I tensorflow/stream_executor/cuda/cuda_gpu_executor.cc:983] successful NUMA node read from SysFS had negative value (-1), but there must be at least one NUMA node, so returning NUMA node zero\n",
            "2020-07-20 09:42:19.351744: I tensorflow/stream_executor/cuda/cuda_gpu_executor.cc:983] successful NUMA node read from SysFS had negative value (-1), but there must be at least one NUMA node, so returning NUMA node zero\n",
            "2020-07-20 09:42:19.352414: I tensorflow/core/common_runtime/gpu/gpu_device.cc:1767] Adding visible gpu devices: 0\n",
            "2020-07-20 09:42:19.352485: I tensorflow/stream_executor/platform/default/dso_loader.cc:44] Successfully opened dynamic library libcudart.so.10.1\n",
            "2020-07-20 09:42:19.354111: I tensorflow/core/common_runtime/gpu/gpu_device.cc:1180] Device interconnect StreamExecutor with strength 1 edge matrix:\n",
            "2020-07-20 09:42:19.354144: I tensorflow/core/common_runtime/gpu/gpu_device.cc:1186]      0 \n",
            "2020-07-20 09:42:19.354161: I tensorflow/core/common_runtime/gpu/gpu_device.cc:1199] 0:   N \n",
            "2020-07-20 09:42:19.354334: I tensorflow/stream_executor/cuda/cuda_gpu_executor.cc:983] successful NUMA node read from SysFS had negative value (-1), but there must be at least one NUMA node, so returning NUMA node zero\n",
            "2020-07-20 09:42:19.355145: I tensorflow/stream_executor/cuda/cuda_gpu_executor.cc:983] successful NUMA node read from SysFS had negative value (-1), but there must be at least one NUMA node, so returning NUMA node zero\n",
            "2020-07-20 09:42:19.355904: W tensorflow/core/common_runtime/gpu/gpu_bfc_allocator.cc:39] Overriding allow_growth setting because the TF_FORCE_GPU_ALLOW_GROWTH environment variable is set. Original config value was 0.\n",
            "2020-07-20 09:42:19.355961: I tensorflow/core/common_runtime/gpu/gpu_device.cc:1325] Created TensorFlow device (/job:localhost/replica:0/task:0/device:GPU:0 with 10805 MB memory) -> physical GPU (device: 0, name: Tesla K80, pci bus id: 0000:00:04.0, compute capability: 3.7)\n",
            "INFO:tensorflow:Restoring parameters from training/model.ckpt-0\n",
            "I0720 09:42:19.357776 140038348003200 saver.py:1284] Restoring parameters from training/model.ckpt-0\n",
            "WARNING:tensorflow:From /tensorflow-1.15.2/python3.6/tensorflow_core/python/tools/freeze_graph.py:127: checkpoint_exists (from tensorflow.python.training.checkpoint_management) is deprecated and will be removed in a future version.\n",
            "Instructions for updating:\n",
            "Use standard file APIs to check for files with this prefix.\n",
            "W0720 09:42:20.994196 140038348003200 deprecation.py:323] From /tensorflow-1.15.2/python3.6/tensorflow_core/python/tools/freeze_graph.py:127: checkpoint_exists (from tensorflow.python.training.checkpoint_management) is deprecated and will be removed in a future version.\n",
            "Instructions for updating:\n",
            "Use standard file APIs to check for files with this prefix.\n",
            "2020-07-20 09:42:21.668147: I tensorflow/stream_executor/cuda/cuda_gpu_executor.cc:983] successful NUMA node read from SysFS had negative value (-1), but there must be at least one NUMA node, so returning NUMA node zero\n",
            "2020-07-20 09:42:21.668928: I tensorflow/core/common_runtime/gpu/gpu_device.cc:1639] Found device 0 with properties: \n",
            "name: Tesla K80 major: 3 minor: 7 memoryClockRate(GHz): 0.8235\n",
            "pciBusID: 0000:00:04.0\n",
            "2020-07-20 09:42:21.669037: I tensorflow/stream_executor/platform/default/dso_loader.cc:44] Successfully opened dynamic library libcudart.so.10.1\n",
            "2020-07-20 09:42:21.669088: I tensorflow/stream_executor/platform/default/dso_loader.cc:44] Successfully opened dynamic library libcublas.so.10\n",
            "2020-07-20 09:42:21.669140: I tensorflow/stream_executor/platform/default/dso_loader.cc:44] Successfully opened dynamic library libcufft.so.10\n",
            "2020-07-20 09:42:21.669195: I tensorflow/stream_executor/platform/default/dso_loader.cc:44] Successfully opened dynamic library libcurand.so.10\n",
            "2020-07-20 09:42:21.669236: I tensorflow/stream_executor/platform/default/dso_loader.cc:44] Successfully opened dynamic library libcusolver.so.10\n",
            "2020-07-20 09:42:21.669281: I tensorflow/stream_executor/platform/default/dso_loader.cc:44] Successfully opened dynamic library libcusparse.so.10\n",
            "2020-07-20 09:42:21.669326: I tensorflow/stream_executor/platform/default/dso_loader.cc:44] Successfully opened dynamic library libcudnn.so.7\n",
            "2020-07-20 09:42:21.669501: I tensorflow/stream_executor/cuda/cuda_gpu_executor.cc:983] successful NUMA node read from SysFS had negative value (-1), but there must be at least one NUMA node, so returning NUMA node zero\n",
            "2020-07-20 09:42:21.670286: I tensorflow/stream_executor/cuda/cuda_gpu_executor.cc:983] successful NUMA node read from SysFS had negative value (-1), but there must be at least one NUMA node, so returning NUMA node zero\n",
            "2020-07-20 09:42:21.670996: I tensorflow/core/common_runtime/gpu/gpu_device.cc:1767] Adding visible gpu devices: 0\n",
            "2020-07-20 09:42:21.671047: I tensorflow/core/common_runtime/gpu/gpu_device.cc:1180] Device interconnect StreamExecutor with strength 1 edge matrix:\n",
            "2020-07-20 09:42:21.671071: I tensorflow/core/common_runtime/gpu/gpu_device.cc:1186]      0 \n",
            "2020-07-20 09:42:21.671086: I tensorflow/core/common_runtime/gpu/gpu_device.cc:1199] 0:   N \n",
            "2020-07-20 09:42:21.671234: I tensorflow/stream_executor/cuda/cuda_gpu_executor.cc:983] successful NUMA node read from SysFS had negative value (-1), but there must be at least one NUMA node, so returning NUMA node zero\n",
            "2020-07-20 09:42:21.672020: I tensorflow/stream_executor/cuda/cuda_gpu_executor.cc:983] successful NUMA node read from SysFS had negative value (-1), but there must be at least one NUMA node, so returning NUMA node zero\n",
            "2020-07-20 09:42:21.672811: I tensorflow/core/common_runtime/gpu/gpu_device.cc:1325] Created TensorFlow device (/job:localhost/replica:0/task:0/device:GPU:0 with 10805 MB memory) -> physical GPU (device: 0, name: Tesla K80, pci bus id: 0000:00:04.0, compute capability: 3.7)\n",
            "INFO:tensorflow:Restoring parameters from training/model.ckpt-0\n",
            "I0720 09:42:21.673914 140038348003200 saver.py:1284] Restoring parameters from training/model.ckpt-0\n",
            "WARNING:tensorflow:From /tensorflow-1.15.2/python3.6/tensorflow_core/python/tools/freeze_graph.py:233: convert_variables_to_constants (from tensorflow.python.framework.graph_util_impl) is deprecated and will be removed in a future version.\n",
            "Instructions for updating:\n",
            "Use `tf.compat.v1.graph_util.convert_variables_to_constants`\n",
            "W0720 09:42:22.316802 140038348003200 deprecation.py:323] From /tensorflow-1.15.2/python3.6/tensorflow_core/python/tools/freeze_graph.py:233: convert_variables_to_constants (from tensorflow.python.framework.graph_util_impl) is deprecated and will be removed in a future version.\n",
            "Instructions for updating:\n",
            "Use `tf.compat.v1.graph_util.convert_variables_to_constants`\n",
            "WARNING:tensorflow:From /tensorflow-1.15.2/python3.6/tensorflow_core/python/framework/graph_util_impl.py:277: extract_sub_graph (from tensorflow.python.framework.graph_util_impl) is deprecated and will be removed in a future version.\n",
            "Instructions for updating:\n",
            "Use `tf.compat.v1.graph_util.extract_sub_graph`\n",
            "W0720 09:42:22.317124 140038348003200 deprecation.py:323] From /tensorflow-1.15.2/python3.6/tensorflow_core/python/framework/graph_util_impl.py:277: extract_sub_graph (from tensorflow.python.framework.graph_util_impl) is deprecated and will be removed in a future version.\n",
            "Instructions for updating:\n",
            "Use `tf.compat.v1.graph_util.extract_sub_graph`\n",
            "INFO:tensorflow:Froze 324 variables.\n",
            "I0720 09:42:22.685947 140038348003200 graph_util_impl.py:334] Froze 324 variables.\n",
            "INFO:tensorflow:Converted 324 variables to const ops.\n",
            "I0720 09:42:22.775456 140038348003200 graph_util_impl.py:394] Converted 324 variables to const ops.\n",
            "2020-07-20 09:42:22.902746: I tensorflow/stream_executor/cuda/cuda_gpu_executor.cc:983] successful NUMA node read from SysFS had negative value (-1), but there must be at least one NUMA node, so returning NUMA node zero\n",
            "2020-07-20 09:42:22.903479: I tensorflow/core/common_runtime/gpu/gpu_device.cc:1639] Found device 0 with properties: \n",
            "name: Tesla K80 major: 3 minor: 7 memoryClockRate(GHz): 0.8235\n",
            "pciBusID: 0000:00:04.0\n",
            "2020-07-20 09:42:22.903599: I tensorflow/stream_executor/platform/default/dso_loader.cc:44] Successfully opened dynamic library libcudart.so.10.1\n",
            "2020-07-20 09:42:22.903643: I tensorflow/stream_executor/platform/default/dso_loader.cc:44] Successfully opened dynamic library libcublas.so.10\n",
            "2020-07-20 09:42:22.903692: I tensorflow/stream_executor/platform/default/dso_loader.cc:44] Successfully opened dynamic library libcufft.so.10\n",
            "2020-07-20 09:42:22.903734: I tensorflow/stream_executor/platform/default/dso_loader.cc:44] Successfully opened dynamic library libcurand.so.10\n",
            "2020-07-20 09:42:22.903773: I tensorflow/stream_executor/platform/default/dso_loader.cc:44] Successfully opened dynamic library libcusolver.so.10\n",
            "2020-07-20 09:42:22.903822: I tensorflow/stream_executor/platform/default/dso_loader.cc:44] Successfully opened dynamic library libcusparse.so.10\n",
            "2020-07-20 09:42:22.903874: I tensorflow/stream_executor/platform/default/dso_loader.cc:44] Successfully opened dynamic library libcudnn.so.7\n",
            "2020-07-20 09:42:22.904040: I tensorflow/stream_executor/cuda/cuda_gpu_executor.cc:983] successful NUMA node read from SysFS had negative value (-1), but there must be at least one NUMA node, so returning NUMA node zero\n",
            "2020-07-20 09:42:22.905863: I tensorflow/stream_executor/cuda/cuda_gpu_executor.cc:983] successful NUMA node read from SysFS had negative value (-1), but there must be at least one NUMA node, so returning NUMA node zero\n",
            "2020-07-20 09:42:22.906663: I tensorflow/core/common_runtime/gpu/gpu_device.cc:1767] Adding visible gpu devices: 0\n",
            "2020-07-20 09:42:22.906729: I tensorflow/core/common_runtime/gpu/gpu_device.cc:1180] Device interconnect StreamExecutor with strength 1 edge matrix:\n",
            "2020-07-20 09:42:22.906757: I tensorflow/core/common_runtime/gpu/gpu_device.cc:1186]      0 \n",
            "2020-07-20 09:42:22.906778: I tensorflow/core/common_runtime/gpu/gpu_device.cc:1199] 0:   N \n",
            "2020-07-20 09:42:22.907002: I tensorflow/stream_executor/cuda/cuda_gpu_executor.cc:983] successful NUMA node read from SysFS had negative value (-1), but there must be at least one NUMA node, so returning NUMA node zero\n",
            "2020-07-20 09:42:22.908523: I tensorflow/stream_executor/cuda/cuda_gpu_executor.cc:983] successful NUMA node read from SysFS had negative value (-1), but there must be at least one NUMA node, so returning NUMA node zero\n",
            "2020-07-20 09:42:22.909805: I tensorflow/core/common_runtime/gpu/gpu_device.cc:1325] Created TensorFlow device (/job:localhost/replica:0/task:0/device:GPU:0 with 10805 MB memory) -> physical GPU (device: 0, name: Tesla K80, pci bus id: 0000:00:04.0, compute capability: 3.7)\n",
            "WARNING:tensorflow:From /content/aeroplane_detection/models/research/object_detection/exporter.py:384: build_tensor_info (from tensorflow.python.saved_model.utils_impl) is deprecated and will be removed in a future version.\n",
            "Instructions for updating:\n",
            "This function will only be available through the v1 compatibility library as tf.compat.v1.saved_model.utils.build_tensor_info or tf.compat.v1.saved_model.build_tensor_info.\n",
            "W0720 09:42:23.544655 140038348003200 deprecation.py:323] From /content/aeroplane_detection/models/research/object_detection/exporter.py:384: build_tensor_info (from tensorflow.python.saved_model.utils_impl) is deprecated and will be removed in a future version.\n",
            "Instructions for updating:\n",
            "This function will only be available through the v1 compatibility library as tf.compat.v1.saved_model.utils.build_tensor_info or tf.compat.v1.saved_model.build_tensor_info.\n",
            "INFO:tensorflow:No assets to save.\n",
            "I0720 09:42:23.545468 140038348003200 builder_impl.py:640] No assets to save.\n",
            "INFO:tensorflow:No assets to write.\n",
            "I0720 09:42:23.545643 140038348003200 builder_impl.py:460] No assets to write.\n",
            "INFO:tensorflow:SavedModel written to: /content/aeroplane_detection/models/research/fine_tuned_model/saved_model/saved_model.pb\n",
            "I0720 09:42:23.834255 140038348003200 builder_impl.py:425] SavedModel written to: /content/aeroplane_detection/models/research/fine_tuned_model/saved_model/saved_model.pb\n",
            "INFO:tensorflow:Writing pipeline config file to /content/aeroplane_detection/models/research/fine_tuned_model/pipeline.config\n",
            "I0720 09:42:23.860822 140038348003200 config_util.py:254] Writing pipeline config file to /content/aeroplane_detection/models/research/fine_tuned_model/pipeline.config\n"
          ],
          "name": "stdout"
        }
      ]
    },
    {
      "cell_type": "code",
      "metadata": {
        "id": "YQ7eu_qEmhN4",
        "colab_type": "code",
        "colab": {
          "base_uri": "https://localhost:8080/",
          "height": 34
        },
        "outputId": "b8caa672-bb11-4a94-825b-dd921445c61f"
      },
      "source": [
        "steps.argmax()"
      ],
      "execution_count": 93,
      "outputs": [
        {
          "output_type": "execute_result",
          "data": {
            "text/plain": [
              "0"
            ]
          },
          "metadata": {
            "tags": []
          },
          "execution_count": 93
        }
      ]
    },
    {
      "cell_type": "code",
      "metadata": {
        "id": "VAH4VKHUms3_",
        "colab_type": "code",
        "colab": {
          "base_uri": "https://localhost:8080/",
          "height": 119
        },
        "outputId": "e64110b0-d1d8-4af4-b9f5-2f2a6d47bfd0"
      },
      "source": [
        "lst = os.listdir(model_dir)\n",
        "lst"
      ],
      "execution_count": 94,
      "outputs": [
        {
          "output_type": "execute_result",
          "data": {
            "text/plain": [
              "['model.ckpt-0.index',\n",
              " 'graph.pbtxt',\n",
              " 'checkpoint',\n",
              " 'events.out.tfevents.1595237967.eb15f2191177',\n",
              " 'model.ckpt-0.meta',\n",
              " 'model.ckpt-0.data-00000-of-00001']"
            ]
          },
          "metadata": {
            "tags": []
          },
          "execution_count": 94
        }
      ]
    },
    {
      "cell_type": "code",
      "metadata": {
        "id": "gH2BOpelm3kP",
        "colab_type": "code",
        "colab": {
          "base_uri": "https://localhost:8080/",
          "height": 34
        },
        "outputId": "09128e2a-2941-41e6-b6e0-608b0cafcf51"
      },
      "source": [
        "import os\n",
        "\n",
        "os.path.isdir('./fine_tuned_model')"
      ],
      "execution_count": 95,
      "outputs": [
        {
          "output_type": "execute_result",
          "data": {
            "text/plain": [
              "True"
            ]
          },
          "metadata": {
            "tags": []
          },
          "execution_count": 95
        }
      ]
    },
    {
      "cell_type": "code",
      "metadata": {
        "id": "aVfTQUalm-3Z",
        "colab_type": "code",
        "colab": {
          "base_uri": "https://localhost:8080/",
          "height": 34
        },
        "outputId": "159f1ef8-6cab-4e80-f7d6-450d1e3501f2"
      },
      "source": [
        "!pwd"
      ],
      "execution_count": 96,
      "outputs": [
        {
          "output_type": "stream",
          "text": [
            "/content/aeroplane_detection/models/research\n"
          ],
          "name": "stdout"
        }
      ]
    },
    {
      "cell_type": "code",
      "metadata": {
        "id": "mdpRBsppnB8R",
        "colab_type": "code",
        "colab": {
          "base_uri": "https://localhost:8080/",
          "height": 17
        },
        "outputId": "37fe6451-5bcd-4176-a217-53fc9bd25320"
      },
      "source": [
        "files.download(output_directory + '/frozen_inference_graph.pb')"
      ],
      "execution_count": 97,
      "outputs": [
        {
          "output_type": "display_data",
          "data": {
            "application/javascript": [
              "\n",
              "    async function download(id, filename, size) {\n",
              "      if (!google.colab.kernel.accessAllowed) {\n",
              "        return;\n",
              "      }\n",
              "      const div = document.createElement('div');\n",
              "      const label = document.createElement('label');\n",
              "      label.textContent = `Downloading \"${filename}\": `;\n",
              "      div.appendChild(label);\n",
              "      const progress = document.createElement('progress');\n",
              "      progress.max = size;\n",
              "      div.appendChild(progress);\n",
              "      document.body.appendChild(div);\n",
              "\n",
              "      const buffers = [];\n",
              "      let downloaded = 0;\n",
              "\n",
              "      const channel = await google.colab.kernel.comms.open(id);\n",
              "      // Send a message to notify the kernel that we're ready.\n",
              "      channel.send({})\n",
              "\n",
              "      for await (const message of channel.messages) {\n",
              "        // Send a message to notify the kernel that we're ready.\n",
              "        channel.send({})\n",
              "        if (message.buffers) {\n",
              "          for (const buffer of message.buffers) {\n",
              "            buffers.push(buffer);\n",
              "            downloaded += buffer.byteLength;\n",
              "            progress.value = downloaded;\n",
              "          }\n",
              "        }\n",
              "      }\n",
              "      const blob = new Blob(buffers, {type: 'application/binary'});\n",
              "      const a = document.createElement('a');\n",
              "      a.href = window.URL.createObjectURL(blob);\n",
              "      a.download = filename;\n",
              "      div.appendChild(a);\n",
              "      a.click();\n",
              "      div.remove();\n",
              "    }\n",
              "  "
            ],
            "text/plain": [
              "<IPython.core.display.Javascript object>"
            ]
          },
          "metadata": {
            "tags": []
          }
        },
        {
          "output_type": "display_data",
          "data": {
            "application/javascript": [
              "download(\"download_62415b54-7782-4a6f-9dda-b7fe085b1677\", \"frozen_inference_graph.pb\", 19156874)"
            ],
            "text/plain": [
              "<IPython.core.display.Javascript object>"
            ]
          },
          "metadata": {
            "tags": []
          }
        }
      ]
    },
    {
      "cell_type": "code",
      "metadata": {
        "id": "r-WI22cYnF2C",
        "colab_type": "code",
        "colab": {
          "base_uri": "https://localhost:8080/",
          "height": 17
        },
        "outputId": "0c301f44-d407-4d6c-cb59-ac03b1eb4f24"
      },
      "source": [
        "#downlaod the label map\n",
        "files.download(DATA_BASE_PATH + '/label_map.pbtxt')"
      ],
      "execution_count": 98,
      "outputs": [
        {
          "output_type": "display_data",
          "data": {
            "application/javascript": [
              "\n",
              "    async function download(id, filename, size) {\n",
              "      if (!google.colab.kernel.accessAllowed) {\n",
              "        return;\n",
              "      }\n",
              "      const div = document.createElement('div');\n",
              "      const label = document.createElement('label');\n",
              "      label.textContent = `Downloading \"${filename}\": `;\n",
              "      div.appendChild(label);\n",
              "      const progress = document.createElement('progress');\n",
              "      progress.max = size;\n",
              "      div.appendChild(progress);\n",
              "      document.body.appendChild(div);\n",
              "\n",
              "      const buffers = [];\n",
              "      let downloaded = 0;\n",
              "\n",
              "      const channel = await google.colab.kernel.comms.open(id);\n",
              "      // Send a message to notify the kernel that we're ready.\n",
              "      channel.send({})\n",
              "\n",
              "      for await (const message of channel.messages) {\n",
              "        // Send a message to notify the kernel that we're ready.\n",
              "        channel.send({})\n",
              "        if (message.buffers) {\n",
              "          for (const buffer of message.buffers) {\n",
              "            buffers.push(buffer);\n",
              "            downloaded += buffer.byteLength;\n",
              "            progress.value = downloaded;\n",
              "          }\n",
              "        }\n",
              "      }\n",
              "      const blob = new Blob(buffers, {type: 'application/binary'});\n",
              "      const a = document.createElement('a');\n",
              "      a.href = window.URL.createObjectURL(blob);\n",
              "      a.download = filename;\n",
              "      div.appendChild(a);\n",
              "      a.click();\n",
              "      div.remove();\n",
              "    }\n",
              "  "
            ],
            "text/plain": [
              "<IPython.core.display.Javascript object>"
            ]
          },
          "metadata": {
            "tags": []
          }
        },
        {
          "output_type": "display_data",
          "data": {
            "application/javascript": [
              "download(\"download_b8410e49-c98b-4468-8280-9ccbe796a68c\", \"label_map.pbtxt\", 71)"
            ],
            "text/plain": [
              "<IPython.core.display.Javascript object>"
            ]
          },
          "metadata": {
            "tags": []
          }
        }
      ]
    },
    {
      "cell_type": "code",
      "metadata": {
        "id": "JlWmWKxnnjm5",
        "colab_type": "code",
        "colab": {
          "base_uri": "https://localhost:8080/",
          "height": 17
        },
        "outputId": "872861e0-222f-4124-9264-351048bd750d"
      },
      "source": [
        "files.download('/content/aeroplane_detection/models/research/fine_tuned_model/model.ckpt.data-00000-of-00001')"
      ],
      "execution_count": 99,
      "outputs": [
        {
          "output_type": "display_data",
          "data": {
            "application/javascript": [
              "\n",
              "    async function download(id, filename, size) {\n",
              "      if (!google.colab.kernel.accessAllowed) {\n",
              "        return;\n",
              "      }\n",
              "      const div = document.createElement('div');\n",
              "      const label = document.createElement('label');\n",
              "      label.textContent = `Downloading \"${filename}\": `;\n",
              "      div.appendChild(label);\n",
              "      const progress = document.createElement('progress');\n",
              "      progress.max = size;\n",
              "      div.appendChild(progress);\n",
              "      document.body.appendChild(div);\n",
              "\n",
              "      const buffers = [];\n",
              "      let downloaded = 0;\n",
              "\n",
              "      const channel = await google.colab.kernel.comms.open(id);\n",
              "      // Send a message to notify the kernel that we're ready.\n",
              "      channel.send({})\n",
              "\n",
              "      for await (const message of channel.messages) {\n",
              "        // Send a message to notify the kernel that we're ready.\n",
              "        channel.send({})\n",
              "        if (message.buffers) {\n",
              "          for (const buffer of message.buffers) {\n",
              "            buffers.push(buffer);\n",
              "            downloaded += buffer.byteLength;\n",
              "            progress.value = downloaded;\n",
              "          }\n",
              "        }\n",
              "      }\n",
              "      const blob = new Blob(buffers, {type: 'application/binary'});\n",
              "      const a = document.createElement('a');\n",
              "      a.href = window.URL.createObjectURL(blob);\n",
              "      a.download = filename;\n",
              "      div.appendChild(a);\n",
              "      a.click();\n",
              "      div.remove();\n",
              "    }\n",
              "  "
            ],
            "text/plain": [
              "<IPython.core.display.Javascript object>"
            ]
          },
          "metadata": {
            "tags": []
          }
        },
        {
          "output_type": "display_data",
          "data": {
            "application/javascript": [
              "download(\"download_2cbf65a5-87f6-4716-bed1-27b96ccdf4ad\", \"model.ckpt.data-00000-of-00001\", 18594336)"
            ],
            "text/plain": [
              "<IPython.core.display.Javascript object>"
            ]
          },
          "metadata": {
            "tags": []
          }
        }
      ]
    },
    {
      "cell_type": "code",
      "metadata": {
        "id": "97eiaQNMntuR",
        "colab_type": "code",
        "colab": {}
      },
      "source": [
        "import tensorflow as tf\n",
        "\n",
        "def load_graph(frozen_graph_filename):\n",
        "    # We load the protobuf file from the disk and parse it to retrieve the \n",
        "    # unserialized graph_def\n",
        "    with tf.gfile.GFile(frozen_graph_filename, \"rb\") as f:\n",
        "        graph_def = tf.GraphDef()\n",
        "        graph_def.ParseFromString(f.read())\n",
        "\n",
        "    # Then, we import the graph_def into a new Graph and returns it \n",
        "    with tf.Graph().as_default() as graph:\n",
        "        # The name var will prefix every op/nodes in your graph\n",
        "        # Since we load everything in a new graph, this is not needed\n",
        "        tf.import_graph_def(graph_def, name=\"prefix\")\n",
        "    return graph"
      ],
      "execution_count": 100,
      "outputs": []
    },
    {
      "cell_type": "code",
      "metadata": {
        "id": "TCVf0jthoZCo",
        "colab_type": "code",
        "colab": {
          "base_uri": "https://localhost:8080/",
          "height": 34
        },
        "outputId": "30aca43a-f2c3-4642-ba1e-2eeb5f399aa9"
      },
      "source": [
        "gr = load_graph('/content/aeroplane_detection/models/research/fine_tuned_model/frozen_inference_graph.pb')\n",
        "gr"
      ],
      "execution_count": 101,
      "outputs": [
        {
          "output_type": "execute_result",
          "data": {
            "text/plain": [
              "<tensorflow.python.framework.ops.Graph at 0x7f33b5e1a668>"
            ]
          },
          "metadata": {
            "tags": []
          },
          "execution_count": 101
        }
      ]
    },
    {
      "cell_type": "code",
      "metadata": {
        "id": "R_7BDwUbogw-",
        "colab_type": "code",
        "colab": {
          "base_uri": "https://localhost:8080/",
          "height": 1000
        },
        "outputId": "99e87a78-b1b8-4995-da40-cfc13b60eb80"
      },
      "source": [
        "dir(gr)"
      ],
      "execution_count": 102,
      "outputs": [
        {
          "output_type": "execute_result",
          "data": {
            "text/plain": [
              "['_ControlDependenciesController',\n",
              " '__class__',\n",
              " '__delattr__',\n",
              " '__dict__',\n",
              " '__dir__',\n",
              " '__doc__',\n",
              " '__eq__',\n",
              " '__format__',\n",
              " '__ge__',\n",
              " '__getattribute__',\n",
              " '__gt__',\n",
              " '__hash__',\n",
              " '__init__',\n",
              " '__init_subclass__',\n",
              " '__le__',\n",
              " '__lt__',\n",
              " '__module__',\n",
              " '__ne__',\n",
              " '__new__',\n",
              " '__reduce__',\n",
              " '__reduce_ex__',\n",
              " '__repr__',\n",
              " '__setattr__',\n",
              " '__sizeof__',\n",
              " '__str__',\n",
              " '__subclasshook__',\n",
              " '__weakref__',\n",
              " '_add_control_dependencies',\n",
              " '_add_device_to_stack',\n",
              " '_add_function',\n",
              " '_add_new_tf_operations',\n",
              " '_add_op',\n",
              " '_apply_device_functions',\n",
              " '_as_graph_def',\n",
              " '_as_graph_element_locked',\n",
              " '_attr_scope',\n",
              " '_attr_scope_map',\n",
              " '_auto_cast_variable_read_dtype',\n",
              " '_bcast_grad_args_cache',\n",
              " '_building_function',\n",
              " '_c_graph',\n",
              " '_check_not_finalized',\n",
              " '_collections',\n",
              " '_colocate_with_for_gradient',\n",
              " '_colocation_stack',\n",
              " '_container',\n",
              " '_control_dependencies_for_inputs',\n",
              " '_control_dependencies_stack',\n",
              " '_control_flow_context',\n",
              " '_copy_functions_to_graph_def',\n",
              " '_create_op_from_tf_operation',\n",
              " '_create_op_helper',\n",
              " '_create_op_internal',\n",
              " '_current_control_dependencies',\n",
              " '_default_original_op',\n",
              " '_device_function_stack',\n",
              " '_device_functions_outer_to_inner',\n",
              " '_distribution_strategy_stack',\n",
              " '_enable_auto_casting_variables',\n",
              " '_finalized',\n",
              " '_functions',\n",
              " '_get_control_flow_context',\n",
              " '_get_function',\n",
              " '_get_op_def',\n",
              " '_get_operation_by_name_unsafe',\n",
              " '_get_operation_by_tf_operation',\n",
              " '_get_tensor_by_tf_output',\n",
              " '_global_distribute_strategy_scope',\n",
              " '_gradient_override_map',\n",
              " '_graph_colocation_stack',\n",
              " '_graph_control_dependencies_stack',\n",
              " '_graph_def_versions',\n",
              " '_graph_device_function_stack',\n",
              " '_graph_key',\n",
              " '_group_lock',\n",
              " '_handle_deleters',\n",
              " '_handle_feeders',\n",
              " '_handle_movers',\n",
              " '_handle_readers',\n",
              " '_is_function',\n",
              " '_is_loss_scaled_by_optimizer',\n",
              " '_kernel_label_map',\n",
              " '_last_id',\n",
              " '_last_loss_reduction',\n",
              " '_lock',\n",
              " '_mutation_lock',\n",
              " '_name_stack',\n",
              " '_names_in_use',\n",
              " '_next_id',\n",
              " '_next_id_counter',\n",
              " '_nodes_by_id',\n",
              " '_nodes_by_name',\n",
              " '_op_def_cache',\n",
              " '_op_to_kernel_label_map',\n",
              " '_original_op',\n",
              " '_pop_control_dependencies_controller',\n",
              " '_push_control_dependencies_controller',\n",
              " '_record_op_seen_by_control_dependencies',\n",
              " '_reduced_shape_cache',\n",
              " '_registered_ops',\n",
              " '_scoped_c_graph',\n",
              " '_seed',\n",
              " '_session_run_lock',\n",
              " '_set_control_flow_context',\n",
              " '_snapshot_colocation_stack_metadata',\n",
              " '_snapshot_device_function_stack_metadata',\n",
              " '_stack_state_is_thread_local',\n",
              " '_tf_api_names',\n",
              " '_tf_api_names_v1',\n",
              " '_thread_local',\n",
              " '_unfeedable_tensors',\n",
              " '_unfetchable_ops',\n",
              " '_unsafe_unfinalize',\n",
              " '_variable_creator_scope',\n",
              " '_variable_creator_stack',\n",
              " '_version',\n",
              " 'add_to_collection',\n",
              " 'add_to_collections',\n",
              " 'as_default',\n",
              " 'as_graph_def',\n",
              " 'as_graph_element',\n",
              " 'building_function',\n",
              " 'clear_collection',\n",
              " 'collections',\n",
              " 'colocate_with',\n",
              " 'container',\n",
              " 'control_dependencies',\n",
              " 'create_op',\n",
              " 'device',\n",
              " 'finalize',\n",
              " 'finalized',\n",
              " 'get_all_collection_keys',\n",
              " 'get_collection',\n",
              " 'get_collection_ref',\n",
              " 'get_name_scope',\n",
              " 'get_operation_by_name',\n",
              " 'get_operations',\n",
              " 'get_tensor_by_name',\n",
              " 'gradient_override_map',\n",
              " 'graph_def_versions',\n",
              " 'is_feedable',\n",
              " 'is_fetchable',\n",
              " 'name_scope',\n",
              " 'prevent_feeding',\n",
              " 'prevent_fetching',\n",
              " 'seed',\n",
              " 'switch_to_thread_local',\n",
              " 'unique_name',\n",
              " 'version']"
            ]
          },
          "metadata": {
            "tags": []
          },
          "execution_count": 102
        }
      ]
    },
    {
      "cell_type": "code",
      "metadata": {
        "id": "CtcqzKd0onGf",
        "colab_type": "code",
        "colab": {
          "base_uri": "https://localhost:8080/",
          "height": 51
        },
        "outputId": "cd26e2b2-a855-4af5-ff4b-ad5fa589cd18"
      },
      "source": [
        "for op in gr.get_operations():\n",
        "        print(\"Operation Name :\",op.name)       # Operation name\n",
        "        print(\"Tensor Stats :\",str(op.values()) )\n",
        "        break"
      ],
      "execution_count": 103,
      "outputs": [
        {
          "output_type": "stream",
          "text": [
            "Operation Name : prefix/image_tensor\n",
            "Tensor Stats : (<tf.Tensor 'prefix/image_tensor:0' shape=(?, ?, ?, 3) dtype=uint8>,)\n"
          ],
          "name": "stdout"
        }
      ]
    },
    {
      "cell_type": "code",
      "metadata": {
        "id": "fvRVA95cozhf",
        "colab_type": "code",
        "colab": {
          "base_uri": "https://localhost:8080/",
          "height": 34
        },
        "outputId": "c017759c-9eb3-46d8-e378-079188d2c7a6"
      },
      "source": [
        "with tf.io.gfile.GFile('/content/aeroplane_detection/data/images/42847.jpg', 'rb') as fid:\n",
        "\t\t\t\tencoded_jpg = fid.read()\n",
        "encoded_jpg_io = io.BytesIO(encoded_jpg)\n",
        "image = Image.open(encoded_jpg_io)\n",
        "type(image)"
      ],
      "execution_count": 106,
      "outputs": [
        {
          "output_type": "execute_result",
          "data": {
            "text/plain": [
              "PIL.JpegImagePlugin.JpegImageFile"
            ]
          },
          "metadata": {
            "tags": []
          },
          "execution_count": 106
        }
      ]
    },
    {
      "cell_type": "code",
      "metadata": {
        "id": "VE4_gzTnpA1a",
        "colab_type": "code",
        "colab": {
          "base_uri": "https://localhost:8080/",
          "height": 34
        },
        "outputId": "240c679a-6fc8-4cf5-fa34-c45d75288638"
      },
      "source": [
        "ch = gr.get_operation_by_name(\"prefix/image_tensor\")\n",
        "ch"
      ],
      "execution_count": 107,
      "outputs": [
        {
          "output_type": "execute_result",
          "data": {
            "text/plain": [
              "<tf.Operation 'prefix/image_tensor' type=Placeholder>"
            ]
          },
          "metadata": {
            "tags": []
          },
          "execution_count": 107
        }
      ]
    },
    {
      "cell_type": "code",
      "metadata": {
        "id": "rss1OluAqM8U",
        "colab_type": "code",
        "colab": {
          "base_uri": "https://localhost:8080/",
          "height": 306
        },
        "outputId": "96732797-0202-43bc-db7f-9294f5311e0c"
      },
      "source": [
        "help(gr.get_operation_by_name)"
      ],
      "execution_count": 108,
      "outputs": [
        {
          "output_type": "stream",
          "text": [
            "Help on method get_operation_by_name in module tensorflow.python.framework.ops:\n",
            "\n",
            "get_operation_by_name(name) method of tensorflow.python.framework.ops.Graph instance\n",
            "    Returns the `Operation` with the given `name`.\n",
            "    \n",
            "    This method may be called concurrently from multiple threads.\n",
            "    \n",
            "    Args:\n",
            "      name: The name of the `Operation` to return.\n",
            "    \n",
            "    Returns:\n",
            "      The `Operation` with the given `name`.\n",
            "    \n",
            "    Raises:\n",
            "      TypeError: If `name` is not a string.\n",
            "      KeyError: If `name` does not correspond to an operation in this graph.\n",
            "\n"
          ],
          "name": "stdout"
        }
      ]
    },
    {
      "cell_type": "code",
      "metadata": {
        "id": "kmPPkv_gqWwa",
        "colab_type": "code",
        "colab": {}
      },
      "source": [
        "l_input = gr.get_tensor_by_name('prefix/image_tensor:0')\n",
        "l_output = gr.get_tensor_by_name('prefix/raw_detection_scores:0')"
      ],
      "execution_count": 109,
      "outputs": []
    },
    {
      "cell_type": "code",
      "metadata": {
        "id": "nlujowA6qd-i",
        "colab_type": "code",
        "colab": {
          "base_uri": "https://localhost:8080/",
          "height": 34
        },
        "outputId": "57b2b384-c9fc-4e7d-f51f-9d42855f38ad"
      },
      "source": [
        "l_input"
      ],
      "execution_count": 110,
      "outputs": [
        {
          "output_type": "execute_result",
          "data": {
            "text/plain": [
              "<tf.Tensor 'prefix/image_tensor:0' shape=(?, ?, ?, 3) dtype=uint8>"
            ]
          },
          "metadata": {
            "tags": []
          },
          "execution_count": 110
        }
      ]
    },
    {
      "cell_type": "code",
      "metadata": {
        "id": "KcaRmF3wqhbY",
        "colab_type": "code",
        "colab": {
          "base_uri": "https://localhost:8080/",
          "height": 34
        },
        "outputId": "884b819a-4ddd-456e-83db-0cef9a9b63d2"
      },
      "source": [
        "l_output"
      ],
      "execution_count": 111,
      "outputs": [
        {
          "output_type": "execute_result",
          "data": {
            "text/plain": [
              "<tf.Tensor 'prefix/raw_detection_scores:0' shape=(?, ?, 2) dtype=float32>"
            ]
          },
          "metadata": {
            "tags": []
          },
          "execution_count": 111
        }
      ]
    },
    {
      "cell_type": "code",
      "metadata": {
        "id": "mO7lGzE7qkDq",
        "colab_type": "code",
        "colab": {}
      },
      "source": [
        "l_input = gr.get_operation_by_name('prefix/image_tensor')\n",
        "\n",
        "l_output = gr.get_operation_by_name('prefix/raw_detection_scores')"
      ],
      "execution_count": 112,
      "outputs": []
    },
    {
      "cell_type": "code",
      "metadata": {
        "id": "D_wY1pheqnD1",
        "colab_type": "code",
        "colab": {
          "base_uri": "https://localhost:8080/",
          "height": 34
        },
        "outputId": "bda956a5-0166-4037-aa45-481ab8926dbf"
      },
      "source": [
        "l_input"
      ],
      "execution_count": 113,
      "outputs": [
        {
          "output_type": "execute_result",
          "data": {
            "text/plain": [
              "<tf.Operation 'prefix/image_tensor' type=Placeholder>"
            ]
          },
          "metadata": {
            "tags": []
          },
          "execution_count": 113
        }
      ]
    },
    {
      "cell_type": "code",
      "metadata": {
        "id": "0epsR-21qrSQ",
        "colab_type": "code",
        "colab": {
          "base_uri": "https://localhost:8080/",
          "height": 34
        },
        "outputId": "087386be-e6aa-4a8a-a21f-6a42fa936599"
      },
      "source": [
        "l_output"
      ],
      "execution_count": 114,
      "outputs": [
        {
          "output_type": "execute_result",
          "data": {
            "text/plain": [
              "<tf.Operation 'prefix/raw_detection_scores' type=Identity>"
            ]
          },
          "metadata": {
            "tags": []
          },
          "execution_count": 114
        }
      ]
    },
    {
      "cell_type": "code",
      "metadata": {
        "id": "54QNnVUVqur3",
        "colab_type": "code",
        "colab": {
          "base_uri": "https://localhost:8080/",
          "height": 340
        },
        "outputId": "613de2a8-baab-4ee9-e218-83b1f5a8a618"
      },
      "source": [
        "with tf.Session() as sess:\n",
        "  sess.run(l_output, feed_dict = {l_input : image} )"
      ],
      "execution_count": 115,
      "outputs": [
        {
          "output_type": "error",
          "ename": "RuntimeError",
          "evalue": "ignored",
          "traceback": [
            "\u001b[0;31m---------------------------------------------------------------------------\u001b[0m",
            "\u001b[0;31mRuntimeError\u001b[0m                              Traceback (most recent call last)",
            "\u001b[0;32m<ipython-input-115-cca4849732f8>\u001b[0m in \u001b[0;36m<module>\u001b[0;34m()\u001b[0m\n\u001b[1;32m      1\u001b[0m \u001b[0;32mwith\u001b[0m \u001b[0mtf\u001b[0m\u001b[0;34m.\u001b[0m\u001b[0mSession\u001b[0m\u001b[0;34m(\u001b[0m\u001b[0;34m)\u001b[0m \u001b[0;32mas\u001b[0m \u001b[0msess\u001b[0m\u001b[0;34m:\u001b[0m\u001b[0;34m\u001b[0m\u001b[0;34m\u001b[0m\u001b[0m\n\u001b[0;32m----> 2\u001b[0;31m   \u001b[0msess\u001b[0m\u001b[0;34m.\u001b[0m\u001b[0mrun\u001b[0m\u001b[0;34m(\u001b[0m\u001b[0ml_output\u001b[0m\u001b[0;34m,\u001b[0m \u001b[0mfeed_dict\u001b[0m \u001b[0;34m=\u001b[0m \u001b[0;34m{\u001b[0m\u001b[0ml_input\u001b[0m \u001b[0;34m:\u001b[0m \u001b[0mimage\u001b[0m\u001b[0;34m}\u001b[0m \u001b[0;34m)\u001b[0m\u001b[0;34m\u001b[0m\u001b[0;34m\u001b[0m\u001b[0m\n\u001b[0m",
            "\u001b[0;32m/tensorflow-1.15.2/python3.6/tensorflow_core/python/client/session.py\u001b[0m in \u001b[0;36mrun\u001b[0;34m(self, fetches, feed_dict, options, run_metadata)\u001b[0m\n\u001b[1;32m    954\u001b[0m     \u001b[0;32mtry\u001b[0m\u001b[0;34m:\u001b[0m\u001b[0;34m\u001b[0m\u001b[0;34m\u001b[0m\u001b[0m\n\u001b[1;32m    955\u001b[0m       result = self._run(None, fetches, feed_dict, options_ptr,\n\u001b[0;32m--> 956\u001b[0;31m                          run_metadata_ptr)\n\u001b[0m\u001b[1;32m    957\u001b[0m       \u001b[0;32mif\u001b[0m \u001b[0mrun_metadata\u001b[0m\u001b[0;34m:\u001b[0m\u001b[0;34m\u001b[0m\u001b[0;34m\u001b[0m\u001b[0m\n\u001b[1;32m    958\u001b[0m         \u001b[0mproto_data\u001b[0m \u001b[0;34m=\u001b[0m \u001b[0mtf_session\u001b[0m\u001b[0;34m.\u001b[0m\u001b[0mTF_GetBuffer\u001b[0m\u001b[0;34m(\u001b[0m\u001b[0mrun_metadata_ptr\u001b[0m\u001b[0;34m)\u001b[0m\u001b[0;34m\u001b[0m\u001b[0;34m\u001b[0m\u001b[0m\n",
            "\u001b[0;32m/tensorflow-1.15.2/python3.6/tensorflow_core/python/client/session.py\u001b[0m in \u001b[0;36m_run\u001b[0;34m(self, handle, fetches, feed_dict, options, run_metadata)\u001b[0m\n\u001b[1;32m   1103\u001b[0m       \u001b[0;32mraise\u001b[0m \u001b[0mRuntimeError\u001b[0m\u001b[0;34m(\u001b[0m\u001b[0;34m'Attempted to use a closed Session.'\u001b[0m\u001b[0;34m)\u001b[0m\u001b[0;34m\u001b[0m\u001b[0;34m\u001b[0m\u001b[0m\n\u001b[1;32m   1104\u001b[0m     \u001b[0;32mif\u001b[0m \u001b[0mself\u001b[0m\u001b[0;34m.\u001b[0m\u001b[0mgraph\u001b[0m\u001b[0;34m.\u001b[0m\u001b[0mversion\u001b[0m \u001b[0;34m==\u001b[0m \u001b[0;36m0\u001b[0m\u001b[0;34m:\u001b[0m\u001b[0;34m\u001b[0m\u001b[0;34m\u001b[0m\u001b[0m\n\u001b[0;32m-> 1105\u001b[0;31m       raise RuntimeError('The Session graph is empty.  Add operations to the '\n\u001b[0m\u001b[1;32m   1106\u001b[0m                          'graph before calling run().')\n\u001b[1;32m   1107\u001b[0m \u001b[0;34m\u001b[0m\u001b[0m\n",
            "\u001b[0;31mRuntimeError\u001b[0m: The Session graph is empty.  Add operations to the graph before calling run()."
          ]
        }
      ]
    },
    {
      "cell_type": "code",
      "metadata": {
        "id": "GjXHy4lVqyuQ",
        "colab_type": "code",
        "colab": {
          "base_uri": "https://localhost:8080/",
          "height": 1000
        },
        "outputId": "1b14e7ff-d335-41d7-f8d7-a978e7ec8678"
      },
      "source": [
        "gr.get_operations()"
      ],
      "execution_count": 116,
      "outputs": [
        {
          "output_type": "execute_result",
          "data": {
            "text/plain": [
              "[<tf.Operation 'prefix/image_tensor' type=Placeholder>,\n",
              " <tf.Operation 'prefix/Cast' type=Cast>,\n",
              " <tf.Operation 'prefix/Preprocessor/mul/x' type=Const>,\n",
              " <tf.Operation 'prefix/Preprocessor/mul' type=Mul>,\n",
              " <tf.Operation 'prefix/Preprocessor/sub/y' type=Const>,\n",
              " <tf.Operation 'prefix/Preprocessor/sub' type=Sub>,\n",
              " <tf.Operation 'prefix/Preprocessor/map/Shape' type=Shape>,\n",
              " <tf.Operation 'prefix/Preprocessor/map/strided_slice/stack' type=Const>,\n",
              " <tf.Operation 'prefix/Preprocessor/map/strided_slice/stack_1' type=Const>,\n",
              " <tf.Operation 'prefix/Preprocessor/map/strided_slice/stack_2' type=Const>,\n",
              " <tf.Operation 'prefix/Preprocessor/map/strided_slice' type=StridedSlice>,\n",
              " <tf.Operation 'prefix/Preprocessor/map/TensorArray' type=TensorArrayV3>,\n",
              " <tf.Operation 'prefix/Preprocessor/map/TensorArrayUnstack/Shape' type=Shape>,\n",
              " <tf.Operation 'prefix/Preprocessor/map/TensorArrayUnstack/strided_slice/stack' type=Const>,\n",
              " <tf.Operation 'prefix/Preprocessor/map/TensorArrayUnstack/strided_slice/stack_1' type=Const>,\n",
              " <tf.Operation 'prefix/Preprocessor/map/TensorArrayUnstack/strided_slice/stack_2' type=Const>,\n",
              " <tf.Operation 'prefix/Preprocessor/map/TensorArrayUnstack/strided_slice' type=StridedSlice>,\n",
              " <tf.Operation 'prefix/Preprocessor/map/TensorArrayUnstack/range/start' type=Const>,\n",
              " <tf.Operation 'prefix/Preprocessor/map/TensorArrayUnstack/range/delta' type=Const>,\n",
              " <tf.Operation 'prefix/Preprocessor/map/TensorArrayUnstack/range' type=Range>,\n",
              " <tf.Operation 'prefix/Preprocessor/map/TensorArrayUnstack/TensorArrayScatter/TensorArrayScatterV3' type=TensorArrayScatterV3>,\n",
              " <tf.Operation 'prefix/Preprocessor/map/Const' type=Const>,\n",
              " <tf.Operation 'prefix/Preprocessor/map/TensorArray_1' type=TensorArrayV3>,\n",
              " <tf.Operation 'prefix/Preprocessor/map/TensorArray_2' type=TensorArrayV3>,\n",
              " <tf.Operation 'prefix/Preprocessor/map/while/iteration_counter' type=Const>,\n",
              " <tf.Operation 'prefix/Preprocessor/map/while/Enter' type=Enter>,\n",
              " <tf.Operation 'prefix/Preprocessor/map/while/Enter_1' type=Enter>,\n",
              " <tf.Operation 'prefix/Preprocessor/map/while/Enter_2' type=Enter>,\n",
              " <tf.Operation 'prefix/Preprocessor/map/while/Enter_3' type=Enter>,\n",
              " <tf.Operation 'prefix/Preprocessor/map/while/Merge' type=Merge>,\n",
              " <tf.Operation 'prefix/Preprocessor/map/while/Merge_1' type=Merge>,\n",
              " <tf.Operation 'prefix/Preprocessor/map/while/Merge_2' type=Merge>,\n",
              " <tf.Operation 'prefix/Preprocessor/map/while/Merge_3' type=Merge>,\n",
              " <tf.Operation 'prefix/Preprocessor/map/while/Less/Enter' type=Enter>,\n",
              " <tf.Operation 'prefix/Preprocessor/map/while/Less' type=Less>,\n",
              " <tf.Operation 'prefix/Preprocessor/map/while/Less_1' type=Less>,\n",
              " <tf.Operation 'prefix/Preprocessor/map/while/LogicalAnd' type=LogicalAnd>,\n",
              " <tf.Operation 'prefix/Preprocessor/map/while/LoopCond' type=LoopCond>,\n",
              " <tf.Operation 'prefix/Preprocessor/map/while/Switch' type=Switch>,\n",
              " <tf.Operation 'prefix/Preprocessor/map/while/Switch_1' type=Switch>,\n",
              " <tf.Operation 'prefix/Preprocessor/map/while/Switch_2' type=Switch>,\n",
              " <tf.Operation 'prefix/Preprocessor/map/while/Switch_3' type=Switch>,\n",
              " <tf.Operation 'prefix/Preprocessor/map/while/Identity' type=Identity>,\n",
              " <tf.Operation 'prefix/Preprocessor/map/while/Identity_1' type=Identity>,\n",
              " <tf.Operation 'prefix/Preprocessor/map/while/Identity_2' type=Identity>,\n",
              " <tf.Operation 'prefix/Preprocessor/map/while/Identity_3' type=Identity>,\n",
              " <tf.Operation 'prefix/Preprocessor/map/while/add/y' type=Const>,\n",
              " <tf.Operation 'prefix/Preprocessor/map/while/add' type=AddV2>,\n",
              " <tf.Operation 'prefix/Preprocessor/map/while/TensorArrayReadV3/Enter' type=Enter>,\n",
              " <tf.Operation 'prefix/Preprocessor/map/while/TensorArrayReadV3/Enter_1' type=Enter>,\n",
              " <tf.Operation 'prefix/Preprocessor/map/while/TensorArrayReadV3' type=TensorArrayReadV3>,\n",
              " <tf.Operation 'prefix/Preprocessor/map/while/ResizeImage/stack' type=Const>,\n",
              " <tf.Operation 'prefix/Preprocessor/map/while/ResizeImage/resize/ExpandDims/dim' type=Const>,\n",
              " <tf.Operation 'prefix/Preprocessor/map/while/ResizeImage/resize/ExpandDims' type=ExpandDims>,\n",
              " <tf.Operation 'prefix/Preprocessor/map/while/ResizeImage/resize/ResizeBilinear' type=ResizeBilinear>,\n",
              " <tf.Operation 'prefix/Preprocessor/map/while/ResizeImage/resize/Squeeze' type=Squeeze>,\n",
              " <tf.Operation 'prefix/Preprocessor/map/while/ResizeImage/stack_1' type=Const>,\n",
              " <tf.Operation 'prefix/Preprocessor/map/while/TensorArrayWrite/TensorArrayWriteV3/Enter' type=Enter>,\n",
              " <tf.Operation 'prefix/Preprocessor/map/while/TensorArrayWrite/TensorArrayWriteV3' type=TensorArrayWriteV3>,\n",
              " <tf.Operation 'prefix/Preprocessor/map/while/TensorArrayWrite_1/TensorArrayWriteV3/Enter' type=Enter>,\n",
              " <tf.Operation 'prefix/Preprocessor/map/while/TensorArrayWrite_1/TensorArrayWriteV3' type=TensorArrayWriteV3>,\n",
              " <tf.Operation 'prefix/Preprocessor/map/while/add_1/y' type=Const>,\n",
              " <tf.Operation 'prefix/Preprocessor/map/while/add_1' type=AddV2>,\n",
              " <tf.Operation 'prefix/Preprocessor/map/while/NextIteration' type=NextIteration>,\n",
              " <tf.Operation 'prefix/Preprocessor/map/while/NextIteration_1' type=NextIteration>,\n",
              " <tf.Operation 'prefix/Preprocessor/map/while/NextIteration_2' type=NextIteration>,\n",
              " <tf.Operation 'prefix/Preprocessor/map/while/NextIteration_3' type=NextIteration>,\n",
              " <tf.Operation 'prefix/Preprocessor/map/while/Exit_2' type=Exit>,\n",
              " <tf.Operation 'prefix/Preprocessor/map/while/Exit_3' type=Exit>,\n",
              " <tf.Operation 'prefix/Preprocessor/map/TensorArrayStack/TensorArraySizeV3' type=TensorArraySizeV3>,\n",
              " <tf.Operation 'prefix/Preprocessor/map/TensorArrayStack/range/start' type=Const>,\n",
              " <tf.Operation 'prefix/Preprocessor/map/TensorArrayStack/range/delta' type=Const>,\n",
              " <tf.Operation 'prefix/Preprocessor/map/TensorArrayStack/range' type=Range>,\n",
              " <tf.Operation 'prefix/Preprocessor/map/TensorArrayStack/TensorArrayGatherV3' type=TensorArrayGatherV3>,\n",
              " <tf.Operation 'prefix/Preprocessor/map/TensorArrayStack_1/TensorArraySizeV3' type=TensorArraySizeV3>,\n",
              " <tf.Operation 'prefix/Preprocessor/map/TensorArrayStack_1/range/start' type=Const>,\n",
              " <tf.Operation 'prefix/Preprocessor/map/TensorArrayStack_1/range/delta' type=Const>,\n",
              " <tf.Operation 'prefix/Preprocessor/map/TensorArrayStack_1/range' type=Range>,\n",
              " <tf.Operation 'prefix/Preprocessor/map/TensorArrayStack_1/TensorArrayGatherV3' type=TensorArrayGatherV3>,\n",
              " <tf.Operation 'prefix/FeatureExtractor/MobilenetV2/MobilenetV2/input' type=Identity>,\n",
              " <tf.Operation 'prefix/FeatureExtractor/MobilenetV2/Conv/weights' type=Const>,\n",
              " <tf.Operation 'prefix/FeatureExtractor/MobilenetV2/Conv/weights/read' type=Identity>,\n",
              " <tf.Operation 'prefix/FeatureExtractor/MobilenetV2/Conv/Conv2D' type=Conv2D>,\n",
              " <tf.Operation 'prefix/FeatureExtractor/MobilenetV2/Conv/BatchNorm/gamma' type=Const>,\n",
              " <tf.Operation 'prefix/FeatureExtractor/MobilenetV2/Conv/BatchNorm/gamma/read' type=Identity>,\n",
              " <tf.Operation 'prefix/FeatureExtractor/MobilenetV2/Conv/BatchNorm/beta' type=Const>,\n",
              " <tf.Operation 'prefix/FeatureExtractor/MobilenetV2/Conv/BatchNorm/beta/read' type=Identity>,\n",
              " <tf.Operation 'prefix/FeatureExtractor/MobilenetV2/Conv/BatchNorm/moving_mean' type=Const>,\n",
              " <tf.Operation 'prefix/FeatureExtractor/MobilenetV2/Conv/BatchNorm/moving_mean/read' type=Identity>,\n",
              " <tf.Operation 'prefix/FeatureExtractor/MobilenetV2/Conv/BatchNorm/moving_variance' type=Const>,\n",
              " <tf.Operation 'prefix/FeatureExtractor/MobilenetV2/Conv/BatchNorm/moving_variance/read' type=Identity>,\n",
              " <tf.Operation 'prefix/FeatureExtractor/MobilenetV2/Conv/BatchNorm/FusedBatchNormV3' type=FusedBatchNormV3>,\n",
              " <tf.Operation 'prefix/FeatureExtractor/MobilenetV2/Conv/Relu6' type=Relu6>,\n",
              " <tf.Operation 'prefix/FeatureExtractor/MobilenetV2/expanded_conv/input' type=Identity>,\n",
              " <tf.Operation 'prefix/FeatureExtractor/MobilenetV2/expanded_conv/depthwise/depthwise_weights' type=Const>,\n",
              " <tf.Operation 'prefix/FeatureExtractor/MobilenetV2/expanded_conv/depthwise/depthwise_weights/read' type=Identity>,\n",
              " <tf.Operation 'prefix/FeatureExtractor/MobilenetV2/expanded_conv/depthwise/depthwise' type=DepthwiseConv2dNative>,\n",
              " <tf.Operation 'prefix/FeatureExtractor/MobilenetV2/expanded_conv/depthwise/BatchNorm/gamma' type=Const>,\n",
              " <tf.Operation 'prefix/FeatureExtractor/MobilenetV2/expanded_conv/depthwise/BatchNorm/gamma/read' type=Identity>,\n",
              " <tf.Operation 'prefix/FeatureExtractor/MobilenetV2/expanded_conv/depthwise/BatchNorm/beta' type=Const>,\n",
              " <tf.Operation 'prefix/FeatureExtractor/MobilenetV2/expanded_conv/depthwise/BatchNorm/beta/read' type=Identity>,\n",
              " <tf.Operation 'prefix/FeatureExtractor/MobilenetV2/expanded_conv/depthwise/BatchNorm/moving_mean' type=Const>,\n",
              " <tf.Operation 'prefix/FeatureExtractor/MobilenetV2/expanded_conv/depthwise/BatchNorm/moving_mean/read' type=Identity>,\n",
              " <tf.Operation 'prefix/FeatureExtractor/MobilenetV2/expanded_conv/depthwise/BatchNorm/moving_variance' type=Const>,\n",
              " <tf.Operation 'prefix/FeatureExtractor/MobilenetV2/expanded_conv/depthwise/BatchNorm/moving_variance/read' type=Identity>,\n",
              " <tf.Operation 'prefix/FeatureExtractor/MobilenetV2/expanded_conv/depthwise/BatchNorm/FusedBatchNormV3' type=FusedBatchNormV3>,\n",
              " <tf.Operation 'prefix/FeatureExtractor/MobilenetV2/expanded_conv/depthwise/Relu6' type=Relu6>,\n",
              " <tf.Operation 'prefix/FeatureExtractor/MobilenetV2/expanded_conv/depthwise_output' type=Identity>,\n",
              " <tf.Operation 'prefix/FeatureExtractor/MobilenetV2/expanded_conv/project/weights' type=Const>,\n",
              " <tf.Operation 'prefix/FeatureExtractor/MobilenetV2/expanded_conv/project/weights/read' type=Identity>,\n",
              " <tf.Operation 'prefix/FeatureExtractor/MobilenetV2/expanded_conv/project/Conv2D' type=Conv2D>,\n",
              " <tf.Operation 'prefix/FeatureExtractor/MobilenetV2/expanded_conv/project/BatchNorm/gamma' type=Const>,\n",
              " <tf.Operation 'prefix/FeatureExtractor/MobilenetV2/expanded_conv/project/BatchNorm/gamma/read' type=Identity>,\n",
              " <tf.Operation 'prefix/FeatureExtractor/MobilenetV2/expanded_conv/project/BatchNorm/beta' type=Const>,\n",
              " <tf.Operation 'prefix/FeatureExtractor/MobilenetV2/expanded_conv/project/BatchNorm/beta/read' type=Identity>,\n",
              " <tf.Operation 'prefix/FeatureExtractor/MobilenetV2/expanded_conv/project/BatchNorm/moving_mean' type=Const>,\n",
              " <tf.Operation 'prefix/FeatureExtractor/MobilenetV2/expanded_conv/project/BatchNorm/moving_mean/read' type=Identity>,\n",
              " <tf.Operation 'prefix/FeatureExtractor/MobilenetV2/expanded_conv/project/BatchNorm/moving_variance' type=Const>,\n",
              " <tf.Operation 'prefix/FeatureExtractor/MobilenetV2/expanded_conv/project/BatchNorm/moving_variance/read' type=Identity>,\n",
              " <tf.Operation 'prefix/FeatureExtractor/MobilenetV2/expanded_conv/project/BatchNorm/FusedBatchNormV3' type=FusedBatchNormV3>,\n",
              " <tf.Operation 'prefix/FeatureExtractor/MobilenetV2/expanded_conv/project/Identity' type=Identity>,\n",
              " <tf.Operation 'prefix/FeatureExtractor/MobilenetV2/expanded_conv/output' type=Identity>,\n",
              " <tf.Operation 'prefix/FeatureExtractor/MobilenetV2/expanded_conv_1/input' type=Identity>,\n",
              " <tf.Operation 'prefix/FeatureExtractor/MobilenetV2/expanded_conv_1/expand/weights' type=Const>,\n",
              " <tf.Operation 'prefix/FeatureExtractor/MobilenetV2/expanded_conv_1/expand/weights/read' type=Identity>,\n",
              " <tf.Operation 'prefix/FeatureExtractor/MobilenetV2/expanded_conv_1/expand/Conv2D' type=Conv2D>,\n",
              " <tf.Operation 'prefix/FeatureExtractor/MobilenetV2/expanded_conv_1/expand/BatchNorm/gamma' type=Const>,\n",
              " <tf.Operation 'prefix/FeatureExtractor/MobilenetV2/expanded_conv_1/expand/BatchNorm/gamma/read' type=Identity>,\n",
              " <tf.Operation 'prefix/FeatureExtractor/MobilenetV2/expanded_conv_1/expand/BatchNorm/beta' type=Const>,\n",
              " <tf.Operation 'prefix/FeatureExtractor/MobilenetV2/expanded_conv_1/expand/BatchNorm/beta/read' type=Identity>,\n",
              " <tf.Operation 'prefix/FeatureExtractor/MobilenetV2/expanded_conv_1/expand/BatchNorm/moving_mean' type=Const>,\n",
              " <tf.Operation 'prefix/FeatureExtractor/MobilenetV2/expanded_conv_1/expand/BatchNorm/moving_mean/read' type=Identity>,\n",
              " <tf.Operation 'prefix/FeatureExtractor/MobilenetV2/expanded_conv_1/expand/BatchNorm/moving_variance' type=Const>,\n",
              " <tf.Operation 'prefix/FeatureExtractor/MobilenetV2/expanded_conv_1/expand/BatchNorm/moving_variance/read' type=Identity>,\n",
              " <tf.Operation 'prefix/FeatureExtractor/MobilenetV2/expanded_conv_1/expand/BatchNorm/FusedBatchNormV3' type=FusedBatchNormV3>,\n",
              " <tf.Operation 'prefix/FeatureExtractor/MobilenetV2/expanded_conv_1/expand/Relu6' type=Relu6>,\n",
              " <tf.Operation 'prefix/FeatureExtractor/MobilenetV2/expanded_conv_1/expansion_output' type=Identity>,\n",
              " <tf.Operation 'prefix/FeatureExtractor/MobilenetV2/expanded_conv_1/depthwise/depthwise_weights' type=Const>,\n",
              " <tf.Operation 'prefix/FeatureExtractor/MobilenetV2/expanded_conv_1/depthwise/depthwise_weights/read' type=Identity>,\n",
              " <tf.Operation 'prefix/FeatureExtractor/MobilenetV2/expanded_conv_1/depthwise/depthwise' type=DepthwiseConv2dNative>,\n",
              " <tf.Operation 'prefix/FeatureExtractor/MobilenetV2/expanded_conv_1/depthwise/BatchNorm/gamma' type=Const>,\n",
              " <tf.Operation 'prefix/FeatureExtractor/MobilenetV2/expanded_conv_1/depthwise/BatchNorm/gamma/read' type=Identity>,\n",
              " <tf.Operation 'prefix/FeatureExtractor/MobilenetV2/expanded_conv_1/depthwise/BatchNorm/beta' type=Const>,\n",
              " <tf.Operation 'prefix/FeatureExtractor/MobilenetV2/expanded_conv_1/depthwise/BatchNorm/beta/read' type=Identity>,\n",
              " <tf.Operation 'prefix/FeatureExtractor/MobilenetV2/expanded_conv_1/depthwise/BatchNorm/moving_mean' type=Const>,\n",
              " <tf.Operation 'prefix/FeatureExtractor/MobilenetV2/expanded_conv_1/depthwise/BatchNorm/moving_mean/read' type=Identity>,\n",
              " <tf.Operation 'prefix/FeatureExtractor/MobilenetV2/expanded_conv_1/depthwise/BatchNorm/moving_variance' type=Const>,\n",
              " <tf.Operation 'prefix/FeatureExtractor/MobilenetV2/expanded_conv_1/depthwise/BatchNorm/moving_variance/read' type=Identity>,\n",
              " <tf.Operation 'prefix/FeatureExtractor/MobilenetV2/expanded_conv_1/depthwise/BatchNorm/FusedBatchNormV3' type=FusedBatchNormV3>,\n",
              " <tf.Operation 'prefix/FeatureExtractor/MobilenetV2/expanded_conv_1/depthwise/Relu6' type=Relu6>,\n",
              " <tf.Operation 'prefix/FeatureExtractor/MobilenetV2/expanded_conv_1/depthwise_output' type=Identity>,\n",
              " <tf.Operation 'prefix/FeatureExtractor/MobilenetV2/expanded_conv_1/project/weights' type=Const>,\n",
              " <tf.Operation 'prefix/FeatureExtractor/MobilenetV2/expanded_conv_1/project/weights/read' type=Identity>,\n",
              " <tf.Operation 'prefix/FeatureExtractor/MobilenetV2/expanded_conv_1/project/Conv2D' type=Conv2D>,\n",
              " <tf.Operation 'prefix/FeatureExtractor/MobilenetV2/expanded_conv_1/project/BatchNorm/gamma' type=Const>,\n",
              " <tf.Operation 'prefix/FeatureExtractor/MobilenetV2/expanded_conv_1/project/BatchNorm/gamma/read' type=Identity>,\n",
              " <tf.Operation 'prefix/FeatureExtractor/MobilenetV2/expanded_conv_1/project/BatchNorm/beta' type=Const>,\n",
              " <tf.Operation 'prefix/FeatureExtractor/MobilenetV2/expanded_conv_1/project/BatchNorm/beta/read' type=Identity>,\n",
              " <tf.Operation 'prefix/FeatureExtractor/MobilenetV2/expanded_conv_1/project/BatchNorm/moving_mean' type=Const>,\n",
              " <tf.Operation 'prefix/FeatureExtractor/MobilenetV2/expanded_conv_1/project/BatchNorm/moving_mean/read' type=Identity>,\n",
              " <tf.Operation 'prefix/FeatureExtractor/MobilenetV2/expanded_conv_1/project/BatchNorm/moving_variance' type=Const>,\n",
              " <tf.Operation 'prefix/FeatureExtractor/MobilenetV2/expanded_conv_1/project/BatchNorm/moving_variance/read' type=Identity>,\n",
              " <tf.Operation 'prefix/FeatureExtractor/MobilenetV2/expanded_conv_1/project/BatchNorm/FusedBatchNormV3' type=FusedBatchNormV3>,\n",
              " <tf.Operation 'prefix/FeatureExtractor/MobilenetV2/expanded_conv_1/project/Identity' type=Identity>,\n",
              " <tf.Operation 'prefix/FeatureExtractor/MobilenetV2/expanded_conv_1/output' type=Identity>,\n",
              " <tf.Operation 'prefix/FeatureExtractor/MobilenetV2/expanded_conv_2/input' type=Identity>,\n",
              " <tf.Operation 'prefix/FeatureExtractor/MobilenetV2/expanded_conv_2/expand/weights' type=Const>,\n",
              " <tf.Operation 'prefix/FeatureExtractor/MobilenetV2/expanded_conv_2/expand/weights/read' type=Identity>,\n",
              " <tf.Operation 'prefix/FeatureExtractor/MobilenetV2/expanded_conv_2/expand/Conv2D' type=Conv2D>,\n",
              " <tf.Operation 'prefix/FeatureExtractor/MobilenetV2/expanded_conv_2/expand/BatchNorm/gamma' type=Const>,\n",
              " <tf.Operation 'prefix/FeatureExtractor/MobilenetV2/expanded_conv_2/expand/BatchNorm/gamma/read' type=Identity>,\n",
              " <tf.Operation 'prefix/FeatureExtractor/MobilenetV2/expanded_conv_2/expand/BatchNorm/beta' type=Const>,\n",
              " <tf.Operation 'prefix/FeatureExtractor/MobilenetV2/expanded_conv_2/expand/BatchNorm/beta/read' type=Identity>,\n",
              " <tf.Operation 'prefix/FeatureExtractor/MobilenetV2/expanded_conv_2/expand/BatchNorm/moving_mean' type=Const>,\n",
              " <tf.Operation 'prefix/FeatureExtractor/MobilenetV2/expanded_conv_2/expand/BatchNorm/moving_mean/read' type=Identity>,\n",
              " <tf.Operation 'prefix/FeatureExtractor/MobilenetV2/expanded_conv_2/expand/BatchNorm/moving_variance' type=Const>,\n",
              " <tf.Operation 'prefix/FeatureExtractor/MobilenetV2/expanded_conv_2/expand/BatchNorm/moving_variance/read' type=Identity>,\n",
              " <tf.Operation 'prefix/FeatureExtractor/MobilenetV2/expanded_conv_2/expand/BatchNorm/FusedBatchNormV3' type=FusedBatchNormV3>,\n",
              " <tf.Operation 'prefix/FeatureExtractor/MobilenetV2/expanded_conv_2/expand/Relu6' type=Relu6>,\n",
              " <tf.Operation 'prefix/FeatureExtractor/MobilenetV2/expanded_conv_2/expansion_output' type=Identity>,\n",
              " <tf.Operation 'prefix/FeatureExtractor/MobilenetV2/expanded_conv_2/depthwise/depthwise_weights' type=Const>,\n",
              " <tf.Operation 'prefix/FeatureExtractor/MobilenetV2/expanded_conv_2/depthwise/depthwise_weights/read' type=Identity>,\n",
              " <tf.Operation 'prefix/FeatureExtractor/MobilenetV2/expanded_conv_2/depthwise/depthwise' type=DepthwiseConv2dNative>,\n",
              " <tf.Operation 'prefix/FeatureExtractor/MobilenetV2/expanded_conv_2/depthwise/BatchNorm/gamma' type=Const>,\n",
              " <tf.Operation 'prefix/FeatureExtractor/MobilenetV2/expanded_conv_2/depthwise/BatchNorm/gamma/read' type=Identity>,\n",
              " <tf.Operation 'prefix/FeatureExtractor/MobilenetV2/expanded_conv_2/depthwise/BatchNorm/beta' type=Const>,\n",
              " <tf.Operation 'prefix/FeatureExtractor/MobilenetV2/expanded_conv_2/depthwise/BatchNorm/beta/read' type=Identity>,\n",
              " <tf.Operation 'prefix/FeatureExtractor/MobilenetV2/expanded_conv_2/depthwise/BatchNorm/moving_mean' type=Const>,\n",
              " <tf.Operation 'prefix/FeatureExtractor/MobilenetV2/expanded_conv_2/depthwise/BatchNorm/moving_mean/read' type=Identity>,\n",
              " <tf.Operation 'prefix/FeatureExtractor/MobilenetV2/expanded_conv_2/depthwise/BatchNorm/moving_variance' type=Const>,\n",
              " <tf.Operation 'prefix/FeatureExtractor/MobilenetV2/expanded_conv_2/depthwise/BatchNorm/moving_variance/read' type=Identity>,\n",
              " <tf.Operation 'prefix/FeatureExtractor/MobilenetV2/expanded_conv_2/depthwise/BatchNorm/FusedBatchNormV3' type=FusedBatchNormV3>,\n",
              " <tf.Operation 'prefix/FeatureExtractor/MobilenetV2/expanded_conv_2/depthwise/Relu6' type=Relu6>,\n",
              " <tf.Operation 'prefix/FeatureExtractor/MobilenetV2/expanded_conv_2/depthwise_output' type=Identity>,\n",
              " <tf.Operation 'prefix/FeatureExtractor/MobilenetV2/expanded_conv_2/project/weights' type=Const>,\n",
              " <tf.Operation 'prefix/FeatureExtractor/MobilenetV2/expanded_conv_2/project/weights/read' type=Identity>,\n",
              " <tf.Operation 'prefix/FeatureExtractor/MobilenetV2/expanded_conv_2/project/Conv2D' type=Conv2D>,\n",
              " <tf.Operation 'prefix/FeatureExtractor/MobilenetV2/expanded_conv_2/project/BatchNorm/gamma' type=Const>,\n",
              " <tf.Operation 'prefix/FeatureExtractor/MobilenetV2/expanded_conv_2/project/BatchNorm/gamma/read' type=Identity>,\n",
              " <tf.Operation 'prefix/FeatureExtractor/MobilenetV2/expanded_conv_2/project/BatchNorm/beta' type=Const>,\n",
              " <tf.Operation 'prefix/FeatureExtractor/MobilenetV2/expanded_conv_2/project/BatchNorm/beta/read' type=Identity>,\n",
              " <tf.Operation 'prefix/FeatureExtractor/MobilenetV2/expanded_conv_2/project/BatchNorm/moving_mean' type=Const>,\n",
              " <tf.Operation 'prefix/FeatureExtractor/MobilenetV2/expanded_conv_2/project/BatchNorm/moving_mean/read' type=Identity>,\n",
              " <tf.Operation 'prefix/FeatureExtractor/MobilenetV2/expanded_conv_2/project/BatchNorm/moving_variance' type=Const>,\n",
              " <tf.Operation 'prefix/FeatureExtractor/MobilenetV2/expanded_conv_2/project/BatchNorm/moving_variance/read' type=Identity>,\n",
              " <tf.Operation 'prefix/FeatureExtractor/MobilenetV2/expanded_conv_2/project/BatchNorm/FusedBatchNormV3' type=FusedBatchNormV3>,\n",
              " <tf.Operation 'prefix/FeatureExtractor/MobilenetV2/expanded_conv_2/project/Identity' type=Identity>,\n",
              " <tf.Operation 'prefix/FeatureExtractor/MobilenetV2/expanded_conv_2/add' type=AddV2>,\n",
              " <tf.Operation 'prefix/FeatureExtractor/MobilenetV2/expanded_conv_2/output' type=Identity>,\n",
              " <tf.Operation 'prefix/FeatureExtractor/MobilenetV2/expanded_conv_3/input' type=Identity>,\n",
              " <tf.Operation 'prefix/FeatureExtractor/MobilenetV2/expanded_conv_3/expand/weights' type=Const>,\n",
              " <tf.Operation 'prefix/FeatureExtractor/MobilenetV2/expanded_conv_3/expand/weights/read' type=Identity>,\n",
              " <tf.Operation 'prefix/FeatureExtractor/MobilenetV2/expanded_conv_3/expand/Conv2D' type=Conv2D>,\n",
              " <tf.Operation 'prefix/FeatureExtractor/MobilenetV2/expanded_conv_3/expand/BatchNorm/gamma' type=Const>,\n",
              " <tf.Operation 'prefix/FeatureExtractor/MobilenetV2/expanded_conv_3/expand/BatchNorm/gamma/read' type=Identity>,\n",
              " <tf.Operation 'prefix/FeatureExtractor/MobilenetV2/expanded_conv_3/expand/BatchNorm/beta' type=Const>,\n",
              " <tf.Operation 'prefix/FeatureExtractor/MobilenetV2/expanded_conv_3/expand/BatchNorm/beta/read' type=Identity>,\n",
              " <tf.Operation 'prefix/FeatureExtractor/MobilenetV2/expanded_conv_3/expand/BatchNorm/moving_mean' type=Const>,\n",
              " <tf.Operation 'prefix/FeatureExtractor/MobilenetV2/expanded_conv_3/expand/BatchNorm/moving_mean/read' type=Identity>,\n",
              " <tf.Operation 'prefix/FeatureExtractor/MobilenetV2/expanded_conv_3/expand/BatchNorm/moving_variance' type=Const>,\n",
              " <tf.Operation 'prefix/FeatureExtractor/MobilenetV2/expanded_conv_3/expand/BatchNorm/moving_variance/read' type=Identity>,\n",
              " <tf.Operation 'prefix/FeatureExtractor/MobilenetV2/expanded_conv_3/expand/BatchNorm/FusedBatchNormV3' type=FusedBatchNormV3>,\n",
              " <tf.Operation 'prefix/FeatureExtractor/MobilenetV2/expanded_conv_3/expand/Relu6' type=Relu6>,\n",
              " <tf.Operation 'prefix/FeatureExtractor/MobilenetV2/expanded_conv_3/expansion_output' type=Identity>,\n",
              " <tf.Operation 'prefix/FeatureExtractor/MobilenetV2/expanded_conv_3/depthwise/depthwise_weights' type=Const>,\n",
              " <tf.Operation 'prefix/FeatureExtractor/MobilenetV2/expanded_conv_3/depthwise/depthwise_weights/read' type=Identity>,\n",
              " <tf.Operation 'prefix/FeatureExtractor/MobilenetV2/expanded_conv_3/depthwise/depthwise' type=DepthwiseConv2dNative>,\n",
              " <tf.Operation 'prefix/FeatureExtractor/MobilenetV2/expanded_conv_3/depthwise/BatchNorm/gamma' type=Const>,\n",
              " <tf.Operation 'prefix/FeatureExtractor/MobilenetV2/expanded_conv_3/depthwise/BatchNorm/gamma/read' type=Identity>,\n",
              " <tf.Operation 'prefix/FeatureExtractor/MobilenetV2/expanded_conv_3/depthwise/BatchNorm/beta' type=Const>,\n",
              " <tf.Operation 'prefix/FeatureExtractor/MobilenetV2/expanded_conv_3/depthwise/BatchNorm/beta/read' type=Identity>,\n",
              " <tf.Operation 'prefix/FeatureExtractor/MobilenetV2/expanded_conv_3/depthwise/BatchNorm/moving_mean' type=Const>,\n",
              " <tf.Operation 'prefix/FeatureExtractor/MobilenetV2/expanded_conv_3/depthwise/BatchNorm/moving_mean/read' type=Identity>,\n",
              " <tf.Operation 'prefix/FeatureExtractor/MobilenetV2/expanded_conv_3/depthwise/BatchNorm/moving_variance' type=Const>,\n",
              " <tf.Operation 'prefix/FeatureExtractor/MobilenetV2/expanded_conv_3/depthwise/BatchNorm/moving_variance/read' type=Identity>,\n",
              " <tf.Operation 'prefix/FeatureExtractor/MobilenetV2/expanded_conv_3/depthwise/BatchNorm/FusedBatchNormV3' type=FusedBatchNormV3>,\n",
              " <tf.Operation 'prefix/FeatureExtractor/MobilenetV2/expanded_conv_3/depthwise/Relu6' type=Relu6>,\n",
              " <tf.Operation 'prefix/FeatureExtractor/MobilenetV2/expanded_conv_3/depthwise_output' type=Identity>,\n",
              " <tf.Operation 'prefix/FeatureExtractor/MobilenetV2/expanded_conv_3/project/weights' type=Const>,\n",
              " <tf.Operation 'prefix/FeatureExtractor/MobilenetV2/expanded_conv_3/project/weights/read' type=Identity>,\n",
              " <tf.Operation 'prefix/FeatureExtractor/MobilenetV2/expanded_conv_3/project/Conv2D' type=Conv2D>,\n",
              " <tf.Operation 'prefix/FeatureExtractor/MobilenetV2/expanded_conv_3/project/BatchNorm/gamma' type=Const>,\n",
              " <tf.Operation 'prefix/FeatureExtractor/MobilenetV2/expanded_conv_3/project/BatchNorm/gamma/read' type=Identity>,\n",
              " <tf.Operation 'prefix/FeatureExtractor/MobilenetV2/expanded_conv_3/project/BatchNorm/beta' type=Const>,\n",
              " <tf.Operation 'prefix/FeatureExtractor/MobilenetV2/expanded_conv_3/project/BatchNorm/beta/read' type=Identity>,\n",
              " <tf.Operation 'prefix/FeatureExtractor/MobilenetV2/expanded_conv_3/project/BatchNorm/moving_mean' type=Const>,\n",
              " <tf.Operation 'prefix/FeatureExtractor/MobilenetV2/expanded_conv_3/project/BatchNorm/moving_mean/read' type=Identity>,\n",
              " <tf.Operation 'prefix/FeatureExtractor/MobilenetV2/expanded_conv_3/project/BatchNorm/moving_variance' type=Const>,\n",
              " <tf.Operation 'prefix/FeatureExtractor/MobilenetV2/expanded_conv_3/project/BatchNorm/moving_variance/read' type=Identity>,\n",
              " <tf.Operation 'prefix/FeatureExtractor/MobilenetV2/expanded_conv_3/project/BatchNorm/FusedBatchNormV3' type=FusedBatchNormV3>,\n",
              " <tf.Operation 'prefix/FeatureExtractor/MobilenetV2/expanded_conv_3/project/Identity' type=Identity>,\n",
              " <tf.Operation 'prefix/FeatureExtractor/MobilenetV2/expanded_conv_3/output' type=Identity>,\n",
              " <tf.Operation 'prefix/FeatureExtractor/MobilenetV2/expanded_conv_4/input' type=Identity>,\n",
              " <tf.Operation 'prefix/FeatureExtractor/MobilenetV2/expanded_conv_4/expand/weights' type=Const>,\n",
              " <tf.Operation 'prefix/FeatureExtractor/MobilenetV2/expanded_conv_4/expand/weights/read' type=Identity>,\n",
              " <tf.Operation 'prefix/FeatureExtractor/MobilenetV2/expanded_conv_4/expand/Conv2D' type=Conv2D>,\n",
              " <tf.Operation 'prefix/FeatureExtractor/MobilenetV2/expanded_conv_4/expand/BatchNorm/gamma' type=Const>,\n",
              " <tf.Operation 'prefix/FeatureExtractor/MobilenetV2/expanded_conv_4/expand/BatchNorm/gamma/read' type=Identity>,\n",
              " <tf.Operation 'prefix/FeatureExtractor/MobilenetV2/expanded_conv_4/expand/BatchNorm/beta' type=Const>,\n",
              " <tf.Operation 'prefix/FeatureExtractor/MobilenetV2/expanded_conv_4/expand/BatchNorm/beta/read' type=Identity>,\n",
              " <tf.Operation 'prefix/FeatureExtractor/MobilenetV2/expanded_conv_4/expand/BatchNorm/moving_mean' type=Const>,\n",
              " <tf.Operation 'prefix/FeatureExtractor/MobilenetV2/expanded_conv_4/expand/BatchNorm/moving_mean/read' type=Identity>,\n",
              " <tf.Operation 'prefix/FeatureExtractor/MobilenetV2/expanded_conv_4/expand/BatchNorm/moving_variance' type=Const>,\n",
              " <tf.Operation 'prefix/FeatureExtractor/MobilenetV2/expanded_conv_4/expand/BatchNorm/moving_variance/read' type=Identity>,\n",
              " <tf.Operation 'prefix/FeatureExtractor/MobilenetV2/expanded_conv_4/expand/BatchNorm/FusedBatchNormV3' type=FusedBatchNormV3>,\n",
              " <tf.Operation 'prefix/FeatureExtractor/MobilenetV2/expanded_conv_4/expand/Relu6' type=Relu6>,\n",
              " <tf.Operation 'prefix/FeatureExtractor/MobilenetV2/expanded_conv_4/expansion_output' type=Identity>,\n",
              " <tf.Operation 'prefix/FeatureExtractor/MobilenetV2/expanded_conv_4/depthwise/depthwise_weights' type=Const>,\n",
              " <tf.Operation 'prefix/FeatureExtractor/MobilenetV2/expanded_conv_4/depthwise/depthwise_weights/read' type=Identity>,\n",
              " <tf.Operation 'prefix/FeatureExtractor/MobilenetV2/expanded_conv_4/depthwise/depthwise' type=DepthwiseConv2dNative>,\n",
              " <tf.Operation 'prefix/FeatureExtractor/MobilenetV2/expanded_conv_4/depthwise/BatchNorm/gamma' type=Const>,\n",
              " <tf.Operation 'prefix/FeatureExtractor/MobilenetV2/expanded_conv_4/depthwise/BatchNorm/gamma/read' type=Identity>,\n",
              " <tf.Operation 'prefix/FeatureExtractor/MobilenetV2/expanded_conv_4/depthwise/BatchNorm/beta' type=Const>,\n",
              " <tf.Operation 'prefix/FeatureExtractor/MobilenetV2/expanded_conv_4/depthwise/BatchNorm/beta/read' type=Identity>,\n",
              " <tf.Operation 'prefix/FeatureExtractor/MobilenetV2/expanded_conv_4/depthwise/BatchNorm/moving_mean' type=Const>,\n",
              " <tf.Operation 'prefix/FeatureExtractor/MobilenetV2/expanded_conv_4/depthwise/BatchNorm/moving_mean/read' type=Identity>,\n",
              " <tf.Operation 'prefix/FeatureExtractor/MobilenetV2/expanded_conv_4/depthwise/BatchNorm/moving_variance' type=Const>,\n",
              " <tf.Operation 'prefix/FeatureExtractor/MobilenetV2/expanded_conv_4/depthwise/BatchNorm/moving_variance/read' type=Identity>,\n",
              " <tf.Operation 'prefix/FeatureExtractor/MobilenetV2/expanded_conv_4/depthwise/BatchNorm/FusedBatchNormV3' type=FusedBatchNormV3>,\n",
              " <tf.Operation 'prefix/FeatureExtractor/MobilenetV2/expanded_conv_4/depthwise/Relu6' type=Relu6>,\n",
              " <tf.Operation 'prefix/FeatureExtractor/MobilenetV2/expanded_conv_4/depthwise_output' type=Identity>,\n",
              " <tf.Operation 'prefix/FeatureExtractor/MobilenetV2/expanded_conv_4/project/weights' type=Const>,\n",
              " <tf.Operation 'prefix/FeatureExtractor/MobilenetV2/expanded_conv_4/project/weights/read' type=Identity>,\n",
              " <tf.Operation 'prefix/FeatureExtractor/MobilenetV2/expanded_conv_4/project/Conv2D' type=Conv2D>,\n",
              " <tf.Operation 'prefix/FeatureExtractor/MobilenetV2/expanded_conv_4/project/BatchNorm/gamma' type=Const>,\n",
              " <tf.Operation 'prefix/FeatureExtractor/MobilenetV2/expanded_conv_4/project/BatchNorm/gamma/read' type=Identity>,\n",
              " <tf.Operation 'prefix/FeatureExtractor/MobilenetV2/expanded_conv_4/project/BatchNorm/beta' type=Const>,\n",
              " <tf.Operation 'prefix/FeatureExtractor/MobilenetV2/expanded_conv_4/project/BatchNorm/beta/read' type=Identity>,\n",
              " <tf.Operation 'prefix/FeatureExtractor/MobilenetV2/expanded_conv_4/project/BatchNorm/moving_mean' type=Const>,\n",
              " <tf.Operation 'prefix/FeatureExtractor/MobilenetV2/expanded_conv_4/project/BatchNorm/moving_mean/read' type=Identity>,\n",
              " <tf.Operation 'prefix/FeatureExtractor/MobilenetV2/expanded_conv_4/project/BatchNorm/moving_variance' type=Const>,\n",
              " <tf.Operation 'prefix/FeatureExtractor/MobilenetV2/expanded_conv_4/project/BatchNorm/moving_variance/read' type=Identity>,\n",
              " <tf.Operation 'prefix/FeatureExtractor/MobilenetV2/expanded_conv_4/project/BatchNorm/FusedBatchNormV3' type=FusedBatchNormV3>,\n",
              " <tf.Operation 'prefix/FeatureExtractor/MobilenetV2/expanded_conv_4/project/Identity' type=Identity>,\n",
              " <tf.Operation 'prefix/FeatureExtractor/MobilenetV2/expanded_conv_4/add' type=AddV2>,\n",
              " <tf.Operation 'prefix/FeatureExtractor/MobilenetV2/expanded_conv_4/output' type=Identity>,\n",
              " <tf.Operation 'prefix/FeatureExtractor/MobilenetV2/expanded_conv_5/input' type=Identity>,\n",
              " <tf.Operation 'prefix/FeatureExtractor/MobilenetV2/expanded_conv_5/expand/weights' type=Const>,\n",
              " <tf.Operation 'prefix/FeatureExtractor/MobilenetV2/expanded_conv_5/expand/weights/read' type=Identity>,\n",
              " <tf.Operation 'prefix/FeatureExtractor/MobilenetV2/expanded_conv_5/expand/Conv2D' type=Conv2D>,\n",
              " <tf.Operation 'prefix/FeatureExtractor/MobilenetV2/expanded_conv_5/expand/BatchNorm/gamma' type=Const>,\n",
              " <tf.Operation 'prefix/FeatureExtractor/MobilenetV2/expanded_conv_5/expand/BatchNorm/gamma/read' type=Identity>,\n",
              " <tf.Operation 'prefix/FeatureExtractor/MobilenetV2/expanded_conv_5/expand/BatchNorm/beta' type=Const>,\n",
              " <tf.Operation 'prefix/FeatureExtractor/MobilenetV2/expanded_conv_5/expand/BatchNorm/beta/read' type=Identity>,\n",
              " <tf.Operation 'prefix/FeatureExtractor/MobilenetV2/expanded_conv_5/expand/BatchNorm/moving_mean' type=Const>,\n",
              " <tf.Operation 'prefix/FeatureExtractor/MobilenetV2/expanded_conv_5/expand/BatchNorm/moving_mean/read' type=Identity>,\n",
              " <tf.Operation 'prefix/FeatureExtractor/MobilenetV2/expanded_conv_5/expand/BatchNorm/moving_variance' type=Const>,\n",
              " <tf.Operation 'prefix/FeatureExtractor/MobilenetV2/expanded_conv_5/expand/BatchNorm/moving_variance/read' type=Identity>,\n",
              " <tf.Operation 'prefix/FeatureExtractor/MobilenetV2/expanded_conv_5/expand/BatchNorm/FusedBatchNormV3' type=FusedBatchNormV3>,\n",
              " <tf.Operation 'prefix/FeatureExtractor/MobilenetV2/expanded_conv_5/expand/Relu6' type=Relu6>,\n",
              " <tf.Operation 'prefix/FeatureExtractor/MobilenetV2/expanded_conv_5/expansion_output' type=Identity>,\n",
              " <tf.Operation 'prefix/FeatureExtractor/MobilenetV2/expanded_conv_5/depthwise/depthwise_weights' type=Const>,\n",
              " <tf.Operation 'prefix/FeatureExtractor/MobilenetV2/expanded_conv_5/depthwise/depthwise_weights/read' type=Identity>,\n",
              " <tf.Operation 'prefix/FeatureExtractor/MobilenetV2/expanded_conv_5/depthwise/depthwise' type=DepthwiseConv2dNative>,\n",
              " <tf.Operation 'prefix/FeatureExtractor/MobilenetV2/expanded_conv_5/depthwise/BatchNorm/gamma' type=Const>,\n",
              " <tf.Operation 'prefix/FeatureExtractor/MobilenetV2/expanded_conv_5/depthwise/BatchNorm/gamma/read' type=Identity>,\n",
              " <tf.Operation 'prefix/FeatureExtractor/MobilenetV2/expanded_conv_5/depthwise/BatchNorm/beta' type=Const>,\n",
              " <tf.Operation 'prefix/FeatureExtractor/MobilenetV2/expanded_conv_5/depthwise/BatchNorm/beta/read' type=Identity>,\n",
              " <tf.Operation 'prefix/FeatureExtractor/MobilenetV2/expanded_conv_5/depthwise/BatchNorm/moving_mean' type=Const>,\n",
              " <tf.Operation 'prefix/FeatureExtractor/MobilenetV2/expanded_conv_5/depthwise/BatchNorm/moving_mean/read' type=Identity>,\n",
              " <tf.Operation 'prefix/FeatureExtractor/MobilenetV2/expanded_conv_5/depthwise/BatchNorm/moving_variance' type=Const>,\n",
              " <tf.Operation 'prefix/FeatureExtractor/MobilenetV2/expanded_conv_5/depthwise/BatchNorm/moving_variance/read' type=Identity>,\n",
              " <tf.Operation 'prefix/FeatureExtractor/MobilenetV2/expanded_conv_5/depthwise/BatchNorm/FusedBatchNormV3' type=FusedBatchNormV3>,\n",
              " <tf.Operation 'prefix/FeatureExtractor/MobilenetV2/expanded_conv_5/depthwise/Relu6' type=Relu6>,\n",
              " <tf.Operation 'prefix/FeatureExtractor/MobilenetV2/expanded_conv_5/depthwise_output' type=Identity>,\n",
              " <tf.Operation 'prefix/FeatureExtractor/MobilenetV2/expanded_conv_5/project/weights' type=Const>,\n",
              " <tf.Operation 'prefix/FeatureExtractor/MobilenetV2/expanded_conv_5/project/weights/read' type=Identity>,\n",
              " <tf.Operation 'prefix/FeatureExtractor/MobilenetV2/expanded_conv_5/project/Conv2D' type=Conv2D>,\n",
              " <tf.Operation 'prefix/FeatureExtractor/MobilenetV2/expanded_conv_5/project/BatchNorm/gamma' type=Const>,\n",
              " <tf.Operation 'prefix/FeatureExtractor/MobilenetV2/expanded_conv_5/project/BatchNorm/gamma/read' type=Identity>,\n",
              " <tf.Operation 'prefix/FeatureExtractor/MobilenetV2/expanded_conv_5/project/BatchNorm/beta' type=Const>,\n",
              " <tf.Operation 'prefix/FeatureExtractor/MobilenetV2/expanded_conv_5/project/BatchNorm/beta/read' type=Identity>,\n",
              " <tf.Operation 'prefix/FeatureExtractor/MobilenetV2/expanded_conv_5/project/BatchNorm/moving_mean' type=Const>,\n",
              " <tf.Operation 'prefix/FeatureExtractor/MobilenetV2/expanded_conv_5/project/BatchNorm/moving_mean/read' type=Identity>,\n",
              " <tf.Operation 'prefix/FeatureExtractor/MobilenetV2/expanded_conv_5/project/BatchNorm/moving_variance' type=Const>,\n",
              " <tf.Operation 'prefix/FeatureExtractor/MobilenetV2/expanded_conv_5/project/BatchNorm/moving_variance/read' type=Identity>,\n",
              " <tf.Operation 'prefix/FeatureExtractor/MobilenetV2/expanded_conv_5/project/BatchNorm/FusedBatchNormV3' type=FusedBatchNormV3>,\n",
              " <tf.Operation 'prefix/FeatureExtractor/MobilenetV2/expanded_conv_5/project/Identity' type=Identity>,\n",
              " <tf.Operation 'prefix/FeatureExtractor/MobilenetV2/expanded_conv_5/add' type=AddV2>,\n",
              " <tf.Operation 'prefix/FeatureExtractor/MobilenetV2/expanded_conv_5/output' type=Identity>,\n",
              " <tf.Operation 'prefix/FeatureExtractor/MobilenetV2/expanded_conv_6/input' type=Identity>,\n",
              " <tf.Operation 'prefix/FeatureExtractor/MobilenetV2/expanded_conv_6/expand/weights' type=Const>,\n",
              " <tf.Operation 'prefix/FeatureExtractor/MobilenetV2/expanded_conv_6/expand/weights/read' type=Identity>,\n",
              " <tf.Operation 'prefix/FeatureExtractor/MobilenetV2/expanded_conv_6/expand/Conv2D' type=Conv2D>,\n",
              " <tf.Operation 'prefix/FeatureExtractor/MobilenetV2/expanded_conv_6/expand/BatchNorm/gamma' type=Const>,\n",
              " <tf.Operation 'prefix/FeatureExtractor/MobilenetV2/expanded_conv_6/expand/BatchNorm/gamma/read' type=Identity>,\n",
              " <tf.Operation 'prefix/FeatureExtractor/MobilenetV2/expanded_conv_6/expand/BatchNorm/beta' type=Const>,\n",
              " <tf.Operation 'prefix/FeatureExtractor/MobilenetV2/expanded_conv_6/expand/BatchNorm/beta/read' type=Identity>,\n",
              " <tf.Operation 'prefix/FeatureExtractor/MobilenetV2/expanded_conv_6/expand/BatchNorm/moving_mean' type=Const>,\n",
              " <tf.Operation 'prefix/FeatureExtractor/MobilenetV2/expanded_conv_6/expand/BatchNorm/moving_mean/read' type=Identity>,\n",
              " <tf.Operation 'prefix/FeatureExtractor/MobilenetV2/expanded_conv_6/expand/BatchNorm/moving_variance' type=Const>,\n",
              " <tf.Operation 'prefix/FeatureExtractor/MobilenetV2/expanded_conv_6/expand/BatchNorm/moving_variance/read' type=Identity>,\n",
              " <tf.Operation 'prefix/FeatureExtractor/MobilenetV2/expanded_conv_6/expand/BatchNorm/FusedBatchNormV3' type=FusedBatchNormV3>,\n",
              " <tf.Operation 'prefix/FeatureExtractor/MobilenetV2/expanded_conv_6/expand/Relu6' type=Relu6>,\n",
              " <tf.Operation 'prefix/FeatureExtractor/MobilenetV2/expanded_conv_6/expansion_output' type=Identity>,\n",
              " <tf.Operation 'prefix/FeatureExtractor/MobilenetV2/expanded_conv_6/depthwise/depthwise_weights' type=Const>,\n",
              " <tf.Operation 'prefix/FeatureExtractor/MobilenetV2/expanded_conv_6/depthwise/depthwise_weights/read' type=Identity>,\n",
              " <tf.Operation 'prefix/FeatureExtractor/MobilenetV2/expanded_conv_6/depthwise/depthwise' type=DepthwiseConv2dNative>,\n",
              " <tf.Operation 'prefix/FeatureExtractor/MobilenetV2/expanded_conv_6/depthwise/BatchNorm/gamma' type=Const>,\n",
              " <tf.Operation 'prefix/FeatureExtractor/MobilenetV2/expanded_conv_6/depthwise/BatchNorm/gamma/read' type=Identity>,\n",
              " <tf.Operation 'prefix/FeatureExtractor/MobilenetV2/expanded_conv_6/depthwise/BatchNorm/beta' type=Const>,\n",
              " <tf.Operation 'prefix/FeatureExtractor/MobilenetV2/expanded_conv_6/depthwise/BatchNorm/beta/read' type=Identity>,\n",
              " <tf.Operation 'prefix/FeatureExtractor/MobilenetV2/expanded_conv_6/depthwise/BatchNorm/moving_mean' type=Const>,\n",
              " <tf.Operation 'prefix/FeatureExtractor/MobilenetV2/expanded_conv_6/depthwise/BatchNorm/moving_mean/read' type=Identity>,\n",
              " <tf.Operation 'prefix/FeatureExtractor/MobilenetV2/expanded_conv_6/depthwise/BatchNorm/moving_variance' type=Const>,\n",
              " <tf.Operation 'prefix/FeatureExtractor/MobilenetV2/expanded_conv_6/depthwise/BatchNorm/moving_variance/read' type=Identity>,\n",
              " <tf.Operation 'prefix/FeatureExtractor/MobilenetV2/expanded_conv_6/depthwise/BatchNorm/FusedBatchNormV3' type=FusedBatchNormV3>,\n",
              " <tf.Operation 'prefix/FeatureExtractor/MobilenetV2/expanded_conv_6/depthwise/Relu6' type=Relu6>,\n",
              " <tf.Operation 'prefix/FeatureExtractor/MobilenetV2/expanded_conv_6/depthwise_output' type=Identity>,\n",
              " <tf.Operation 'prefix/FeatureExtractor/MobilenetV2/expanded_conv_6/project/weights' type=Const>,\n",
              " <tf.Operation 'prefix/FeatureExtractor/MobilenetV2/expanded_conv_6/project/weights/read' type=Identity>,\n",
              " <tf.Operation 'prefix/FeatureExtractor/MobilenetV2/expanded_conv_6/project/Conv2D' type=Conv2D>,\n",
              " <tf.Operation 'prefix/FeatureExtractor/MobilenetV2/expanded_conv_6/project/BatchNorm/gamma' type=Const>,\n",
              " <tf.Operation 'prefix/FeatureExtractor/MobilenetV2/expanded_conv_6/project/BatchNorm/gamma/read' type=Identity>,\n",
              " <tf.Operation 'prefix/FeatureExtractor/MobilenetV2/expanded_conv_6/project/BatchNorm/beta' type=Const>,\n",
              " <tf.Operation 'prefix/FeatureExtractor/MobilenetV2/expanded_conv_6/project/BatchNorm/beta/read' type=Identity>,\n",
              " <tf.Operation 'prefix/FeatureExtractor/MobilenetV2/expanded_conv_6/project/BatchNorm/moving_mean' type=Const>,\n",
              " <tf.Operation 'prefix/FeatureExtractor/MobilenetV2/expanded_conv_6/project/BatchNorm/moving_mean/read' type=Identity>,\n",
              " <tf.Operation 'prefix/FeatureExtractor/MobilenetV2/expanded_conv_6/project/BatchNorm/moving_variance' type=Const>,\n",
              " <tf.Operation 'prefix/FeatureExtractor/MobilenetV2/expanded_conv_6/project/BatchNorm/moving_variance/read' type=Identity>,\n",
              " <tf.Operation 'prefix/FeatureExtractor/MobilenetV2/expanded_conv_6/project/BatchNorm/FusedBatchNormV3' type=FusedBatchNormV3>,\n",
              " <tf.Operation 'prefix/FeatureExtractor/MobilenetV2/expanded_conv_6/project/Identity' type=Identity>,\n",
              " <tf.Operation 'prefix/FeatureExtractor/MobilenetV2/expanded_conv_6/output' type=Identity>,\n",
              " <tf.Operation 'prefix/FeatureExtractor/MobilenetV2/expanded_conv_7/input' type=Identity>,\n",
              " <tf.Operation 'prefix/FeatureExtractor/MobilenetV2/expanded_conv_7/expand/weights' type=Const>,\n",
              " <tf.Operation 'prefix/FeatureExtractor/MobilenetV2/expanded_conv_7/expand/weights/read' type=Identity>,\n",
              " <tf.Operation 'prefix/FeatureExtractor/MobilenetV2/expanded_conv_7/expand/Conv2D' type=Conv2D>,\n",
              " <tf.Operation 'prefix/FeatureExtractor/MobilenetV2/expanded_conv_7/expand/BatchNorm/gamma' type=Const>,\n",
              " <tf.Operation 'prefix/FeatureExtractor/MobilenetV2/expanded_conv_7/expand/BatchNorm/gamma/read' type=Identity>,\n",
              " <tf.Operation 'prefix/FeatureExtractor/MobilenetV2/expanded_conv_7/expand/BatchNorm/beta' type=Const>,\n",
              " <tf.Operation 'prefix/FeatureExtractor/MobilenetV2/expanded_conv_7/expand/BatchNorm/beta/read' type=Identity>,\n",
              " <tf.Operation 'prefix/FeatureExtractor/MobilenetV2/expanded_conv_7/expand/BatchNorm/moving_mean' type=Const>,\n",
              " <tf.Operation 'prefix/FeatureExtractor/MobilenetV2/expanded_conv_7/expand/BatchNorm/moving_mean/read' type=Identity>,\n",
              " <tf.Operation 'prefix/FeatureExtractor/MobilenetV2/expanded_conv_7/expand/BatchNorm/moving_variance' type=Const>,\n",
              " <tf.Operation 'prefix/FeatureExtractor/MobilenetV2/expanded_conv_7/expand/BatchNorm/moving_variance/read' type=Identity>,\n",
              " <tf.Operation 'prefix/FeatureExtractor/MobilenetV2/expanded_conv_7/expand/BatchNorm/FusedBatchNormV3' type=FusedBatchNormV3>,\n",
              " <tf.Operation 'prefix/FeatureExtractor/MobilenetV2/expanded_conv_7/expand/Relu6' type=Relu6>,\n",
              " <tf.Operation 'prefix/FeatureExtractor/MobilenetV2/expanded_conv_7/expansion_output' type=Identity>,\n",
              " <tf.Operation 'prefix/FeatureExtractor/MobilenetV2/expanded_conv_7/depthwise/depthwise_weights' type=Const>,\n",
              " <tf.Operation 'prefix/FeatureExtractor/MobilenetV2/expanded_conv_7/depthwise/depthwise_weights/read' type=Identity>,\n",
              " <tf.Operation 'prefix/FeatureExtractor/MobilenetV2/expanded_conv_7/depthwise/depthwise' type=DepthwiseConv2dNative>,\n",
              " <tf.Operation 'prefix/FeatureExtractor/MobilenetV2/expanded_conv_7/depthwise/BatchNorm/gamma' type=Const>,\n",
              " <tf.Operation 'prefix/FeatureExtractor/MobilenetV2/expanded_conv_7/depthwise/BatchNorm/gamma/read' type=Identity>,\n",
              " <tf.Operation 'prefix/FeatureExtractor/MobilenetV2/expanded_conv_7/depthwise/BatchNorm/beta' type=Const>,\n",
              " <tf.Operation 'prefix/FeatureExtractor/MobilenetV2/expanded_conv_7/depthwise/BatchNorm/beta/read' type=Identity>,\n",
              " <tf.Operation 'prefix/FeatureExtractor/MobilenetV2/expanded_conv_7/depthwise/BatchNorm/moving_mean' type=Const>,\n",
              " <tf.Operation 'prefix/FeatureExtractor/MobilenetV2/expanded_conv_7/depthwise/BatchNorm/moving_mean/read' type=Identity>,\n",
              " <tf.Operation 'prefix/FeatureExtractor/MobilenetV2/expanded_conv_7/depthwise/BatchNorm/moving_variance' type=Const>,\n",
              " <tf.Operation 'prefix/FeatureExtractor/MobilenetV2/expanded_conv_7/depthwise/BatchNorm/moving_variance/read' type=Identity>,\n",
              " <tf.Operation 'prefix/FeatureExtractor/MobilenetV2/expanded_conv_7/depthwise/BatchNorm/FusedBatchNormV3' type=FusedBatchNormV3>,\n",
              " <tf.Operation 'prefix/FeatureExtractor/MobilenetV2/expanded_conv_7/depthwise/Relu6' type=Relu6>,\n",
              " <tf.Operation 'prefix/FeatureExtractor/MobilenetV2/expanded_conv_7/depthwise_output' type=Identity>,\n",
              " <tf.Operation 'prefix/FeatureExtractor/MobilenetV2/expanded_conv_7/project/weights' type=Const>,\n",
              " <tf.Operation 'prefix/FeatureExtractor/MobilenetV2/expanded_conv_7/project/weights/read' type=Identity>,\n",
              " <tf.Operation 'prefix/FeatureExtractor/MobilenetV2/expanded_conv_7/project/Conv2D' type=Conv2D>,\n",
              " <tf.Operation 'prefix/FeatureExtractor/MobilenetV2/expanded_conv_7/project/BatchNorm/gamma' type=Const>,\n",
              " <tf.Operation 'prefix/FeatureExtractor/MobilenetV2/expanded_conv_7/project/BatchNorm/gamma/read' type=Identity>,\n",
              " <tf.Operation 'prefix/FeatureExtractor/MobilenetV2/expanded_conv_7/project/BatchNorm/beta' type=Const>,\n",
              " <tf.Operation 'prefix/FeatureExtractor/MobilenetV2/expanded_conv_7/project/BatchNorm/beta/read' type=Identity>,\n",
              " <tf.Operation 'prefix/FeatureExtractor/MobilenetV2/expanded_conv_7/project/BatchNorm/moving_mean' type=Const>,\n",
              " <tf.Operation 'prefix/FeatureExtractor/MobilenetV2/expanded_conv_7/project/BatchNorm/moving_mean/read' type=Identity>,\n",
              " <tf.Operation 'prefix/FeatureExtractor/MobilenetV2/expanded_conv_7/project/BatchNorm/moving_variance' type=Const>,\n",
              " <tf.Operation 'prefix/FeatureExtractor/MobilenetV2/expanded_conv_7/project/BatchNorm/moving_variance/read' type=Identity>,\n",
              " <tf.Operation 'prefix/FeatureExtractor/MobilenetV2/expanded_conv_7/project/BatchNorm/FusedBatchNormV3' type=FusedBatchNormV3>,\n",
              " <tf.Operation 'prefix/FeatureExtractor/MobilenetV2/expanded_conv_7/project/Identity' type=Identity>,\n",
              " <tf.Operation 'prefix/FeatureExtractor/MobilenetV2/expanded_conv_7/add' type=AddV2>,\n",
              " <tf.Operation 'prefix/FeatureExtractor/MobilenetV2/expanded_conv_7/output' type=Identity>,\n",
              " <tf.Operation 'prefix/FeatureExtractor/MobilenetV2/expanded_conv_8/input' type=Identity>,\n",
              " <tf.Operation 'prefix/FeatureExtractor/MobilenetV2/expanded_conv_8/expand/weights' type=Const>,\n",
              " <tf.Operation 'prefix/FeatureExtractor/MobilenetV2/expanded_conv_8/expand/weights/read' type=Identity>,\n",
              " <tf.Operation 'prefix/FeatureExtractor/MobilenetV2/expanded_conv_8/expand/Conv2D' type=Conv2D>,\n",
              " <tf.Operation 'prefix/FeatureExtractor/MobilenetV2/expanded_conv_8/expand/BatchNorm/gamma' type=Const>,\n",
              " <tf.Operation 'prefix/FeatureExtractor/MobilenetV2/expanded_conv_8/expand/BatchNorm/gamma/read' type=Identity>,\n",
              " <tf.Operation 'prefix/FeatureExtractor/MobilenetV2/expanded_conv_8/expand/BatchNorm/beta' type=Const>,\n",
              " <tf.Operation 'prefix/FeatureExtractor/MobilenetV2/expanded_conv_8/expand/BatchNorm/beta/read' type=Identity>,\n",
              " <tf.Operation 'prefix/FeatureExtractor/MobilenetV2/expanded_conv_8/expand/BatchNorm/moving_mean' type=Const>,\n",
              " <tf.Operation 'prefix/FeatureExtractor/MobilenetV2/expanded_conv_8/expand/BatchNorm/moving_mean/read' type=Identity>,\n",
              " <tf.Operation 'prefix/FeatureExtractor/MobilenetV2/expanded_conv_8/expand/BatchNorm/moving_variance' type=Const>,\n",
              " <tf.Operation 'prefix/FeatureExtractor/MobilenetV2/expanded_conv_8/expand/BatchNorm/moving_variance/read' type=Identity>,\n",
              " <tf.Operation 'prefix/FeatureExtractor/MobilenetV2/expanded_conv_8/expand/BatchNorm/FusedBatchNormV3' type=FusedBatchNormV3>,\n",
              " <tf.Operation 'prefix/FeatureExtractor/MobilenetV2/expanded_conv_8/expand/Relu6' type=Relu6>,\n",
              " <tf.Operation 'prefix/FeatureExtractor/MobilenetV2/expanded_conv_8/expansion_output' type=Identity>,\n",
              " <tf.Operation 'prefix/FeatureExtractor/MobilenetV2/expanded_conv_8/depthwise/depthwise_weights' type=Const>,\n",
              " <tf.Operation 'prefix/FeatureExtractor/MobilenetV2/expanded_conv_8/depthwise/depthwise_weights/read' type=Identity>,\n",
              " <tf.Operation 'prefix/FeatureExtractor/MobilenetV2/expanded_conv_8/depthwise/depthwise' type=DepthwiseConv2dNative>,\n",
              " <tf.Operation 'prefix/FeatureExtractor/MobilenetV2/expanded_conv_8/depthwise/BatchNorm/gamma' type=Const>,\n",
              " <tf.Operation 'prefix/FeatureExtractor/MobilenetV2/expanded_conv_8/depthwise/BatchNorm/gamma/read' type=Identity>,\n",
              " <tf.Operation 'prefix/FeatureExtractor/MobilenetV2/expanded_conv_8/depthwise/BatchNorm/beta' type=Const>,\n",
              " <tf.Operation 'prefix/FeatureExtractor/MobilenetV2/expanded_conv_8/depthwise/BatchNorm/beta/read' type=Identity>,\n",
              " <tf.Operation 'prefix/FeatureExtractor/MobilenetV2/expanded_conv_8/depthwise/BatchNorm/moving_mean' type=Const>,\n",
              " <tf.Operation 'prefix/FeatureExtractor/MobilenetV2/expanded_conv_8/depthwise/BatchNorm/moving_mean/read' type=Identity>,\n",
              " <tf.Operation 'prefix/FeatureExtractor/MobilenetV2/expanded_conv_8/depthwise/BatchNorm/moving_variance' type=Const>,\n",
              " <tf.Operation 'prefix/FeatureExtractor/MobilenetV2/expanded_conv_8/depthwise/BatchNorm/moving_variance/read' type=Identity>,\n",
              " <tf.Operation 'prefix/FeatureExtractor/MobilenetV2/expanded_conv_8/depthwise/BatchNorm/FusedBatchNormV3' type=FusedBatchNormV3>,\n",
              " <tf.Operation 'prefix/FeatureExtractor/MobilenetV2/expanded_conv_8/depthwise/Relu6' type=Relu6>,\n",
              " <tf.Operation 'prefix/FeatureExtractor/MobilenetV2/expanded_conv_8/depthwise_output' type=Identity>,\n",
              " <tf.Operation 'prefix/FeatureExtractor/MobilenetV2/expanded_conv_8/project/weights' type=Const>,\n",
              " <tf.Operation 'prefix/FeatureExtractor/MobilenetV2/expanded_conv_8/project/weights/read' type=Identity>,\n",
              " <tf.Operation 'prefix/FeatureExtractor/MobilenetV2/expanded_conv_8/project/Conv2D' type=Conv2D>,\n",
              " <tf.Operation 'prefix/FeatureExtractor/MobilenetV2/expanded_conv_8/project/BatchNorm/gamma' type=Const>,\n",
              " <tf.Operation 'prefix/FeatureExtractor/MobilenetV2/expanded_conv_8/project/BatchNorm/gamma/read' type=Identity>,\n",
              " <tf.Operation 'prefix/FeatureExtractor/MobilenetV2/expanded_conv_8/project/BatchNorm/beta' type=Const>,\n",
              " <tf.Operation 'prefix/FeatureExtractor/MobilenetV2/expanded_conv_8/project/BatchNorm/beta/read' type=Identity>,\n",
              " <tf.Operation 'prefix/FeatureExtractor/MobilenetV2/expanded_conv_8/project/BatchNorm/moving_mean' type=Const>,\n",
              " <tf.Operation 'prefix/FeatureExtractor/MobilenetV2/expanded_conv_8/project/BatchNorm/moving_mean/read' type=Identity>,\n",
              " <tf.Operation 'prefix/FeatureExtractor/MobilenetV2/expanded_conv_8/project/BatchNorm/moving_variance' type=Const>,\n",
              " <tf.Operation 'prefix/FeatureExtractor/MobilenetV2/expanded_conv_8/project/BatchNorm/moving_variance/read' type=Identity>,\n",
              " <tf.Operation 'prefix/FeatureExtractor/MobilenetV2/expanded_conv_8/project/BatchNorm/FusedBatchNormV3' type=FusedBatchNormV3>,\n",
              " <tf.Operation 'prefix/FeatureExtractor/MobilenetV2/expanded_conv_8/project/Identity' type=Identity>,\n",
              " <tf.Operation 'prefix/FeatureExtractor/MobilenetV2/expanded_conv_8/add' type=AddV2>,\n",
              " <tf.Operation 'prefix/FeatureExtractor/MobilenetV2/expanded_conv_8/output' type=Identity>,\n",
              " <tf.Operation 'prefix/FeatureExtractor/MobilenetV2/expanded_conv_9/input' type=Identity>,\n",
              " <tf.Operation 'prefix/FeatureExtractor/MobilenetV2/expanded_conv_9/expand/weights' type=Const>,\n",
              " <tf.Operation 'prefix/FeatureExtractor/MobilenetV2/expanded_conv_9/expand/weights/read' type=Identity>,\n",
              " <tf.Operation 'prefix/FeatureExtractor/MobilenetV2/expanded_conv_9/expand/Conv2D' type=Conv2D>,\n",
              " <tf.Operation 'prefix/FeatureExtractor/MobilenetV2/expanded_conv_9/expand/BatchNorm/gamma' type=Const>,\n",
              " <tf.Operation 'prefix/FeatureExtractor/MobilenetV2/expanded_conv_9/expand/BatchNorm/gamma/read' type=Identity>,\n",
              " <tf.Operation 'prefix/FeatureExtractor/MobilenetV2/expanded_conv_9/expand/BatchNorm/beta' type=Const>,\n",
              " <tf.Operation 'prefix/FeatureExtractor/MobilenetV2/expanded_conv_9/expand/BatchNorm/beta/read' type=Identity>,\n",
              " <tf.Operation 'prefix/FeatureExtractor/MobilenetV2/expanded_conv_9/expand/BatchNorm/moving_mean' type=Const>,\n",
              " <tf.Operation 'prefix/FeatureExtractor/MobilenetV2/expanded_conv_9/expand/BatchNorm/moving_mean/read' type=Identity>,\n",
              " <tf.Operation 'prefix/FeatureExtractor/MobilenetV2/expanded_conv_9/expand/BatchNorm/moving_variance' type=Const>,\n",
              " <tf.Operation 'prefix/FeatureExtractor/MobilenetV2/expanded_conv_9/expand/BatchNorm/moving_variance/read' type=Identity>,\n",
              " <tf.Operation 'prefix/FeatureExtractor/MobilenetV2/expanded_conv_9/expand/BatchNorm/FusedBatchNormV3' type=FusedBatchNormV3>,\n",
              " <tf.Operation 'prefix/FeatureExtractor/MobilenetV2/expanded_conv_9/expand/Relu6' type=Relu6>,\n",
              " <tf.Operation 'prefix/FeatureExtractor/MobilenetV2/expanded_conv_9/expansion_output' type=Identity>,\n",
              " <tf.Operation 'prefix/FeatureExtractor/MobilenetV2/expanded_conv_9/depthwise/depthwise_weights' type=Const>,\n",
              " <tf.Operation 'prefix/FeatureExtractor/MobilenetV2/expanded_conv_9/depthwise/depthwise_weights/read' type=Identity>,\n",
              " <tf.Operation 'prefix/FeatureExtractor/MobilenetV2/expanded_conv_9/depthwise/depthwise' type=DepthwiseConv2dNative>,\n",
              " <tf.Operation 'prefix/FeatureExtractor/MobilenetV2/expanded_conv_9/depthwise/BatchNorm/gamma' type=Const>,\n",
              " <tf.Operation 'prefix/FeatureExtractor/MobilenetV2/expanded_conv_9/depthwise/BatchNorm/gamma/read' type=Identity>,\n",
              " <tf.Operation 'prefix/FeatureExtractor/MobilenetV2/expanded_conv_9/depthwise/BatchNorm/beta' type=Const>,\n",
              " <tf.Operation 'prefix/FeatureExtractor/MobilenetV2/expanded_conv_9/depthwise/BatchNorm/beta/read' type=Identity>,\n",
              " <tf.Operation 'prefix/FeatureExtractor/MobilenetV2/expanded_conv_9/depthwise/BatchNorm/moving_mean' type=Const>,\n",
              " <tf.Operation 'prefix/FeatureExtractor/MobilenetV2/expanded_conv_9/depthwise/BatchNorm/moving_mean/read' type=Identity>,\n",
              " <tf.Operation 'prefix/FeatureExtractor/MobilenetV2/expanded_conv_9/depthwise/BatchNorm/moving_variance' type=Const>,\n",
              " <tf.Operation 'prefix/FeatureExtractor/MobilenetV2/expanded_conv_9/depthwise/BatchNorm/moving_variance/read' type=Identity>,\n",
              " <tf.Operation 'prefix/FeatureExtractor/MobilenetV2/expanded_conv_9/depthwise/BatchNorm/FusedBatchNormV3' type=FusedBatchNormV3>,\n",
              " <tf.Operation 'prefix/FeatureExtractor/MobilenetV2/expanded_conv_9/depthwise/Relu6' type=Relu6>,\n",
              " <tf.Operation 'prefix/FeatureExtractor/MobilenetV2/expanded_conv_9/depthwise_output' type=Identity>,\n",
              " <tf.Operation 'prefix/FeatureExtractor/MobilenetV2/expanded_conv_9/project/weights' type=Const>,\n",
              " <tf.Operation 'prefix/FeatureExtractor/MobilenetV2/expanded_conv_9/project/weights/read' type=Identity>,\n",
              " <tf.Operation 'prefix/FeatureExtractor/MobilenetV2/expanded_conv_9/project/Conv2D' type=Conv2D>,\n",
              " <tf.Operation 'prefix/FeatureExtractor/MobilenetV2/expanded_conv_9/project/BatchNorm/gamma' type=Const>,\n",
              " <tf.Operation 'prefix/FeatureExtractor/MobilenetV2/expanded_conv_9/project/BatchNorm/gamma/read' type=Identity>,\n",
              " <tf.Operation 'prefix/FeatureExtractor/MobilenetV2/expanded_conv_9/project/BatchNorm/beta' type=Const>,\n",
              " <tf.Operation 'prefix/FeatureExtractor/MobilenetV2/expanded_conv_9/project/BatchNorm/beta/read' type=Identity>,\n",
              " <tf.Operation 'prefix/FeatureExtractor/MobilenetV2/expanded_conv_9/project/BatchNorm/moving_mean' type=Const>,\n",
              " <tf.Operation 'prefix/FeatureExtractor/MobilenetV2/expanded_conv_9/project/BatchNorm/moving_mean/read' type=Identity>,\n",
              " <tf.Operation 'prefix/FeatureExtractor/MobilenetV2/expanded_conv_9/project/BatchNorm/moving_variance' type=Const>,\n",
              " <tf.Operation 'prefix/FeatureExtractor/MobilenetV2/expanded_conv_9/project/BatchNorm/moving_variance/read' type=Identity>,\n",
              " <tf.Operation 'prefix/FeatureExtractor/MobilenetV2/expanded_conv_9/project/BatchNorm/FusedBatchNormV3' type=FusedBatchNormV3>,\n",
              " <tf.Operation 'prefix/FeatureExtractor/MobilenetV2/expanded_conv_9/project/Identity' type=Identity>,\n",
              " <tf.Operation 'prefix/FeatureExtractor/MobilenetV2/expanded_conv_9/add' type=AddV2>,\n",
              " <tf.Operation 'prefix/FeatureExtractor/MobilenetV2/expanded_conv_9/output' type=Identity>,\n",
              " <tf.Operation 'prefix/FeatureExtractor/MobilenetV2/expanded_conv_10/input' type=Identity>,\n",
              " <tf.Operation 'prefix/FeatureExtractor/MobilenetV2/expanded_conv_10/expand/weights' type=Const>,\n",
              " <tf.Operation 'prefix/FeatureExtractor/MobilenetV2/expanded_conv_10/expand/weights/read' type=Identity>,\n",
              " <tf.Operation 'prefix/FeatureExtractor/MobilenetV2/expanded_conv_10/expand/Conv2D' type=Conv2D>,\n",
              " <tf.Operation 'prefix/FeatureExtractor/MobilenetV2/expanded_conv_10/expand/BatchNorm/gamma' type=Const>,\n",
              " <tf.Operation 'prefix/FeatureExtractor/MobilenetV2/expanded_conv_10/expand/BatchNorm/gamma/read' type=Identity>,\n",
              " <tf.Operation 'prefix/FeatureExtractor/MobilenetV2/expanded_conv_10/expand/BatchNorm/beta' type=Const>,\n",
              " <tf.Operation 'prefix/FeatureExtractor/MobilenetV2/expanded_conv_10/expand/BatchNorm/beta/read' type=Identity>,\n",
              " <tf.Operation 'prefix/FeatureExtractor/MobilenetV2/expanded_conv_10/expand/BatchNorm/moving_mean' type=Const>,\n",
              " <tf.Operation 'prefix/FeatureExtractor/MobilenetV2/expanded_conv_10/expand/BatchNorm/moving_mean/read' type=Identity>,\n",
              " <tf.Operation 'prefix/FeatureExtractor/MobilenetV2/expanded_conv_10/expand/BatchNorm/moving_variance' type=Const>,\n",
              " <tf.Operation 'prefix/FeatureExtractor/MobilenetV2/expanded_conv_10/expand/BatchNorm/moving_variance/read' type=Identity>,\n",
              " <tf.Operation 'prefix/FeatureExtractor/MobilenetV2/expanded_conv_10/expand/BatchNorm/FusedBatchNormV3' type=FusedBatchNormV3>,\n",
              " <tf.Operation 'prefix/FeatureExtractor/MobilenetV2/expanded_conv_10/expand/Relu6' type=Relu6>,\n",
              " <tf.Operation 'prefix/FeatureExtractor/MobilenetV2/expanded_conv_10/expansion_output' type=Identity>,\n",
              " <tf.Operation 'prefix/FeatureExtractor/MobilenetV2/expanded_conv_10/depthwise/depthwise_weights' type=Const>,\n",
              " <tf.Operation 'prefix/FeatureExtractor/MobilenetV2/expanded_conv_10/depthwise/depthwise_weights/read' type=Identity>,\n",
              " <tf.Operation 'prefix/FeatureExtractor/MobilenetV2/expanded_conv_10/depthwise/depthwise' type=DepthwiseConv2dNative>,\n",
              " <tf.Operation 'prefix/FeatureExtractor/MobilenetV2/expanded_conv_10/depthwise/BatchNorm/gamma' type=Const>,\n",
              " <tf.Operation 'prefix/FeatureExtractor/MobilenetV2/expanded_conv_10/depthwise/BatchNorm/gamma/read' type=Identity>,\n",
              " <tf.Operation 'prefix/FeatureExtractor/MobilenetV2/expanded_conv_10/depthwise/BatchNorm/beta' type=Const>,\n",
              " <tf.Operation 'prefix/FeatureExtractor/MobilenetV2/expanded_conv_10/depthwise/BatchNorm/beta/read' type=Identity>,\n",
              " <tf.Operation 'prefix/FeatureExtractor/MobilenetV2/expanded_conv_10/depthwise/BatchNorm/moving_mean' type=Const>,\n",
              " <tf.Operation 'prefix/FeatureExtractor/MobilenetV2/expanded_conv_10/depthwise/BatchNorm/moving_mean/read' type=Identity>,\n",
              " <tf.Operation 'prefix/FeatureExtractor/MobilenetV2/expanded_conv_10/depthwise/BatchNorm/moving_variance' type=Const>,\n",
              " <tf.Operation 'prefix/FeatureExtractor/MobilenetV2/expanded_conv_10/depthwise/BatchNorm/moving_variance/read' type=Identity>,\n",
              " <tf.Operation 'prefix/FeatureExtractor/MobilenetV2/expanded_conv_10/depthwise/BatchNorm/FusedBatchNormV3' type=FusedBatchNormV3>,\n",
              " <tf.Operation 'prefix/FeatureExtractor/MobilenetV2/expanded_conv_10/depthwise/Relu6' type=Relu6>,\n",
              " <tf.Operation 'prefix/FeatureExtractor/MobilenetV2/expanded_conv_10/depthwise_output' type=Identity>,\n",
              " <tf.Operation 'prefix/FeatureExtractor/MobilenetV2/expanded_conv_10/project/weights' type=Const>,\n",
              " <tf.Operation 'prefix/FeatureExtractor/MobilenetV2/expanded_conv_10/project/weights/read' type=Identity>,\n",
              " <tf.Operation 'prefix/FeatureExtractor/MobilenetV2/expanded_conv_10/project/Conv2D' type=Conv2D>,\n",
              " <tf.Operation 'prefix/FeatureExtractor/MobilenetV2/expanded_conv_10/project/BatchNorm/gamma' type=Const>,\n",
              " <tf.Operation 'prefix/FeatureExtractor/MobilenetV2/expanded_conv_10/project/BatchNorm/gamma/read' type=Identity>,\n",
              " <tf.Operation 'prefix/FeatureExtractor/MobilenetV2/expanded_conv_10/project/BatchNorm/beta' type=Const>,\n",
              " <tf.Operation 'prefix/FeatureExtractor/MobilenetV2/expanded_conv_10/project/BatchNorm/beta/read' type=Identity>,\n",
              " <tf.Operation 'prefix/FeatureExtractor/MobilenetV2/expanded_conv_10/project/BatchNorm/moving_mean' type=Const>,\n",
              " <tf.Operation 'prefix/FeatureExtractor/MobilenetV2/expanded_conv_10/project/BatchNorm/moving_mean/read' type=Identity>,\n",
              " <tf.Operation 'prefix/FeatureExtractor/MobilenetV2/expanded_conv_10/project/BatchNorm/moving_variance' type=Const>,\n",
              " <tf.Operation 'prefix/FeatureExtractor/MobilenetV2/expanded_conv_10/project/BatchNorm/moving_variance/read' type=Identity>,\n",
              " <tf.Operation 'prefix/FeatureExtractor/MobilenetV2/expanded_conv_10/project/BatchNorm/FusedBatchNormV3' type=FusedBatchNormV3>,\n",
              " <tf.Operation 'prefix/FeatureExtractor/MobilenetV2/expanded_conv_10/project/Identity' type=Identity>,\n",
              " <tf.Operation 'prefix/FeatureExtractor/MobilenetV2/expanded_conv_10/output' type=Identity>,\n",
              " <tf.Operation 'prefix/FeatureExtractor/MobilenetV2/expanded_conv_11/input' type=Identity>,\n",
              " <tf.Operation 'prefix/FeatureExtractor/MobilenetV2/expanded_conv_11/expand/weights' type=Const>,\n",
              " <tf.Operation 'prefix/FeatureExtractor/MobilenetV2/expanded_conv_11/expand/weights/read' type=Identity>,\n",
              " <tf.Operation 'prefix/FeatureExtractor/MobilenetV2/expanded_conv_11/expand/Conv2D' type=Conv2D>,\n",
              " <tf.Operation 'prefix/FeatureExtractor/MobilenetV2/expanded_conv_11/expand/BatchNorm/gamma' type=Const>,\n",
              " <tf.Operation 'prefix/FeatureExtractor/MobilenetV2/expanded_conv_11/expand/BatchNorm/gamma/read' type=Identity>,\n",
              " <tf.Operation 'prefix/FeatureExtractor/MobilenetV2/expanded_conv_11/expand/BatchNorm/beta' type=Const>,\n",
              " <tf.Operation 'prefix/FeatureExtractor/MobilenetV2/expanded_conv_11/expand/BatchNorm/beta/read' type=Identity>,\n",
              " <tf.Operation 'prefix/FeatureExtractor/MobilenetV2/expanded_conv_11/expand/BatchNorm/moving_mean' type=Const>,\n",
              " <tf.Operation 'prefix/FeatureExtractor/MobilenetV2/expanded_conv_11/expand/BatchNorm/moving_mean/read' type=Identity>,\n",
              " <tf.Operation 'prefix/FeatureExtractor/MobilenetV2/expanded_conv_11/expand/BatchNorm/moving_variance' type=Const>,\n",
              " <tf.Operation 'prefix/FeatureExtractor/MobilenetV2/expanded_conv_11/expand/BatchNorm/moving_variance/read' type=Identity>,\n",
              " <tf.Operation 'prefix/FeatureExtractor/MobilenetV2/expanded_conv_11/expand/BatchNorm/FusedBatchNormV3' type=FusedBatchNormV3>,\n",
              " <tf.Operation 'prefix/FeatureExtractor/MobilenetV2/expanded_conv_11/expand/Relu6' type=Relu6>,\n",
              " <tf.Operation 'prefix/FeatureExtractor/MobilenetV2/expanded_conv_11/expansion_output' type=Identity>,\n",
              " <tf.Operation 'prefix/FeatureExtractor/MobilenetV2/expanded_conv_11/depthwise/depthwise_weights' type=Const>,\n",
              " <tf.Operation 'prefix/FeatureExtractor/MobilenetV2/expanded_conv_11/depthwise/depthwise_weights/read' type=Identity>,\n",
              " <tf.Operation 'prefix/FeatureExtractor/MobilenetV2/expanded_conv_11/depthwise/depthwise' type=DepthwiseConv2dNative>,\n",
              " <tf.Operation 'prefix/FeatureExtractor/MobilenetV2/expanded_conv_11/depthwise/BatchNorm/gamma' type=Const>,\n",
              " <tf.Operation 'prefix/FeatureExtractor/MobilenetV2/expanded_conv_11/depthwise/BatchNorm/gamma/read' type=Identity>,\n",
              " <tf.Operation 'prefix/FeatureExtractor/MobilenetV2/expanded_conv_11/depthwise/BatchNorm/beta' type=Const>,\n",
              " <tf.Operation 'prefix/FeatureExtractor/MobilenetV2/expanded_conv_11/depthwise/BatchNorm/beta/read' type=Identity>,\n",
              " <tf.Operation 'prefix/FeatureExtractor/MobilenetV2/expanded_conv_11/depthwise/BatchNorm/moving_mean' type=Const>,\n",
              " <tf.Operation 'prefix/FeatureExtractor/MobilenetV2/expanded_conv_11/depthwise/BatchNorm/moving_mean/read' type=Identity>,\n",
              " <tf.Operation 'prefix/FeatureExtractor/MobilenetV2/expanded_conv_11/depthwise/BatchNorm/moving_variance' type=Const>,\n",
              " <tf.Operation 'prefix/FeatureExtractor/MobilenetV2/expanded_conv_11/depthwise/BatchNorm/moving_variance/read' type=Identity>,\n",
              " <tf.Operation 'prefix/FeatureExtractor/MobilenetV2/expanded_conv_11/depthwise/BatchNorm/FusedBatchNormV3' type=FusedBatchNormV3>,\n",
              " <tf.Operation 'prefix/FeatureExtractor/MobilenetV2/expanded_conv_11/depthwise/Relu6' type=Relu6>,\n",
              " <tf.Operation 'prefix/FeatureExtractor/MobilenetV2/expanded_conv_11/depthwise_output' type=Identity>,\n",
              " <tf.Operation 'prefix/FeatureExtractor/MobilenetV2/expanded_conv_11/project/weights' type=Const>,\n",
              " <tf.Operation 'prefix/FeatureExtractor/MobilenetV2/expanded_conv_11/project/weights/read' type=Identity>,\n",
              " <tf.Operation 'prefix/FeatureExtractor/MobilenetV2/expanded_conv_11/project/Conv2D' type=Conv2D>,\n",
              " <tf.Operation 'prefix/FeatureExtractor/MobilenetV2/expanded_conv_11/project/BatchNorm/gamma' type=Const>,\n",
              " <tf.Operation 'prefix/FeatureExtractor/MobilenetV2/expanded_conv_11/project/BatchNorm/gamma/read' type=Identity>,\n",
              " <tf.Operation 'prefix/FeatureExtractor/MobilenetV2/expanded_conv_11/project/BatchNorm/beta' type=Const>,\n",
              " <tf.Operation 'prefix/FeatureExtractor/MobilenetV2/expanded_conv_11/project/BatchNorm/beta/read' type=Identity>,\n",
              " <tf.Operation 'prefix/FeatureExtractor/MobilenetV2/expanded_conv_11/project/BatchNorm/moving_mean' type=Const>,\n",
              " <tf.Operation 'prefix/FeatureExtractor/MobilenetV2/expanded_conv_11/project/BatchNorm/moving_mean/read' type=Identity>,\n",
              " <tf.Operation 'prefix/FeatureExtractor/MobilenetV2/expanded_conv_11/project/BatchNorm/moving_variance' type=Const>,\n",
              " <tf.Operation 'prefix/FeatureExtractor/MobilenetV2/expanded_conv_11/project/BatchNorm/moving_variance/read' type=Identity>,\n",
              " <tf.Operation 'prefix/FeatureExtractor/MobilenetV2/expanded_conv_11/project/BatchNorm/FusedBatchNormV3' type=FusedBatchNormV3>,\n",
              " <tf.Operation 'prefix/FeatureExtractor/MobilenetV2/expanded_conv_11/project/Identity' type=Identity>,\n",
              " <tf.Operation 'prefix/FeatureExtractor/MobilenetV2/expanded_conv_11/add' type=AddV2>,\n",
              " <tf.Operation 'prefix/FeatureExtractor/MobilenetV2/expanded_conv_11/output' type=Identity>,\n",
              " <tf.Operation 'prefix/FeatureExtractor/MobilenetV2/expanded_conv_12/input' type=Identity>,\n",
              " <tf.Operation 'prefix/FeatureExtractor/MobilenetV2/expanded_conv_12/expand/weights' type=Const>,\n",
              " <tf.Operation 'prefix/FeatureExtractor/MobilenetV2/expanded_conv_12/expand/weights/read' type=Identity>,\n",
              " <tf.Operation 'prefix/FeatureExtractor/MobilenetV2/expanded_conv_12/expand/Conv2D' type=Conv2D>,\n",
              " <tf.Operation 'prefix/FeatureExtractor/MobilenetV2/expanded_conv_12/expand/BatchNorm/gamma' type=Const>,\n",
              " <tf.Operation 'prefix/FeatureExtractor/MobilenetV2/expanded_conv_12/expand/BatchNorm/gamma/read' type=Identity>,\n",
              " <tf.Operation 'prefix/FeatureExtractor/MobilenetV2/expanded_conv_12/expand/BatchNorm/beta' type=Const>,\n",
              " <tf.Operation 'prefix/FeatureExtractor/MobilenetV2/expanded_conv_12/expand/BatchNorm/beta/read' type=Identity>,\n",
              " <tf.Operation 'prefix/FeatureExtractor/MobilenetV2/expanded_conv_12/expand/BatchNorm/moving_mean' type=Const>,\n",
              " <tf.Operation 'prefix/FeatureExtractor/MobilenetV2/expanded_conv_12/expand/BatchNorm/moving_mean/read' type=Identity>,\n",
              " <tf.Operation 'prefix/FeatureExtractor/MobilenetV2/expanded_conv_12/expand/BatchNorm/moving_variance' type=Const>,\n",
              " <tf.Operation 'prefix/FeatureExtractor/MobilenetV2/expanded_conv_12/expand/BatchNorm/moving_variance/read' type=Identity>,\n",
              " <tf.Operation 'prefix/FeatureExtractor/MobilenetV2/expanded_conv_12/expand/BatchNorm/FusedBatchNormV3' type=FusedBatchNormV3>,\n",
              " <tf.Operation 'prefix/FeatureExtractor/MobilenetV2/expanded_conv_12/expand/Relu6' type=Relu6>,\n",
              " <tf.Operation 'prefix/FeatureExtractor/MobilenetV2/expanded_conv_12/expansion_output' type=Identity>,\n",
              " <tf.Operation 'prefix/FeatureExtractor/MobilenetV2/expanded_conv_12/depthwise/depthwise_weights' type=Const>,\n",
              " <tf.Operation 'prefix/FeatureExtractor/MobilenetV2/expanded_conv_12/depthwise/depthwise_weights/read' type=Identity>,\n",
              " <tf.Operation 'prefix/FeatureExtractor/MobilenetV2/expanded_conv_12/depthwise/depthwise' type=DepthwiseConv2dNative>,\n",
              " <tf.Operation 'prefix/FeatureExtractor/MobilenetV2/expanded_conv_12/depthwise/BatchNorm/gamma' type=Const>,\n",
              " <tf.Operation 'prefix/FeatureExtractor/MobilenetV2/expanded_conv_12/depthwise/BatchNorm/gamma/read' type=Identity>,\n",
              " <tf.Operation 'prefix/FeatureExtractor/MobilenetV2/expanded_conv_12/depthwise/BatchNorm/beta' type=Const>,\n",
              " <tf.Operation 'prefix/FeatureExtractor/MobilenetV2/expanded_conv_12/depthwise/BatchNorm/beta/read' type=Identity>,\n",
              " <tf.Operation 'prefix/FeatureExtractor/MobilenetV2/expanded_conv_12/depthwise/BatchNorm/moving_mean' type=Const>,\n",
              " <tf.Operation 'prefix/FeatureExtractor/MobilenetV2/expanded_conv_12/depthwise/BatchNorm/moving_mean/read' type=Identity>,\n",
              " <tf.Operation 'prefix/FeatureExtractor/MobilenetV2/expanded_conv_12/depthwise/BatchNorm/moving_variance' type=Const>,\n",
              " <tf.Operation 'prefix/FeatureExtractor/MobilenetV2/expanded_conv_12/depthwise/BatchNorm/moving_variance/read' type=Identity>,\n",
              " <tf.Operation 'prefix/FeatureExtractor/MobilenetV2/expanded_conv_12/depthwise/BatchNorm/FusedBatchNormV3' type=FusedBatchNormV3>,\n",
              " <tf.Operation 'prefix/FeatureExtractor/MobilenetV2/expanded_conv_12/depthwise/Relu6' type=Relu6>,\n",
              " <tf.Operation 'prefix/FeatureExtractor/MobilenetV2/expanded_conv_12/depthwise_output' type=Identity>,\n",
              " <tf.Operation 'prefix/FeatureExtractor/MobilenetV2/expanded_conv_12/project/weights' type=Const>,\n",
              " <tf.Operation 'prefix/FeatureExtractor/MobilenetV2/expanded_conv_12/project/weights/read' type=Identity>,\n",
              " <tf.Operation 'prefix/FeatureExtractor/MobilenetV2/expanded_conv_12/project/Conv2D' type=Conv2D>,\n",
              " <tf.Operation 'prefix/FeatureExtractor/MobilenetV2/expanded_conv_12/project/BatchNorm/gamma' type=Const>,\n",
              " <tf.Operation 'prefix/FeatureExtractor/MobilenetV2/expanded_conv_12/project/BatchNorm/gamma/read' type=Identity>,\n",
              " <tf.Operation 'prefix/FeatureExtractor/MobilenetV2/expanded_conv_12/project/BatchNorm/beta' type=Const>,\n",
              " <tf.Operation 'prefix/FeatureExtractor/MobilenetV2/expanded_conv_12/project/BatchNorm/beta/read' type=Identity>,\n",
              " <tf.Operation 'prefix/FeatureExtractor/MobilenetV2/expanded_conv_12/project/BatchNorm/moving_mean' type=Const>,\n",
              " <tf.Operation 'prefix/FeatureExtractor/MobilenetV2/expanded_conv_12/project/BatchNorm/moving_mean/read' type=Identity>,\n",
              " <tf.Operation 'prefix/FeatureExtractor/MobilenetV2/expanded_conv_12/project/BatchNorm/moving_variance' type=Const>,\n",
              " <tf.Operation 'prefix/FeatureExtractor/MobilenetV2/expanded_conv_12/project/BatchNorm/moving_variance/read' type=Identity>,\n",
              " <tf.Operation 'prefix/FeatureExtractor/MobilenetV2/expanded_conv_12/project/BatchNorm/FusedBatchNormV3' type=FusedBatchNormV3>,\n",
              " <tf.Operation 'prefix/FeatureExtractor/MobilenetV2/expanded_conv_12/project/Identity' type=Identity>,\n",
              " <tf.Operation 'prefix/FeatureExtractor/MobilenetV2/expanded_conv_12/add' type=AddV2>,\n",
              " <tf.Operation 'prefix/FeatureExtractor/MobilenetV2/expanded_conv_12/output' type=Identity>,\n",
              " <tf.Operation 'prefix/FeatureExtractor/MobilenetV2/expanded_conv_13/input' type=Identity>,\n",
              " <tf.Operation 'prefix/FeatureExtractor/MobilenetV2/expanded_conv_13/expand/weights' type=Const>,\n",
              " <tf.Operation 'prefix/FeatureExtractor/MobilenetV2/expanded_conv_13/expand/weights/read' type=Identity>,\n",
              " <tf.Operation 'prefix/FeatureExtractor/MobilenetV2/expanded_conv_13/expand/Conv2D' type=Conv2D>,\n",
              " <tf.Operation 'prefix/FeatureExtractor/MobilenetV2/expanded_conv_13/expand/BatchNorm/gamma' type=Const>,\n",
              " <tf.Operation 'prefix/FeatureExtractor/MobilenetV2/expanded_conv_13/expand/BatchNorm/gamma/read' type=Identity>,\n",
              " <tf.Operation 'prefix/FeatureExtractor/MobilenetV2/expanded_conv_13/expand/BatchNorm/beta' type=Const>,\n",
              " <tf.Operation 'prefix/FeatureExtractor/MobilenetV2/expanded_conv_13/expand/BatchNorm/beta/read' type=Identity>,\n",
              " <tf.Operation 'prefix/FeatureExtractor/MobilenetV2/expanded_conv_13/expand/BatchNorm/moving_mean' type=Const>,\n",
              " <tf.Operation 'prefix/FeatureExtractor/MobilenetV2/expanded_conv_13/expand/BatchNorm/moving_mean/read' type=Identity>,\n",
              " <tf.Operation 'prefix/FeatureExtractor/MobilenetV2/expanded_conv_13/expand/BatchNorm/moving_variance' type=Const>,\n",
              " <tf.Operation 'prefix/FeatureExtractor/MobilenetV2/expanded_conv_13/expand/BatchNorm/moving_variance/read' type=Identity>,\n",
              " <tf.Operation 'prefix/FeatureExtractor/MobilenetV2/expanded_conv_13/expand/BatchNorm/FusedBatchNormV3' type=FusedBatchNormV3>,\n",
              " <tf.Operation 'prefix/FeatureExtractor/MobilenetV2/expanded_conv_13/expand/Relu6' type=Relu6>,\n",
              " <tf.Operation 'prefix/FeatureExtractor/MobilenetV2/expanded_conv_13/expansion_output' type=Identity>,\n",
              " <tf.Operation 'prefix/FeatureExtractor/MobilenetV2/expanded_conv_13/depthwise/depthwise_weights' type=Const>,\n",
              " <tf.Operation 'prefix/FeatureExtractor/MobilenetV2/expanded_conv_13/depthwise/depthwise_weights/read' type=Identity>,\n",
              " <tf.Operation 'prefix/FeatureExtractor/MobilenetV2/expanded_conv_13/depthwise/depthwise' type=DepthwiseConv2dNative>,\n",
              " <tf.Operation 'prefix/FeatureExtractor/MobilenetV2/expanded_conv_13/depthwise/BatchNorm/gamma' type=Const>,\n",
              " <tf.Operation 'prefix/FeatureExtractor/MobilenetV2/expanded_conv_13/depthwise/BatchNorm/gamma/read' type=Identity>,\n",
              " <tf.Operation 'prefix/FeatureExtractor/MobilenetV2/expanded_conv_13/depthwise/BatchNorm/beta' type=Const>,\n",
              " <tf.Operation 'prefix/FeatureExtractor/MobilenetV2/expanded_conv_13/depthwise/BatchNorm/beta/read' type=Identity>,\n",
              " <tf.Operation 'prefix/FeatureExtractor/MobilenetV2/expanded_conv_13/depthwise/BatchNorm/moving_mean' type=Const>,\n",
              " <tf.Operation 'prefix/FeatureExtractor/MobilenetV2/expanded_conv_13/depthwise/BatchNorm/moving_mean/read' type=Identity>,\n",
              " <tf.Operation 'prefix/FeatureExtractor/MobilenetV2/expanded_conv_13/depthwise/BatchNorm/moving_variance' type=Const>,\n",
              " <tf.Operation 'prefix/FeatureExtractor/MobilenetV2/expanded_conv_13/depthwise/BatchNorm/moving_variance/read' type=Identity>,\n",
              " <tf.Operation 'prefix/FeatureExtractor/MobilenetV2/expanded_conv_13/depthwise/BatchNorm/FusedBatchNormV3' type=FusedBatchNormV3>,\n",
              " <tf.Operation 'prefix/FeatureExtractor/MobilenetV2/expanded_conv_13/depthwise/Relu6' type=Relu6>,\n",
              " <tf.Operation 'prefix/FeatureExtractor/MobilenetV2/expanded_conv_13/depthwise_output' type=Identity>,\n",
              " <tf.Operation 'prefix/FeatureExtractor/MobilenetV2/expanded_conv_13/project/weights' type=Const>,\n",
              " <tf.Operation 'prefix/FeatureExtractor/MobilenetV2/expanded_conv_13/project/weights/read' type=Identity>,\n",
              " <tf.Operation 'prefix/FeatureExtractor/MobilenetV2/expanded_conv_13/project/Conv2D' type=Conv2D>,\n",
              " <tf.Operation 'prefix/FeatureExtractor/MobilenetV2/expanded_conv_13/project/BatchNorm/gamma' type=Const>,\n",
              " <tf.Operation 'prefix/FeatureExtractor/MobilenetV2/expanded_conv_13/project/BatchNorm/gamma/read' type=Identity>,\n",
              " <tf.Operation 'prefix/FeatureExtractor/MobilenetV2/expanded_conv_13/project/BatchNorm/beta' type=Const>,\n",
              " <tf.Operation 'prefix/FeatureExtractor/MobilenetV2/expanded_conv_13/project/BatchNorm/beta/read' type=Identity>,\n",
              " <tf.Operation 'prefix/FeatureExtractor/MobilenetV2/expanded_conv_13/project/BatchNorm/moving_mean' type=Const>,\n",
              " <tf.Operation 'prefix/FeatureExtractor/MobilenetV2/expanded_conv_13/project/BatchNorm/moving_mean/read' type=Identity>,\n",
              " <tf.Operation 'prefix/FeatureExtractor/MobilenetV2/expanded_conv_13/project/BatchNorm/moving_variance' type=Const>,\n",
              " <tf.Operation 'prefix/FeatureExtractor/MobilenetV2/expanded_conv_13/project/BatchNorm/moving_variance/read' type=Identity>,\n",
              " <tf.Operation 'prefix/FeatureExtractor/MobilenetV2/expanded_conv_13/project/BatchNorm/FusedBatchNormV3' type=FusedBatchNormV3>,\n",
              " <tf.Operation 'prefix/FeatureExtractor/MobilenetV2/expanded_conv_13/project/Identity' type=Identity>,\n",
              " <tf.Operation 'prefix/FeatureExtractor/MobilenetV2/expanded_conv_13/output' type=Identity>,\n",
              " <tf.Operation 'prefix/FeatureExtractor/MobilenetV2/expanded_conv_14/input' type=Identity>,\n",
              " <tf.Operation 'prefix/FeatureExtractor/MobilenetV2/expanded_conv_14/expand/weights' type=Const>,\n",
              " <tf.Operation 'prefix/FeatureExtractor/MobilenetV2/expanded_conv_14/expand/weights/read' type=Identity>,\n",
              " <tf.Operation 'prefix/FeatureExtractor/MobilenetV2/expanded_conv_14/expand/Conv2D' type=Conv2D>,\n",
              " <tf.Operation 'prefix/FeatureExtractor/MobilenetV2/expanded_conv_14/expand/BatchNorm/gamma' type=Const>,\n",
              " <tf.Operation 'prefix/FeatureExtractor/MobilenetV2/expanded_conv_14/expand/BatchNorm/gamma/read' type=Identity>,\n",
              " <tf.Operation 'prefix/FeatureExtractor/MobilenetV2/expanded_conv_14/expand/BatchNorm/beta' type=Const>,\n",
              " <tf.Operation 'prefix/FeatureExtractor/MobilenetV2/expanded_conv_14/expand/BatchNorm/beta/read' type=Identity>,\n",
              " <tf.Operation 'prefix/FeatureExtractor/MobilenetV2/expanded_conv_14/expand/BatchNorm/moving_mean' type=Const>,\n",
              " <tf.Operation 'prefix/FeatureExtractor/MobilenetV2/expanded_conv_14/expand/BatchNorm/moving_mean/read' type=Identity>,\n",
              " <tf.Operation 'prefix/FeatureExtractor/MobilenetV2/expanded_conv_14/expand/BatchNorm/moving_variance' type=Const>,\n",
              " <tf.Operation 'prefix/FeatureExtractor/MobilenetV2/expanded_conv_14/expand/BatchNorm/moving_variance/read' type=Identity>,\n",
              " <tf.Operation 'prefix/FeatureExtractor/MobilenetV2/expanded_conv_14/expand/BatchNorm/FusedBatchNormV3' type=FusedBatchNormV3>,\n",
              " <tf.Operation 'prefix/FeatureExtractor/MobilenetV2/expanded_conv_14/expand/Relu6' type=Relu6>,\n",
              " <tf.Operation 'prefix/FeatureExtractor/MobilenetV2/expanded_conv_14/expansion_output' type=Identity>,\n",
              " <tf.Operation 'prefix/FeatureExtractor/MobilenetV2/expanded_conv_14/depthwise/depthwise_weights' type=Const>,\n",
              " <tf.Operation 'prefix/FeatureExtractor/MobilenetV2/expanded_conv_14/depthwise/depthwise_weights/read' type=Identity>,\n",
              " <tf.Operation 'prefix/FeatureExtractor/MobilenetV2/expanded_conv_14/depthwise/depthwise' type=DepthwiseConv2dNative>,\n",
              " <tf.Operation 'prefix/FeatureExtractor/MobilenetV2/expanded_conv_14/depthwise/BatchNorm/gamma' type=Const>,\n",
              " <tf.Operation 'prefix/FeatureExtractor/MobilenetV2/expanded_conv_14/depthwise/BatchNorm/gamma/read' type=Identity>,\n",
              " <tf.Operation 'prefix/FeatureExtractor/MobilenetV2/expanded_conv_14/depthwise/BatchNorm/beta' type=Const>,\n",
              " <tf.Operation 'prefix/FeatureExtractor/MobilenetV2/expanded_conv_14/depthwise/BatchNorm/beta/read' type=Identity>,\n",
              " <tf.Operation 'prefix/FeatureExtractor/MobilenetV2/expanded_conv_14/depthwise/BatchNorm/moving_mean' type=Const>,\n",
              " <tf.Operation 'prefix/FeatureExtractor/MobilenetV2/expanded_conv_14/depthwise/BatchNorm/moving_mean/read' type=Identity>,\n",
              " <tf.Operation 'prefix/FeatureExtractor/MobilenetV2/expanded_conv_14/depthwise/BatchNorm/moving_variance' type=Const>,\n",
              " <tf.Operation 'prefix/FeatureExtractor/MobilenetV2/expanded_conv_14/depthwise/BatchNorm/moving_variance/read' type=Identity>,\n",
              " <tf.Operation 'prefix/FeatureExtractor/MobilenetV2/expanded_conv_14/depthwise/BatchNorm/FusedBatchNormV3' type=FusedBatchNormV3>,\n",
              " <tf.Operation 'prefix/FeatureExtractor/MobilenetV2/expanded_conv_14/depthwise/Relu6' type=Relu6>,\n",
              " <tf.Operation 'prefix/FeatureExtractor/MobilenetV2/expanded_conv_14/depthwise_output' type=Identity>,\n",
              " <tf.Operation 'prefix/FeatureExtractor/MobilenetV2/expanded_conv_14/project/weights' type=Const>,\n",
              " <tf.Operation 'prefix/FeatureExtractor/MobilenetV2/expanded_conv_14/project/weights/read' type=Identity>,\n",
              " <tf.Operation 'prefix/FeatureExtractor/MobilenetV2/expanded_conv_14/project/Conv2D' type=Conv2D>,\n",
              " <tf.Operation 'prefix/FeatureExtractor/MobilenetV2/expanded_conv_14/project/BatchNorm/gamma' type=Const>,\n",
              " <tf.Operation 'prefix/FeatureExtractor/MobilenetV2/expanded_conv_14/project/BatchNorm/gamma/read' type=Identity>,\n",
              " <tf.Operation 'prefix/FeatureExtractor/MobilenetV2/expanded_conv_14/project/BatchNorm/beta' type=Const>,\n",
              " <tf.Operation 'prefix/FeatureExtractor/MobilenetV2/expanded_conv_14/project/BatchNorm/beta/read' type=Identity>,\n",
              " <tf.Operation 'prefix/FeatureExtractor/MobilenetV2/expanded_conv_14/project/BatchNorm/moving_mean' type=Const>,\n",
              " <tf.Operation 'prefix/FeatureExtractor/MobilenetV2/expanded_conv_14/project/BatchNorm/moving_mean/read' type=Identity>,\n",
              " <tf.Operation 'prefix/FeatureExtractor/MobilenetV2/expanded_conv_14/project/BatchNorm/moving_variance' type=Const>,\n",
              " <tf.Operation 'prefix/FeatureExtractor/MobilenetV2/expanded_conv_14/project/BatchNorm/moving_variance/read' type=Identity>,\n",
              " <tf.Operation 'prefix/FeatureExtractor/MobilenetV2/expanded_conv_14/project/BatchNorm/FusedBatchNormV3' type=FusedBatchNormV3>,\n",
              " <tf.Operation 'prefix/FeatureExtractor/MobilenetV2/expanded_conv_14/project/Identity' type=Identity>,\n",
              " <tf.Operation 'prefix/FeatureExtractor/MobilenetV2/expanded_conv_14/add' type=AddV2>,\n",
              " <tf.Operation 'prefix/FeatureExtractor/MobilenetV2/expanded_conv_14/output' type=Identity>,\n",
              " <tf.Operation 'prefix/FeatureExtractor/MobilenetV2/expanded_conv_15/input' type=Identity>,\n",
              " <tf.Operation 'prefix/FeatureExtractor/MobilenetV2/expanded_conv_15/expand/weights' type=Const>,\n",
              " <tf.Operation 'prefix/FeatureExtractor/MobilenetV2/expanded_conv_15/expand/weights/read' type=Identity>,\n",
              " <tf.Operation 'prefix/FeatureExtractor/MobilenetV2/expanded_conv_15/expand/Conv2D' type=Conv2D>,\n",
              " <tf.Operation 'prefix/FeatureExtractor/MobilenetV2/expanded_conv_15/expand/BatchNorm/gamma' type=Const>,\n",
              " <tf.Operation 'prefix/FeatureExtractor/MobilenetV2/expanded_conv_15/expand/BatchNorm/gamma/read' type=Identity>,\n",
              " <tf.Operation 'prefix/FeatureExtractor/MobilenetV2/expanded_conv_15/expand/BatchNorm/beta' type=Const>,\n",
              " <tf.Operation 'prefix/FeatureExtractor/MobilenetV2/expanded_conv_15/expand/BatchNorm/beta/read' type=Identity>,\n",
              " <tf.Operation 'prefix/FeatureExtractor/MobilenetV2/expanded_conv_15/expand/BatchNorm/moving_mean' type=Const>,\n",
              " <tf.Operation 'prefix/FeatureExtractor/MobilenetV2/expanded_conv_15/expand/BatchNorm/moving_mean/read' type=Identity>,\n",
              " <tf.Operation 'prefix/FeatureExtractor/MobilenetV2/expanded_conv_15/expand/BatchNorm/moving_variance' type=Const>,\n",
              " <tf.Operation 'prefix/FeatureExtractor/MobilenetV2/expanded_conv_15/expand/BatchNorm/moving_variance/read' type=Identity>,\n",
              " <tf.Operation 'prefix/FeatureExtractor/MobilenetV2/expanded_conv_15/expand/BatchNorm/FusedBatchNormV3' type=FusedBatchNormV3>,\n",
              " <tf.Operation 'prefix/FeatureExtractor/MobilenetV2/expanded_conv_15/expand/Relu6' type=Relu6>,\n",
              " <tf.Operation 'prefix/FeatureExtractor/MobilenetV2/expanded_conv_15/expansion_output' type=Identity>,\n",
              " <tf.Operation 'prefix/FeatureExtractor/MobilenetV2/expanded_conv_15/depthwise/depthwise_weights' type=Const>,\n",
              " <tf.Operation 'prefix/FeatureExtractor/MobilenetV2/expanded_conv_15/depthwise/depthwise_weights/read' type=Identity>,\n",
              " <tf.Operation 'prefix/FeatureExtractor/MobilenetV2/expanded_conv_15/depthwise/depthwise' type=DepthwiseConv2dNative>,\n",
              " <tf.Operation 'prefix/FeatureExtractor/MobilenetV2/expanded_conv_15/depthwise/BatchNorm/gamma' type=Const>,\n",
              " <tf.Operation 'prefix/FeatureExtractor/MobilenetV2/expanded_conv_15/depthwise/BatchNorm/gamma/read' type=Identity>,\n",
              " <tf.Operation 'prefix/FeatureExtractor/MobilenetV2/expanded_conv_15/depthwise/BatchNorm/beta' type=Const>,\n",
              " <tf.Operation 'prefix/FeatureExtractor/MobilenetV2/expanded_conv_15/depthwise/BatchNorm/beta/read' type=Identity>,\n",
              " <tf.Operation 'prefix/FeatureExtractor/MobilenetV2/expanded_conv_15/depthwise/BatchNorm/moving_mean' type=Const>,\n",
              " <tf.Operation 'prefix/FeatureExtractor/MobilenetV2/expanded_conv_15/depthwise/BatchNorm/moving_mean/read' type=Identity>,\n",
              " <tf.Operation 'prefix/FeatureExtractor/MobilenetV2/expanded_conv_15/depthwise/BatchNorm/moving_variance' type=Const>,\n",
              " <tf.Operation 'prefix/FeatureExtractor/MobilenetV2/expanded_conv_15/depthwise/BatchNorm/moving_variance/read' type=Identity>,\n",
              " <tf.Operation 'prefix/FeatureExtractor/MobilenetV2/expanded_conv_15/depthwise/BatchNorm/FusedBatchNormV3' type=FusedBatchNormV3>,\n",
              " <tf.Operation 'prefix/FeatureExtractor/MobilenetV2/expanded_conv_15/depthwise/Relu6' type=Relu6>,\n",
              " <tf.Operation 'prefix/FeatureExtractor/MobilenetV2/expanded_conv_15/depthwise_output' type=Identity>,\n",
              " <tf.Operation 'prefix/FeatureExtractor/MobilenetV2/expanded_conv_15/project/weights' type=Const>,\n",
              " <tf.Operation 'prefix/FeatureExtractor/MobilenetV2/expanded_conv_15/project/weights/read' type=Identity>,\n",
              " <tf.Operation 'prefix/FeatureExtractor/MobilenetV2/expanded_conv_15/project/Conv2D' type=Conv2D>,\n",
              " <tf.Operation 'prefix/FeatureExtractor/MobilenetV2/expanded_conv_15/project/BatchNorm/gamma' type=Const>,\n",
              " <tf.Operation 'prefix/FeatureExtractor/MobilenetV2/expanded_conv_15/project/BatchNorm/gamma/read' type=Identity>,\n",
              " <tf.Operation 'prefix/FeatureExtractor/MobilenetV2/expanded_conv_15/project/BatchNorm/beta' type=Const>,\n",
              " <tf.Operation 'prefix/FeatureExtractor/MobilenetV2/expanded_conv_15/project/BatchNorm/beta/read' type=Identity>,\n",
              " <tf.Operation 'prefix/FeatureExtractor/MobilenetV2/expanded_conv_15/project/BatchNorm/moving_mean' type=Const>,\n",
              " <tf.Operation 'prefix/FeatureExtractor/MobilenetV2/expanded_conv_15/project/BatchNorm/moving_mean/read' type=Identity>,\n",
              " <tf.Operation 'prefix/FeatureExtractor/MobilenetV2/expanded_conv_15/project/BatchNorm/moving_variance' type=Const>,\n",
              " <tf.Operation 'prefix/FeatureExtractor/MobilenetV2/expanded_conv_15/project/BatchNorm/moving_variance/read' type=Identity>,\n",
              " <tf.Operation 'prefix/FeatureExtractor/MobilenetV2/expanded_conv_15/project/BatchNorm/FusedBatchNormV3' type=FusedBatchNormV3>,\n",
              " <tf.Operation 'prefix/FeatureExtractor/MobilenetV2/expanded_conv_15/project/Identity' type=Identity>,\n",
              " <tf.Operation 'prefix/FeatureExtractor/MobilenetV2/expanded_conv_15/add' type=AddV2>,\n",
              " <tf.Operation 'prefix/FeatureExtractor/MobilenetV2/expanded_conv_15/output' type=Identity>,\n",
              " <tf.Operation 'prefix/FeatureExtractor/MobilenetV2/expanded_conv_16/input' type=Identity>,\n",
              " <tf.Operation 'prefix/FeatureExtractor/MobilenetV2/expanded_conv_16/expand/weights' type=Const>,\n",
              " <tf.Operation 'prefix/FeatureExtractor/MobilenetV2/expanded_conv_16/expand/weights/read' type=Identity>,\n",
              " <tf.Operation 'prefix/FeatureExtractor/MobilenetV2/expanded_conv_16/expand/Conv2D' type=Conv2D>,\n",
              " <tf.Operation 'prefix/FeatureExtractor/MobilenetV2/expanded_conv_16/expand/BatchNorm/gamma' type=Const>,\n",
              " <tf.Operation 'prefix/FeatureExtractor/MobilenetV2/expanded_conv_16/expand/BatchNorm/gamma/read' type=Identity>,\n",
              " <tf.Operation 'prefix/FeatureExtractor/MobilenetV2/expanded_conv_16/expand/BatchNorm/beta' type=Const>,\n",
              " <tf.Operation 'prefix/FeatureExtractor/MobilenetV2/expanded_conv_16/expand/BatchNorm/beta/read' type=Identity>,\n",
              " <tf.Operation 'prefix/FeatureExtractor/MobilenetV2/expanded_conv_16/expand/BatchNorm/moving_mean' type=Const>,\n",
              " <tf.Operation 'prefix/FeatureExtractor/MobilenetV2/expanded_conv_16/expand/BatchNorm/moving_mean/read' type=Identity>,\n",
              " <tf.Operation 'prefix/FeatureExtractor/MobilenetV2/expanded_conv_16/expand/BatchNorm/moving_variance' type=Const>,\n",
              " <tf.Operation 'prefix/FeatureExtractor/MobilenetV2/expanded_conv_16/expand/BatchNorm/moving_variance/read' type=Identity>,\n",
              " <tf.Operation 'prefix/FeatureExtractor/MobilenetV2/expanded_conv_16/expand/BatchNorm/FusedBatchNormV3' type=FusedBatchNormV3>,\n",
              " <tf.Operation 'prefix/FeatureExtractor/MobilenetV2/expanded_conv_16/expand/Relu6' type=Relu6>,\n",
              " <tf.Operation 'prefix/FeatureExtractor/MobilenetV2/expanded_conv_16/expansion_output' type=Identity>,\n",
              " <tf.Operation 'prefix/FeatureExtractor/MobilenetV2/expanded_conv_16/depthwise/depthwise_weights' type=Const>,\n",
              " <tf.Operation 'prefix/FeatureExtractor/MobilenetV2/expanded_conv_16/depthwise/depthwise_weights/read' type=Identity>,\n",
              " <tf.Operation 'prefix/FeatureExtractor/MobilenetV2/expanded_conv_16/depthwise/depthwise' type=DepthwiseConv2dNative>,\n",
              " <tf.Operation 'prefix/FeatureExtractor/MobilenetV2/expanded_conv_16/depthwise/BatchNorm/gamma' type=Const>,\n",
              " <tf.Operation 'prefix/FeatureExtractor/MobilenetV2/expanded_conv_16/depthwise/BatchNorm/gamma/read' type=Identity>,\n",
              " <tf.Operation 'prefix/FeatureExtractor/MobilenetV2/expanded_conv_16/depthwise/BatchNorm/beta' type=Const>,\n",
              " <tf.Operation 'prefix/FeatureExtractor/MobilenetV2/expanded_conv_16/depthwise/BatchNorm/beta/read' type=Identity>,\n",
              " <tf.Operation 'prefix/FeatureExtractor/MobilenetV2/expanded_conv_16/depthwise/BatchNorm/moving_mean' type=Const>,\n",
              " <tf.Operation 'prefix/FeatureExtractor/MobilenetV2/expanded_conv_16/depthwise/BatchNorm/moving_mean/read' type=Identity>,\n",
              " <tf.Operation 'prefix/FeatureExtractor/MobilenetV2/expanded_conv_16/depthwise/BatchNorm/moving_variance' type=Const>,\n",
              " <tf.Operation 'prefix/FeatureExtractor/MobilenetV2/expanded_conv_16/depthwise/BatchNorm/moving_variance/read' type=Identity>,\n",
              " <tf.Operation 'prefix/FeatureExtractor/MobilenetV2/expanded_conv_16/depthwise/BatchNorm/FusedBatchNormV3' type=FusedBatchNormV3>,\n",
              " <tf.Operation 'prefix/FeatureExtractor/MobilenetV2/expanded_conv_16/depthwise/Relu6' type=Relu6>,\n",
              " <tf.Operation 'prefix/FeatureExtractor/MobilenetV2/expanded_conv_16/depthwise_output' type=Identity>,\n",
              " <tf.Operation 'prefix/FeatureExtractor/MobilenetV2/expanded_conv_16/project/weights' type=Const>,\n",
              " <tf.Operation 'prefix/FeatureExtractor/MobilenetV2/expanded_conv_16/project/weights/read' type=Identity>,\n",
              " <tf.Operation 'prefix/FeatureExtractor/MobilenetV2/expanded_conv_16/project/Conv2D' type=Conv2D>,\n",
              " <tf.Operation 'prefix/FeatureExtractor/MobilenetV2/expanded_conv_16/project/BatchNorm/gamma' type=Const>,\n",
              " <tf.Operation 'prefix/FeatureExtractor/MobilenetV2/expanded_conv_16/project/BatchNorm/gamma/read' type=Identity>,\n",
              " <tf.Operation 'prefix/FeatureExtractor/MobilenetV2/expanded_conv_16/project/BatchNorm/beta' type=Const>,\n",
              " <tf.Operation 'prefix/FeatureExtractor/MobilenetV2/expanded_conv_16/project/BatchNorm/beta/read' type=Identity>,\n",
              " <tf.Operation 'prefix/FeatureExtractor/MobilenetV2/expanded_conv_16/project/BatchNorm/moving_mean' type=Const>,\n",
              " <tf.Operation 'prefix/FeatureExtractor/MobilenetV2/expanded_conv_16/project/BatchNorm/moving_mean/read' type=Identity>,\n",
              " <tf.Operation 'prefix/FeatureExtractor/MobilenetV2/expanded_conv_16/project/BatchNorm/moving_variance' type=Const>,\n",
              " <tf.Operation 'prefix/FeatureExtractor/MobilenetV2/expanded_conv_16/project/BatchNorm/moving_variance/read' type=Identity>,\n",
              " <tf.Operation 'prefix/FeatureExtractor/MobilenetV2/expanded_conv_16/project/BatchNorm/FusedBatchNormV3' type=FusedBatchNormV3>,\n",
              " <tf.Operation 'prefix/FeatureExtractor/MobilenetV2/expanded_conv_16/project/Identity' type=Identity>,\n",
              " <tf.Operation 'prefix/FeatureExtractor/MobilenetV2/expanded_conv_16/output' type=Identity>,\n",
              " <tf.Operation 'prefix/FeatureExtractor/MobilenetV2/Conv_1/weights' type=Const>,\n",
              " <tf.Operation 'prefix/FeatureExtractor/MobilenetV2/Conv_1/weights/read' type=Identity>,\n",
              " <tf.Operation 'prefix/FeatureExtractor/MobilenetV2/Conv_1/Conv2D' type=Conv2D>,\n",
              " <tf.Operation 'prefix/FeatureExtractor/MobilenetV2/Conv_1/BatchNorm/gamma' type=Const>,\n",
              " <tf.Operation 'prefix/FeatureExtractor/MobilenetV2/Conv_1/BatchNorm/gamma/read' type=Identity>,\n",
              " <tf.Operation 'prefix/FeatureExtractor/MobilenetV2/Conv_1/BatchNorm/beta' type=Const>,\n",
              " <tf.Operation 'prefix/FeatureExtractor/MobilenetV2/Conv_1/BatchNorm/beta/read' type=Identity>,\n",
              " <tf.Operation 'prefix/FeatureExtractor/MobilenetV2/Conv_1/BatchNorm/moving_mean' type=Const>,\n",
              " <tf.Operation 'prefix/FeatureExtractor/MobilenetV2/Conv_1/BatchNorm/moving_mean/read' type=Identity>,\n",
              " <tf.Operation 'prefix/FeatureExtractor/MobilenetV2/Conv_1/BatchNorm/moving_variance' type=Const>,\n",
              " <tf.Operation 'prefix/FeatureExtractor/MobilenetV2/Conv_1/BatchNorm/moving_variance/read' type=Identity>,\n",
              " <tf.Operation 'prefix/FeatureExtractor/MobilenetV2/Conv_1/BatchNorm/FusedBatchNormV3' type=FusedBatchNormV3>,\n",
              " <tf.Operation 'prefix/FeatureExtractor/MobilenetV2/Conv_1/Relu6' type=Relu6>,\n",
              " <tf.Operation 'prefix/FeatureExtractor/MobilenetV2/layer_19_1_Conv2d_2_1x1_256/weights' type=Const>,\n",
              " <tf.Operation 'prefix/FeatureExtractor/MobilenetV2/layer_19_1_Conv2d_2_1x1_256/weights/read' type=Identity>,\n",
              " <tf.Operation 'prefix/FeatureExtractor/MobilenetV2/layer_19_1_Conv2d_2_1x1_256/Conv2D' type=Conv2D>,\n",
              " <tf.Operation 'prefix/FeatureExtractor/MobilenetV2/layer_19_1_Conv2d_2_1x1_256/BatchNorm/gamma' type=Const>,\n",
              " <tf.Operation 'prefix/FeatureExtractor/MobilenetV2/layer_19_1_Conv2d_2_1x1_256/BatchNorm/gamma/read' type=Identity>,\n",
              " <tf.Operation 'prefix/FeatureExtractor/MobilenetV2/layer_19_1_Conv2d_2_1x1_256/BatchNorm/beta' type=Const>,\n",
              " <tf.Operation 'prefix/FeatureExtractor/MobilenetV2/layer_19_1_Conv2d_2_1x1_256/BatchNorm/beta/read' type=Identity>,\n",
              " <tf.Operation 'prefix/FeatureExtractor/MobilenetV2/layer_19_1_Conv2d_2_1x1_256/BatchNorm/moving_mean' type=Const>,\n",
              " <tf.Operation 'prefix/FeatureExtractor/MobilenetV2/layer_19_1_Conv2d_2_1x1_256/BatchNorm/moving_mean/read' type=Identity>,\n",
              " <tf.Operation 'prefix/FeatureExtractor/MobilenetV2/layer_19_1_Conv2d_2_1x1_256/BatchNorm/moving_variance' type=Const>,\n",
              " <tf.Operation 'prefix/FeatureExtractor/MobilenetV2/layer_19_1_Conv2d_2_1x1_256/BatchNorm/moving_variance/read' type=Identity>,\n",
              " <tf.Operation 'prefix/FeatureExtractor/MobilenetV2/layer_19_1_Conv2d_2_1x1_256/BatchNorm/FusedBatchNormV3' type=FusedBatchNormV3>,\n",
              " <tf.Operation 'prefix/FeatureExtractor/MobilenetV2/layer_19_1_Conv2d_2_1x1_256/Relu6' type=Relu6>,\n",
              " <tf.Operation 'prefix/FeatureExtractor/MobilenetV2/layer_19_2_Conv2d_2_3x3_s2_512/weights' type=Const>,\n",
              " <tf.Operation 'prefix/FeatureExtractor/MobilenetV2/layer_19_2_Conv2d_2_3x3_s2_512/weights/read' type=Identity>,\n",
              " <tf.Operation 'prefix/FeatureExtractor/MobilenetV2/layer_19_2_Conv2d_2_3x3_s2_512/Conv2D' type=Conv2D>,\n",
              " <tf.Operation 'prefix/FeatureExtractor/MobilenetV2/layer_19_2_Conv2d_2_3x3_s2_512/BatchNorm/gamma' type=Const>,\n",
              " <tf.Operation 'prefix/FeatureExtractor/MobilenetV2/layer_19_2_Conv2d_2_3x3_s2_512/BatchNorm/gamma/read' type=Identity>,\n",
              " <tf.Operation 'prefix/FeatureExtractor/MobilenetV2/layer_19_2_Conv2d_2_3x3_s2_512/BatchNorm/beta' type=Const>,\n",
              " <tf.Operation 'prefix/FeatureExtractor/MobilenetV2/layer_19_2_Conv2d_2_3x3_s2_512/BatchNorm/beta/read' type=Identity>,\n",
              " <tf.Operation 'prefix/FeatureExtractor/MobilenetV2/layer_19_2_Conv2d_2_3x3_s2_512/BatchNorm/moving_mean' type=Const>,\n",
              " <tf.Operation 'prefix/FeatureExtractor/MobilenetV2/layer_19_2_Conv2d_2_3x3_s2_512/BatchNorm/moving_mean/read' type=Identity>,\n",
              " <tf.Operation 'prefix/FeatureExtractor/MobilenetV2/layer_19_2_Conv2d_2_3x3_s2_512/BatchNorm/moving_variance' type=Const>,\n",
              " <tf.Operation 'prefix/FeatureExtractor/MobilenetV2/layer_19_2_Conv2d_2_3x3_s2_512/BatchNorm/moving_variance/read' type=Identity>,\n",
              " <tf.Operation 'prefix/FeatureExtractor/MobilenetV2/layer_19_2_Conv2d_2_3x3_s2_512/BatchNorm/FusedBatchNormV3' type=FusedBatchNormV3>,\n",
              " <tf.Operation 'prefix/FeatureExtractor/MobilenetV2/layer_19_2_Conv2d_2_3x3_s2_512/Relu6' type=Relu6>,\n",
              " <tf.Operation 'prefix/FeatureExtractor/MobilenetV2/layer_19_1_Conv2d_3_1x1_128/weights' type=Const>,\n",
              " <tf.Operation 'prefix/FeatureExtractor/MobilenetV2/layer_19_1_Conv2d_3_1x1_128/weights/read' type=Identity>,\n",
              " <tf.Operation 'prefix/FeatureExtractor/MobilenetV2/layer_19_1_Conv2d_3_1x1_128/Conv2D' type=Conv2D>,\n",
              " <tf.Operation 'prefix/FeatureExtractor/MobilenetV2/layer_19_1_Conv2d_3_1x1_128/BatchNorm/gamma' type=Const>,\n",
              " <tf.Operation 'prefix/FeatureExtractor/MobilenetV2/layer_19_1_Conv2d_3_1x1_128/BatchNorm/gamma/read' type=Identity>,\n",
              " <tf.Operation 'prefix/FeatureExtractor/MobilenetV2/layer_19_1_Conv2d_3_1x1_128/BatchNorm/beta' type=Const>,\n",
              " <tf.Operation 'prefix/FeatureExtractor/MobilenetV2/layer_19_1_Conv2d_3_1x1_128/BatchNorm/beta/read' type=Identity>,\n",
              " <tf.Operation 'prefix/FeatureExtractor/MobilenetV2/layer_19_1_Conv2d_3_1x1_128/BatchNorm/moving_mean' type=Const>,\n",
              " <tf.Operation 'prefix/FeatureExtractor/MobilenetV2/layer_19_1_Conv2d_3_1x1_128/BatchNorm/moving_mean/read' type=Identity>,\n",
              " <tf.Operation 'prefix/FeatureExtractor/MobilenetV2/layer_19_1_Conv2d_3_1x1_128/BatchNorm/moving_variance' type=Const>,\n",
              " <tf.Operation 'prefix/FeatureExtractor/MobilenetV2/layer_19_1_Conv2d_3_1x1_128/BatchNorm/moving_variance/read' type=Identity>,\n",
              " <tf.Operation 'prefix/FeatureExtractor/MobilenetV2/layer_19_1_Conv2d_3_1x1_128/BatchNorm/FusedBatchNormV3' type=FusedBatchNormV3>,\n",
              " <tf.Operation 'prefix/FeatureExtractor/MobilenetV2/layer_19_1_Conv2d_3_1x1_128/Relu6' type=Relu6>,\n",
              " <tf.Operation 'prefix/FeatureExtractor/MobilenetV2/layer_19_2_Conv2d_3_3x3_s2_256/weights' type=Const>,\n",
              " <tf.Operation 'prefix/FeatureExtractor/MobilenetV2/layer_19_2_Conv2d_3_3x3_s2_256/weights/read' type=Identity>,\n",
              " <tf.Operation 'prefix/FeatureExtractor/MobilenetV2/layer_19_2_Conv2d_3_3x3_s2_256/Conv2D' type=Conv2D>,\n",
              " <tf.Operation 'prefix/FeatureExtractor/MobilenetV2/layer_19_2_Conv2d_3_3x3_s2_256/BatchNorm/gamma' type=Const>,\n",
              " <tf.Operation 'prefix/FeatureExtractor/MobilenetV2/layer_19_2_Conv2d_3_3x3_s2_256/BatchNorm/gamma/read' type=Identity>,\n",
              " <tf.Operation 'prefix/FeatureExtractor/MobilenetV2/layer_19_2_Conv2d_3_3x3_s2_256/BatchNorm/beta' type=Const>,\n",
              " <tf.Operation 'prefix/FeatureExtractor/MobilenetV2/layer_19_2_Conv2d_3_3x3_s2_256/BatchNorm/beta/read' type=Identity>,\n",
              " <tf.Operation 'prefix/FeatureExtractor/MobilenetV2/layer_19_2_Conv2d_3_3x3_s2_256/BatchNorm/moving_mean' type=Const>,\n",
              " <tf.Operation 'prefix/FeatureExtractor/MobilenetV2/layer_19_2_Conv2d_3_3x3_s2_256/BatchNorm/moving_mean/read' type=Identity>,\n",
              " <tf.Operation 'prefix/FeatureExtractor/MobilenetV2/layer_19_2_Conv2d_3_3x3_s2_256/BatchNorm/moving_variance' type=Const>,\n",
              " <tf.Operation 'prefix/FeatureExtractor/MobilenetV2/layer_19_2_Conv2d_3_3x3_s2_256/BatchNorm/moving_variance/read' type=Identity>,\n",
              " <tf.Operation 'prefix/FeatureExtractor/MobilenetV2/layer_19_2_Conv2d_3_3x3_s2_256/BatchNorm/FusedBatchNormV3' type=FusedBatchNormV3>,\n",
              " <tf.Operation 'prefix/FeatureExtractor/MobilenetV2/layer_19_2_Conv2d_3_3x3_s2_256/Relu6' type=Relu6>,\n",
              " <tf.Operation 'prefix/FeatureExtractor/MobilenetV2/layer_19_1_Conv2d_4_1x1_128/weights' type=Const>,\n",
              " <tf.Operation 'prefix/FeatureExtractor/MobilenetV2/layer_19_1_Conv2d_4_1x1_128/weights/read' type=Identity>,\n",
              " <tf.Operation 'prefix/FeatureExtractor/MobilenetV2/layer_19_1_Conv2d_4_1x1_128/Conv2D' type=Conv2D>,\n",
              " <tf.Operation 'prefix/FeatureExtractor/MobilenetV2/layer_19_1_Conv2d_4_1x1_128/BatchNorm/gamma' type=Const>,\n",
              " <tf.Operation 'prefix/FeatureExtractor/MobilenetV2/layer_19_1_Conv2d_4_1x1_128/BatchNorm/gamma/read' type=Identity>,\n",
              " <tf.Operation 'prefix/FeatureExtractor/MobilenetV2/layer_19_1_Conv2d_4_1x1_128/BatchNorm/beta' type=Const>,\n",
              " <tf.Operation 'prefix/FeatureExtractor/MobilenetV2/layer_19_1_Conv2d_4_1x1_128/BatchNorm/beta/read' type=Identity>,\n",
              " <tf.Operation 'prefix/FeatureExtractor/MobilenetV2/layer_19_1_Conv2d_4_1x1_128/BatchNorm/moving_mean' type=Const>,\n",
              " <tf.Operation 'prefix/FeatureExtractor/MobilenetV2/layer_19_1_Conv2d_4_1x1_128/BatchNorm/moving_mean/read' type=Identity>,\n",
              " <tf.Operation 'prefix/FeatureExtractor/MobilenetV2/layer_19_1_Conv2d_4_1x1_128/BatchNorm/moving_variance' type=Const>,\n",
              " <tf.Operation 'prefix/FeatureExtractor/MobilenetV2/layer_19_1_Conv2d_4_1x1_128/BatchNorm/moving_variance/read' type=Identity>,\n",
              " <tf.Operation 'prefix/FeatureExtractor/MobilenetV2/layer_19_1_Conv2d_4_1x1_128/BatchNorm/FusedBatchNormV3' type=FusedBatchNormV3>,\n",
              " <tf.Operation 'prefix/FeatureExtractor/MobilenetV2/layer_19_1_Conv2d_4_1x1_128/Relu6' type=Relu6>,\n",
              " <tf.Operation 'prefix/FeatureExtractor/MobilenetV2/layer_19_2_Conv2d_4_3x3_s2_256/weights' type=Const>,\n",
              " <tf.Operation 'prefix/FeatureExtractor/MobilenetV2/layer_19_2_Conv2d_4_3x3_s2_256/weights/read' type=Identity>,\n",
              " <tf.Operation 'prefix/FeatureExtractor/MobilenetV2/layer_19_2_Conv2d_4_3x3_s2_256/Conv2D' type=Conv2D>,\n",
              " <tf.Operation 'prefix/FeatureExtractor/MobilenetV2/layer_19_2_Conv2d_4_3x3_s2_256/BatchNorm/gamma' type=Const>,\n",
              " <tf.Operation 'prefix/FeatureExtractor/MobilenetV2/layer_19_2_Conv2d_4_3x3_s2_256/BatchNorm/gamma/read' type=Identity>,\n",
              " <tf.Operation 'prefix/FeatureExtractor/MobilenetV2/layer_19_2_Conv2d_4_3x3_s2_256/BatchNorm/beta' type=Const>,\n",
              " <tf.Operation 'prefix/FeatureExtractor/MobilenetV2/layer_19_2_Conv2d_4_3x3_s2_256/BatchNorm/beta/read' type=Identity>,\n",
              " <tf.Operation 'prefix/FeatureExtractor/MobilenetV2/layer_19_2_Conv2d_4_3x3_s2_256/BatchNorm/moving_mean' type=Const>,\n",
              " <tf.Operation 'prefix/FeatureExtractor/MobilenetV2/layer_19_2_Conv2d_4_3x3_s2_256/BatchNorm/moving_mean/read' type=Identity>,\n",
              " <tf.Operation 'prefix/FeatureExtractor/MobilenetV2/layer_19_2_Conv2d_4_3x3_s2_256/BatchNorm/moving_variance' type=Const>,\n",
              " <tf.Operation 'prefix/FeatureExtractor/MobilenetV2/layer_19_2_Conv2d_4_3x3_s2_256/BatchNorm/moving_variance/read' type=Identity>,\n",
              " <tf.Operation 'prefix/FeatureExtractor/MobilenetV2/layer_19_2_Conv2d_4_3x3_s2_256/BatchNorm/FusedBatchNormV3' type=FusedBatchNormV3>,\n",
              " <tf.Operation 'prefix/FeatureExtractor/MobilenetV2/layer_19_2_Conv2d_4_3x3_s2_256/Relu6' type=Relu6>,\n",
              " <tf.Operation 'prefix/FeatureExtractor/MobilenetV2/layer_19_1_Conv2d_5_1x1_64/weights' type=Const>,\n",
              " <tf.Operation 'prefix/FeatureExtractor/MobilenetV2/layer_19_1_Conv2d_5_1x1_64/weights/read' type=Identity>,\n",
              " <tf.Operation 'prefix/FeatureExtractor/MobilenetV2/layer_19_1_Conv2d_5_1x1_64/Conv2D' type=Conv2D>,\n",
              " <tf.Operation 'prefix/FeatureExtractor/MobilenetV2/layer_19_1_Conv2d_5_1x1_64/BatchNorm/gamma' type=Const>,\n",
              " <tf.Operation 'prefix/FeatureExtractor/MobilenetV2/layer_19_1_Conv2d_5_1x1_64/BatchNorm/gamma/read' type=Identity>,\n",
              " <tf.Operation 'prefix/FeatureExtractor/MobilenetV2/layer_19_1_Conv2d_5_1x1_64/BatchNorm/beta' type=Const>,\n",
              " <tf.Operation 'prefix/FeatureExtractor/MobilenetV2/layer_19_1_Conv2d_5_1x1_64/BatchNorm/beta/read' type=Identity>,\n",
              " <tf.Operation 'prefix/FeatureExtractor/MobilenetV2/layer_19_1_Conv2d_5_1x1_64/BatchNorm/moving_mean' type=Const>,\n",
              " <tf.Operation 'prefix/FeatureExtractor/MobilenetV2/layer_19_1_Conv2d_5_1x1_64/BatchNorm/moving_mean/read' type=Identity>,\n",
              " <tf.Operation 'prefix/FeatureExtractor/MobilenetV2/layer_19_1_Conv2d_5_1x1_64/BatchNorm/moving_variance' type=Const>,\n",
              " <tf.Operation 'prefix/FeatureExtractor/MobilenetV2/layer_19_1_Conv2d_5_1x1_64/BatchNorm/moving_variance/read' type=Identity>,\n",
              " <tf.Operation 'prefix/FeatureExtractor/MobilenetV2/layer_19_1_Conv2d_5_1x1_64/BatchNorm/FusedBatchNormV3' type=FusedBatchNormV3>,\n",
              " <tf.Operation 'prefix/FeatureExtractor/MobilenetV2/layer_19_1_Conv2d_5_1x1_64/Relu6' type=Relu6>,\n",
              " <tf.Operation 'prefix/FeatureExtractor/MobilenetV2/layer_19_2_Conv2d_5_3x3_s2_128/weights' type=Const>,\n",
              " <tf.Operation 'prefix/FeatureExtractor/MobilenetV2/layer_19_2_Conv2d_5_3x3_s2_128/weights/read' type=Identity>,\n",
              " <tf.Operation 'prefix/FeatureExtractor/MobilenetV2/layer_19_2_Conv2d_5_3x3_s2_128/Conv2D' type=Conv2D>,\n",
              " <tf.Operation 'prefix/FeatureExtractor/MobilenetV2/layer_19_2_Conv2d_5_3x3_s2_128/BatchNorm/gamma' type=Const>,\n",
              " <tf.Operation 'prefix/FeatureExtractor/MobilenetV2/layer_19_2_Conv2d_5_3x3_s2_128/BatchNorm/gamma/read' type=Identity>,\n",
              " <tf.Operation 'prefix/FeatureExtractor/MobilenetV2/layer_19_2_Conv2d_5_3x3_s2_128/BatchNorm/beta' type=Const>,\n",
              " <tf.Operation 'prefix/FeatureExtractor/MobilenetV2/layer_19_2_Conv2d_5_3x3_s2_128/BatchNorm/beta/read' type=Identity>,\n",
              " <tf.Operation 'prefix/FeatureExtractor/MobilenetV2/layer_19_2_Conv2d_5_3x3_s2_128/BatchNorm/moving_mean' type=Const>,\n",
              " <tf.Operation 'prefix/FeatureExtractor/MobilenetV2/layer_19_2_Conv2d_5_3x3_s2_128/BatchNorm/moving_mean/read' type=Identity>,\n",
              " <tf.Operation 'prefix/FeatureExtractor/MobilenetV2/layer_19_2_Conv2d_5_3x3_s2_128/BatchNorm/moving_variance' type=Const>,\n",
              " <tf.Operation 'prefix/FeatureExtractor/MobilenetV2/layer_19_2_Conv2d_5_3x3_s2_128/BatchNorm/moving_variance/read' type=Identity>,\n",
              " <tf.Operation 'prefix/FeatureExtractor/MobilenetV2/layer_19_2_Conv2d_5_3x3_s2_128/BatchNorm/FusedBatchNormV3' type=FusedBatchNormV3>,\n",
              " <tf.Operation 'prefix/FeatureExtractor/MobilenetV2/layer_19_2_Conv2d_5_3x3_s2_128/Relu6' type=Relu6>,\n",
              " <tf.Operation 'prefix/MultipleGridAnchorGenerator/Cast/x' type=Const>,\n",
              " <tf.Operation 'prefix/MultipleGridAnchorGenerator/Cast' type=Cast>,\n",
              " <tf.Operation 'prefix/MultipleGridAnchorGenerator/Cast_1/x' type=Const>,\n",
              " <tf.Operation 'prefix/MultipleGridAnchorGenerator/Cast_1' type=Cast>,\n",
              " <tf.Operation 'prefix/MultipleGridAnchorGenerator/Cast_2/x' type=Const>,\n",
              " <tf.Operation 'prefix/MultipleGridAnchorGenerator/Cast_2' type=Cast>,\n",
              " <tf.Operation 'prefix/MultipleGridAnchorGenerator/truediv/x' type=Const>,\n",
              " <tf.Operation 'prefix/MultipleGridAnchorGenerator/truediv' type=RealDiv>,\n",
              " <tf.Operation 'prefix/MultipleGridAnchorGenerator/Cast_3/x' type=Const>,\n",
              " <tf.Operation 'prefix/MultipleGridAnchorGenerator/Cast_3' type=Cast>,\n",
              " <tf.Operation 'prefix/MultipleGridAnchorGenerator/truediv_1/x' type=Const>,\n",
              " <tf.Operation 'prefix/MultipleGridAnchorGenerator/truediv_1' type=RealDiv>,\n",
              " <tf.Operation 'prefix/MultipleGridAnchorGenerator/Cast_4/x' type=Const>,\n",
              " <tf.Operation 'prefix/MultipleGridAnchorGenerator/Cast_4' type=Cast>,\n",
              " <tf.Operation 'prefix/MultipleGridAnchorGenerator/truediv_2/x' type=Const>,\n",
              " <tf.Operation 'prefix/MultipleGridAnchorGenerator/truediv_2' type=RealDiv>,\n",
              " <tf.Operation 'prefix/MultipleGridAnchorGenerator/Cast_5/x' type=Const>,\n",
              " <tf.Operation 'prefix/MultipleGridAnchorGenerator/Cast_5' type=Cast>,\n",
              " <tf.Operation 'prefix/MultipleGridAnchorGenerator/truediv_3/x' type=Const>,\n",
              " <tf.Operation 'prefix/MultipleGridAnchorGenerator/truediv_3' type=RealDiv>,\n",
              " <tf.Operation 'prefix/MultipleGridAnchorGenerator/Cast_6/x' type=Const>,\n",
              " <tf.Operation 'prefix/MultipleGridAnchorGenerator/Cast_6' type=Cast>,\n",
              " <tf.Operation 'prefix/MultipleGridAnchorGenerator/truediv_4/x' type=Const>,\n",
              " <tf.Operation 'prefix/MultipleGridAnchorGenerator/truediv_4' type=RealDiv>,\n",
              " <tf.Operation 'prefix/MultipleGridAnchorGenerator/Cast_7/x' type=Const>,\n",
              " <tf.Operation 'prefix/MultipleGridAnchorGenerator/Cast_7' type=Cast>,\n",
              " <tf.Operation 'prefix/MultipleGridAnchorGenerator/truediv_5/x' type=Const>,\n",
              " <tf.Operation 'prefix/MultipleGridAnchorGenerator/truediv_5' type=RealDiv>,\n",
              " <tf.Operation 'prefix/MultipleGridAnchorGenerator/Cast_8/x' type=Const>,\n",
              " <tf.Operation 'prefix/MultipleGridAnchorGenerator/Cast_8' type=Cast>,\n",
              " <tf.Operation 'prefix/MultipleGridAnchorGenerator/truediv_6/x' type=Const>,\n",
              " <tf.Operation 'prefix/MultipleGridAnchorGenerator/truediv_6' type=RealDiv>,\n",
              " <tf.Operation 'prefix/MultipleGridAnchorGenerator/Cast_9/x' type=Const>,\n",
              " <tf.Operation 'prefix/MultipleGridAnchorGenerator/Cast_9' type=Cast>,\n",
              " <tf.Operation 'prefix/MultipleGridAnchorGenerator/truediv_7/x' type=Const>,\n",
              " <tf.Operation 'prefix/MultipleGridAnchorGenerator/truediv_7' type=RealDiv>,\n",
              " <tf.Operation 'prefix/MultipleGridAnchorGenerator/Cast_10/x' type=Const>,\n",
              " <tf.Operation 'prefix/MultipleGridAnchorGenerator/Cast_10' type=Cast>,\n",
              " <tf.Operation 'prefix/MultipleGridAnchorGenerator/truediv_8/x' type=Const>,\n",
              " <tf.Operation 'prefix/MultipleGridAnchorGenerator/truediv_8' type=RealDiv>,\n",
              " <tf.Operation 'prefix/MultipleGridAnchorGenerator/Cast_11/x' type=Const>,\n",
              " <tf.Operation 'prefix/MultipleGridAnchorGenerator/Cast_11' type=Cast>,\n",
              " <tf.Operation 'prefix/MultipleGridAnchorGenerator/truediv_9/x' type=Const>,\n",
              " <tf.Operation 'prefix/MultipleGridAnchorGenerator/truediv_9' type=RealDiv>,\n",
              " <tf.Operation 'prefix/MultipleGridAnchorGenerator/Cast_12/x' type=Const>,\n",
              " <tf.Operation 'prefix/MultipleGridAnchorGenerator/Cast_12' type=Cast>,\n",
              " <tf.Operation 'prefix/MultipleGridAnchorGenerator/truediv_10/x' type=Const>,\n",
              " <tf.Operation 'prefix/MultipleGridAnchorGenerator/truediv_10' type=RealDiv>,\n",
              " <tf.Operation 'prefix/MultipleGridAnchorGenerator/Cast_13/x' type=Const>,\n",
              " <tf.Operation 'prefix/MultipleGridAnchorGenerator/Cast_13' type=Cast>,\n",
              " <tf.Operation 'prefix/MultipleGridAnchorGenerator/truediv_11/x' type=Const>,\n",
              " <tf.Operation 'prefix/MultipleGridAnchorGenerator/truediv_11' type=RealDiv>,\n",
              " <tf.Operation 'prefix/MultipleGridAnchorGenerator/mul/x' type=Const>,\n",
              " <tf.Operation 'prefix/MultipleGridAnchorGenerator/mul' type=Mul>,\n",
              " <tf.Operation 'prefix/MultipleGridAnchorGenerator/mul_1/x' type=Const>,\n",
              " <tf.Operation 'prefix/MultipleGridAnchorGenerator/mul_1' type=Mul>,\n",
              " <tf.Operation 'prefix/MultipleGridAnchorGenerator/mul_2/x' type=Const>,\n",
              " <tf.Operation 'prefix/MultipleGridAnchorGenerator/mul_2' type=Mul>,\n",
              " <tf.Operation 'prefix/MultipleGridAnchorGenerator/mul_3/x' type=Const>,\n",
              " <tf.Operation 'prefix/MultipleGridAnchorGenerator/mul_3' type=Mul>,\n",
              " <tf.Operation 'prefix/MultipleGridAnchorGenerator/mul_4/x' type=Const>,\n",
              " <tf.Operation 'prefix/MultipleGridAnchorGenerator/mul_4' type=Mul>,\n",
              " <tf.Operation 'prefix/MultipleGridAnchorGenerator/mul_5/x' type=Const>,\n",
              " ...]"
            ]
          },
          "metadata": {
            "tags": []
          },
          "execution_count": 116
        }
      ]
    },
    {
      "cell_type": "code",
      "metadata": {
        "id": "ZrGvzc9-q2lA",
        "colab_type": "code",
        "colab": {
          "base_uri": "https://localhost:8080/",
          "height": 1000
        },
        "outputId": "29177636-23a5-4002-8f2b-af5199464377"
      },
      "source": [
        "with tf.Session() as sess:\t    \n",
        "   with tf.gfile.GFile('/content/aeroplane_detection/models/research/fine_tuned_model/frozen_inference_graph.pb', 'rb') as f:\t        \n",
        "    graph_def = tf.GraphDef()\t        \n",
        "    graph_def.ParseFromString(f.read())\t        \n",
        "    sess.graph.as_default()\t        \n",
        "    g_in = tf.import_graph_def(graph_def)\t    \n",
        "    tensor_output = sess.graph.get_tensor_by_name('import/image_tensor:0')\t    \n",
        "    tensor_input = sess.graph.get_tensor_by_name('import/detection_boxes:0')\t    \n",
        "    predictions = sess.run(tensor_output, {tensor_input:image})\t    \n",
        "    print(predictions)"
      ],
      "execution_count": 117,
      "outputs": [
        {
          "output_type": "error",
          "ename": "InvalidArgumentError",
          "evalue": "ignored",
          "traceback": [
            "\u001b[0;31m---------------------------------------------------------------------------\u001b[0m",
            "\u001b[0;31mInvalidArgumentError\u001b[0m                      Traceback (most recent call last)",
            "\u001b[0;32m/tensorflow-1.15.2/python3.6/tensorflow_core/python/client/session.py\u001b[0m in \u001b[0;36m_do_call\u001b[0;34m(self, fn, *args)\u001b[0m\n\u001b[1;32m   1364\u001b[0m     \u001b[0;32mtry\u001b[0m\u001b[0;34m:\u001b[0m\u001b[0;34m\u001b[0m\u001b[0;34m\u001b[0m\u001b[0m\n\u001b[0;32m-> 1365\u001b[0;31m       \u001b[0;32mreturn\u001b[0m \u001b[0mfn\u001b[0m\u001b[0;34m(\u001b[0m\u001b[0;34m*\u001b[0m\u001b[0margs\u001b[0m\u001b[0;34m)\u001b[0m\u001b[0;34m\u001b[0m\u001b[0;34m\u001b[0m\u001b[0m\n\u001b[0m\u001b[1;32m   1366\u001b[0m     \u001b[0;32mexcept\u001b[0m \u001b[0merrors\u001b[0m\u001b[0;34m.\u001b[0m\u001b[0mOpError\u001b[0m \u001b[0;32mas\u001b[0m \u001b[0me\u001b[0m\u001b[0;34m:\u001b[0m\u001b[0;34m\u001b[0m\u001b[0;34m\u001b[0m\u001b[0m\n",
            "\u001b[0;32m/tensorflow-1.15.2/python3.6/tensorflow_core/python/client/session.py\u001b[0m in \u001b[0;36m_run_fn\u001b[0;34m(feed_dict, fetch_list, target_list, options, run_metadata)\u001b[0m\n\u001b[1;32m   1349\u001b[0m       return self._call_tf_sessionrun(options, feed_dict, fetch_list,\n\u001b[0;32m-> 1350\u001b[0;31m                                       target_list, run_metadata)\n\u001b[0m\u001b[1;32m   1351\u001b[0m \u001b[0;34m\u001b[0m\u001b[0m\n",
            "\u001b[0;32m/tensorflow-1.15.2/python3.6/tensorflow_core/python/client/session.py\u001b[0m in \u001b[0;36m_call_tf_sessionrun\u001b[0;34m(self, options, feed_dict, fetch_list, target_list, run_metadata)\u001b[0m\n\u001b[1;32m   1442\u001b[0m                                             \u001b[0mfetch_list\u001b[0m\u001b[0;34m,\u001b[0m \u001b[0mtarget_list\u001b[0m\u001b[0;34m,\u001b[0m\u001b[0;34m\u001b[0m\u001b[0;34m\u001b[0m\u001b[0m\n\u001b[0;32m-> 1443\u001b[0;31m                                             run_metadata)\n\u001b[0m\u001b[1;32m   1444\u001b[0m \u001b[0;34m\u001b[0m\u001b[0m\n",
            "\u001b[0;31mInvalidArgumentError\u001b[0m: 2 root error(s) found.\n  (0) Invalid argument: You must feed a value for placeholder tensor 'import/image_tensor' with dtype uint8 and shape [?,?,?,3]\n\t [[{{node import/image_tensor}}]]\n  (1) Invalid argument: You must feed a value for placeholder tensor 'import/image_tensor' with dtype uint8 and shape [?,?,?,3]\n\t [[{{node import/image_tensor}}]]\n\t [[import/image_tensor/_1]]\n0 successful operations.\n0 derived errors ignored.",
            "\nDuring handling of the above exception, another exception occurred:\n",
            "\u001b[0;31mInvalidArgumentError\u001b[0m                      Traceback (most recent call last)",
            "\u001b[0;32m<ipython-input-117-3ecb6f7e42db>\u001b[0m in \u001b[0;36m<module>\u001b[0;34m()\u001b[0m\n\u001b[1;32m      7\u001b[0m     \u001b[0mtensor_output\u001b[0m \u001b[0;34m=\u001b[0m \u001b[0msess\u001b[0m\u001b[0;34m.\u001b[0m\u001b[0mgraph\u001b[0m\u001b[0;34m.\u001b[0m\u001b[0mget_tensor_by_name\u001b[0m\u001b[0;34m(\u001b[0m\u001b[0;34m'import/image_tensor:0'\u001b[0m\u001b[0;34m)\u001b[0m\u001b[0;34m\u001b[0m\u001b[0;34m\u001b[0m\u001b[0m\n\u001b[1;32m      8\u001b[0m     \u001b[0mtensor_input\u001b[0m \u001b[0;34m=\u001b[0m \u001b[0msess\u001b[0m\u001b[0;34m.\u001b[0m\u001b[0mgraph\u001b[0m\u001b[0;34m.\u001b[0m\u001b[0mget_tensor_by_name\u001b[0m\u001b[0;34m(\u001b[0m\u001b[0;34m'import/detection_boxes:0'\u001b[0m\u001b[0;34m)\u001b[0m\u001b[0;34m\u001b[0m\u001b[0;34m\u001b[0m\u001b[0m\n\u001b[0;32m----> 9\u001b[0;31m     \u001b[0mpredictions\u001b[0m \u001b[0;34m=\u001b[0m \u001b[0msess\u001b[0m\u001b[0;34m.\u001b[0m\u001b[0mrun\u001b[0m\u001b[0;34m(\u001b[0m\u001b[0mtensor_output\u001b[0m\u001b[0;34m,\u001b[0m \u001b[0;34m{\u001b[0m\u001b[0mtensor_input\u001b[0m\u001b[0;34m:\u001b[0m\u001b[0mimage\u001b[0m\u001b[0;34m}\u001b[0m\u001b[0;34m)\u001b[0m\u001b[0;34m\u001b[0m\u001b[0;34m\u001b[0m\u001b[0m\n\u001b[0m\u001b[1;32m     10\u001b[0m     \u001b[0mprint\u001b[0m\u001b[0;34m(\u001b[0m\u001b[0mpredictions\u001b[0m\u001b[0;34m)\u001b[0m\u001b[0;34m\u001b[0m\u001b[0;34m\u001b[0m\u001b[0m\n",
            "\u001b[0;32m/tensorflow-1.15.2/python3.6/tensorflow_core/python/client/session.py\u001b[0m in \u001b[0;36mrun\u001b[0;34m(self, fetches, feed_dict, options, run_metadata)\u001b[0m\n\u001b[1;32m    954\u001b[0m     \u001b[0;32mtry\u001b[0m\u001b[0;34m:\u001b[0m\u001b[0;34m\u001b[0m\u001b[0;34m\u001b[0m\u001b[0m\n\u001b[1;32m    955\u001b[0m       result = self._run(None, fetches, feed_dict, options_ptr,\n\u001b[0;32m--> 956\u001b[0;31m                          run_metadata_ptr)\n\u001b[0m\u001b[1;32m    957\u001b[0m       \u001b[0;32mif\u001b[0m \u001b[0mrun_metadata\u001b[0m\u001b[0;34m:\u001b[0m\u001b[0;34m\u001b[0m\u001b[0;34m\u001b[0m\u001b[0m\n\u001b[1;32m    958\u001b[0m         \u001b[0mproto_data\u001b[0m \u001b[0;34m=\u001b[0m \u001b[0mtf_session\u001b[0m\u001b[0;34m.\u001b[0m\u001b[0mTF_GetBuffer\u001b[0m\u001b[0;34m(\u001b[0m\u001b[0mrun_metadata_ptr\u001b[0m\u001b[0;34m)\u001b[0m\u001b[0;34m\u001b[0m\u001b[0;34m\u001b[0m\u001b[0m\n",
            "\u001b[0;32m/tensorflow-1.15.2/python3.6/tensorflow_core/python/client/session.py\u001b[0m in \u001b[0;36m_run\u001b[0;34m(self, handle, fetches, feed_dict, options, run_metadata)\u001b[0m\n\u001b[1;32m   1178\u001b[0m     \u001b[0;32mif\u001b[0m \u001b[0mfinal_fetches\u001b[0m \u001b[0;32mor\u001b[0m \u001b[0mfinal_targets\u001b[0m \u001b[0;32mor\u001b[0m \u001b[0;34m(\u001b[0m\u001b[0mhandle\u001b[0m \u001b[0;32mand\u001b[0m \u001b[0mfeed_dict_tensor\u001b[0m\u001b[0;34m)\u001b[0m\u001b[0;34m:\u001b[0m\u001b[0;34m\u001b[0m\u001b[0;34m\u001b[0m\u001b[0m\n\u001b[1;32m   1179\u001b[0m       results = self._do_run(handle, final_targets, final_fetches,\n\u001b[0;32m-> 1180\u001b[0;31m                              feed_dict_tensor, options, run_metadata)\n\u001b[0m\u001b[1;32m   1181\u001b[0m     \u001b[0;32melse\u001b[0m\u001b[0;34m:\u001b[0m\u001b[0;34m\u001b[0m\u001b[0;34m\u001b[0m\u001b[0m\n\u001b[1;32m   1182\u001b[0m       \u001b[0mresults\u001b[0m \u001b[0;34m=\u001b[0m \u001b[0;34m[\u001b[0m\u001b[0;34m]\u001b[0m\u001b[0;34m\u001b[0m\u001b[0;34m\u001b[0m\u001b[0m\n",
            "\u001b[0;32m/tensorflow-1.15.2/python3.6/tensorflow_core/python/client/session.py\u001b[0m in \u001b[0;36m_do_run\u001b[0;34m(self, handle, target_list, fetch_list, feed_dict, options, run_metadata)\u001b[0m\n\u001b[1;32m   1357\u001b[0m     \u001b[0;32mif\u001b[0m \u001b[0mhandle\u001b[0m \u001b[0;32mis\u001b[0m \u001b[0;32mNone\u001b[0m\u001b[0;34m:\u001b[0m\u001b[0;34m\u001b[0m\u001b[0;34m\u001b[0m\u001b[0m\n\u001b[1;32m   1358\u001b[0m       return self._do_call(_run_fn, feeds, fetches, targets, options,\n\u001b[0;32m-> 1359\u001b[0;31m                            run_metadata)\n\u001b[0m\u001b[1;32m   1360\u001b[0m     \u001b[0;32melse\u001b[0m\u001b[0;34m:\u001b[0m\u001b[0;34m\u001b[0m\u001b[0;34m\u001b[0m\u001b[0m\n\u001b[1;32m   1361\u001b[0m       \u001b[0;32mreturn\u001b[0m \u001b[0mself\u001b[0m\u001b[0;34m.\u001b[0m\u001b[0m_do_call\u001b[0m\u001b[0;34m(\u001b[0m\u001b[0m_prun_fn\u001b[0m\u001b[0;34m,\u001b[0m \u001b[0mhandle\u001b[0m\u001b[0;34m,\u001b[0m \u001b[0mfeeds\u001b[0m\u001b[0;34m,\u001b[0m \u001b[0mfetches\u001b[0m\u001b[0;34m)\u001b[0m\u001b[0;34m\u001b[0m\u001b[0;34m\u001b[0m\u001b[0m\n",
            "\u001b[0;32m/tensorflow-1.15.2/python3.6/tensorflow_core/python/client/session.py\u001b[0m in \u001b[0;36m_do_call\u001b[0;34m(self, fn, *args)\u001b[0m\n\u001b[1;32m   1382\u001b[0m                     \u001b[0;34m'\\nsession_config.graph_options.rewrite_options.'\u001b[0m\u001b[0;34m\u001b[0m\u001b[0;34m\u001b[0m\u001b[0m\n\u001b[1;32m   1383\u001b[0m                     'disable_meta_optimizer = True')\n\u001b[0;32m-> 1384\u001b[0;31m       \u001b[0;32mraise\u001b[0m \u001b[0mtype\u001b[0m\u001b[0;34m(\u001b[0m\u001b[0me\u001b[0m\u001b[0;34m)\u001b[0m\u001b[0;34m(\u001b[0m\u001b[0mnode_def\u001b[0m\u001b[0;34m,\u001b[0m \u001b[0mop\u001b[0m\u001b[0;34m,\u001b[0m \u001b[0mmessage\u001b[0m\u001b[0;34m)\u001b[0m\u001b[0;34m\u001b[0m\u001b[0;34m\u001b[0m\u001b[0m\n\u001b[0m\u001b[1;32m   1385\u001b[0m \u001b[0;34m\u001b[0m\u001b[0m\n\u001b[1;32m   1386\u001b[0m   \u001b[0;32mdef\u001b[0m \u001b[0m_extend_graph\u001b[0m\u001b[0;34m(\u001b[0m\u001b[0mself\u001b[0m\u001b[0;34m)\u001b[0m\u001b[0;34m:\u001b[0m\u001b[0;34m\u001b[0m\u001b[0;34m\u001b[0m\u001b[0m\n",
            "\u001b[0;31mInvalidArgumentError\u001b[0m: 2 root error(s) found.\n  (0) Invalid argument: You must feed a value for placeholder tensor 'import/image_tensor' with dtype uint8 and shape [?,?,?,3]\n\t [[node import/image_tensor (defined at /tensorflow-1.15.2/python3.6/tensorflow_core/python/framework/ops.py:1748) ]]\n  (1) Invalid argument: You must feed a value for placeholder tensor 'import/image_tensor' with dtype uint8 and shape [?,?,?,3]\n\t [[node import/image_tensor (defined at /tensorflow-1.15.2/python3.6/tensorflow_core/python/framework/ops.py:1748) ]]\n\t [[import/image_tensor/_1]]\n0 successful operations.\n0 derived errors ignored.\n\nOriginal stack trace for 'import/image_tensor':\n  File \"/usr/lib/python3.6/runpy.py\", line 193, in _run_module_as_main\n    \"__main__\", mod_spec)\n  File \"/usr/lib/python3.6/runpy.py\", line 85, in _run_code\n    exec(code, run_globals)\n  File \"/usr/local/lib/python3.6/dist-packages/ipykernel_launcher.py\", line 16, in <module>\n    app.launch_new_instance()\n  File \"/usr/local/lib/python3.6/dist-packages/traitlets/config/application.py\", line 664, in launch_instance\n    app.start()\n  File \"/usr/local/lib/python3.6/dist-packages/ipykernel/kernelapp.py\", line 499, in start\n    self.io_loop.start()\n  File \"/usr/local/lib/python3.6/dist-packages/tornado/ioloop.py\", line 888, in start\n    handler_func(fd_obj, events)\n  File \"/usr/local/lib/python3.6/dist-packages/tornado/stack_context.py\", line 277, in null_wrapper\n    return fn(*args, **kwargs)\n  File \"/usr/local/lib/python3.6/dist-packages/zmq/eventloop/zmqstream.py\", line 456, in _handle_events\n    self._handle_recv()\n  File \"/usr/local/lib/python3.6/dist-packages/zmq/eventloop/zmqstream.py\", line 486, in _handle_recv\n    self._run_callback(callback, msg)\n  File \"/usr/local/lib/python3.6/dist-packages/zmq/eventloop/zmqstream.py\", line 438, in _run_callback\n    callback(*args, **kwargs)\n  File \"/usr/local/lib/python3.6/dist-packages/tornado/stack_context.py\", line 277, in null_wrapper\n    return fn(*args, **kwargs)\n  File \"/usr/local/lib/python3.6/dist-packages/ipykernel/kernelbase.py\", line 283, in dispatcher\n    return self.dispatch_shell(stream, msg)\n  File \"/usr/local/lib/python3.6/dist-packages/ipykernel/kernelbase.py\", line 233, in dispatch_shell\n    handler(stream, idents, msg)\n  File \"/usr/local/lib/python3.6/dist-packages/ipykernel/kernelbase.py\", line 399, in execute_request\n    user_expressions, allow_stdin)\n  File \"/usr/local/lib/python3.6/dist-packages/ipykernel/ipkernel.py\", line 208, in do_execute\n    res = shell.run_cell(code, store_history=store_history, silent=silent)\n  File \"/usr/local/lib/python3.6/dist-packages/ipykernel/zmqshell.py\", line 537, in run_cell\n    return super(ZMQInteractiveShell, self).run_cell(*args, **kwargs)\n  File \"/usr/local/lib/python3.6/dist-packages/IPython/core/interactiveshell.py\", line 2718, in run_cell\n    interactivity=interactivity, compiler=compiler, result=result)\n  File \"/usr/local/lib/python3.6/dist-packages/IPython/core/interactiveshell.py\", line 2822, in run_ast_nodes\n    if self.run_code(code, result):\n  File \"/usr/local/lib/python3.6/dist-packages/IPython/core/interactiveshell.py\", line 2882, in run_code\n    exec(code_obj, self.user_global_ns, self.user_ns)\n  File \"<ipython-input-117-3ecb6f7e42db>\", line 6, in <module>\n    g_in = tf.import_graph_def(graph_def)\n  File \"/tensorflow-1.15.2/python3.6/tensorflow_core/python/util/deprecation.py\", line 507, in new_func\n    return func(*args, **kwargs)\n  File \"/tensorflow-1.15.2/python3.6/tensorflow_core/python/framework/importer.py\", line 405, in import_graph_def\n    producer_op_list=producer_op_list)\n  File \"/tensorflow-1.15.2/python3.6/tensorflow_core/python/framework/importer.py\", line 517, in _import_graph_def_internal\n    _ProcessNewOps(graph)\n  File \"/tensorflow-1.15.2/python3.6/tensorflow_core/python/framework/importer.py\", line 243, in _ProcessNewOps\n    for new_op in graph._add_new_tf_operations(compute_devices=False):  # pylint: disable=protected-access\n  File \"/tensorflow-1.15.2/python3.6/tensorflow_core/python/framework/ops.py\", line 3561, in _add_new_tf_operations\n    for c_op in c_api_util.new_tf_operations(self)\n  File \"/tensorflow-1.15.2/python3.6/tensorflow_core/python/framework/ops.py\", line 3561, in <listcomp>\n    for c_op in c_api_util.new_tf_operations(self)\n  File \"/tensorflow-1.15.2/python3.6/tensorflow_core/python/framework/ops.py\", line 3451, in _create_op_from_tf_operation\n    ret = Operation(c_op, self)\n  File \"/tensorflow-1.15.2/python3.6/tensorflow_core/python/framework/ops.py\", line 1748, in __init__\n    self._traceback = tf_stack.extract_stack()\n"
          ]
        }
      ]
    },
    {
      "cell_type": "code",
      "metadata": {
        "id": "omT3oOEoq9SA",
        "colab_type": "code",
        "colab": {
          "base_uri": "https://localhost:8080/",
          "height": 54
        },
        "outputId": "3e0e7362-0edb-424d-b988-fd3fddb62750"
      },
      "source": [
        "\n",
        "lst = os.listdir(model_dir)\n",
        "print(lst)"
      ],
      "execution_count": 118,
      "outputs": [
        {
          "output_type": "stream",
          "text": [
            "['model.ckpt-0.index', 'graph.pbtxt', 'checkpoint', 'events.out.tfevents.1595237967.eb15f2191177', 'model.ckpt-0.meta', 'model.ckpt-0.data-00000-of-00001']\n"
          ],
          "name": "stdout"
        }
      ]
    },
    {
      "cell_type": "code",
      "metadata": {
        "id": "sZL1SnRurFlR",
        "colab_type": "code",
        "colab": {
          "base_uri": "https://localhost:8080/",
          "height": 35
        },
        "outputId": "a94c1ed1-e1c3-433f-d092-9953cda5ae66"
      },
      "source": [
        "output_directory"
      ],
      "execution_count": 119,
      "outputs": [
        {
          "output_type": "execute_result",
          "data": {
            "application/vnd.google.colaboratory.intrinsic": {
              "type": "string"
            },
            "text/plain": [
              "'/content/aeroplane_detection/models/research/fine_tuned_model'"
            ]
          },
          "metadata": {
            "tags": []
          },
          "execution_count": 119
        }
      ]
    },
    {
      "cell_type": "code",
      "metadata": {
        "id": "GqE7LHSNrK0W",
        "colab_type": "code",
        "colab": {}
      },
      "source": [
        "import os\n",
        "pb_fname = os.path.join(os.path.abspath(output_directory), \"frozen_inference_graph.pb\")\n",
        "assert os.path.isfile(pb_fname), '`{}` not exist'.format(pb_fname)"
      ],
      "execution_count": 120,
      "outputs": []
    },
    {
      "cell_type": "code",
      "metadata": {
        "id": "aCAmc-5-rPci",
        "colab_type": "code",
        "colab": {
          "base_uri": "https://localhost:8080/",
          "height": 35
        },
        "outputId": "0b40f051-5428-4247-bbd9-156a4f7cbff6"
      },
      "source": [
        "pb_fname"
      ],
      "execution_count": 121,
      "outputs": [
        {
          "output_type": "execute_result",
          "data": {
            "application/vnd.google.colaboratory.intrinsic": {
              "type": "string"
            },
            "text/plain": [
              "'/content/aeroplane_detection/models/research/fine_tuned_model/frozen_inference_graph.pb'"
            ]
          },
          "metadata": {
            "tags": []
          },
          "execution_count": 121
        }
      ]
    },
    {
      "cell_type": "code",
      "metadata": {
        "id": "-TL_3XGGrSKw",
        "colab_type": "code",
        "colab": {
          "base_uri": "https://localhost:8080/",
          "height": 35
        },
        "outputId": "f36719dd-e0a2-4f69-fc77-0234abe43546"
      },
      "source": [
        "DATA_BASE_PATH"
      ],
      "execution_count": 122,
      "outputs": [
        {
          "output_type": "execute_result",
          "data": {
            "application/vnd.google.colaboratory.intrinsic": {
              "type": "string"
            },
            "text/plain": [
              "'/content/aeroplane_detection/data/'"
            ]
          },
          "metadata": {
            "tags": []
          },
          "execution_count": 122
        }
      ]
    },
    {
      "cell_type": "code",
      "metadata": {
        "id": "uenzvdFCrUyV",
        "colab_type": "code",
        "colab": {
          "base_uri": "https://localhost:8080/",
          "height": 35
        },
        "outputId": "04c79e5d-dad1-443b-973c-dfe8a0731244"
      },
      "source": [
        "PATH_TO_TEST_IMAGES_DIR =  os.path.join('/content/airplane_detection/', \"data/images/\")\n",
        "PATH_TO_TEST_IMAGES_DIR"
      ],
      "execution_count": 123,
      "outputs": [
        {
          "output_type": "execute_result",
          "data": {
            "application/vnd.google.colaboratory.intrinsic": {
              "type": "string"
            },
            "text/plain": [
              "'/content/airplane_detection/data/images/'"
            ]
          },
          "metadata": {
            "tags": []
          },
          "execution_count": 123
        }
      ]
    },
    {
      "cell_type": "code",
      "metadata": {
        "id": "-xHsU4eYraL-",
        "colab_type": "code",
        "colab": {
          "base_uri": "https://localhost:8080/",
          "height": 54
        },
        "outputId": "ce7a7581-a899-4a66-aed7-6e98d77f7851"
      },
      "source": [
        "import os\n",
        "import glob\n",
        "\n",
        "# Path to frozen detection graph. This is the actual model that is used for the object detection.\n",
        "PATH_TO_CKPT = pb_fname\n",
        "\n",
        "# List of the strings that is used to add correct label for each box.\n",
        "PATH_TO_LABELS = DATA_BASE_PATH + '/label_map.pbtxt'\n",
        "\n",
        "# If you want to test the code with your images, just add images files to the PATH_TO_TEST_IMAGES_DIR.\n",
        "PATH_TO_TEST_IMAGES_DIR =  os.path.join('/content/aeroplane_detection/', \"data/images/\")\n",
        "\n",
        "assert os.path.isfile(pb_fname)\n",
        "assert os.path.isfile(PATH_TO_LABELS)\n",
        "TEST_IMAGE_PATHS = glob.glob(os.path.join(PATH_TO_TEST_IMAGES_DIR, \"*.*\"))\n",
        "assert len(TEST_IMAGE_PATHS) > 0, 'No image found in `{}`.'.format(PATH_TO_TEST_IMAGES_DIR)\n",
        "print(TEST_IMAGE_PATHS)"
      ],
      "execution_count": 124,
      "outputs": [
        {
          "output_type": "stream",
          "text": [
            "['/content/aeroplane_detection/data/images/airplane_296.jpg', '/content/aeroplane_detection/data/images/airplane_227.jpg', '/content/aeroplane_detection/data/images/airplane_279.jpg', '/content/aeroplane_detection/data/images/airplane_176.jpg', '/content/aeroplane_detection/data/images/airplane_659.jpg', '/content/aeroplane_detection/data/images/airplane_481.jpg', '/content/aeroplane_detection/data/images/airplane_619.jpg', '/content/aeroplane_detection/data/images/42848.jpg', '/content/aeroplane_detection/data/images/airplane_194.jpg', '/content/aeroplane_detection/data/images/airplane_361.jpg', '/content/aeroplane_detection/data/images/airplane_496.jpg', '/content/aeroplane_detection/data/images/airplane_435.jpg', '/content/aeroplane_detection/data/images/airplane_381.jpg', '/content/aeroplane_detection/data/images/hotanairport5.jpg', '/content/aeroplane_detection/data/images/airplane_165.jpg', '/content/aeroplane_detection/data/images/42850.jpg', '/content/aeroplane_detection/data/images/428462.jpg', '/content/aeroplane_detection/data/images/airplane_640.jpg', '/content/aeroplane_detection/data/images/428491.jpg', '/content/aeroplane_detection/data/images/airplane_650.jpg', '/content/aeroplane_detection/data/images/airplane_653.jpg', '/content/aeroplane_detection/data/images/airplane_006.jpg', '/content/aeroplane_detection/data/images/airplane_691.jpg', '/content/aeroplane_detection/data/images/airplane_431.jpg', '/content/aeroplane_detection/data/images/airplane_599.jpg', '/content/aeroplane_detection/data/images/42847.jpg', '/content/aeroplane_detection/data/images/airplane_535.jpg', '/content/aeroplane_detection/data/images/airplane_324.jpg', '/content/aeroplane_detection/data/images/airplane_125.jpg', '/content/aeroplane_detection/data/images/airplane_090.jpg', '/content/aeroplane_detection/data/images/airplane_371.jpg', '/content/aeroplane_detection/data/images/airplane_281.jpg', '/content/aeroplane_detection/data/images/airplane_645.jpg', '/content/aeroplane_detection/data/images/airplane_068.jpg', '/content/aeroplane_detection/data/images/airplane_444.jpg', '/content/aeroplane_detection/data/images/airplane_198.jpg', '/content/aeroplane_detection/data/images/airplane_153.jpg', '/content/aeroplane_detection/data/images/airplane_355.jpg', '/content/aeroplane_detection/data/images/airplane_266.jpg', '/content/aeroplane_detection/data/images/airplane_547.jpg', '/content/aeroplane_detection/data/images/airplane_578.jpg', '/content/aeroplane_detection/data/images/airplane_517.jpg', '/content/aeroplane_detection/data/images/airplane_531.jpg', '/content/aeroplane_detection/data/images/airplane_337.jpg', '/content/aeroplane_detection/data/images/airplane_239.jpg', '/content/aeroplane_detection/data/images/airplane_468.jpg', '/content/aeroplane_detection/data/images/airplane_221.jpg', '/content/aeroplane_detection/data/images/airplane_548.jpg', '/content/aeroplane_detection/data/images/airplane_216.jpg', '/content/aeroplane_detection/data/images/airplane_544.jpg', '/content/aeroplane_detection/data/images/airplane_579.jpg', '/content/aeroplane_detection/data/images/airplane_035.jpg', '/content/aeroplane_detection/data/images/airplane_480.jpg', '/content/aeroplane_detection/data/images/airplane_689.jpg', '/content/aeroplane_detection/data/images/airplane_208.jpg', '/content/aeroplane_detection/data/images/airplane_565.jpg', '/content/aeroplane_detection/data/images/airplane_055.jpg', '/content/aeroplane_detection/data/images/airplane_164.jpg', '/content/aeroplane_detection/data/images/airplane_493.jpg', '/content/aeroplane_detection/data/images/airplane_130.jpg', '/content/aeroplane_detection/data/images/airplane_043.jpg', '/content/aeroplane_detection/data/images/airplane_683.jpg', '/content/aeroplane_detection/data/images/airplane_412.jpg', '/content/aeroplane_detection/data/images/airplane_025.jpg', '/content/aeroplane_detection/data/images/airplane_280.jpg', '/content/aeroplane_detection/data/images/airplane_572.jpg', '/content/aeroplane_detection/data/images/airplane_230.jpg', '/content/aeroplane_detection/data/images/airplane_411.jpg', '/content/aeroplane_detection/data/images/airplane_695.jpg', '/content/aeroplane_detection/data/images/airplane_429.jpg', '/content/aeroplane_detection/data/images/airplane_213.jpg', '/content/aeroplane_detection/data/images/airplane_646.jpg', '/content/aeroplane_detection/data/images/airplane_553.jpg', '/content/aeroplane_detection/data/images/airplane_368.jpg', '/content/aeroplane_detection/data/images/airplane_567.jpg', '/content/aeroplane_detection/data/images/airplane_290.jpg', '/content/aeroplane_detection/data/images/airplane_163.jpg', '/content/aeroplane_detection/data/images/airplane_627.jpg', '/content/aeroplane_detection/data/images/airplane_065.jpg', '/content/aeroplane_detection/data/images/airplane_654.jpg', '/content/aeroplane_detection/data/images/airplane_110.jpg', '/content/aeroplane_detection/data/images/airplane_536.jpg', '/content/aeroplane_detection/data/images/airplane_235.jpg', '/content/aeroplane_detection/data/images/airplane_602.jpg', '/content/aeroplane_detection/data/images/airplane_512.jpg', '/content/aeroplane_detection/data/images/airplane_224.jpg', '/content/aeroplane_detection/data/images/airplane_564.jpg', '/content/aeroplane_detection/data/images/airplane_097.jpg', '/content/aeroplane_detection/data/images/airplane_148.jpg', '/content/aeroplane_detection/data/images/airplane_191.jpg', '/content/aeroplane_detection/data/images/airplane_052.jpg', '/content/aeroplane_detection/data/images/airplane_693.jpg', '/content/aeroplane_detection/data/images/airplane_143.jpg', '/content/aeroplane_detection/data/images/airplane_530.jpg', '/content/aeroplane_detection/data/images/airplane_348.jpg', '/content/aeroplane_detection/data/images/airplane_388.jpg', '/content/aeroplane_detection/data/images/airplane_073.jpg', '/content/aeroplane_detection/data/images/airplane_091.jpg', '/content/aeroplane_detection/data/images/airplane_674.jpg', '/content/aeroplane_detection/data/images/airplane_657.jpg', '/content/aeroplane_detection/data/images/airplane_401.jpg', '/content/aeroplane_detection/data/images/airplane_606.jpg', '/content/aeroplane_detection/data/images/airplane_630.jpg', '/content/aeroplane_detection/data/images/airplane_077.jpg', '/content/aeroplane_detection/data/images/airplane_261.jpg', '/content/aeroplane_detection/data/images/airplane_643.jpg', '/content/aeroplane_detection/data/images/airplane_154.jpg', '/content/aeroplane_detection/data/images/airplane_104.jpg', '/content/aeroplane_detection/data/images/airplane_622.jpg', '/content/aeroplane_detection/data/images/airplane_085.jpg', '/content/aeroplane_detection/data/images/airplane_394.jpg', '/content/aeroplane_detection/data/images/airplane_056.jpg', '/content/aeroplane_detection/data/images/airplane_576.jpg', '/content/aeroplane_detection/data/images/airplane_057.jpg', '/content/aeroplane_detection/data/images/airplane_175.jpg', '/content/aeroplane_detection/data/images/airplane_238.jpg', '/content/aeroplane_detection/data/images/airplane_152.jpg', '/content/aeroplane_detection/data/images/airplane_354.jpg', '/content/aeroplane_detection/data/images/airplane_615.jpg', '/content/aeroplane_detection/data/images/airplane_374.jpg', '/content/aeroplane_detection/data/images/airplane_680.jpg', '/content/aeroplane_detection/data/images/airplane_588.jpg', '/content/aeroplane_detection/data/images/airplane_470.jpg', '/content/aeroplane_detection/data/images/airplane_312.jpg', '/content/aeroplane_detection/data/images/airplane_259.jpg', '/content/aeroplane_detection/data/images/Planes8.jpg', '/content/aeroplane_detection/data/images/airplane_574.jpg', '/content/aeroplane_detection/data/images/airplane_610.jpg', '/content/aeroplane_detection/data/images/airplane_313.jpg', '/content/aeroplane_detection/data/images/airplane_293.jpg', '/content/aeroplane_detection/data/images/airplane_036.jpg', '/content/aeroplane_detection/data/images/airplane_318.jpg', '/content/aeroplane_detection/data/images/airplane_087.jpg', '/content/aeroplane_detection/data/images/airplane_608.jpg', '/content/aeroplane_detection/data/images/airplane_193.jpg', '/content/aeroplane_detection/data/images/airplane_158.jpg', '/content/aeroplane_detection/data/images/airplane_353.jpg', '/content/aeroplane_detection/data/images/airplane_350.jpg', '/content/aeroplane_detection/data/images/airplane_319.jpg', '/content/aeroplane_detection/data/images/airplane_170.jpg', '/content/aeroplane_detection/data/images/airplane_637.jpg', '/content/aeroplane_detection/data/images/airplane_236.jpg', '/content/aeroplane_detection/data/images/airplane_133.jpg', '/content/aeroplane_detection/data/images/airplane_094.jpg', '/content/aeroplane_detection/data/images/airplane_256.jpg', '/content/aeroplane_detection/data/images/airplane_334.jpg', '/content/aeroplane_detection/data/images/airplane_034.jpg', '/content/aeroplane_detection/data/images/airplane_101.jpg', '/content/aeroplane_detection/data/images/airplane_301.jpg', '/content/aeroplane_detection/data/images/airplane_614.jpg', '/content/aeroplane_detection/data/images/airplane_347.jpg', '/content/aeroplane_detection/data/images/airplane_063.jpg', '/content/aeroplane_detection/data/images/airplane_159.jpg', '/content/aeroplane_detection/data/images/airplane_088.jpg', '/content/aeroplane_detection/data/images/airplane_112.jpg', '/content/aeroplane_detection/data/images/airplane_314.jpg', '/content/aeroplane_detection/data/images/airplane_651.jpg', '/content/aeroplane_detection/data/images/airplane_545.jpg', '/content/aeroplane_detection/data/images/Planes9.jpg', '/content/aeroplane_detection/data/images/airplane_423.jpg', '/content/aeroplane_detection/data/images/airplane_332.jpg', '/content/aeroplane_detection/data/images/428482.jpg', '/content/aeroplane_detection/data/images/airplane_593.jpg', '/content/aeroplane_detection/data/images/airplane_007.jpg', '/content/aeroplane_detection/data/images/airplane_096.jpg', '/content/aeroplane_detection/data/images/428483.jpg', '/content/aeroplane_detection/data/images/airplane_464.jpg', '/content/aeroplane_detection/data/images/airplane_132.jpg', '/content/aeroplane_detection/data/images/airplane_084.jpg', '/content/aeroplane_detection/data/images/428481.jpg', '/content/aeroplane_detection/data/images/airplane_240.jpg', '/content/aeroplane_detection/data/images/airplane_604.jpg', '/content/aeroplane_detection/data/images/airplane_298.jpg', '/content/aeroplane_detection/data/images/airplane_053.jpg', '/content/aeroplane_detection/data/images/airplane_327.jpg', '/content/aeroplane_detection/data/images/airplane_070.jpg', '/content/aeroplane_detection/data/images/airplane_570.jpg', '/content/aeroplane_detection/data/images/airplane_538.jpg', '/content/aeroplane_detection/data/images/airplane_042.jpg', '/content/aeroplane_detection/data/images/airplane_338.jpg', '/content/aeroplane_detection/data/images/airplane_427.jpg', '/content/aeroplane_detection/data/images/airplane_566.jpg', '/content/aeroplane_detection/data/images/airplane_292.jpg', '/content/aeroplane_detection/data/images/airplane_197.jpg', '/content/aeroplane_detection/data/images/airplane_561.jpg', '/content/aeroplane_detection/data/images/airplane_228.jpg', '/content/aeroplane_detection/data/images/airplane_200.jpg', '/content/aeroplane_detection/data/images/airplane_666.jpg', '/content/aeroplane_detection/data/images/airplane_357.jpg', '/content/aeroplane_detection/data/images/airplane_363.jpg', '/content/aeroplane_detection/data/images/airplane_466.jpg', '/content/aeroplane_detection/data/images/airplane_003.jpg', '/content/aeroplane_detection/data/images/airplane_307.jpg', '/content/aeroplane_detection/data/images/airplane_497.jpg', '/content/aeroplane_detection/data/images/airplane_508.jpg', '/content/aeroplane_detection/data/images/airplane_288.jpg', '/content/aeroplane_detection/data/images/airplane_038.jpg', '/content/aeroplane_detection/data/images/airplane_028.jpg', '/content/aeroplane_detection/data/images/airplane_267.jpg', '/content/aeroplane_detection/data/images/airplane_471.jpg', '/content/aeroplane_detection/data/images/airplane_524.jpg', '/content/aeroplane_detection/data/images/airplane_613.jpg', '/content/aeroplane_detection/data/images/airplane_183.jpg', '/content/aeroplane_detection/data/images/airplane_416.jpg', '/content/aeroplane_detection/data/images/airplane_217.jpg', '/content/aeroplane_detection/data/images/airplane_321.jpg', '/content/aeroplane_detection/data/images/airplane_516.jpg', '/content/aeroplane_detection/data/images/airplane_253.jpg', '/content/aeroplane_detection/data/images/airplane_625.jpg', '/content/aeroplane_detection/data/images/airplane_403.jpg', '/content/aeroplane_detection/data/images/airplane_699.jpg', '/content/aeroplane_detection/data/images/airplane_384.jpg', '/content/aeroplane_detection/data/images/airplane_215.jpg', '/content/aeroplane_detection/data/images/airplane_505.jpg', '/content/aeroplane_detection/data/images/airplane_387.jpg', '/content/aeroplane_detection/data/images/airplane_686.jpg', '/content/aeroplane_detection/data/images/airplane_543.jpg', '/content/aeroplane_detection/data/images/airplane_252.jpg', '/content/aeroplane_detection/data/images/airplane_521.jpg', '/content/aeroplane_detection/data/images/airplane_392.jpg', '/content/aeroplane_detection/data/images/airplane_269.jpg', '/content/aeroplane_detection/data/images/airplane_122.jpg', '/content/aeroplane_detection/data/images/airplane_694.jpg', '/content/aeroplane_detection/data/images/airplane_511.jpg', '/content/aeroplane_detection/data/images/airplane_250.jpg', '/content/aeroplane_detection/data/images/airplane_489.jpg', '/content/aeroplane_detection/data/images/airplane_336.jpg', '/content/aeroplane_detection/data/images/airplane_257.jpg', '/content/aeroplane_detection/data/images/airplane_668.jpg', '/content/aeroplane_detection/data/images/airplane_605.jpg', '/content/aeroplane_detection/data/images/airplane_333.jpg', '/content/aeroplane_detection/data/images/airplane_299.jpg', '/content/aeroplane_detection/data/images/airplane_440.jpg', '/content/aeroplane_detection/data/images/airplane_024.jpg', '/content/aeroplane_detection/data/images/airplane_001.jpg', '/content/aeroplane_detection/data/images/airplane_079.jpg', '/content/aeroplane_detection/data/images/airplane_120.jpg', '/content/aeroplane_detection/data/images/airplane_618.jpg', '/content/aeroplane_detection/data/images/airplane_271.jpg', '/content/aeroplane_detection/data/images/airplane_124.jpg', '/content/aeroplane_detection/data/images/airplane_014.jpg', '/content/aeroplane_detection/data/images/airplane_272.jpg', '/content/aeroplane_detection/data/images/airplane_135.jpg', '/content/aeroplane_detection/data/images/airplane_098.jpg', '/content/aeroplane_detection/data/images/airplane_410.jpg', '/content/aeroplane_detection/data/images/airplane_467.jpg', '/content/aeroplane_detection/data/images/airplane_560.jpg', '/content/aeroplane_detection/data/images/airplane_249.jpg', '/content/aeroplane_detection/data/images/airplane_682.jpg', '/content/aeroplane_detection/data/images/airplane_377.jpg', '/content/aeroplane_detection/data/images/airplane_475.jpg', '/content/aeroplane_detection/data/images/airplane_451.jpg', '/content/aeroplane_detection/data/images/airplane_204.jpg', '/content/aeroplane_detection/data/images/airplane_438.jpg', '/content/aeroplane_detection/data/images/airplane_270.jpg', '/content/aeroplane_detection/data/images/airplane_304.jpg', '/content/aeroplane_detection/data/images/Planes3.jpg', '/content/aeroplane_detection/data/images/airplane_019.jpg', '/content/aeroplane_detection/data/images/airplane_037.jpg', '/content/aeroplane_detection/data/images/airplane_032.jpg', '/content/aeroplane_detection/data/images/airplane_491.jpg', '/content/aeroplane_detection/data/images/airplane_580.jpg', '/content/aeroplane_detection/data/images/airplane_310.jpg', '/content/aeroplane_detection/data/images/42849.jpg', '/content/aeroplane_detection/data/images/airplane_391.jpg', '/content/aeroplane_detection/data/images/airplane_482.jpg', '/content/aeroplane_detection/data/images/airplane_276.jpg', '/content/aeroplane_detection/data/images/airplane_093.jpg', '/content/aeroplane_detection/data/images/airplane_278.jpg', '/content/aeroplane_detection/data/images/airplane_479.jpg', '/content/aeroplane_detection/data/images/airplane_326.jpg', '/content/aeroplane_detection/data/images/428461.jpg', '/content/aeroplane_detection/data/images/airplane_059.jpg', '/content/aeroplane_detection/data/images/airplane_002.jpg', '/content/aeroplane_detection/data/images/airplane_526.jpg', '/content/aeroplane_detection/data/images/airplane_237.jpg', '/content/aeroplane_detection/data/images/airplane_031.jpg', '/content/aeroplane_detection/data/images/airplane_457.jpg', '/content/aeroplane_detection/data/images/airplane_409.jpg', '/content/aeroplane_detection/data/images/airplane_078.jpg', '/content/aeroplane_detection/data/images/airplane_402.jpg', '/content/aeroplane_detection/data/images/airplane_540.jpg', '/content/aeroplane_detection/data/images/airplane_495.jpg', '/content/aeroplane_detection/data/images/airplane_612.jpg', '/content/aeroplane_detection/data/images/airplane_611.jpg', '/content/aeroplane_detection/data/images/airplane_681.jpg', '/content/aeroplane_detection/data/images/airplane_476.jpg', '/content/aeroplane_detection/data/images/airplane_044.jpg', '/content/aeroplane_detection/data/images/airplane_066.jpg', '/content/aeroplane_detection/data/images/airplane_244.jpg', '/content/aeroplane_detection/data/images/airplane_226.jpg', '/content/aeroplane_detection/data/images/airplane_160.jpg', '/content/aeroplane_detection/data/images/428472.jpg', '/content/aeroplane_detection/data/images/airplane_161.jpg', '/content/aeroplane_detection/data/images/airplane_291.jpg', '/content/aeroplane_detection/data/images/airplane_128.jpg', '/content/aeroplane_detection/data/images/airplane_243.jpg', '/content/aeroplane_detection/data/images/airplane_529.jpg', '/content/aeroplane_detection/data/images/airplane_045.jpg', '/content/aeroplane_detection/data/images/airplane_080.jpg', '/content/aeroplane_detection/data/images/airplane_082.jpg', '/content/aeroplane_detection/data/images/airplane_306.jpg', '/content/aeroplane_detection/data/images/airplane_684.jpg', '/content/aeroplane_detection/data/images/airplane_596.jpg', '/content/aeroplane_detection/data/images/airplane_518.jpg', '/content/aeroplane_detection/data/images/airplane_676.jpg', '/content/aeroplane_detection/data/images/airplane_500.jpg', '/content/aeroplane_detection/data/images/airplane_400.jpg', '/content/aeroplane_detection/data/images/airplane_670.jpg', '/content/aeroplane_detection/data/images/428501.jpg', '/content/aeroplane_detection/data/images/airplane_636.jpg', '/content/aeroplane_detection/data/images/airplane_552.jpg', '/content/aeroplane_detection/data/images/airplane_365.jpg', '/content/aeroplane_detection/data/images/airplane_315.jpg', '/content/aeroplane_detection/data/images/airplane_414.jpg', '/content/aeroplane_detection/data/images/airplane_005.jpg', '/content/aeroplane_detection/data/images/airplane_632.jpg', '/content/aeroplane_detection/data/images/airplane_346.jpg', '/content/aeroplane_detection/data/images/airplane_048.jpg', '/content/aeroplane_detection/data/images/airplane_490.jpg', '/content/aeroplane_detection/data/images/airplane_437.jpg', '/content/aeroplane_detection/data/images/airplane_386.jpg', '/content/aeroplane_detection/data/images/airplane_652.jpg', '/content/aeroplane_detection/data/images/airplane_589.jpg', '/content/aeroplane_detection/data/images/airplane_389.jpg', '/content/aeroplane_detection/data/images/airplane_174.jpg', '/content/aeroplane_detection/data/images/airplane_421.jpg', '/content/aeroplane_detection/data/images/airplane_696.jpg', '/content/aeroplane_detection/data/images/airplane_169.jpg', '/content/aeroplane_detection/data/images/airplane_021.jpg', '/content/aeroplane_detection/data/images/airplane_351.jpg', '/content/aeroplane_detection/data/images/airplane_283.jpg', '/content/aeroplane_detection/data/images/airplane_268.jpg', '/content/aeroplane_detection/data/images/airplane_116.jpg', '/content/aeroplane_detection/data/images/airplane_264.jpg', '/content/aeroplane_detection/data/images/airplane_123.jpg', '/content/aeroplane_detection/data/images/airplane_342.jpg', '/content/aeroplane_detection/data/images/airplane_443.jpg', '/content/aeroplane_detection/data/images/airplane_501.jpg', '/content/aeroplane_detection/data/images/airplane_408.jpg', '/content/aeroplane_detection/data/images/airplane_404.jpg', '/content/aeroplane_detection/data/images/airplane_303.jpg', '/content/aeroplane_detection/data/images/airplane_195.jpg', '/content/aeroplane_detection/data/images/airplane_687.jpg', '/content/aeroplane_detection/data/images/airplane_406.jpg', '/content/aeroplane_detection/data/images/airplane_655.jpg', '/content/aeroplane_detection/data/images/airplane_597.jpg', '/content/aeroplane_detection/data/images/airplane_008.jpg', '/content/aeroplane_detection/data/images/airplane_103.jpg', '/content/aeroplane_detection/data/images/airplane_058.jpg', '/content/aeroplane_detection/data/images/airplane_046.jpg', '/content/aeroplane_detection/data/images/airplane_439.jpg', '/content/aeroplane_detection/data/images/airplane_550.jpg', '/content/aeroplane_detection/data/images/airplane_072.jpg', '/content/aeroplane_detection/data/images/airplane_187.jpg', '/content/aeroplane_detection/data/images/428492.jpg', '/content/aeroplane_detection/data/images/airplane_114.jpg', '/content/aeroplane_detection/data/images/airplane_071.jpg', '/content/aeroplane_detection/data/images/airplane_390.jpg', '/content/aeroplane_detection/data/images/airplane_364.jpg', '/content/aeroplane_detection/data/images/airplane_329.jpg', '/content/aeroplane_detection/data/images/airplane_446.jpg', '/content/aeroplane_detection/data/images/airplane_370.jpg', '/content/aeroplane_detection/data/images/airplane_660.jpg', '/content/aeroplane_detection/data/images/airplane_366.jpg', '/content/aeroplane_detection/data/images/airplane_677.jpg', '/content/aeroplane_detection/data/images/airplane_623.jpg', '/content/aeroplane_detection/data/images/airplane_121.jpg', '/content/aeroplane_detection/data/images/airplane_362.jpg', '/content/aeroplane_detection/data/images/airplane_462.jpg', '/content/aeroplane_detection/data/images/airplane_587.jpg', '/content/aeroplane_detection/data/images/Planes11.jpg', '/content/aeroplane_detection/data/images/airplane_150.jpg', '/content/aeroplane_detection/data/images/airplane_140.jpg', '/content/aeroplane_detection/data/images/airplane_413.jpg', '/content/aeroplane_detection/data/images/airplane_273.jpg', '/content/aeroplane_detection/data/images/airplane_634.jpg', '/content/aeroplane_detection/data/images/airplane_510.jpg', '/content/aeroplane_detection/data/images/airplane_331.jpg', '/content/aeroplane_detection/data/images/airplane_205.jpg', '/content/aeroplane_detection/data/images/airplane_022.jpg', '/content/aeroplane_detection/data/images/airplane_385.jpg', '/content/aeroplane_detection/data/images/airplane_638.jpg', '/content/aeroplane_detection/data/images/airplane_274.jpg', '/content/aeroplane_detection/data/images/airplane_147.jpg', '/content/aeroplane_detection/data/images/airplane_688.jpg', '/content/aeroplane_detection/data/images/airplane_425.jpg', '/content/aeroplane_detection/data/images/airplane_294.jpg', '/content/aeroplane_detection/data/images/Planes1.jpg', '/content/aeroplane_detection/data/images/airplane_407.jpg', '/content/aeroplane_detection/data/images/airplane_453.jpg', '/content/aeroplane_detection/data/images/airplane_369.jpg', '/content/aeroplane_detection/data/images/airplane_234.jpg', '/content/aeroplane_detection/data/images/airplane_577.jpg', '/content/aeroplane_detection/data/images/airplane_151.jpg', '/content/aeroplane_detection/data/images/airplane_558.jpg', '/content/aeroplane_detection/data/images/airplane_277.jpg', '/content/aeroplane_detection/data/images/airplane_192.jpg', '/content/aeroplane_detection/data/images/airplane_382.jpg', '/content/aeroplane_detection/data/images/airplane_459.jpg', '/content/aeroplane_detection/data/images/airplane_642.jpg', '/content/aeroplane_detection/data/images/airplane_263.jpg', '/content/aeroplane_detection/data/images/airplane_673.jpg', '/content/aeroplane_detection/data/images/airplane_211.jpg', '/content/aeroplane_detection/data/images/airplane_300.jpg', '/content/aeroplane_detection/data/images/airplane_015.jpg', '/content/aeroplane_detection/data/images/airplane_515.jpg', '/content/aeroplane_detection/data/images/airplane_430.jpg', '/content/aeroplane_detection/data/images/airplane_665.jpg', '/content/aeroplane_detection/data/images/airplane_202.jpg', '/content/aeroplane_detection/data/images/airplane_141.jpg', '/content/aeroplane_detection/data/images/airplane_083.jpg', '/content/aeroplane_detection/data/images/airplane_358.jpg', '/content/aeroplane_detection/data/images/airplane_522.jpg', '/content/aeroplane_detection/data/images/airplane_426.jpg', '/content/aeroplane_detection/data/images/airplane_557.jpg', '/content/aeroplane_detection/data/images/hotanairport5-rgb.jpg', '/content/aeroplane_detection/data/images/airplane_118.jpg', '/content/aeroplane_detection/data/images/airplane_460.jpg', '/content/aeroplane_detection/data/images/airplane_697.jpg', '/content/aeroplane_detection/data/images/airplane_449.jpg', '/content/aeroplane_detection/data/images/airplane_033.jpg', '/content/aeroplane_detection/data/images/airplane_488.jpg', '/content/aeroplane_detection/data/images/airplane_671.jpg', '/content/aeroplane_detection/data/images/airplane_241.jpg', '/content/aeroplane_detection/data/images/airplane_349.jpg', '/content/aeroplane_detection/data/images/airplane_534.jpg', '/content/aeroplane_detection/data/images/airplane_212.jpg', '/content/aeroplane_detection/data/images/airplane_011.jpg', '/content/aeroplane_detection/data/images/airplane_295.jpg', '/content/aeroplane_detection/data/images/airplane_020.jpg', '/content/aeroplane_detection/data/images/airplane_679.jpg', '/content/aeroplane_detection/data/images/airplane_584.jpg', '/content/aeroplane_detection/data/images/airplane_473.jpg', '/content/aeroplane_detection/data/images/airplane_603.jpg', '/content/aeroplane_detection/data/images/airplane_422.jpg', '/content/aeroplane_detection/data/images/airplane_494.jpg', '/content/aeroplane_detection/data/images/airplane_039.jpg', '/content/aeroplane_detection/data/images/airplane_452.jpg', '/content/aeroplane_detection/data/images/airplane_539.jpg', '/content/aeroplane_detection/data/images/airplane_573.jpg', '/content/aeroplane_detection/data/images/airplane_533.jpg', '/content/aeroplane_detection/data/images/airplane_528.jpg', '/content/aeroplane_detection/data/images/airplane_359.jpg', '/content/aeroplane_detection/data/images/airplane_442.jpg', '/content/aeroplane_detection/data/images/airplane_275.jpg', '/content/aeroplane_detection/data/images/airplane_302.jpg', '/content/aeroplane_detection/data/images/airplane_089.jpg', '/content/aeroplane_detection/data/images/airplane_222.jpg', '/content/aeroplane_detection/data/images/airplane_559.jpg', '/content/aeroplane_detection/data/images/airplane_600.jpg', '/content/aeroplane_detection/data/images/airplane_074.jpg', '/content/aeroplane_detection/data/images/airplane_656.jpg', '/content/aeroplane_detection/data/images/airplane_592.jpg', '/content/aeroplane_detection/data/images/airplane_447.jpg', '/content/aeroplane_detection/data/images/airplane_126.jpg', '/content/aeroplane_detection/data/images/airplane_203.jpg', '/content/aeroplane_detection/data/images/airplane_598.jpg', '/content/aeroplane_detection/data/images/airplane_260.jpg', '/content/aeroplane_detection/data/images/airplane_519.jpg', '/content/aeroplane_detection/data/images/42845.jpg', '/content/aeroplane_detection/data/images/airplane_662.jpg', '/content/aeroplane_detection/data/images/airplane_323.jpg', '/content/aeroplane_detection/data/images/airplane_173.jpg', '/content/aeroplane_detection/data/images/airplane_633.jpg', '/content/aeroplane_detection/data/images/airplane_012.jpg', '/content/aeroplane_detection/data/images/airplane_064.jpg', '/content/aeroplane_detection/data/images/airplane_644.jpg', '/content/aeroplane_detection/data/images/airplane_189.jpg', '/content/aeroplane_detection/data/images/airplane_105.jpg', '/content/aeroplane_detection/data/images/airplane_181.jpg', '/content/aeroplane_detection/data/images/airplane_383.jpg', '/content/aeroplane_detection/data/images/airplane_184.jpg', '/content/aeroplane_detection/data/images/airplane_607.jpg', '/content/aeroplane_detection/data/images/airplane_009.jpg', '/content/aeroplane_detection/data/images/airplane_609.jpg', '/content/aeroplane_detection/data/images/airplane_134.jpg', '/content/aeroplane_detection/data/images/airplane_231.jpg', '/content/aeroplane_detection/data/images/airplane_255.jpg', '/content/aeroplane_detection/data/images/airplane_218.jpg', '/content/aeroplane_detection/data/images/airplane_258.jpg', '/content/aeroplane_detection/data/images/airplane_398.jpg', '/content/aeroplane_detection/data/images/airplane_450.jpg', '/content/aeroplane_detection/data/images/airplane_095.jpg', '/content/aeroplane_detection/data/images/airplane_629.jpg', '/content/aeroplane_detection/data/images/airplane_308.jpg', '/content/aeroplane_detection/data/images/airplane_115.jpg', '/content/aeroplane_detection/data/images/airplane_509.jpg', '/content/aeroplane_detection/data/images/airplane_100.jpg', '/content/aeroplane_detection/data/images/airplane_320.jpg', '/content/aeroplane_detection/data/images/airplane_119.jpg', '/content/aeroplane_detection/data/images/airplane_040.jpg', '/content/aeroplane_detection/data/images/airplane_254.jpg', '/content/aeroplane_detection/data/images/airplane_041.jpg', '/content/aeroplane_detection/data/images/airplane_675.jpg', '/content/aeroplane_detection/data/images/airplane_487.jpg', '/content/aeroplane_detection/data/images/airplane_185.jpg', '/content/aeroplane_detection/data/images/airplane_155.jpg', '/content/aeroplane_detection/data/images/airplane_247.jpg', '/content/aeroplane_detection/data/images/airplane_554.jpg', '/content/aeroplane_detection/data/images/airplane_317.jpg', '/content/aeroplane_detection/data/images/airplane_149.jpg', '/content/aeroplane_detection/data/images/airplane_309.jpg', '/content/aeroplane_detection/data/images/airplane_542.jpg', '/content/aeroplane_detection/data/images/airplane_428.jpg', '/content/aeroplane_detection/data/images/airplane_099.jpg', '/content/aeroplane_detection/data/images/airplane_225.jpg', '/content/aeroplane_detection/data/images/airplane_219.jpg', '/content/aeroplane_detection/data/images/airplane_285.jpg', '/content/aeroplane_detection/data/images/airplane_102.jpg', '/content/aeroplane_detection/data/images/airplane_569.jpg', '/content/aeroplane_detection/data/images/airplane_297.jpg', '/content/aeroplane_detection/data/images/airplane_586.jpg', '/content/aeroplane_detection/data/images/airplane_092.jpg', '/content/aeroplane_detection/data/images/airplane_144.jpg', '/content/aeroplane_detection/data/images/airplane_251.jpg', '/content/aeroplane_detection/data/images/airplane_692.jpg', '/content/aeroplane_detection/data/images/airplane_167.jpg', '/content/aeroplane_detection/data/images/airplane_571.jpg', '/content/aeroplane_detection/data/images/airplane_345.jpg', '/content/aeroplane_detection/data/images/airplane_621.jpg', '/content/aeroplane_detection/data/images/airplane_546.jpg', '/content/aeroplane_detection/data/images/airplane_054.jpg', '/content/aeroplane_detection/data/images/airplane_396.jpg', '/content/aeroplane_detection/data/images/airplane_672.jpg', '/content/aeroplane_detection/data/images/airplane_061.jpg', '/content/aeroplane_detection/data/images/airplane_010.jpg', '/content/aeroplane_detection/data/images/airplane_395.jpg', '/content/aeroplane_detection/data/images/airplane_129.jpg', '/content/aeroplane_detection/data/images/airplane_262.jpg', '/content/aeroplane_detection/data/images/airplane_585.jpg', '/content/aeroplane_detection/data/images/airplane_575.jpg', '/content/aeroplane_detection/data/images/airplane_551.jpg', '/content/aeroplane_detection/data/images/airplane_537.jpg', '/content/aeroplane_detection/data/images/airplane_229.jpg', '/content/aeroplane_detection/data/images/airplane_448.jpg', '/content/aeroplane_detection/data/images/airplane_316.jpg', '/content/aeroplane_detection/data/images/airplane_062.jpg', '/content/aeroplane_detection/data/images/airplane_182.jpg', '/content/aeroplane_detection/data/images/airplane_139.jpg', '/content/aeroplane_detection/data/images/airplane_399.jpg', '/content/aeroplane_detection/data/images/airplane_372.jpg', '/content/aeroplane_detection/data/images/airplane_289.jpg', '/content/aeroplane_detection/data/images/airplane_376.jpg', '/content/aeroplane_detection/data/images/airplane_282.jpg', '/content/aeroplane_detection/data/images/airplane_341.jpg', '/content/aeroplane_detection/data/images/airplane_506.jpg', '/content/aeroplane_detection/data/images/airplane_484.jpg', '/content/aeroplane_detection/data/images/airplane_455.jpg', '/content/aeroplane_detection/data/images/airplane_051.jpg', '/content/aeroplane_detection/data/images/airplane_265.jpg', '/content/aeroplane_detection/data/images/airplane_661.jpg', '/content/aeroplane_detection/data/images/airplane_162.jpg', '/content/aeroplane_detection/data/images/airplane_620.jpg', '/content/aeroplane_detection/data/images/airplane_685.jpg', '/content/aeroplane_detection/data/images/planes2.jpg', '/content/aeroplane_detection/data/images/airplane_405.jpg', '/content/aeroplane_detection/data/images/Planes10.jpg', '/content/aeroplane_detection/data/images/airplane_504.jpg', '/content/aeroplane_detection/data/images/428451.jpg', '/content/aeroplane_detection/data/images/airplane_107.jpg', '/content/aeroplane_detection/data/images/airplane_393.jpg', '/content/aeroplane_detection/data/images/airplane_583.jpg', '/content/aeroplane_detection/data/images/airplane_113.jpg', '/content/aeroplane_detection/data/images/airplane_018.jpg', '/content/aeroplane_detection/data/images/airplane_367.jpg', '/content/aeroplane_detection/data/images/airplane_595.jpg', '/content/aeroplane_detection/data/images/airplane_563.jpg', '/content/aeroplane_detection/data/images/airplane_502.jpg', '/content/aeroplane_detection/data/images/airplane_360.jpg', '/content/aeroplane_detection/data/images/airplane_417.jpg', '/content/aeroplane_detection/data/images/airplane_635.jpg', '/content/aeroplane_detection/data/images/airplane_441.jpg', '/content/aeroplane_detection/data/images/airplane_352.jpg', '/content/aeroplane_detection/data/images/airplane_131.jpg', '/content/aeroplane_detection/data/images/airplane_172.jpg', '/content/aeroplane_detection/data/images/airplane_514.jpg', '/content/aeroplane_detection/data/images/airplane_330.jpg', '/content/aeroplane_detection/data/images/airplane_648.jpg', '/content/aeroplane_detection/data/images/Planes4.jpg', '/content/aeroplane_detection/data/images/airplane_639.jpg', '/content/aeroplane_detection/data/images/airplane_127.jpg', '/content/aeroplane_detection/data/images/airplane_201.jpg', '/content/aeroplane_detection/data/images/airplane_166.jpg', '/content/aeroplane_detection/data/images/airplane_305.jpg', '/content/aeroplane_detection/data/images/airplane_199.jpg', '/content/aeroplane_detection/data/images/airplane_503.jpg', '/content/aeroplane_detection/data/images/airplane_700.jpg', '/content/aeroplane_detection/data/images/airplane_436.jpg', '/content/aeroplane_detection/data/images/airplane_004.jpg', '/content/aeroplane_detection/data/images/airplane_325.jpg', '/content/aeroplane_detection/data/images/Planes7.jpg', '/content/aeroplane_detection/data/images/airplane_242.jpg', '/content/aeroplane_detection/data/images/airplane_492.jpg', '/content/aeroplane_detection/data/images/airplane_461.jpg', '/content/aeroplane_detection/data/images/airplane_049.jpg', '/content/aeroplane_detection/data/images/airplane_669.jpg', '/content/aeroplane_detection/data/images/airplane_582.jpg', '/content/aeroplane_detection/data/images/airplane_248.jpg', '/content/aeroplane_detection/data/images/airplane_340.jpg', '/content/aeroplane_detection/data/images/airplane_060.jpg', '/content/aeroplane_detection/data/images/airplane_047.jpg', '/content/aeroplane_detection/data/images/airplane_109.jpg', '/content/aeroplane_detection/data/images/airplane_397.jpg', '/content/aeroplane_detection/data/images/airplane_527.jpg', '/content/aeroplane_detection/data/images/airplane_445.jpg', '/content/aeroplane_detection/data/images/airplane_145.jpg', '/content/aeroplane_detection/data/images/airplane_532.jpg', '/content/aeroplane_detection/data/images/airplane_698.jpg', '/content/aeroplane_detection/data/images/airplane_463.jpg', '/content/aeroplane_detection/data/images/airplane_616.jpg', '/content/aeroplane_detection/data/images/airplane_017.jpg', '/content/aeroplane_detection/data/images/airplane_108.jpg', '/content/aeroplane_detection/data/images/airplane_418.jpg', '/content/aeroplane_detection/data/images/airplane_335.jpg', '/content/aeroplane_detection/data/images/airplane_594.jpg', '/content/aeroplane_detection/data/images/airplane_549.jpg', '/content/aeroplane_detection/data/images/airplane_472.jpg', '/content/aeroplane_detection/data/images/airplane_628.jpg', '/content/aeroplane_detection/data/images/airplane_419.jpg', '/content/aeroplane_detection/data/images/airplane_220.jpg', '/content/aeroplane_detection/data/images/airplane_678.jpg', '/content/aeroplane_detection/data/images/airplane_556.jpg', '/content/aeroplane_detection/data/images/airplane_190.jpg', '/content/aeroplane_detection/data/images/airplane_188.jpg', '/content/aeroplane_detection/data/images/airplane_186.jpg', '/content/aeroplane_detection/data/images/airplane_168.jpg', '/content/aeroplane_detection/data/images/airplane_136.jpg', '/content/aeroplane_detection/data/images/airplane_339.jpg', '/content/aeroplane_detection/data/images/airplane_206.jpg', '/content/aeroplane_detection/data/images/airplane_209.jpg', '/content/aeroplane_detection/data/images/airplane_171.jpg', '/content/aeroplane_detection/data/images/airplane_541.jpg', '/content/aeroplane_detection/data/images/airplane_513.jpg', '/content/aeroplane_detection/data/images/airplane_523.jpg', '/content/aeroplane_detection/data/images/airplane_210.jpg', '/content/aeroplane_detection/data/images/airplane_590.jpg', '/content/aeroplane_detection/data/images/airplane_631.jpg', '/content/aeroplane_detection/data/images/airplane_649.jpg', '/content/aeroplane_detection/data/images/airplane_344.jpg', '/content/aeroplane_detection/data/images/airplane_664.jpg', '/content/aeroplane_detection/data/images/airplane_117.jpg', '/content/aeroplane_detection/data/images/airplane_284.jpg', '/content/aeroplane_detection/data/images/airplane_617.jpg', '/content/aeroplane_detection/data/images/airplane_469.jpg', '/content/aeroplane_detection/data/images/airplane_433.jpg', '/content/aeroplane_detection/data/images/airplane_641.jpg', '/content/aeroplane_detection/data/images/airplane_067.jpg', '/content/aeroplane_detection/data/images/airplane_311.jpg', '/content/aeroplane_detection/data/images/airplane_498.jpg', '/content/aeroplane_detection/data/images/airplane_157.jpg', '/content/aeroplane_detection/data/images/airplane_483.jpg', '/content/aeroplane_detection/data/images/airplane_420.jpg', '/content/aeroplane_detection/data/images/airplane_499.jpg', '/content/aeroplane_detection/data/images/airplane_076.jpg', '/content/aeroplane_detection/data/images/airplane_380.jpg', '/content/aeroplane_detection/data/images/Planes12.jpg', '/content/aeroplane_detection/data/images/airplane_179.jpg', '/content/aeroplane_detection/data/images/airplane_562.jpg', '/content/aeroplane_detection/data/images/airplane_378.jpg', '/content/aeroplane_detection/data/images/hotanairport2-rgb.jpg', '/content/aeroplane_detection/data/images/airplane_474.jpg', '/content/aeroplane_detection/data/images/airplane_356.jpg', '/content/aeroplane_detection/data/images/airplane_196.jpg', '/content/aeroplane_detection/data/images/airplane_178.jpg', '/content/aeroplane_detection/data/images/airplane_478.jpg', '/content/aeroplane_detection/data/images/airplane_379.jpg', '/content/aeroplane_detection/data/images/airplane_075.jpg', '/content/aeroplane_detection/data/images/airplane_568.jpg', '/content/aeroplane_detection/data/images/airplane_023.jpg', '/content/aeroplane_detection/data/images/airplane_690.jpg', '/content/aeroplane_detection/data/images/airplane_424.jpg', '/content/aeroplane_detection/data/images/airplane_465.jpg', '/content/aeroplane_detection/data/images/428503.jpg', '/content/aeroplane_detection/data/images/airplane_456.jpg', '/content/aeroplane_detection/data/images/airplane_658.jpg', '/content/aeroplane_detection/data/images/airplane_180.jpg', '/content/aeroplane_detection/data/images/airplane_207.jpg', '/content/aeroplane_detection/data/images/airplane_223.jpg', '/content/aeroplane_detection/data/images/airplane_086.jpg', '/content/aeroplane_detection/data/images/airplane_626.jpg', '/content/aeroplane_detection/data/images/airplane_525.jpg', '/content/aeroplane_detection/data/images/airplane_520.jpg', '/content/aeroplane_detection/data/images/Planes6.jpg', '/content/aeroplane_detection/data/images/airplane_111.jpg', '/content/aeroplane_detection/data/images/airplane_328.jpg', '/content/aeroplane_detection/data/images/airplane_081.jpg', '/content/aeroplane_detection/data/images/airplane_485.jpg', '/content/aeroplane_detection/data/images/airplane_434.jpg', '/content/aeroplane_detection/data/images/airplane_245.jpg', '/content/aeroplane_detection/data/images/airplane_142.jpg', '/content/aeroplane_detection/data/images/airplane_233.jpg', '/content/aeroplane_detection/data/images/airplane_343.jpg', '/content/aeroplane_detection/data/images/airplane_030.jpg', '/content/aeroplane_detection/data/images/airplane_214.jpg', '/content/aeroplane_detection/data/images/airplane_591.jpg', '/content/aeroplane_detection/data/images/airplane_454.jpg', '/content/aeroplane_detection/data/images/airplane_373.jpg', '/content/aeroplane_detection/data/images/airplane_137.jpg', '/content/aeroplane_detection/data/images/airplane_477.jpg', '/content/aeroplane_detection/data/images/airplane_232.jpg', '/content/aeroplane_detection/data/images/airplane_286.jpg', '/content/aeroplane_detection/data/images/airplane_027.jpg', '/content/aeroplane_detection/data/images/airplane_555.jpg', '/content/aeroplane_detection/data/images/airplane_050.jpg', '/content/aeroplane_detection/data/images/airplane_601.jpg', '/content/aeroplane_detection/data/images/airplane_624.jpg', '/content/aeroplane_detection/data/images/airplane_138.jpg', '/content/aeroplane_detection/data/images/airplane_106.jpg', '/content/aeroplane_detection/data/images/airplane_507.jpg', '/content/aeroplane_detection/data/images/airplane_415.jpg', '/content/aeroplane_detection/data/images/airplane_146.jpg', '/content/aeroplane_detection/data/images/airplane_177.jpg', '/content/aeroplane_detection/data/images/airplane_663.jpg', '/content/aeroplane_detection/data/images/hotanairport1-rgb.jpg', '/content/aeroplane_detection/data/images/airplane_486.jpg', '/content/aeroplane_detection/data/images/airplane_287.jpg', '/content/aeroplane_detection/data/images/airplane_013.jpg', '/content/aeroplane_detection/data/images/airplane_156.jpg', '/content/aeroplane_detection/data/images/airplane_029.jpg', '/content/aeroplane_detection/data/images/airplane_322.jpg', '/content/aeroplane_detection/data/images/airplane_026.jpg', '/content/aeroplane_detection/data/images/airplane_246.jpg', '/content/aeroplane_detection/data/images/airplane_647.jpg', '/content/aeroplane_detection/data/images/airplane_458.jpg', '/content/aeroplane_detection/data/images/airplane_581.jpg', '/content/aeroplane_detection/data/images/airplane_016.jpg', '/content/aeroplane_detection/data/images/airplane_069.jpg', '/content/aeroplane_detection/data/images/airplane_432.jpg']\n"
          ],
          "name": "stdout"
        }
      ]
    },
    {
      "cell_type": "code",
      "metadata": {
        "id": "zal-BLtHrl6D",
        "colab_type": "code",
        "colab": {
          "base_uri": "https://localhost:8080/",
          "height": 34
        },
        "outputId": "b0a40d60-7ca4-4a1b-a485-3bb88d40d7f6"
      },
      "source": [
        "test['filename'].count()"
      ],
      "execution_count": 125,
      "outputs": [
        {
          "output_type": "execute_result",
          "data": {
            "text/plain": [
              "630"
            ]
          },
          "metadata": {
            "tags": []
          },
          "execution_count": 125
        }
      ]
    },
    {
      "cell_type": "code",
      "metadata": {
        "id": "nRksd_3erpyo",
        "colab_type": "code",
        "colab": {
          "base_uri": "https://localhost:8080/",
          "height": 34
        },
        "outputId": "47387482-fcb3-4dfe-944e-dceafb63b239"
      },
      "source": [
        "%cd /content/aeroplane_detection/data/images"
      ],
      "execution_count": 127,
      "outputs": [
        {
          "output_type": "stream",
          "text": [
            "/content/aeroplane_detection/data/images\n"
          ],
          "name": "stdout"
        }
      ]
    },
    {
      "cell_type": "code",
      "metadata": {
        "id": "tR9g7rCbrt2q",
        "colab_type": "code",
        "colab": {
          "base_uri": "https://localhost:8080/",
          "height": 54
        },
        "outputId": "60b7e247-74b5-4df6-9af2-547b577374be"
      },
      "source": [
        "print(list(test['filename']))"
      ],
      "execution_count": 129,
      "outputs": [
        {
          "output_type": "stream",
          "text": [
            "['airplane_337.jpg', 'airplane_337.jpg', 'airplane_337.jpg', 'airplane_337.jpg', 'airplane_080.jpg', 'airplane_488.jpg', 'airplane_488.jpg', 'airplane_488.jpg', 'airplane_488.jpg', 'airplane_336.jpg', 'airplane_645.jpg', 'airplane_645.jpg', 'airplane_645.jpg', 'airplane_097.jpg', 'airplane_097.jpg', 'airplane_097.jpg', 'airplane_418.jpg', 'airplane_418.jpg', 'airplane_418.jpg', 'airplane_418.jpg', 'airplane_418.jpg', 'airplane_418.jpg', 'airplane_573.jpg', 'airplane_373.jpg', 'airplane_373.jpg', 'airplane_373.jpg', 'airplane_373.jpg', 'airplane_214.jpg', 'airplane_214.jpg', 'airplane_214.jpg', 'airplane_214.jpg', 'airplane_214.jpg', 'airplane_214.jpg', 'airplane_214.jpg', 'airplane_229.jpg', 'airplane_229.jpg', 'airplane_229.jpg', 'airplane_676.jpg', 'airplane_274.jpg', 'airplane_274.jpg', 'airplane_274.jpg', 'airplane_274.jpg', 'airplane_274.jpg', 'airplane_274.jpg', 'airplane_597.jpg', 'airplane_597.jpg', 'airplane_597.jpg', 'airplane_095.jpg', 'airplane_238.jpg', 'airplane_641.jpg', 'airplane_641.jpg', 'airplane_641.jpg', 'airplane_641.jpg', 'airplane_173.jpg', 'airplane_173.jpg', 'airplane_173.jpg', 'airplane_173.jpg', 'airplane_230.jpg', 'airplane_090.jpg', 'airplane_090.jpg', 'airplane_090.jpg', 'airplane_659.jpg', 'airplane_446.jpg', 'airplane_446.jpg', 'airplane_446.jpg', 'airplane_523.jpg', 'airplane_523.jpg', 'airplane_248.jpg', 'airplane_625.jpg', 'airplane_118.jpg', 'airplane_307.jpg', 'airplane_307.jpg', 'airplane_307.jpg', 'airplane_307.jpg', 'airplane_307.jpg', 'airplane_307.jpg', 'airplane_307.jpg', 'airplane_169.jpg', 'airplane_169.jpg', 'airplane_169.jpg', 'airplane_169.jpg', 'airplane_169.jpg', 'airplane_169.jpg', 'airplane_169.jpg', 'airplane_169.jpg', 'airplane_169.jpg', 'Planes4.jpg', 'Planes4.jpg', 'Planes4.jpg', 'Planes4.jpg', 'Planes4.jpg', 'Planes4.jpg', 'Planes4.jpg', 'Planes4.jpg', 'Planes4.jpg', 'Planes4.jpg', 'Planes4.jpg', 'Planes4.jpg', 'Planes4.jpg', 'Planes4.jpg', 'Planes4.jpg', 'Planes4.jpg', 'Planes4.jpg', 'Planes4.jpg', 'Planes4.jpg', 'Planes4.jpg', 'Planes4.jpg', 'Planes4.jpg', 'Planes4.jpg', 'airplane_666.jpg', 'airplane_242.jpg', 'airplane_117.jpg', 'airplane_117.jpg', 'airplane_117.jpg', 'airplane_117.jpg', 'airplane_117.jpg', 'airplane_246.jpg', 'airplane_246.jpg', 'airplane_246.jpg', 'airplane_246.jpg', 'airplane_449.jpg', 'airplane_449.jpg', 'airplane_449.jpg', 'airplane_006.jpg', 'airplane_006.jpg', 'airplane_006.jpg', 'airplane_006.jpg', 'airplane_006.jpg', 'airplane_006.jpg', 'airplane_006.jpg', 'airplane_006.jpg', 'airplane_589.jpg', 'airplane_589.jpg', 'airplane_045.jpg', 'airplane_045.jpg', 'airplane_045.jpg', 'airplane_045.jpg', 'airplane_045.jpg', 'airplane_464.jpg', 'airplane_464.jpg', 'airplane_464.jpg', 'airplane_464.jpg', 'airplane_112.jpg', 'airplane_112.jpg', 'airplane_112.jpg', 'airplane_112.jpg', 'airplane_112.jpg', 'airplane_112.jpg', 'airplane_112.jpg', 'airplane_112.jpg', 'airplane_112.jpg', 'airplane_195.jpg', 'airplane_195.jpg', 'airplane_305.jpg', 'airplane_305.jpg', 'airplane_012.jpg', 'airplane_012.jpg', 'airplane_086.jpg', 'airplane_210.jpg', 'airplane_210.jpg', 'airplane_210.jpg', 'airplane_210.jpg', 'airplane_210.jpg', 'airplane_025.jpg', 'airplane_413.jpg', 'airplane_413.jpg', 'airplane_043.jpg', 'airplane_043.jpg', 'airplane_043.jpg', 'airplane_043.jpg', 'airplane_420.jpg', 'airplane_420.jpg', 'airplane_420.jpg', 'airplane_420.jpg', 'airplane_420.jpg', 'airplane_420.jpg', 'airplane_610.jpg', 'airplane_610.jpg', 'airplane_610.jpg', 'airplane_241.jpg', 'airplane_241.jpg', 'airplane_241.jpg', 'airplane_167.jpg', 'airplane_167.jpg', 'airplane_037.jpg', 'airplane_341.jpg', 'airplane_341.jpg', 'airplane_341.jpg', 'airplane_469.jpg', 'airplane_469.jpg', 'airplane_469.jpg', 'airplane_239.jpg', 'airplane_239.jpg', 'airplane_239.jpg', 'airplane_239.jpg', 'airplane_239.jpg', 'airplane_239.jpg', 'airplane_239.jpg', 'airplane_239.jpg', 'airplane_239.jpg', 'airplane_239.jpg', 'airplane_297.jpg', 'airplane_297.jpg', 'airplane_553.jpg', 'airplane_553.jpg', 'airplane_494.jpg', 'airplane_544.jpg', 'airplane_544.jpg', 'airplane_544.jpg', 'airplane_544.jpg', 'airplane_512.jpg', 'airplane_512.jpg', 'airplane_567.jpg', 'airplane_567.jpg', 'airplane_567.jpg', 'airplane_099.jpg', 'airplane_272.jpg', 'airplane_272.jpg', 'airplane_272.jpg', 'airplane_270.jpg', 'airplane_270.jpg', 'airplane_098.jpg', 'airplane_470.jpg', 'airplane_561.jpg', 'airplane_561.jpg', 'airplane_561.jpg', 'airplane_685.jpg', 'airplane_685.jpg', 'airplane_429.jpg', 'airplane_529.jpg', 'airplane_529.jpg', 'airplane_529.jpg', 'airplane_529.jpg', 'airplane_529.jpg', 'airplane_077.jpg', 'airplane_077.jpg', 'airplane_077.jpg', 'airplane_077.jpg', 'airplane_605.jpg', 'airplane_245.jpg', 'airplane_223.jpg', 'airplane_223.jpg', 'airplane_223.jpg', 'airplane_223.jpg', 'airplane_223.jpg', 'airplane_223.jpg', 'airplane_223.jpg', 'airplane_212.jpg', 'airplane_212.jpg', 'airplane_212.jpg', 'airplane_252.jpg', 'airplane_252.jpg', 'airplane_252.jpg', 'airplane_252.jpg', 'airplane_252.jpg', 'airplane_252.jpg', 'airplane_537.jpg', 'airplane_537.jpg', 'airplane_160.jpg', 'airplane_160.jpg', 'airplane_160.jpg', 'airplane_160.jpg', 'airplane_677.jpg', 'airplane_677.jpg', 'airplane_144.jpg', 'airplane_144.jpg', 'airplane_457.jpg', 'airplane_457.jpg', 'airplane_457.jpg', 'airplane_457.jpg', 'airplane_426.jpg', 'airplane_624.jpg', 'airplane_624.jpg', 'airplane_624.jpg', 'airplane_532.jpg', 'airplane_609.jpg', 'airplane_609.jpg', 'airplane_609.jpg', 'airplane_609.jpg', 'airplane_609.jpg', 'airplane_324.jpg', 'airplane_324.jpg', 'airplane_324.jpg', 'airplane_415.jpg', 'airplane_074.jpg', 'airplane_074.jpg', 'airplane_074.jpg', 'airplane_094.jpg', 'airplane_541.jpg', 'airplane_541.jpg', 'airplane_541.jpg', 'airplane_693.jpg', '42850.jpg', '42850.jpg', 'airplane_067.jpg', 'airplane_067.jpg', 'airplane_067.jpg', 'airplane_522.jpg', 'airplane_522.jpg', 'airplane_522.jpg', 'airplane_522.jpg', 'airplane_522.jpg', 'airplane_522.jpg', 'airplane_285.jpg', 'airplane_648.jpg', 'airplane_648.jpg', 'airplane_611.jpg', 'airplane_611.jpg', 'airplane_222.jpg', 'airplane_222.jpg', 'airplane_057.jpg', 'airplane_057.jpg', 'airplane_057.jpg', 'airplane_057.jpg', 'airplane_057.jpg', 'airplane_364.jpg', 'airplane_071.jpg', 'airplane_071.jpg', 'airplane_519.jpg', 'airplane_519.jpg', 'airplane_010.jpg', 'airplane_010.jpg', 'airplane_551.jpg', 'airplane_551.jpg', 'airplane_551.jpg', 'airplane_318.jpg', 'airplane_318.jpg', 'airplane_579.jpg', 'airplane_579.jpg', 'airplane_552.jpg', 'airplane_552.jpg', 'airplane_552.jpg', 'airplane_552.jpg', 'Planes9.jpg', 'Planes9.jpg', 'Planes9.jpg', 'Planes9.jpg', 'Planes9.jpg', 'Planes9.jpg', 'Planes9.jpg', 'Planes9.jpg', 'Planes9.jpg', 'Planes9.jpg', 'Planes9.jpg', 'Planes9.jpg', 'Planes9.jpg', 'Planes9.jpg', 'Planes9.jpg', 'Planes9.jpg', 'Planes9.jpg', 'Planes9.jpg', 'Planes9.jpg', 'Planes9.jpg', 'Planes9.jpg', 'airplane_205.jpg', 'airplane_205.jpg', 'airplane_642.jpg', 'airplane_642.jpg', 'airplane_474.jpg', 'airplane_367.jpg', 'airplane_367.jpg', 'airplane_367.jpg', 'airplane_367.jpg', 'airplane_525.jpg', 'airplane_183.jpg', 'airplane_183.jpg', 'airplane_183.jpg', 'airplane_183.jpg', 'airplane_183.jpg', 'airplane_183.jpg', 'airplane_183.jpg', 'airplane_183.jpg', 'airplane_183.jpg', 'airplane_531.jpg', 'airplane_531.jpg', 'airplane_311.jpg', 'airplane_311.jpg', 'airplane_311.jpg', 'airplane_311.jpg', 'airplane_575.jpg', 'airplane_314.jpg', 'airplane_314.jpg', 'airplane_314.jpg', 'airplane_314.jpg', 'airplane_022.jpg', 'airplane_022.jpg', 'airplane_669.jpg', 'airplane_669.jpg', 'airplane_148.jpg', 'airplane_150.jpg', 'airplane_150.jpg', 'airplane_660.jpg', 'airplane_571.jpg', 'airplane_571.jpg', 'airplane_571.jpg', 'airplane_501.jpg', 'airplane_501.jpg', 'airplane_607.jpg', 'airplane_607.jpg', 'airplane_417.jpg', 'airplane_417.jpg', 'airplane_417.jpg', 'airplane_417.jpg', 'airplane_417.jpg', 'airplane_368.jpg', 'airplane_368.jpg', 'airplane_256.jpg', 'airplane_256.jpg', 'airplane_256.jpg', 'airplane_256.jpg', 'airplane_256.jpg', 'airplane_683.jpg', 'airplane_683.jpg', 'airplane_406.jpg', 'airplane_518.jpg', 'airplane_518.jpg', 'airplane_186.jpg', 'airplane_186.jpg', 'airplane_186.jpg', 'airplane_186.jpg', 'airplane_186.jpg', 'airplane_240.jpg', 'airplane_240.jpg', 'airplane_240.jpg', 'airplane_240.jpg', 'airplane_240.jpg', 'airplane_240.jpg', 'airplane_240.jpg', 'airplane_126.jpg', 'airplane_126.jpg', 'airplane_126.jpg', 'airplane_126.jpg', 'airplane_126.jpg', 'airplane_126.jpg', 'airplane_126.jpg', 'airplane_126.jpg', 'airplane_262.jpg', 'airplane_276.jpg', 'airplane_276.jpg', 'airplane_276.jpg', 'airplane_342.jpg', 'airplane_342.jpg', 'airplane_342.jpg', 'airplane_254.jpg', 'airplane_254.jpg', 'airplane_254.jpg', 'airplane_220.jpg', 'airplane_220.jpg', 'airplane_220.jpg', 'airplane_220.jpg', 'airplane_220.jpg', 'airplane_634.jpg', 'airplane_634.jpg', 'airplane_029.jpg', 'airplane_572.jpg', 'airplane_572.jpg', 'airplane_572.jpg', 'airplane_572.jpg', 'airplane_111.jpg', 'airplane_111.jpg', 'airplane_578.jpg', 'airplane_578.jpg', 'airplane_578.jpg', 'airplane_096.jpg', 'airplane_096.jpg', 'airplane_096.jpg', 'airplane_626.jpg', 'airplane_626.jpg', 'airplane_509.jpg', 'airplane_509.jpg', 'airplane_509.jpg', 'airplane_509.jpg', '428503.jpg', 'airplane_267.jpg', 'airplane_267.jpg', 'airplane_267.jpg', 'airplane_267.jpg', 'airplane_044.jpg', 'airplane_044.jpg', 'airplane_044.jpg', 'airplane_044.jpg', 'airplane_044.jpg', 'airplane_044.jpg', 'airplane_073.jpg', '42845.jpg', '42845.jpg', '42845.jpg', '42845.jpg', 'airplane_629.jpg', 'airplane_629.jpg', 'airplane_629.jpg', 'airplane_180.jpg', 'airplane_180.jpg', 'airplane_041.jpg', 'airplane_041.jpg', 'airplane_041.jpg', 'airplane_421.jpg', 'airplane_421.jpg', 'airplane_421.jpg', 'airplane_202.jpg', 'airplane_389.jpg', 'airplane_389.jpg', 'airplane_389.jpg', 'airplane_152.jpg', 'airplane_152.jpg', 'airplane_431.jpg', 'airplane_431.jpg', 'airplane_431.jpg', 'airplane_431.jpg', 'airplane_431.jpg', 'airplane_431.jpg', 'airplane_431.jpg', 'airplane_068.jpg', 'airplane_068.jpg', 'airplane_068.jpg', 'airplane_068.jpg', 'airplane_026.jpg', 'airplane_026.jpg', 'airplane_303.jpg', 'airplane_637.jpg', 'airplane_637.jpg', 'airplane_637.jpg', 'airplane_033.jpg', 'airplane_033.jpg', 'airplane_149.jpg', 'airplane_078.jpg', 'airplane_078.jpg', 'airplane_078.jpg', 'airplane_491.jpg', 'airplane_491.jpg', 'airplane_051.jpg', 'airplane_051.jpg', 'airplane_051.jpg', 'airplane_051.jpg', 'airplane_051.jpg', 'airplane_051.jpg', 'airplane_051.jpg', 'airplane_484.jpg', 'airplane_484.jpg', 'airplane_484.jpg', 'airplane_484.jpg', 'airplane_484.jpg', 'airplane_275.jpg', 'airplane_275.jpg', 'airplane_652.jpg', 'airplane_652.jpg', 'airplane_652.jpg', 'airplane_652.jpg', 'airplane_652.jpg', 'airplane_652.jpg', 'airplane_652.jpg', 'airplane_652.jpg', 'Planes11.jpg', 'Planes11.jpg', 'Planes11.jpg', 'Planes11.jpg', 'Planes11.jpg', 'Planes11.jpg', 'Planes11.jpg', 'Planes11.jpg', 'Planes11.jpg', 'Planes11.jpg', 'Planes11.jpg', 'Planes11.jpg', 'airplane_300.jpg', 'airplane_300.jpg', 'airplane_300.jpg', 'airplane_300.jpg', 'airplane_300.jpg', 'airplane_382.jpg', 'airplane_382.jpg', 'airplane_382.jpg', 'airplane_083.jpg', 'airplane_083.jpg', 'airplane_083.jpg', 'airplane_409.jpg', 'airplane_409.jpg', 'airplane_409.jpg', 'airplane_409.jpg', 'airplane_330.jpg', 'airplane_330.jpg', 'airplane_320.jpg', 'airplane_592.jpg', 'airplane_592.jpg', 'airplane_164.jpg', 'airplane_530.jpg', 'airplane_530.jpg', 'airplane_056.jpg', 'airplane_056.jpg', 'airplane_056.jpg', 'airplane_056.jpg', 'airplane_056.jpg', 'airplane_398.jpg', 'airplane_650.jpg', 'airplane_650.jpg', 'airplane_650.jpg', 'airplane_650.jpg', 'airplane_131.jpg', 'airplane_131.jpg', 'airplane_131.jpg', 'airplane_176.jpg', 'airplane_176.jpg', '428462.jpg', 'airplane_679.jpg', 'airplane_292.jpg', 'airplane_292.jpg', 'airplane_292.jpg', 'airplane_292.jpg', 'airplane_292.jpg', 'airplane_309.jpg', 'airplane_309.jpg', 'airplane_309.jpg', 'airplane_166.jpg', 'airplane_166.jpg', 'airplane_224.jpg', 'airplane_224.jpg', 'airplane_089.jpg', 'airplane_175.jpg', 'airplane_271.jpg', 'airplane_271.jpg', 'airplane_271.jpg', 'airplane_613.jpg', 'airplane_613.jpg', 'airplane_613.jpg', 'airplane_613.jpg', 'airplane_047.jpg', 'airplane_316.jpg', 'airplane_316.jpg', 'airplane_316.jpg', 'airplane_316.jpg']\n"
          ],
          "name": "stdout"
        }
      ]
    },
    {
      "cell_type": "code",
      "metadata": {
        "id": "zJcf25_Ur4UT",
        "colab_type": "code",
        "colab": {
          "base_uri": "https://localhost:8080/",
          "height": 34
        },
        "outputId": "d635a855-64f7-4f8f-b7f4-e4d68b156503"
      },
      "source": [
        "!pwd"
      ],
      "execution_count": 130,
      "outputs": [
        {
          "output_type": "stream",
          "text": [
            "/content/aeroplane_detection/data/images\n"
          ],
          "name": "stdout"
        }
      ]
    },
    {
      "cell_type": "code",
      "metadata": {
        "id": "oqIH2bkgr-fn",
        "colab_type": "code",
        "colab": {
          "base_uri": "https://localhost:8080/",
          "height": 561
        },
        "outputId": "c9cfcd06-181e-49d1-eeec-253981c8d41c"
      },
      "source": [
        "for i in list(test['filename']):\n",
        "  !cp '/content/aeroplane_detection/data/images/'{i}  '/content/aeroplane_detection/data/images/test_images/'"
      ],
      "execution_count": 132,
      "outputs": [
        {
          "output_type": "stream",
          "text": [
            "cp: cannot create regular file '/content/aeroplane_detection/data/images/test_images/': Not a directory\n",
            "cp: cannot create regular file '/content/aeroplane_detection/data/images/test_images/': Not a directory\n",
            "cp: cannot create regular file '/content/aeroplane_detection/data/images/test_images/': Not a directory\n",
            "cp: cannot create regular file '/content/aeroplane_detection/data/images/test_images/': Not a directory\n",
            "cp: cannot create regular file '/content/aeroplane_detection/data/images/test_images/': Not a directory\n",
            "cp: cannot create regular file '/content/aeroplane_detection/data/images/test_images/': Not a directory\n",
            "cp: cannot create regular file '/content/aeroplane_detection/data/images/test_images/': Not a directory\n",
            "cp: cannot create regular file '/content/aeroplane_detection/data/images/test_images/': Not a directory\n",
            "cp: cannot create regular file '/content/aeroplane_detection/data/images/test_images/': Not a directory\n",
            "cp: cannot create regular file '/content/aeroplane_detection/data/images/test_images/': Not a directory\n",
            "cp: cannot create regular file '/content/aeroplane_detection/data/images/test_images/': Not a directory\n",
            "cp: cannot create regular file '/content/aeroplane_detection/data/images/test_images/': Not a directory\n",
            "cp: cannot create regular file '/content/aeroplane_detection/data/images/test_images/': Not a directory\n"
          ],
          "name": "stdout"
        },
        {
          "output_type": "error",
          "ename": "KeyboardInterrupt",
          "evalue": "ignored",
          "traceback": [
            "\u001b[0;31m---------------------------------------------------------------------------\u001b[0m",
            "\u001b[0;31mKeyboardInterrupt\u001b[0m                         Traceback (most recent call last)",
            "\u001b[0;32m<ipython-input-132-25b0250c1a35>\u001b[0m in \u001b[0;36m<module>\u001b[0;34m()\u001b[0m\n\u001b[1;32m      1\u001b[0m \u001b[0;32mfor\u001b[0m \u001b[0mi\u001b[0m \u001b[0;32min\u001b[0m \u001b[0mlist\u001b[0m\u001b[0;34m(\u001b[0m\u001b[0mtest\u001b[0m\u001b[0;34m[\u001b[0m\u001b[0;34m'filename'\u001b[0m\u001b[0;34m]\u001b[0m\u001b[0;34m)\u001b[0m\u001b[0;34m:\u001b[0m\u001b[0;34m\u001b[0m\u001b[0;34m\u001b[0m\u001b[0m\n\u001b[0;32m----> 2\u001b[0;31m   \u001b[0mget_ipython\u001b[0m\u001b[0;34m(\u001b[0m\u001b[0;34m)\u001b[0m\u001b[0;34m.\u001b[0m\u001b[0msystem\u001b[0m\u001b[0;34m(\u001b[0m\u001b[0;34m\"cp '/content/aeroplane_detection/data/images/'{i}  '/content/aeroplane_detection/data/images/test_images/'\"\u001b[0m\u001b[0;34m)\u001b[0m\u001b[0;34m\u001b[0m\u001b[0;34m\u001b[0m\u001b[0m\n\u001b[0m",
            "\u001b[0;32m/usr/local/lib/python3.6/dist-packages/google/colab/_shell.py\u001b[0m in \u001b[0;36msystem\u001b[0;34m(self, *args, **kwargs)\u001b[0m\n\u001b[1;32m    100\u001b[0m       \u001b[0mkwargs\u001b[0m\u001b[0;34m.\u001b[0m\u001b[0mupdate\u001b[0m\u001b[0;34m(\u001b[0m\u001b[0;34m{\u001b[0m\u001b[0;34m'also_return_output'\u001b[0m\u001b[0;34m:\u001b[0m \u001b[0;32mTrue\u001b[0m\u001b[0;34m}\u001b[0m\u001b[0;34m)\u001b[0m\u001b[0;34m\u001b[0m\u001b[0;34m\u001b[0m\u001b[0m\n\u001b[1;32m    101\u001b[0m \u001b[0;34m\u001b[0m\u001b[0m\n\u001b[0;32m--> 102\u001b[0;31m     \u001b[0moutput\u001b[0m \u001b[0;34m=\u001b[0m \u001b[0m_system_commands\u001b[0m\u001b[0;34m.\u001b[0m\u001b[0m_system_compat\u001b[0m\u001b[0;34m(\u001b[0m\u001b[0mself\u001b[0m\u001b[0;34m,\u001b[0m \u001b[0;34m*\u001b[0m\u001b[0margs\u001b[0m\u001b[0;34m,\u001b[0m \u001b[0;34m**\u001b[0m\u001b[0mkwargs\u001b[0m\u001b[0;34m)\u001b[0m  \u001b[0;31m# pylint:disable=protected-access\u001b[0m\u001b[0;34m\u001b[0m\u001b[0;34m\u001b[0m\u001b[0m\n\u001b[0m\u001b[1;32m    103\u001b[0m \u001b[0;34m\u001b[0m\u001b[0m\n\u001b[1;32m    104\u001b[0m     \u001b[0;32mif\u001b[0m \u001b[0mpip_warn\u001b[0m\u001b[0;34m:\u001b[0m\u001b[0;34m\u001b[0m\u001b[0;34m\u001b[0m\u001b[0m\n",
            "\u001b[0;32m/usr/local/lib/python3.6/dist-packages/google/colab/_system_commands.py\u001b[0m in \u001b[0;36m_system_compat\u001b[0;34m(shell, cmd, also_return_output)\u001b[0m\n\u001b[1;32m    436\u001b[0m   \u001b[0;31m# stack.\u001b[0m\u001b[0;34m\u001b[0m\u001b[0;34m\u001b[0m\u001b[0;34m\u001b[0m\u001b[0m\n\u001b[1;32m    437\u001b[0m   result = _run_command(\n\u001b[0;32m--> 438\u001b[0;31m       shell.var_expand(cmd, depth=2), clear_streamed_output=False)\n\u001b[0m\u001b[1;32m    439\u001b[0m   \u001b[0mshell\u001b[0m\u001b[0;34m.\u001b[0m\u001b[0muser_ns\u001b[0m\u001b[0;34m[\u001b[0m\u001b[0;34m'_exit_code'\u001b[0m\u001b[0;34m]\u001b[0m \u001b[0;34m=\u001b[0m \u001b[0mresult\u001b[0m\u001b[0;34m.\u001b[0m\u001b[0mreturncode\u001b[0m\u001b[0;34m\u001b[0m\u001b[0;34m\u001b[0m\u001b[0m\n\u001b[1;32m    440\u001b[0m   \u001b[0;32mif\u001b[0m \u001b[0;34m-\u001b[0m\u001b[0mresult\u001b[0m\u001b[0;34m.\u001b[0m\u001b[0mreturncode\u001b[0m \u001b[0;32min\u001b[0m \u001b[0m_INTERRUPTED_SIGNALS\u001b[0m\u001b[0;34m:\u001b[0m\u001b[0;34m\u001b[0m\u001b[0;34m\u001b[0m\u001b[0m\n",
            "\u001b[0;32m/usr/local/lib/python3.6/dist-packages/google/colab/_system_commands.py\u001b[0m in \u001b[0;36m_run_command\u001b[0;34m(cmd, clear_streamed_output)\u001b[0m\n\u001b[1;32m    193\u001b[0m       \u001b[0mos\u001b[0m\u001b[0;34m.\u001b[0m\u001b[0mclose\u001b[0m\u001b[0;34m(\u001b[0m\u001b[0mchild_pty\u001b[0m\u001b[0;34m)\u001b[0m\u001b[0;34m\u001b[0m\u001b[0;34m\u001b[0m\u001b[0m\n\u001b[1;32m    194\u001b[0m \u001b[0;34m\u001b[0m\u001b[0m\n\u001b[0;32m--> 195\u001b[0;31m       \u001b[0;32mreturn\u001b[0m \u001b[0m_monitor_process\u001b[0m\u001b[0;34m(\u001b[0m\u001b[0mparent_pty\u001b[0m\u001b[0;34m,\u001b[0m \u001b[0mepoll\u001b[0m\u001b[0;34m,\u001b[0m \u001b[0mp\u001b[0m\u001b[0;34m,\u001b[0m \u001b[0mcmd\u001b[0m\u001b[0;34m,\u001b[0m \u001b[0mupdate_stdin_widget\u001b[0m\u001b[0;34m)\u001b[0m\u001b[0;34m\u001b[0m\u001b[0;34m\u001b[0m\u001b[0m\n\u001b[0m\u001b[1;32m    196\u001b[0m   \u001b[0;32mfinally\u001b[0m\u001b[0;34m:\u001b[0m\u001b[0;34m\u001b[0m\u001b[0;34m\u001b[0m\u001b[0m\n\u001b[1;32m    197\u001b[0m     \u001b[0mepoll\u001b[0m\u001b[0;34m.\u001b[0m\u001b[0mclose\u001b[0m\u001b[0;34m(\u001b[0m\u001b[0;34m)\u001b[0m\u001b[0;34m\u001b[0m\u001b[0;34m\u001b[0m\u001b[0m\n",
            "\u001b[0;32m/usr/lib/python3.6/contextlib.py\u001b[0m in \u001b[0;36m__exit__\u001b[0;34m(self, type, value, traceback)\u001b[0m\n\u001b[1;32m     86\u001b[0m         \u001b[0;32mif\u001b[0m \u001b[0mtype\u001b[0m \u001b[0;32mis\u001b[0m \u001b[0;32mNone\u001b[0m\u001b[0;34m:\u001b[0m\u001b[0;34m\u001b[0m\u001b[0;34m\u001b[0m\u001b[0m\n\u001b[1;32m     87\u001b[0m             \u001b[0;32mtry\u001b[0m\u001b[0;34m:\u001b[0m\u001b[0;34m\u001b[0m\u001b[0;34m\u001b[0m\u001b[0m\n\u001b[0;32m---> 88\u001b[0;31m                 \u001b[0mnext\u001b[0m\u001b[0;34m(\u001b[0m\u001b[0mself\u001b[0m\u001b[0;34m.\u001b[0m\u001b[0mgen\u001b[0m\u001b[0;34m)\u001b[0m\u001b[0;34m\u001b[0m\u001b[0;34m\u001b[0m\u001b[0m\n\u001b[0m\u001b[1;32m     89\u001b[0m             \u001b[0;32mexcept\u001b[0m \u001b[0mStopIteration\u001b[0m\u001b[0;34m:\u001b[0m\u001b[0;34m\u001b[0m\u001b[0;34m\u001b[0m\u001b[0m\n\u001b[1;32m     90\u001b[0m                 \u001b[0;32mreturn\u001b[0m \u001b[0;32mFalse\u001b[0m\u001b[0;34m\u001b[0m\u001b[0;34m\u001b[0m\u001b[0m\n",
            "\u001b[0;32m/usr/local/lib/python3.6/dist-packages/google/colab/_system_commands.py\u001b[0m in \u001b[0;36m_display_stdin_widget\u001b[0;34m(delay_millis)\u001b[0m\n\u001b[1;32m    353\u001b[0m \u001b[0;34m\u001b[0m\u001b[0m\n\u001b[1;32m    354\u001b[0m   \u001b[0mhide_args\u001b[0m \u001b[0;34m=\u001b[0m \u001b[0;34m[\u001b[0m\u001b[0;34m'cell_remove_stdin'\u001b[0m\u001b[0;34m,\u001b[0m \u001b[0;34m{\u001b[0m\u001b[0;34m}\u001b[0m\u001b[0;34m]\u001b[0m\u001b[0;34m\u001b[0m\u001b[0;34m\u001b[0m\u001b[0m\n\u001b[0;32m--> 355\u001b[0;31m   \u001b[0m_message\u001b[0m\u001b[0;34m.\u001b[0m\u001b[0mblocking_request\u001b[0m\u001b[0;34m(\u001b[0m\u001b[0;34m*\u001b[0m\u001b[0mhide_args\u001b[0m\u001b[0;34m,\u001b[0m \u001b[0mparent\u001b[0m\u001b[0;34m=\u001b[0m\u001b[0mshell\u001b[0m\u001b[0;34m.\u001b[0m\u001b[0mparent_header\u001b[0m\u001b[0;34m)\u001b[0m\u001b[0;34m\u001b[0m\u001b[0;34m\u001b[0m\u001b[0m\n\u001b[0m\u001b[1;32m    356\u001b[0m \u001b[0;34m\u001b[0m\u001b[0m\n\u001b[1;32m    357\u001b[0m \u001b[0;34m\u001b[0m\u001b[0m\n",
            "\u001b[0;32m/usr/local/lib/python3.6/dist-packages/google/colab/_message.py\u001b[0m in \u001b[0;36mblocking_request\u001b[0;34m(request_type, request, timeout_sec, parent)\u001b[0m\n\u001b[1;32m    169\u001b[0m   \u001b[0;31m# unique.\u001b[0m\u001b[0;34m\u001b[0m\u001b[0;34m\u001b[0m\u001b[0;34m\u001b[0m\u001b[0m\n\u001b[1;32m    170\u001b[0m   \u001b[0mrequest_id\u001b[0m \u001b[0;34m=\u001b[0m \u001b[0msend_request\u001b[0m\u001b[0;34m(\u001b[0m\u001b[0mrequest_type\u001b[0m\u001b[0;34m,\u001b[0m \u001b[0mrequest\u001b[0m\u001b[0;34m,\u001b[0m \u001b[0mparent\u001b[0m\u001b[0;34m=\u001b[0m\u001b[0mparent\u001b[0m\u001b[0;34m)\u001b[0m\u001b[0;34m\u001b[0m\u001b[0;34m\u001b[0m\u001b[0m\n\u001b[0;32m--> 171\u001b[0;31m   \u001b[0;32mreturn\u001b[0m \u001b[0mread_reply_from_input\u001b[0m\u001b[0;34m(\u001b[0m\u001b[0mrequest_id\u001b[0m\u001b[0;34m,\u001b[0m \u001b[0mtimeout_sec\u001b[0m\u001b[0;34m)\u001b[0m\u001b[0;34m\u001b[0m\u001b[0;34m\u001b[0m\u001b[0m\n\u001b[0m",
            "\u001b[0;32m/usr/local/lib/python3.6/dist-packages/google/colab/_message.py\u001b[0m in \u001b[0;36mread_reply_from_input\u001b[0;34m(message_id, timeout_sec)\u001b[0m\n\u001b[1;32m     99\u001b[0m     \u001b[0mreply\u001b[0m \u001b[0;34m=\u001b[0m \u001b[0m_read_next_input_message\u001b[0m\u001b[0;34m(\u001b[0m\u001b[0;34m)\u001b[0m\u001b[0;34m\u001b[0m\u001b[0;34m\u001b[0m\u001b[0m\n\u001b[1;32m    100\u001b[0m     \u001b[0;32mif\u001b[0m \u001b[0mreply\u001b[0m \u001b[0;34m==\u001b[0m \u001b[0m_NOT_READY\u001b[0m \u001b[0;32mor\u001b[0m \u001b[0;32mnot\u001b[0m \u001b[0misinstance\u001b[0m\u001b[0;34m(\u001b[0m\u001b[0mreply\u001b[0m\u001b[0;34m,\u001b[0m \u001b[0mdict\u001b[0m\u001b[0;34m)\u001b[0m\u001b[0;34m:\u001b[0m\u001b[0;34m\u001b[0m\u001b[0;34m\u001b[0m\u001b[0m\n\u001b[0;32m--> 101\u001b[0;31m       \u001b[0mtime\u001b[0m\u001b[0;34m.\u001b[0m\u001b[0msleep\u001b[0m\u001b[0;34m(\u001b[0m\u001b[0;36m0.025\u001b[0m\u001b[0;34m)\u001b[0m\u001b[0;34m\u001b[0m\u001b[0;34m\u001b[0m\u001b[0m\n\u001b[0m\u001b[1;32m    102\u001b[0m       \u001b[0;32mcontinue\u001b[0m\u001b[0;34m\u001b[0m\u001b[0;34m\u001b[0m\u001b[0m\n\u001b[1;32m    103\u001b[0m     if (reply.get('type') == 'colab_reply' and\n",
            "\u001b[0;31mKeyboardInterrupt\u001b[0m: "
          ]
        }
      ]
    },
    {
      "cell_type": "code",
      "metadata": {
        "id": "heCndk5JsFxp",
        "colab_type": "code",
        "colab": {}
      },
      "source": [
        "def load_image_into_numpy_array(path):\n",
        "  \"\"\"Load an image from file into a numpy array.\n",
        "\n",
        "  Puts image into numpy array to feed into tensorflow graph.\n",
        "  Note that by convention we put it into a numpy array with shape\n",
        "  (height, width, channels), where channels=3 for RGB.\n",
        "\n",
        "  Args:\n",
        "    path: a file path (this can be local or on colossus)\n",
        "\n",
        "  Returns:\n",
        "    uint8 numpy array with shape (img_height, img_width, 3)\n",
        "  \"\"\"\n",
        "  img_data = tf.io.gfile.GFile(path, 'rb').read()\n",
        "  image = Image.open(BytesIO(img_data))\n",
        "  (im_width, im_height) = image.size\n",
        "  plt.show(image)\n",
        "  return np.array(image.getdata()).reshape(\n",
        "      (im_height, im_width, 3)).astype(np.uint8)\n"
      ],
      "execution_count": 133,
      "outputs": []
    },
    {
      "cell_type": "code",
      "metadata": {
        "id": "5S5RfleZsZSo",
        "colab_type": "code",
        "colab": {}
      },
      "source": [
        "category_index = {\n",
        "    1: {'id': 1, 'name': 'aeroplane'} }"
      ],
      "execution_count": 134,
      "outputs": []
    },
    {
      "cell_type": "code",
      "metadata": {
        "id": "1Ll9ENMQsgHD",
        "colab_type": "code",
        "colab": {}
      },
      "source": [
        "import io\n",
        "import os\n",
        "import scipy.misc\n",
        "import numpy as np\n",
        "import six\n",
        "import time\n",
        "\n",
        "from six import BytesIO\n",
        "\n",
        "import matplotlib\n",
        "import matplotlib.pyplot as plt\n",
        "from PIL import Image, ImageDraw, ImageFont\n",
        "\n",
        "import tensorflow as tf\n",
        "from object_detection.utils import visualization_utils as viz_utils\n",
        "\n",
        "%matplotlib inline"
      ],
      "execution_count": 135,
      "outputs": []
    },
    {
      "cell_type": "code",
      "metadata": {
        "id": "RsEhtzxFskHH",
        "colab_type": "code",
        "colab": {
          "base_uri": "https://localhost:8080/",
          "height": 35
        },
        "outputId": "d223244e-2b35-4eb6-a0ff-5a63c1bdc789"
      },
      "source": [
        "model_dir"
      ],
      "execution_count": 136,
      "outputs": [
        {
          "output_type": "execute_result",
          "data": {
            "application/vnd.google.colaboratory.intrinsic": {
              "type": "string"
            },
            "text/plain": [
              "'training/'"
            ]
          },
          "metadata": {
            "tags": []
          },
          "execution_count": 136
        }
      ]
    },
    {
      "cell_type": "code",
      "metadata": {
        "id": "XLOmA0rEsm67",
        "colab_type": "code",
        "colab": {
          "base_uri": "https://localhost:8080/",
          "height": 34
        },
        "outputId": "1938f226-6278-4b29-8e42-0e79bb9fa677"
      },
      "source": [
        "!pwd"
      ],
      "execution_count": 137,
      "outputs": [
        {
          "output_type": "stream",
          "text": [
            "/content/aeroplane_detection/data/images\n"
          ],
          "name": "stdout"
        }
      ]
    },
    {
      "cell_type": "code",
      "metadata": {
        "id": "npDj6gylspqr",
        "colab_type": "code",
        "colab": {
          "base_uri": "https://localhost:8080/",
          "height": 34
        },
        "outputId": "a6cb21b0-32d0-46ff-e367-b2a97ee9ad0b"
      },
      "source": [
        "model = tf.compat.v2.saved_model.load('/content/aeroplane_detection/models/research/pretrained_model/saved_model', None)\n",
        "\n"
      ],
      "execution_count": 138,
      "outputs": [
        {
          "output_type": "stream",
          "text": [
            "INFO:tensorflow:Saver not created because there are no variables in the graph to restore\n"
          ],
          "name": "stdout"
        }
      ]
    },
    {
      "cell_type": "code",
      "metadata": {
        "id": "O5rg3xzdswdk",
        "colab_type": "code",
        "colab": {}
      },
      "source": [
        "!ls /content/aeroplane_detection/models/research/pretrained_model/saved_model/variables"
      ],
      "execution_count": 143,
      "outputs": []
    },
    {
      "cell_type": "code",
      "metadata": {
        "id": "FQtGOaqkujYN",
        "colab_type": "code",
        "colab": {}
      },
      "source": [
        "!ls /content/aeroplane_detection/models/research/fine_tuned_model/saved_model/variables"
      ],
      "execution_count": 145,
      "outputs": []
    },
    {
      "cell_type": "code",
      "metadata": {
        "id": "rgZmmbWcvP4g",
        "colab_type": "code",
        "colab": {
          "base_uri": "https://localhost:8080/",
          "height": 34
        },
        "outputId": "e3943cdd-cb95-4438-e2f9-2a7171c677d4"
      },
      "source": [
        "!pwd"
      ],
      "execution_count": 152,
      "outputs": [
        {
          "output_type": "stream",
          "text": [
            "/content/aeroplane_detection/data/images\n"
          ],
          "name": "stdout"
        }
      ]
    },
    {
      "cell_type": "code",
      "metadata": {
        "id": "uN9aSXnhvrrg",
        "colab_type": "code",
        "colab": {
          "base_uri": "https://localhost:8080/",
          "height": 119
        },
        "outputId": "bc13236a-e95b-42ea-bfc6-06ca5f6ffb2d"
      },
      "source": [
        "!cp /drive/My Drive/*.data-00000-of-00001 /content/aeroplane_detection/models/research/fine_tuned_model/saved_model/variables/\n",
        "!cp /My Drive/*.index /content/aeroplane_detection/models/research/fine_tuned_model/saved_model/variables/\n",
        "!cp /My Drive/*.meta /content/aeroplane_detection/models/research/fine_tuned_model/saved_model/variables/"
      ],
      "execution_count": 155,
      "outputs": [
        {
          "output_type": "stream",
          "text": [
            "cp: cannot stat '/drive/My': No such file or directory\n",
            "cp: cannot stat 'Drive/*.data-00000-of-00001': No such file or directory\n",
            "cp: cannot stat '/My': No such file or directory\n",
            "cp: cannot stat 'Drive/*.index': No such file or directory\n",
            "cp: cannot stat '/My': No such file or directory\n",
            "cp: cannot stat 'Drive/*.meta': No such file or directory\n"
          ],
          "name": "stdout"
        }
      ]
    },
    {
      "cell_type": "code",
      "metadata": {
        "id": "amPiWMoov03q",
        "colab_type": "code",
        "colab": {
          "base_uri": "https://localhost:8080/",
          "height": 51
        },
        "outputId": "4cec8e81-3671-468a-8816-577cc4ec782f"
      },
      "source": [
        "start_time = time.time()\n",
        "tf.keras.backend.clear_session()\n",
        "model = tf.compat.v2.saved_model.load('/content/aeroplane_detection/models/research/fine_tuned_model/saved_model/', None)\n",
        "\n",
        "end_time = time.time()\n",
        "elapsed_time = end_time - start_time\n",
        "print('Elapsed time: ' + str(elapsed_time) + 's')"
      ],
      "execution_count": 156,
      "outputs": [
        {
          "output_type": "stream",
          "text": [
            "INFO:tensorflow:Saver not created because there are no variables in the graph to restore\n",
            "Elapsed time: 2.534444570541382s\n"
          ],
          "name": "stdout"
        }
      ]
    },
    {
      "cell_type": "code",
      "metadata": {
        "id": "_1EMuXSrweUE",
        "colab_type": "code",
        "colab": {
          "base_uri": "https://localhost:8080/",
          "height": 34
        },
        "outputId": "135aed83-058c-4081-8d09-0d6b495091b3"
      },
      "source": [
        "tf"
      ],
      "execution_count": 157,
      "outputs": [
        {
          "output_type": "execute_result",
          "data": {
            "text/plain": [
              "<module 'tensorflow' from '/tensorflow-1.15.2/python3.6/tensorflow/__init__.py'>"
            ]
          },
          "metadata": {
            "tags": []
          },
          "execution_count": 157
        }
      ]
    },
    {
      "cell_type": "code",
      "metadata": {
        "id": "B8DsSvXEwilW",
        "colab_type": "code",
        "colab": {
          "base_uri": "https://localhost:8080/",
          "height": 34
        },
        "outputId": "c6838a22-4612-4b5f-a9fd-e3e76683a0f3"
      },
      "source": [
        "tf.global_variables()"
      ],
      "execution_count": 158,
      "outputs": [
        {
          "output_type": "execute_result",
          "data": {
            "text/plain": [
              "[]"
            ]
          },
          "metadata": {
            "tags": []
          },
          "execution_count": 158
        }
      ]
    },
    {
      "cell_type": "code",
      "metadata": {
        "id": "pAXiYF6Pwmuj",
        "colab_type": "code",
        "colab": {
          "base_uri": "https://localhost:8080/",
          "height": 391
        },
        "outputId": "e79d08f0-5f74-43e9-85ab-3043aa470908"
      },
      "source": [
        "image_path = \"/content/aeroplane_detection/models/research/object_detection/test_data/Own_ssd/42847.jpg\"\n",
        "image_np = load_image_into_numpy_array(image_path)\n",
        "input_tensor = np.expand_dims(image_np, 0)\n",
        "detections = model(input_tensor)\n",
        "plt.rcParams['figure.figsize'] = [42, 21]\n",
        "label_id_offset = 1\n",
        "image_np_with_detections = image_np.copy()\n",
        "\n",
        "viz_utils.visualize_boxes_and_labels_on_image_array(\n",
        "        image_np_with_detections,\n",
        "        detections['detection_boxes'][0].numpy(),\n",
        "        detections['detection_classes'][0].numpy().astype(np.int32),\n",
        "        detections['detection_scores'][0].numpy(),\n",
        "        category_index,\n",
        "        use_normalized_coordinates=True,\n",
        "        max_boxes_to_draw=200,\n",
        "        min_score_thresh=.40,\n",
        "        agnostic_mode=False)\n",
        "plt.imshow(image_np_with_detections)"
      ],
      "execution_count": 160,
      "outputs": [
        {
          "output_type": "error",
          "ename": "NotFoundError",
          "evalue": "ignored",
          "traceback": [
            "\u001b[0;31m---------------------------------------------------------------------------\u001b[0m",
            "\u001b[0;31mNotFoundError\u001b[0m                             Traceback (most recent call last)",
            "\u001b[0;32m<ipython-input-160-f11931f0ece0>\u001b[0m in \u001b[0;36m<module>\u001b[0;34m()\u001b[0m\n\u001b[1;32m      1\u001b[0m \u001b[0mimage_path\u001b[0m \u001b[0;34m=\u001b[0m \u001b[0;34m\"/content/aeroplane_detection/models/research/object_detection/test_data/Own_ssd/42847.jpg\"\u001b[0m\u001b[0;34m\u001b[0m\u001b[0;34m\u001b[0m\u001b[0m\n\u001b[0;32m----> 2\u001b[0;31m \u001b[0mimage_np\u001b[0m \u001b[0;34m=\u001b[0m \u001b[0mload_image_into_numpy_array\u001b[0m\u001b[0;34m(\u001b[0m\u001b[0mimage_path\u001b[0m\u001b[0;34m)\u001b[0m\u001b[0;34m\u001b[0m\u001b[0;34m\u001b[0m\u001b[0m\n\u001b[0m\u001b[1;32m      3\u001b[0m \u001b[0minput_tensor\u001b[0m \u001b[0;34m=\u001b[0m \u001b[0mnp\u001b[0m\u001b[0;34m.\u001b[0m\u001b[0mexpand_dims\u001b[0m\u001b[0;34m(\u001b[0m\u001b[0mimage_np\u001b[0m\u001b[0;34m,\u001b[0m \u001b[0;36m0\u001b[0m\u001b[0;34m)\u001b[0m\u001b[0;34m\u001b[0m\u001b[0;34m\u001b[0m\u001b[0m\n\u001b[1;32m      4\u001b[0m \u001b[0mdetections\u001b[0m \u001b[0;34m=\u001b[0m \u001b[0mmodel\u001b[0m\u001b[0;34m(\u001b[0m\u001b[0minput_tensor\u001b[0m\u001b[0;34m)\u001b[0m\u001b[0;34m\u001b[0m\u001b[0;34m\u001b[0m\u001b[0m\n\u001b[1;32m      5\u001b[0m \u001b[0mplt\u001b[0m\u001b[0;34m.\u001b[0m\u001b[0mrcParams\u001b[0m\u001b[0;34m[\u001b[0m\u001b[0;34m'figure.figsize'\u001b[0m\u001b[0;34m]\u001b[0m \u001b[0;34m=\u001b[0m \u001b[0;34m[\u001b[0m\u001b[0;36m42\u001b[0m\u001b[0;34m,\u001b[0m \u001b[0;36m21\u001b[0m\u001b[0;34m]\u001b[0m\u001b[0;34m\u001b[0m\u001b[0;34m\u001b[0m\u001b[0m\n",
            "\u001b[0;32m<ipython-input-133-e63dc3a2d3ae>\u001b[0m in \u001b[0;36mload_image_into_numpy_array\u001b[0;34m(path)\u001b[0m\n\u001b[1;32m     12\u001b[0m     \u001b[0muint8\u001b[0m \u001b[0mnumpy\u001b[0m \u001b[0marray\u001b[0m \u001b[0;32mwith\u001b[0m \u001b[0mshape\u001b[0m \u001b[0;34m(\u001b[0m\u001b[0mimg_height\u001b[0m\u001b[0;34m,\u001b[0m \u001b[0mimg_width\u001b[0m\u001b[0;34m,\u001b[0m \u001b[0;36m3\u001b[0m\u001b[0;34m)\u001b[0m\u001b[0;34m\u001b[0m\u001b[0;34m\u001b[0m\u001b[0m\n\u001b[1;32m     13\u001b[0m   \"\"\"\n\u001b[0;32m---> 14\u001b[0;31m   \u001b[0mimg_data\u001b[0m \u001b[0;34m=\u001b[0m \u001b[0mtf\u001b[0m\u001b[0;34m.\u001b[0m\u001b[0mio\u001b[0m\u001b[0;34m.\u001b[0m\u001b[0mgfile\u001b[0m\u001b[0;34m.\u001b[0m\u001b[0mGFile\u001b[0m\u001b[0;34m(\u001b[0m\u001b[0mpath\u001b[0m\u001b[0;34m,\u001b[0m \u001b[0;34m'rb'\u001b[0m\u001b[0;34m)\u001b[0m\u001b[0;34m.\u001b[0m\u001b[0mread\u001b[0m\u001b[0;34m(\u001b[0m\u001b[0;34m)\u001b[0m\u001b[0;34m\u001b[0m\u001b[0;34m\u001b[0m\u001b[0m\n\u001b[0m\u001b[1;32m     15\u001b[0m   \u001b[0mimage\u001b[0m \u001b[0;34m=\u001b[0m \u001b[0mImage\u001b[0m\u001b[0;34m.\u001b[0m\u001b[0mopen\u001b[0m\u001b[0;34m(\u001b[0m\u001b[0mBytesIO\u001b[0m\u001b[0;34m(\u001b[0m\u001b[0mimg_data\u001b[0m\u001b[0;34m)\u001b[0m\u001b[0;34m)\u001b[0m\u001b[0;34m\u001b[0m\u001b[0;34m\u001b[0m\u001b[0m\n\u001b[1;32m     16\u001b[0m   \u001b[0;34m(\u001b[0m\u001b[0mim_width\u001b[0m\u001b[0;34m,\u001b[0m \u001b[0mim_height\u001b[0m\u001b[0;34m)\u001b[0m \u001b[0;34m=\u001b[0m \u001b[0mimage\u001b[0m\u001b[0;34m.\u001b[0m\u001b[0msize\u001b[0m\u001b[0;34m\u001b[0m\u001b[0;34m\u001b[0m\u001b[0m\n",
            "\u001b[0;32m/tensorflow-1.15.2/python3.6/tensorflow_core/python/lib/io/file_io.py\u001b[0m in \u001b[0;36mread\u001b[0;34m(self, n)\u001b[0m\n\u001b[1;32m    120\u001b[0m       \u001b[0mstring\u001b[0m \u001b[0;32mif\u001b[0m \u001b[0;32min\u001b[0m \u001b[0mstring\u001b[0m \u001b[0;34m(\u001b[0m\u001b[0mregular\u001b[0m\u001b[0;34m)\u001b[0m \u001b[0mmode\u001b[0m\u001b[0;34m.\u001b[0m\u001b[0;34m\u001b[0m\u001b[0;34m\u001b[0m\u001b[0m\n\u001b[1;32m    121\u001b[0m     \"\"\"\n\u001b[0;32m--> 122\u001b[0;31m     \u001b[0mself\u001b[0m\u001b[0;34m.\u001b[0m\u001b[0m_preread_check\u001b[0m\u001b[0;34m(\u001b[0m\u001b[0;34m)\u001b[0m\u001b[0;34m\u001b[0m\u001b[0;34m\u001b[0m\u001b[0m\n\u001b[0m\u001b[1;32m    123\u001b[0m     \u001b[0;32mif\u001b[0m \u001b[0mn\u001b[0m \u001b[0;34m==\u001b[0m \u001b[0;34m-\u001b[0m\u001b[0;36m1\u001b[0m\u001b[0;34m:\u001b[0m\u001b[0;34m\u001b[0m\u001b[0;34m\u001b[0m\u001b[0m\n\u001b[1;32m    124\u001b[0m       \u001b[0mlength\u001b[0m \u001b[0;34m=\u001b[0m \u001b[0mself\u001b[0m\u001b[0;34m.\u001b[0m\u001b[0msize\u001b[0m\u001b[0;34m(\u001b[0m\u001b[0;34m)\u001b[0m \u001b[0;34m-\u001b[0m \u001b[0mself\u001b[0m\u001b[0;34m.\u001b[0m\u001b[0mtell\u001b[0m\u001b[0;34m(\u001b[0m\u001b[0;34m)\u001b[0m\u001b[0;34m\u001b[0m\u001b[0;34m\u001b[0m\u001b[0m\n",
            "\u001b[0;32m/tensorflow-1.15.2/python3.6/tensorflow_core/python/lib/io/file_io.py\u001b[0m in \u001b[0;36m_preread_check\u001b[0;34m(self)\u001b[0m\n\u001b[1;32m     82\u001b[0m                                            \"File isn't open for reading\")\n\u001b[1;32m     83\u001b[0m       self._read_buf = pywrap_tensorflow.CreateBufferedInputStream(\n\u001b[0;32m---> 84\u001b[0;31m           compat.as_bytes(self.__name), 1024 * 512)\n\u001b[0m\u001b[1;32m     85\u001b[0m \u001b[0;34m\u001b[0m\u001b[0m\n\u001b[1;32m     86\u001b[0m   \u001b[0;32mdef\u001b[0m \u001b[0m_prewrite_check\u001b[0m\u001b[0;34m(\u001b[0m\u001b[0mself\u001b[0m\u001b[0;34m)\u001b[0m\u001b[0;34m:\u001b[0m\u001b[0;34m\u001b[0m\u001b[0;34m\u001b[0m\u001b[0m\n",
            "\u001b[0;31mNotFoundError\u001b[0m: /content/aeroplane_detection/models/research/object_detection/test_data/Own_ssd/42847.jpg; No such file or directory"
          ]
        }
      ]
    },
    {
      "cell_type": "code",
      "metadata": {
        "id": "Nf54JoWwwuY6",
        "colab_type": "code",
        "colab": {
          "base_uri": "https://localhost:8080/",
          "height": 34
        },
        "outputId": "939ab7e3-acf9-4cea-e2bc-de8050ac7fa8"
      },
      "source": [
        "!pwd"
      ],
      "execution_count": 161,
      "outputs": [
        {
          "output_type": "stream",
          "text": [
            "/content/aeroplane_detection/data/images\n"
          ],
          "name": "stdout"
        }
      ]
    },
    {
      "cell_type": "code",
      "metadata": {
        "id": "HqU_2PHMxK8w",
        "colab_type": "code",
        "colab": {
          "base_uri": "https://localhost:8080/",
          "height": 34
        },
        "outputId": "b0f74634-5191-40d3-b42a-4ea92fcb49e9"
      },
      "source": [
        "cd -\n"
      ],
      "execution_count": 162,
      "outputs": [
        {
          "output_type": "stream",
          "text": [
            "/content/aeroplane_detection/models/research\n"
          ],
          "name": "stdout"
        }
      ]
    },
    {
      "cell_type": "code",
      "metadata": {
        "id": "87WdeEPpxoIO",
        "colab_type": "code",
        "colab": {
          "base_uri": "https://localhost:8080/",
          "height": 34
        },
        "outputId": "3319bcf1-a1e4-4c2a-dc13-934c7d530f7f"
      },
      "source": [
        "cd object_detection"
      ],
      "execution_count": 163,
      "outputs": [
        {
          "output_type": "stream",
          "text": [
            "/content/aeroplane_detection/models/research/object_detection\n"
          ],
          "name": "stdout"
        }
      ]
    },
    {
      "cell_type": "code",
      "metadata": {
        "id": "0puAw25fxs-V",
        "colab_type": "code",
        "colab": {
          "base_uri": "https://localhost:8080/",
          "height": 34
        },
        "outputId": "816f7581-6e50-41c7-f00e-bcb5fe94c362"
      },
      "source": [
        "print(cv2.__version__)"
      ],
      "execution_count": 164,
      "outputs": [
        {
          "output_type": "stream",
          "text": [
            "4.1.2\n"
          ],
          "name": "stdout"
        }
      ]
    },
    {
      "cell_type": "code",
      "metadata": {
        "id": "vzDBTUxbyIV6",
        "colab_type": "code",
        "colab": {}
      },
      "source": [
        ""
      ],
      "execution_count": null,
      "outputs": []
    }
  ]
}
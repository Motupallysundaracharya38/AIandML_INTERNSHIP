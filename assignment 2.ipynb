{
 "cells": [
  {
   "cell_type": "markdown",
   "metadata": {},
   "source": [
    "###### - Write a Python program which iterates the integers from 1 to 50. For multiples of three print \"Fizz\" instead of the number and for the multiples of five print \"Buzz\". For numbers which are multiples of both three and five print \"FizzBuzz\".\n"
   ]
  },
  {
   "cell_type": "code",
   "execution_count": 18,
   "metadata": {},
   "outputs": [
    {
     "name": "stdout",
     "output_type": "stream",
     "text": [
      "30\n",
      "1\n",
      "2\n",
      "Fizz\n",
      "4\n",
      "buzz\n",
      "Fizz\n",
      "7\n",
      "8\n",
      "Fizz\n",
      "buzz\n",
      "11\n",
      "Fizz\n",
      "13\n",
      "14\n",
      "Fizzbuzz\n",
      "16\n",
      "17\n",
      "Fizz\n",
      "19\n",
      "buzz\n",
      "Fizz\n",
      "22\n",
      "23\n",
      "Fizz\n",
      "buzz\n",
      "26\n",
      "Fizz\n",
      "28\n",
      "29\n",
      "Fizzbuzz\n"
     ]
    }
   ],
   "source": [
    "n=int(input())\n",
    "for i in range(1,n+1):\n",
    "    if i%3==0 and i%5==0:\n",
    "        print(\"Fizzbuzz\")\n",
    "    elif i%3==0:\n",
    "        print(\"Fizz\")\n",
    "    elif i % 5==0:\n",
    "        print(\"buzz\")\n",
    "    elif i%3==0 and i%5==0:\n",
    "        print(\"Fizzbuzz\")\n",
    "    else:\n",
    "        print(i,end=\"\\n\")\n",
    "        "
   ]
  },
  {
   "cell_type": "markdown",
   "metadata": {},
   "source": [
    "###### - Write a Python program to find the median of three values.\n"
   ]
  },
  {
   "cell_type": "code",
   "execution_count": 46,
   "metadata": {},
   "outputs": [
    {
     "name": "stdout",
     "output_type": "stream",
     "text": [
      "Input first number: 26\n",
      "Input second number: 15\n",
      "Input third number: 29\n",
      "The median is 26\n"
     ]
    }
   ],
   "source": [
    "a = int(input(\"Input first number: \"))\n",
    "b = int(input(\"Input second number: \"))\n",
    "c = int(input(\"Input third number: \"))\n",
    "if a > b:\n",
    "    if a < c:\n",
    "        median = a\n",
    "    elif b > c:\n",
    "        median = b\n",
    "    else:\n",
    "        median = c\n",
    "else:\n",
    "    if a > c:\n",
    "        median = a\n",
    "    elif b < c:\n",
    "        median = b\n",
    "    else:\n",
    "        median = c\n",
    "\n",
    "print(\"The median is\", median)\n",
    "\n"
   ]
  },
  {
   "cell_type": "markdown",
   "metadata": {},
   "source": [
    "###### - Write a program to prompt for a score between 0.0 and 1.0. If the score is out of range, print an error. If the score is between 0.0 and 1.0, print a grade using the following table:\n"
   ]
  },
  {
   "cell_type": "code",
   "execution_count": 65,
   "metadata": {},
   "outputs": [
    {
     "name": "stdout",
     "output_type": "stream",
     "text": [
      "0.85\n",
      "B\n"
     ]
    }
   ],
   "source": [
    "i=float(input())\n",
    "if i>1.0 or i<0.0:\n",
    "    print(\"it is an  error\")\n",
    "elif i>=0.9:\n",
    "    print(\"A\")\n",
    "elif i>=0.8:\n",
    "    print(\"B\")\n",
    "elif i>=0.7:\n",
    "    print(\"C\")\n",
    "elif i>=0.6:\n",
    "    print(\"D\")\n",
    "elif i<=0.6:\n",
    "    print(\"F\")"
   ]
  },
  {
   "cell_type": "code",
   "execution_count": 66,
   "metadata": {},
   "outputs": [
    {
     "name": "stdout",
     "output_type": "stream",
     "text": [
      "2\n",
      "it is an  error\n"
     ]
    }
   ],
   "source": [
    "i=float(input())\n",
    "if i>1.0 or i<0.0:\n",
    "    print(\"it is an  error\")\n",
    "elif i>=0.9:\n",
    "    print(\"A\")\n",
    "elif i>=0.8:\n",
    "    print(\"B\")\n",
    "elif i>=0.7:\n",
    "    print(\"C\")\n",
    "elif i>=0.6:\n",
    "    print(\"D\")\n",
    "elif i<=0.6:\n",
    "    print(\"F\")"
   ]
  },
  {
   "cell_type": "markdown",
   "metadata": {},
   "source": [
    "###### -  Accept a number as an input and check whether the given number is palindrome or not\n",
    "- if it is a palindrome number print the number on the screen-\n",
    "- if it is not a palindrome number reverse that number and add it to previous number repeat this until will get a palindrome number and print that palindrome number on the screen\n",
    "- input: 127\n",
    "- output: 848\n"
   ]
  },
  {
   "cell_type": "code",
   "execution_count": 6,
   "metadata": {},
   "outputs": [
    {
     "name": "stdout",
     "output_type": "stream",
     "text": [
      "127\n",
      "848\n"
     ]
    }
   ],
   "source": [
    "n=int(input())\n",
    "if str(n)==str(n)[::-1]:\n",
    "    print(\"palindrome\")\n",
    "else:\n",
    "    s3=str(n)[::-1]\n",
    "    s4=int(s3)+int(str(n))\n",
    "    print(s4)"
   ]
  },
  {
   "cell_type": "code",
   "execution_count": 7,
   "metadata": {},
   "outputs": [
    {
     "name": "stdout",
     "output_type": "stream",
     "text": [
      "121\n",
      "palindrome\n"
     ]
    }
   ],
   "source": [
    "n=int(input())\n",
    "if str(n)==str(n)[::-1]:\n",
    "    print(\"palindrome\")\n",
    "else:\n",
    "    s3=str(n)[::-1]\n",
    "    s4=int(s3)+int(str(n))\n",
    "    print(s4)"
   ]
  },
  {
   "cell_type": "markdown",
   "metadata": {},
   "source": [
    "###### - input:orange  →   output : puboif\n"
   ]
  },
  {
   "cell_type": "code",
   "execution_count": 24,
   "metadata": {},
   "outputs": [
    {
     "name": "stdout",
     "output_type": "stream",
     "text": [
      "puboif\n"
     ]
    }
   ],
   "source": [
    "ch = 'o'\n",
    "ab = 'r'\n",
    "bc = 'a'\n",
    "cd = 'n'\n",
    "de = 'g'\n",
    "ef = 'e'\n",
    "x = chr(ord(ch) + 1) \n",
    "y = chr(ord(ab) + 3) \n",
    "z = chr(ord(bc) + 1) \n",
    "a = chr(ord(cd) + 1) \n",
    "b = chr(ord(de) + 2) \n",
    "c = chr(ord(ef) + 1) \n",
    "s=x+y+z+a+b+c\n",
    "print(s)"
   ]
  },
  {
   "cell_type": "code",
   "execution_count": null,
   "metadata": {},
   "outputs": [],
   "source": []
  },
  {
   "cell_type": "code",
   "execution_count": 30,
   "metadata": {},
   "outputs": [
    {
     "name": "stdout",
     "output_type": "stream",
     "text": [
      "abbaaccbbaaa\n",
      "6\n"
     ]
    }
   ],
   "source": [
    "n=input()\n",
    "s=int(len(n)/2)\n",
    "m=0\n",
    "for i in range(0,s): \n",
    "    if 'aa' in n:\n",
    "        m=m+1\n",
    "print(m)"
   ]
  },
  {
   "cell_type": "code",
   "execution_count": null,
   "metadata": {},
   "outputs": [],
   "source": []
  },
  {
   "cell_type": "code",
   "execution_count": 31,
   "metadata": {},
   "outputs": [
    {
     "name": "stdout",
     "output_type": "stream",
     "text": [
      "enter the stringabc123def456\n",
      "21\n"
     ]
    }
   ],
   "source": [
    "s=input(\"enter the string\")\n",
    "n=len(s)\n",
    "c=0\n",
    "for i in range(0,n):\n",
    "    if s[i] in ('1','2','3','4','5','6','7','8','9'):\n",
    "        s1=int(s[i])\n",
    "        c+=s1\n",
    "print(c)"
   ]
  },
  {
   "cell_type": "code",
   "execution_count": null,
   "metadata": {},
   "outputs": [],
   "source": []
  },
  {
   "cell_type": "code",
   "execution_count": 32,
   "metadata": {},
   "outputs": [
    {
     "name": "stdout",
     "output_type": "stream",
     "text": [
      "enter the value1\n",
      "enter the value100\n",
      "18\n"
     ]
    }
   ],
   "source": [
    "n1=int(input('enter the value'))\n",
    "n2=int(input(\"enter the value\"))\n",
    "c=0\n",
    "while True:\n",
    "    s2=str(n1)\n",
    "    if s2==s2[::-1]:\n",
    "        c+=1\n",
    "    if n1==n2-1:\n",
    "        break\n",
    "    n1+=1\n",
    "    i=n1\n",
    "print(c)"
   ]
  },
  {
   "cell_type": "code",
   "execution_count": 33,
   "metadata": {},
   "outputs": [
    {
     "name": "stdout",
     "output_type": "stream",
     "text": [
      "enter the value1\n",
      "enter the value10\n",
      "9\n"
     ]
    }
   ],
   "source": [
    "n1=int(input('enter the value'))\n",
    "n2=int(input(\"enter the value\"))\n",
    "c=0\n",
    "while True:\n",
    "    s2=str(n1)\n",
    "    if s2==s2[::-1]:\n",
    "        c+=1\n",
    "    if n1==n2-1:\n",
    "        break\n",
    "    n1+=1\n",
    "    i=n1\n",
    "print(c)"
   ]
  },
  {
   "cell_type": "code",
   "execution_count": null,
   "metadata": {},
   "outputs": [],
   "source": []
  },
  {
   "cell_type": "code",
   "execution_count": 34,
   "metadata": {},
   "outputs": [
    {
     "name": "stdout",
     "output_type": "stream",
     "text": [
      "enter the string((()()))\n",
      "4\n"
     ]
    }
   ],
   "source": [
    "a=input(\"enter the string\")\n",
    "n=len(a)\n",
    "c=0\n",
    "i=0\n",
    "while(i<n):\n",
    "    if a[i]=='(':\n",
    "        c+=1\n",
    "    else:\n",
    "        c-=1\n",
    "    i+=1\n",
    "if c==0:\n",
    "    print(n//2)\n",
    "elif c<0:\n",
    "    print(\") are\",-c , \"more\")\n",
    "else:\n",
    "    print(\"( are\", c ,\"more\" )"
   ]
  },
  {
   "cell_type": "code",
   "execution_count": null,
   "metadata": {},
   "outputs": [],
   "source": []
  },
  {
   "cell_type": "code",
   "execution_count": 36,
   "metadata": {},
   "outputs": [
    {
     "name": "stdout",
     "output_type": "stream",
     "text": [
      "enter the string:abcaabbaaa\n",
      "2\n"
     ]
    }
   ],
   "source": [
    "a=input(\"enter the string:\")\n",
    "n=len(a)\n",
    "c=0\n",
    "i=0\n",
    "while(i<n-1):\n",
    "    if a[i]=='a' and a[i+1]=='a':\n",
    "        c+=1\n",
    "        i=i+1\n",
    "    i+=1\n",
    "print(c)"
   ]
  },
  {
   "cell_type": "code",
   "execution_count": null,
   "metadata": {},
   "outputs": [],
   "source": []
  },
  {
   "cell_type": "code",
   "execution_count": 40,
   "metadata": {},
   "outputs": [
    {
     "name": "stdout",
     "output_type": "stream",
     "text": [
      "enter the stringmotupallysundaracharya\n",
      "Total number of vowel and consonant are\n",
      "8\n",
      "14\n",
      "0\n"
     ]
    }
   ],
   "source": [
    "ccount = 0  \n",
    "scount=0\n",
    "vcount=0\n",
    "str=input(\"enter the string\")\n",
    "str = str.lower()  \n",
    "for i in range(0,len(str)):     \n",
    "    if str[i] in ('a',\"e\",\"i\",\"o\",\"u\"):  \n",
    "        vcount += 1  \n",
    "    elif (str[i] >= 'a' and str[i] <= 'z'):  \n",
    "        ccount += 1\n",
    "    else:\n",
    "        scount+=1\n",
    "        \n",
    "print(\"Total number of vowel and consonant are\" ) \n",
    "print(vcount)  \n",
    "print(ccount)\n",
    "print(scount)"
   ]
  },
  {
   "cell_type": "code",
   "execution_count": null,
   "metadata": {},
   "outputs": [],
   "source": []
  }
 ],
 "metadata": {
  "kernelspec": {
   "display_name": "Python 3",
   "language": "python",
   "name": "python3"
  },
  "language_info": {
   "codemirror_mode": {
    "name": "ipython",
    "version": 3
   },
   "file_extension": ".py",
   "mimetype": "text/x-python",
   "name": "python",
   "nbconvert_exporter": "python",
   "pygments_lexer": "ipython3",
   "version": "3.7.4"
  }
 },
 "nbformat": 4,
 "nbformat_minor": 2
}

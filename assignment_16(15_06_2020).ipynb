{
 "cells": [
  {
   "cell_type": "markdown",
   "metadata": {
    "colab_type": "text",
    "id": "xJq9sbJTwGMg"
   },
   "source": [
    "\n",
    "### cse-221710302038-motupally sundara charya"
   ]
  },
  {
   "cell_type": "code",
   "execution_count": 0,
   "metadata": {
    "colab": {},
    "colab_type": "code",
    "id": "sXcnf43iwarV"
   },
   "outputs": [],
   "source": [
    "import pandas as pd\n",
    "import numpy as np\n",
    "import matplotlib.pyplot as plt\n",
    "import sklearn"
   ]
  },
  {
   "cell_type": "markdown",
   "metadata": {
    "colab_type": "text",
    "id": "EjHgBsmYyMx7"
   },
   "source": [
    "What is the parameter we should use to mention the first row in the data set are not columns what is the value we should send for that parameter\n",
    "\n",
    "To include the first row in data set we need to pass header=None as paramete"
   ]
  },
  {
   "cell_type": "code",
   "execution_count": 4,
   "metadata": {
    "colab": {
     "base_uri": "https://localhost:8080/",
     "height": 402
    },
    "colab_type": "code",
    "id": "y5v1j3c2yJF4",
    "outputId": "e49b442a-0cd7-42f0-b748-39c711f97c63"
   },
   "outputs": [
    {
     "data": {
      "text/html": [
       "<div>\n",
       "<style scoped>\n",
       "    .dataframe tbody tr th:only-of-type {\n",
       "        vertical-align: middle;\n",
       "    }\n",
       "\n",
       "    .dataframe tbody tr th {\n",
       "        vertical-align: top;\n",
       "    }\n",
       "\n",
       "    .dataframe thead th {\n",
       "        text-align: right;\n",
       "    }\n",
       "</style>\n",
       "<table border=\"1\" class=\"dataframe\">\n",
       "  <thead>\n",
       "    <tr style=\"text-align: right;\">\n",
       "      <th></th>\n",
       "      <th>2018-01-01 00:01:01</th>\n",
       "      <th>read</th>\n",
       "      <th>country_7</th>\n",
       "      <th>2458151261</th>\n",
       "      <th>SEO</th>\n",
       "      <th>North America</th>\n",
       "    </tr>\n",
       "  </thead>\n",
       "  <tbody>\n",
       "    <tr>\n",
       "      <th>0</th>\n",
       "      <td>2018-01-01 00:03:20</td>\n",
       "      <td>read</td>\n",
       "      <td>country_7</td>\n",
       "      <td>2458151262</td>\n",
       "      <td>SEO</td>\n",
       "      <td>South America</td>\n",
       "    </tr>\n",
       "    <tr>\n",
       "      <th>1</th>\n",
       "      <td>2018-01-01 00:04:01</td>\n",
       "      <td>read</td>\n",
       "      <td>country_7</td>\n",
       "      <td>2458151263</td>\n",
       "      <td>AdWords</td>\n",
       "      <td>Africa</td>\n",
       "    </tr>\n",
       "    <tr>\n",
       "      <th>2</th>\n",
       "      <td>2018-01-01 00:04:02</td>\n",
       "      <td>read</td>\n",
       "      <td>country_7</td>\n",
       "      <td>2458151264</td>\n",
       "      <td>AdWords</td>\n",
       "      <td>Europe</td>\n",
       "    </tr>\n",
       "    <tr>\n",
       "      <th>3</th>\n",
       "      <td>2018-01-01 00:05:03</td>\n",
       "      <td>read</td>\n",
       "      <td>country_8</td>\n",
       "      <td>2458151265</td>\n",
       "      <td>Reddit</td>\n",
       "      <td>North America</td>\n",
       "    </tr>\n",
       "    <tr>\n",
       "      <th>4</th>\n",
       "      <td>2018-01-01 00:05:42</td>\n",
       "      <td>read</td>\n",
       "      <td>country_6</td>\n",
       "      <td>2458151266</td>\n",
       "      <td>Reddit</td>\n",
       "      <td>North America</td>\n",
       "    </tr>\n",
       "    <tr>\n",
       "      <th>...</th>\n",
       "      <td>...</td>\n",
       "      <td>...</td>\n",
       "      <td>...</td>\n",
       "      <td>...</td>\n",
       "      <td>...</td>\n",
       "      <td>...</td>\n",
       "    </tr>\n",
       "    <tr>\n",
       "      <th>1789</th>\n",
       "      <td>2018-01-01 23:57:14</td>\n",
       "      <td>read</td>\n",
       "      <td>country_2</td>\n",
       "      <td>2458153051</td>\n",
       "      <td>AdWords</td>\n",
       "      <td>North America</td>\n",
       "    </tr>\n",
       "    <tr>\n",
       "      <th>1790</th>\n",
       "      <td>2018-01-01 23:58:33</td>\n",
       "      <td>read</td>\n",
       "      <td>country_8</td>\n",
       "      <td>2458153052</td>\n",
       "      <td>SEO</td>\n",
       "      <td>Asia</td>\n",
       "    </tr>\n",
       "    <tr>\n",
       "      <th>1791</th>\n",
       "      <td>2018-01-01 23:59:36</td>\n",
       "      <td>read</td>\n",
       "      <td>country_6</td>\n",
       "      <td>2458153053</td>\n",
       "      <td>Reddit</td>\n",
       "      <td>Asia</td>\n",
       "    </tr>\n",
       "    <tr>\n",
       "      <th>1792</th>\n",
       "      <td>2018-01-01 23:59:36</td>\n",
       "      <td>read</td>\n",
       "      <td>country_7</td>\n",
       "      <td>2458153054</td>\n",
       "      <td>AdWords</td>\n",
       "      <td>Europe</td>\n",
       "    </tr>\n",
       "    <tr>\n",
       "      <th>1793</th>\n",
       "      <td>2018-01-01 23:59:38</td>\n",
       "      <td>read</td>\n",
       "      <td>country_5</td>\n",
       "      <td>2458153055</td>\n",
       "      <td>Reddit</td>\n",
       "      <td>Asia</td>\n",
       "    </tr>\n",
       "  </tbody>\n",
       "</table>\n",
       "<p>1794 rows × 6 columns</p>\n",
       "</div>"
      ],
      "text/plain": [
       "      2018-01-01 00:01:01  read  country_7  2458151261      SEO  North America\n",
       "0     2018-01-01 00:03:20  read  country_7  2458151262      SEO  South America\n",
       "1     2018-01-01 00:04:01  read  country_7  2458151263  AdWords         Africa\n",
       "2     2018-01-01 00:04:02  read  country_7  2458151264  AdWords         Europe\n",
       "3     2018-01-01 00:05:03  read  country_8  2458151265   Reddit  North America\n",
       "4     2018-01-01 00:05:42  read  country_6  2458151266   Reddit  North America\n",
       "...                   ...   ...        ...         ...      ...            ...\n",
       "1789  2018-01-01 23:57:14  read  country_2  2458153051  AdWords  North America\n",
       "1790  2018-01-01 23:58:33  read  country_8  2458153052      SEO           Asia\n",
       "1791  2018-01-01 23:59:36  read  country_6  2458153053   Reddit           Asia\n",
       "1792  2018-01-01 23:59:36  read  country_7  2458153054  AdWords         Europe\n",
       "1793  2018-01-01 23:59:38  read  country_5  2458153055   Reddit           Asia\n",
       "\n",
       "[1794 rows x 6 columns]"
      ]
     },
     "execution_count": 4,
     "metadata": {
      "tags": []
     },
     "output_type": "execute_result"
    }
   ],
   "source": [
    "df = pd.read_csv(\"https://raw.githubusercontent.com/Mounika-Kajjam/SummerInternship/master/data.csv\",sep=\";\")\n",
    "df"
   ]
  },
  {
   "cell_type": "code",
   "execution_count": 5,
   "metadata": {
    "colab": {
     "base_uri": "https://localhost:8080/",
     "height": 402
    },
    "colab_type": "code",
    "id": "tjOJmgB2yS1X",
    "outputId": "5722293a-d597-42ba-934d-aaf94987e5f6"
   },
   "outputs": [
    {
     "data": {
      "text/html": [
       "<div>\n",
       "<style scoped>\n",
       "    .dataframe tbody tr th:only-of-type {\n",
       "        vertical-align: middle;\n",
       "    }\n",
       "\n",
       "    .dataframe tbody tr th {\n",
       "        vertical-align: top;\n",
       "    }\n",
       "\n",
       "    .dataframe thead th {\n",
       "        text-align: right;\n",
       "    }\n",
       "</style>\n",
       "<table border=\"1\" class=\"dataframe\">\n",
       "  <thead>\n",
       "    <tr style=\"text-align: right;\">\n",
       "      <th></th>\n",
       "      <th>0</th>\n",
       "      <th>1</th>\n",
       "      <th>2</th>\n",
       "      <th>3</th>\n",
       "      <th>4</th>\n",
       "      <th>5</th>\n",
       "    </tr>\n",
       "  </thead>\n",
       "  <tbody>\n",
       "    <tr>\n",
       "      <th>0</th>\n",
       "      <td>2018-01-01 00:01:01</td>\n",
       "      <td>read</td>\n",
       "      <td>country_7</td>\n",
       "      <td>2458151261</td>\n",
       "      <td>SEO</td>\n",
       "      <td>North America</td>\n",
       "    </tr>\n",
       "    <tr>\n",
       "      <th>1</th>\n",
       "      <td>2018-01-01 00:03:20</td>\n",
       "      <td>read</td>\n",
       "      <td>country_7</td>\n",
       "      <td>2458151262</td>\n",
       "      <td>SEO</td>\n",
       "      <td>South America</td>\n",
       "    </tr>\n",
       "    <tr>\n",
       "      <th>2</th>\n",
       "      <td>2018-01-01 00:04:01</td>\n",
       "      <td>read</td>\n",
       "      <td>country_7</td>\n",
       "      <td>2458151263</td>\n",
       "      <td>AdWords</td>\n",
       "      <td>Africa</td>\n",
       "    </tr>\n",
       "    <tr>\n",
       "      <th>3</th>\n",
       "      <td>2018-01-01 00:04:02</td>\n",
       "      <td>read</td>\n",
       "      <td>country_7</td>\n",
       "      <td>2458151264</td>\n",
       "      <td>AdWords</td>\n",
       "      <td>Europe</td>\n",
       "    </tr>\n",
       "    <tr>\n",
       "      <th>4</th>\n",
       "      <td>2018-01-01 00:05:03</td>\n",
       "      <td>read</td>\n",
       "      <td>country_8</td>\n",
       "      <td>2458151265</td>\n",
       "      <td>Reddit</td>\n",
       "      <td>North America</td>\n",
       "    </tr>\n",
       "    <tr>\n",
       "      <th>...</th>\n",
       "      <td>...</td>\n",
       "      <td>...</td>\n",
       "      <td>...</td>\n",
       "      <td>...</td>\n",
       "      <td>...</td>\n",
       "      <td>...</td>\n",
       "    </tr>\n",
       "    <tr>\n",
       "      <th>1790</th>\n",
       "      <td>2018-01-01 23:57:14</td>\n",
       "      <td>read</td>\n",
       "      <td>country_2</td>\n",
       "      <td>2458153051</td>\n",
       "      <td>AdWords</td>\n",
       "      <td>North America</td>\n",
       "    </tr>\n",
       "    <tr>\n",
       "      <th>1791</th>\n",
       "      <td>2018-01-01 23:58:33</td>\n",
       "      <td>read</td>\n",
       "      <td>country_8</td>\n",
       "      <td>2458153052</td>\n",
       "      <td>SEO</td>\n",
       "      <td>Asia</td>\n",
       "    </tr>\n",
       "    <tr>\n",
       "      <th>1792</th>\n",
       "      <td>2018-01-01 23:59:36</td>\n",
       "      <td>read</td>\n",
       "      <td>country_6</td>\n",
       "      <td>2458153053</td>\n",
       "      <td>Reddit</td>\n",
       "      <td>Asia</td>\n",
       "    </tr>\n",
       "    <tr>\n",
       "      <th>1793</th>\n",
       "      <td>2018-01-01 23:59:36</td>\n",
       "      <td>read</td>\n",
       "      <td>country_7</td>\n",
       "      <td>2458153054</td>\n",
       "      <td>AdWords</td>\n",
       "      <td>Europe</td>\n",
       "    </tr>\n",
       "    <tr>\n",
       "      <th>1794</th>\n",
       "      <td>2018-01-01 23:59:38</td>\n",
       "      <td>read</td>\n",
       "      <td>country_5</td>\n",
       "      <td>2458153055</td>\n",
       "      <td>Reddit</td>\n",
       "      <td>Asia</td>\n",
       "    </tr>\n",
       "  </tbody>\n",
       "</table>\n",
       "<p>1795 rows × 6 columns</p>\n",
       "</div>"
      ],
      "text/plain": [
       "                        0     1          2           3        4              5\n",
       "0     2018-01-01 00:01:01  read  country_7  2458151261      SEO  North America\n",
       "1     2018-01-01 00:03:20  read  country_7  2458151262      SEO  South America\n",
       "2     2018-01-01 00:04:01  read  country_7  2458151263  AdWords         Africa\n",
       "3     2018-01-01 00:04:02  read  country_7  2458151264  AdWords         Europe\n",
       "4     2018-01-01 00:05:03  read  country_8  2458151265   Reddit  North America\n",
       "...                   ...   ...        ...         ...      ...            ...\n",
       "1790  2018-01-01 23:57:14  read  country_2  2458153051  AdWords  North America\n",
       "1791  2018-01-01 23:58:33  read  country_8  2458153052      SEO           Asia\n",
       "1792  2018-01-01 23:59:36  read  country_6  2458153053   Reddit           Asia\n",
       "1793  2018-01-01 23:59:36  read  country_7  2458153054  AdWords         Europe\n",
       "1794  2018-01-01 23:59:38  read  country_5  2458153055   Reddit           Asia\n",
       "\n",
       "[1795 rows x 6 columns]"
      ]
     },
     "execution_count": 5,
     "metadata": {
      "tags": []
     },
     "output_type": "execute_result"
    }
   ],
   "source": [
    "df = pd.read_csv(\"https://raw.githubusercontent.com/Mounika-Kajjam/SummerInternship/master/data.csv\",sep=\";\",header=None)\n",
    "df"
   ]
  },
  {
   "cell_type": "code",
   "execution_count": 6,
   "metadata": {
    "colab": {
     "base_uri": "https://localhost:8080/",
     "height": 402
    },
    "colab_type": "code",
    "id": "3ylcPNhCyYPt",
    "outputId": "fd882c5e-fd7e-497c-b505-142df2381bff"
   },
   "outputs": [
    {
     "data": {
      "text/html": [
       "<div>\n",
       "<style scoped>\n",
       "    .dataframe tbody tr th:only-of-type {\n",
       "        vertical-align: middle;\n",
       "    }\n",
       "\n",
       "    .dataframe tbody tr th {\n",
       "        vertical-align: top;\n",
       "    }\n",
       "\n",
       "    .dataframe thead th {\n",
       "        text-align: right;\n",
       "    }\n",
       "</style>\n",
       "<table border=\"1\" class=\"dataframe\">\n",
       "  <thead>\n",
       "    <tr style=\"text-align: right;\">\n",
       "      <th></th>\n",
       "      <th>my_datetime</th>\n",
       "      <th>event</th>\n",
       "      <th>country_code</th>\n",
       "      <th>user_id</th>\n",
       "      <th>source</th>\n",
       "      <th>country</th>\n",
       "    </tr>\n",
       "  </thead>\n",
       "  <tbody>\n",
       "    <tr>\n",
       "      <th>0</th>\n",
       "      <td>2018-01-01 00:01:01</td>\n",
       "      <td>read</td>\n",
       "      <td>country_7</td>\n",
       "      <td>2458151261</td>\n",
       "      <td>SEO</td>\n",
       "      <td>North America</td>\n",
       "    </tr>\n",
       "    <tr>\n",
       "      <th>1</th>\n",
       "      <td>2018-01-01 00:03:20</td>\n",
       "      <td>read</td>\n",
       "      <td>country_7</td>\n",
       "      <td>2458151262</td>\n",
       "      <td>SEO</td>\n",
       "      <td>South America</td>\n",
       "    </tr>\n",
       "    <tr>\n",
       "      <th>2</th>\n",
       "      <td>2018-01-01 00:04:01</td>\n",
       "      <td>read</td>\n",
       "      <td>country_7</td>\n",
       "      <td>2458151263</td>\n",
       "      <td>AdWords</td>\n",
       "      <td>Africa</td>\n",
       "    </tr>\n",
       "    <tr>\n",
       "      <th>3</th>\n",
       "      <td>2018-01-01 00:04:02</td>\n",
       "      <td>read</td>\n",
       "      <td>country_7</td>\n",
       "      <td>2458151264</td>\n",
       "      <td>AdWords</td>\n",
       "      <td>Europe</td>\n",
       "    </tr>\n",
       "    <tr>\n",
       "      <th>4</th>\n",
       "      <td>2018-01-01 00:05:03</td>\n",
       "      <td>read</td>\n",
       "      <td>country_8</td>\n",
       "      <td>2458151265</td>\n",
       "      <td>Reddit</td>\n",
       "      <td>North America</td>\n",
       "    </tr>\n",
       "    <tr>\n",
       "      <th>...</th>\n",
       "      <td>...</td>\n",
       "      <td>...</td>\n",
       "      <td>...</td>\n",
       "      <td>...</td>\n",
       "      <td>...</td>\n",
       "      <td>...</td>\n",
       "    </tr>\n",
       "    <tr>\n",
       "      <th>1790</th>\n",
       "      <td>2018-01-01 23:57:14</td>\n",
       "      <td>read</td>\n",
       "      <td>country_2</td>\n",
       "      <td>2458153051</td>\n",
       "      <td>AdWords</td>\n",
       "      <td>North America</td>\n",
       "    </tr>\n",
       "    <tr>\n",
       "      <th>1791</th>\n",
       "      <td>2018-01-01 23:58:33</td>\n",
       "      <td>read</td>\n",
       "      <td>country_8</td>\n",
       "      <td>2458153052</td>\n",
       "      <td>SEO</td>\n",
       "      <td>Asia</td>\n",
       "    </tr>\n",
       "    <tr>\n",
       "      <th>1792</th>\n",
       "      <td>2018-01-01 23:59:36</td>\n",
       "      <td>read</td>\n",
       "      <td>country_6</td>\n",
       "      <td>2458153053</td>\n",
       "      <td>Reddit</td>\n",
       "      <td>Asia</td>\n",
       "    </tr>\n",
       "    <tr>\n",
       "      <th>1793</th>\n",
       "      <td>2018-01-01 23:59:36</td>\n",
       "      <td>read</td>\n",
       "      <td>country_7</td>\n",
       "      <td>2458153054</td>\n",
       "      <td>AdWords</td>\n",
       "      <td>Europe</td>\n",
       "    </tr>\n",
       "    <tr>\n",
       "      <th>1794</th>\n",
       "      <td>2018-01-01 23:59:38</td>\n",
       "      <td>read</td>\n",
       "      <td>country_5</td>\n",
       "      <td>2458153055</td>\n",
       "      <td>Reddit</td>\n",
       "      <td>Asia</td>\n",
       "    </tr>\n",
       "  </tbody>\n",
       "</table>\n",
       "<p>1795 rows × 6 columns</p>\n",
       "</div>"
      ],
      "text/plain": [
       "              my_datetime event  ...   source        country\n",
       "0     2018-01-01 00:01:01  read  ...      SEO  North America\n",
       "1     2018-01-01 00:03:20  read  ...      SEO  South America\n",
       "2     2018-01-01 00:04:01  read  ...  AdWords         Africa\n",
       "3     2018-01-01 00:04:02  read  ...  AdWords         Europe\n",
       "4     2018-01-01 00:05:03  read  ...   Reddit  North America\n",
       "...                   ...   ...  ...      ...            ...\n",
       "1790  2018-01-01 23:57:14  read  ...  AdWords  North America\n",
       "1791  2018-01-01 23:58:33  read  ...      SEO           Asia\n",
       "1792  2018-01-01 23:59:36  read  ...   Reddit           Asia\n",
       "1793  2018-01-01 23:59:36  read  ...  AdWords         Europe\n",
       "1794  2018-01-01 23:59:38  read  ...   Reddit           Asia\n",
       "\n",
       "[1795 rows x 6 columns]"
      ]
     },
     "execution_count": 6,
     "metadata": {
      "tags": []
     },
     "output_type": "execute_result"
    }
   ],
   "source": [
    "#Read the data in the data.csv file in the proper format\n",
    "\n",
    "df.set_axis( ['my_datetime', 'event', 'country_code', 'user_id', 'source', 'country'],axis=1,inplace=True)\n",
    "df\n"
   ]
  },
  {
   "cell_type": "code",
   "execution_count": 7,
   "metadata": {
    "colab": {
     "base_uri": "https://localhost:8080/",
     "height": 50
    },
    "colab_type": "code",
    "id": "-_ngs7Iuycr9",
    "outputId": "8c475f57-9d54-47f1-9d9e-1065de83ebd6"
   },
   "outputs": [
    {
     "name": "stdout",
     "output_type": "stream",
     "text": [
      " Rows   : 1795 \n",
      " Columns: 6\n"
     ]
    }
   ],
   "source": [
    "# check how many rows and columns are there\n",
    "\n",
    "print(\" Rows   :\",df.shape[0],\"\\n\",\"Columns:\",df.shape[1])"
   ]
  },
  {
   "cell_type": "code",
   "execution_count": 8,
   "metadata": {
    "colab": {
     "base_uri": "https://localhost:8080/",
     "height": 34
    },
    "colab_type": "code",
    "id": "laF6KBHtygUV",
    "outputId": "1615be18-c1fc-4795-9ca4-8c2140276640"
   },
   "outputs": [
    {
     "data": {
      "text/plain": [
       "['my_datetime', 'event', 'country_code', 'user_id', 'source', 'country']"
      ]
     },
     "execution_count": 8,
     "metadata": {
      "tags": []
     },
     "output_type": "execute_result"
    }
   ],
   "source": [
    "# what are the columns names\n",
    "\n",
    "list(df.columns)"
   ]
  },
  {
   "cell_type": "code",
   "execution_count": 9,
   "metadata": {
    "colab": {
     "base_uri": "https://localhost:8080/",
     "height": 34
    },
    "colab_type": "code",
    "id": "_73cez4NyjkO",
    "outputId": "e19dd68b-5acf-4de9-c575-009ac5c84ebd"
   },
   "outputs": [
    {
     "data": {
      "text/plain": [
       "[0, 1, 2, 3, 4, 5, 6, 7, 8, 9]"
      ]
     },
     "execution_count": 9,
     "metadata": {
      "tags": []
     },
     "output_type": "execute_result"
    }
   ],
   "source": [
    "#what are are the row labels\n",
    "\n",
    "list(df.head(10).index)"
   ]
  },
  {
   "cell_type": "markdown",
   "metadata": {
    "colab_type": "text",
    "id": "gqY8eRAGyqVA"
   },
   "source": [
    "1.Write down your observation"
   ]
  },
  {
   "cell_type": "code",
   "execution_count": 10,
   "metadata": {
    "colab": {
     "base_uri": "https://localhost:8080/",
     "height": 134
    },
    "colab_type": "code",
    "id": "5V7LpW8FynG1",
    "outputId": "3bc50591-60f5-481a-9867-e73335f2b54e"
   },
   "outputs": [
    {
     "data": {
      "text/plain": [
       "my_datetime     object\n",
       "event           object\n",
       "country_code    object\n",
       "user_id          int64\n",
       "source          object\n",
       "country         object\n",
       "dtype: object"
      ]
     },
     "execution_count": 10,
     "metadata": {
      "tags": []
     },
     "output_type": "execute_result"
    }
   ],
   "source": [
    "#what type of data you have \n",
    "\n",
    "df.dtypes # All columns except user id are object type and userid is INT type"
   ]
  },
  {
   "cell_type": "code",
   "execution_count": 11,
   "metadata": {
    "colab": {
     "base_uri": "https://localhost:8080/",
     "height": 134
    },
    "colab_type": "code",
    "id": "_i4H2jeVyti5",
    "outputId": "9cb5c97e-69cc-4d19-ae88-37840d708427"
   },
   "outputs": [
    {
     "data": {
      "text/plain": [
       "my_datetime     0\n",
       "event           0\n",
       "country_code    0\n",
       "user_id         0\n",
       "source          0\n",
       "country         0\n",
       "dtype: int64"
      ]
     },
     "execution_count": 11,
     "metadata": {
      "tags": []
     },
     "output_type": "execute_result"
    }
   ],
   "source": [
    "# In the data if you have observed are there any missing values(NaN)\n",
    "df.isna().sum() # there are no null values are present"
   ]
  },
  {
   "cell_type": "code",
   "execution_count": 12,
   "metadata": {
    "colab": {
     "base_uri": "https://localhost:8080/",
     "height": 134
    },
    "colab_type": "code",
    "id": "_wW112SByw-Q",
    "outputId": "a01afa25-0e71-4d26-f124-6b149e82ea0f"
   },
   "outputs": [
    {
     "data": {
      "text/plain": [
       "my_datetime     object\n",
       "event           object\n",
       "country_code    object\n",
       "user_id          int64\n",
       "source          object\n",
       "country         object\n",
       "dtype: object"
      ]
     },
     "execution_count": 12,
     "metadata": {
      "tags": []
     },
     "output_type": "execute_result"
    }
   ],
   "source": [
    "#print the datatype of each column\n",
    "df.dtypes"
   ]
  },
  {
   "cell_type": "code",
   "execution_count": 13,
   "metadata": {
    "colab": {
     "base_uri": "https://localhost:8080/",
     "height": 50
    },
    "colab_type": "code",
    "id": "Oi8JpVXbyz5V",
    "outputId": "edb4c40f-203e-4486-833a-e1d87a9bf394"
   },
   "outputs": [
    {
     "name": "stdout",
     "output_type": "stream",
     "text": [
      "object columns: 5\n",
      "int columns: 1\n"
     ]
    }
   ],
   "source": [
    "# For each data type how many columns are there\n",
    "print(\"object columns:\",len(df.select_dtypes(include='O').columns))\n",
    "print(\"int columns:\",len(df.select_dtypes(include='int64').columns))"
   ]
  },
  {
   "cell_type": "code",
   "execution_count": 14,
   "metadata": {
    "colab": {
     "base_uri": "https://localhost:8080/",
     "height": 166
    },
    "colab_type": "code",
    "id": "IWL7sAU3y2p6",
    "outputId": "1f3dd326-e51c-418f-9fd0-f6beeccca2c6"
   },
   "outputs": [
    {
     "data": {
      "text/html": [
       "<div>\n",
       "<style scoped>\n",
       "    .dataframe tbody tr th:only-of-type {\n",
       "        vertical-align: middle;\n",
       "    }\n",
       "\n",
       "    .dataframe tbody tr th {\n",
       "        vertical-align: top;\n",
       "    }\n",
       "\n",
       "    .dataframe thead th {\n",
       "        text-align: right;\n",
       "    }\n",
       "</style>\n",
       "<table border=\"1\" class=\"dataframe\">\n",
       "  <thead>\n",
       "    <tr style=\"text-align: right;\">\n",
       "      <th></th>\n",
       "      <th>my_datetime</th>\n",
       "      <th>event</th>\n",
       "      <th>country_code</th>\n",
       "      <th>source</th>\n",
       "      <th>country</th>\n",
       "    </tr>\n",
       "  </thead>\n",
       "  <tbody>\n",
       "    <tr>\n",
       "      <th>count</th>\n",
       "      <td>1795</td>\n",
       "      <td>1795</td>\n",
       "      <td>1795</td>\n",
       "      <td>1795</td>\n",
       "      <td>1795</td>\n",
       "    </tr>\n",
       "    <tr>\n",
       "      <th>unique</th>\n",
       "      <td>1773</td>\n",
       "      <td>1</td>\n",
       "      <td>8</td>\n",
       "      <td>3</td>\n",
       "      <td>6</td>\n",
       "    </tr>\n",
       "    <tr>\n",
       "      <th>top</th>\n",
       "      <td>2018-01-01 03:10:36</td>\n",
       "      <td>read</td>\n",
       "      <td>country_2</td>\n",
       "      <td>Reddit</td>\n",
       "      <td>Asia</td>\n",
       "    </tr>\n",
       "    <tr>\n",
       "      <th>freq</th>\n",
       "      <td>3</td>\n",
       "      <td>1795</td>\n",
       "      <td>462</td>\n",
       "      <td>949</td>\n",
       "      <td>667</td>\n",
       "    </tr>\n",
       "  </tbody>\n",
       "</table>\n",
       "</div>"
      ],
      "text/plain": [
       "                my_datetime event country_code  source country\n",
       "count                  1795  1795         1795    1795    1795\n",
       "unique                 1773     1            8       3       6\n",
       "top     2018-01-01 03:10:36  read    country_2  Reddit    Asia\n",
       "freq                      3  1795          462     949     667"
      ]
     },
     "execution_count": 14,
     "metadata": {
      "tags": []
     },
     "output_type": "execute_result"
    }
   ],
   "source": [
    "# Using describe function observe the different measures for numerical and categorical columns\n",
    "df.describe(include=\"object\")"
   ]
  },
  {
   "cell_type": "code",
   "execution_count": 15,
   "metadata": {
    "colab": {
     "base_uri": "https://localhost:8080/",
     "height": 284
    },
    "colab_type": "code",
    "id": "DGTxxyWmy5d4",
    "outputId": "08bc678b-1356-400d-d711-d9022f3d4a11"
   },
   "outputs": [
    {
     "data": {
      "text/html": [
       "<div>\n",
       "<style scoped>\n",
       "    .dataframe tbody tr th:only-of-type {\n",
       "        vertical-align: middle;\n",
       "    }\n",
       "\n",
       "    .dataframe tbody tr th {\n",
       "        vertical-align: top;\n",
       "    }\n",
       "\n",
       "    .dataframe thead th {\n",
       "        text-align: right;\n",
       "    }\n",
       "</style>\n",
       "<table border=\"1\" class=\"dataframe\">\n",
       "  <thead>\n",
       "    <tr style=\"text-align: right;\">\n",
       "      <th></th>\n",
       "      <th>user_id</th>\n",
       "    </tr>\n",
       "  </thead>\n",
       "  <tbody>\n",
       "    <tr>\n",
       "      <th>count</th>\n",
       "      <td>1.795000e+03</td>\n",
       "    </tr>\n",
       "    <tr>\n",
       "      <th>mean</th>\n",
       "      <td>2.458152e+09</td>\n",
       "    </tr>\n",
       "    <tr>\n",
       "      <th>std</th>\n",
       "      <td>5.183162e+02</td>\n",
       "    </tr>\n",
       "    <tr>\n",
       "      <th>min</th>\n",
       "      <td>2.458151e+09</td>\n",
       "    </tr>\n",
       "    <tr>\n",
       "      <th>25%</th>\n",
       "      <td>2.458152e+09</td>\n",
       "    </tr>\n",
       "    <tr>\n",
       "      <th>50%</th>\n",
       "      <td>2.458152e+09</td>\n",
       "    </tr>\n",
       "    <tr>\n",
       "      <th>75%</th>\n",
       "      <td>2.458153e+09</td>\n",
       "    </tr>\n",
       "    <tr>\n",
       "      <th>max</th>\n",
       "      <td>2.458153e+09</td>\n",
       "    </tr>\n",
       "  </tbody>\n",
       "</table>\n",
       "</div>"
      ],
      "text/plain": [
       "            user_id\n",
       "count  1.795000e+03\n",
       "mean   2.458152e+09\n",
       "std    5.183162e+02\n",
       "min    2.458151e+09\n",
       "25%    2.458152e+09\n",
       "50%    2.458152e+09\n",
       "75%    2.458153e+09\n",
       "max    2.458153e+09"
      ]
     },
     "execution_count": 15,
     "metadata": {
      "tags": []
     },
     "output_type": "execute_result"
    }
   ],
   "source": [
    "#for nuerical columns\n",
    "df.describe()   # by default describe() works only on numeric data\n",
    "\n",
    "\n",
    "\n"
   ]
  },
  {
   "cell_type": "code",
   "execution_count": 16,
   "metadata": {
    "colab": {
     "base_uri": "https://localhost:8080/",
     "height": 235
    },
    "colab_type": "code",
    "id": "KNhDn74wzLb4",
    "outputId": "428eb63a-68a1-49f6-da46-12eba66b3151"
   },
   "outputs": [
    {
     "name": "stdout",
     "output_type": "stream",
     "text": [
      "<class 'pandas.core.frame.DataFrame'>\n",
      "RangeIndex: 1795 entries, 0 to 1794\n",
      "Data columns (total 6 columns):\n",
      " #   Column        Non-Null Count  Dtype \n",
      "---  ------        --------------  ----- \n",
      " 0   my_datetime   1795 non-null   object\n",
      " 1   event         1795 non-null   object\n",
      " 2   country_code  1795 non-null   object\n",
      " 3   user_id       1795 non-null   int64 \n",
      " 4   source        1795 non-null   object\n",
      " 5   country       1795 non-null   object\n",
      "dtypes: int64(1), object(5)\n",
      "memory usage: 84.3+ KB\n"
     ]
    }
   ],
   "source": [
    "# Use the info function to get the detailed info of the dataframe\n",
    "df.info()"
   ]
  },
  {
   "cell_type": "code",
   "execution_count": 17,
   "metadata": {
    "colab": {
     "base_uri": "https://localhost:8080/",
     "height": 47
    },
    "colab_type": "code",
    "id": "rLo6w1ukzPQH",
    "outputId": "0ab16e2a-8fa2-41fe-c599-4ea92a2a4ba3"
   },
   "outputs": [
    {
     "data": {
      "text/html": [
       "<div>\n",
       "<style scoped>\n",
       "    .dataframe tbody tr th:only-of-type {\n",
       "        vertical-align: middle;\n",
       "    }\n",
       "\n",
       "    .dataframe tbody tr th {\n",
       "        vertical-align: top;\n",
       "    }\n",
       "\n",
       "    .dataframe thead th {\n",
       "        text-align: right;\n",
       "    }\n",
       "</style>\n",
       "<table border=\"1\" class=\"dataframe\">\n",
       "  <thead>\n",
       "    <tr style=\"text-align: right;\">\n",
       "      <th></th>\n",
       "      <th>my_datetime</th>\n",
       "      <th>event</th>\n",
       "      <th>country_code</th>\n",
       "      <th>user_id</th>\n",
       "      <th>source</th>\n",
       "      <th>country</th>\n",
       "    </tr>\n",
       "  </thead>\n",
       "  <tbody>\n",
       "  </tbody>\n",
       "</table>\n",
       "</div>"
      ],
      "text/plain": [
       "Empty DataFrame\n",
       "Columns: [my_datetime, event, country_code, user_id, source, country]\n",
       "Index: []"
      ]
     },
     "execution_count": 17,
     "metadata": {
      "tags": []
     },
     "output_type": "execute_result"
    }
   ],
   "source": [
    "df[df.duplicated()] #all columns have duplicates"
   ]
  },
  {
   "cell_type": "code",
   "execution_count": 18,
   "metadata": {
    "colab": {
     "base_uri": "https://localhost:8080/",
     "height": 1000
    },
    "colab_type": "code",
    "id": "wKECQFOJzRsc",
    "outputId": "511c5365-4625-4b1c-e136-8fd32d15a5ef"
   },
   "outputs": [
    {
     "name": "stdout",
     "output_type": "stream",
     "text": [
      "my_datetime \n",
      "               my_datetime event  ...   source        country\n",
      "85    2018-01-01 01:17:48  read  ...   Reddit           Asia\n",
      "96    2018-01-01 01:23:44  read  ...  AdWords           Asia\n",
      "194   2018-01-01 02:46:20  read  ...      SEO  North America\n",
      "226   2018-01-01 03:10:36  read  ...   Reddit  North America\n",
      "227   2018-01-01 03:10:36  read  ...  AdWords      Australia\n",
      "267   2018-01-01 03:31:51  read  ...  AdWords           Asia\n",
      "337   2018-01-01 04:26:24  read  ...  AdWords         Europe\n",
      "416   2018-01-01 05:44:15  read  ...   Reddit  North America\n",
      "420   2018-01-01 05:47:29  read  ...   Reddit         Europe\n",
      "422   2018-01-01 05:47:50  read  ...   Reddit           Asia\n",
      "458   2018-01-01 06:09:59  read  ...   Reddit           Asia\n",
      "495   2018-01-01 06:38:26  read  ...   Reddit  South America\n",
      "721   2018-01-01 09:48:57  read  ...   Reddit  North America\n",
      "738   2018-01-01 10:00:14  read  ...   Reddit           Asia\n",
      "772   2018-01-01 10:22:10  read  ...   Reddit         Africa\n",
      "912   2018-01-01 12:14:20  read  ...      SEO  North America\n",
      "1302  2018-01-01 17:39:00  read  ...  AdWords         Europe\n",
      "1494  2018-01-01 20:20:34  read  ...   Reddit         Africa\n",
      "1536  2018-01-01 20:52:13  read  ...  AdWords  North America\n",
      "1660  2018-01-01 22:27:20  read  ...   Reddit         Africa\n",
      "1731  2018-01-01 23:16:19  read  ...   Reddit  South America\n",
      "1793  2018-01-01 23:59:36  read  ...  AdWords         Europe\n",
      "\n",
      "[22 rows x 6 columns] \n",
      "\n",
      "\n",
      "event \n",
      "               my_datetime event  ...   source        country\n",
      "1     2018-01-01 00:03:20  read  ...      SEO  South America\n",
      "2     2018-01-01 00:04:01  read  ...  AdWords         Africa\n",
      "3     2018-01-01 00:04:02  read  ...  AdWords         Europe\n",
      "4     2018-01-01 00:05:03  read  ...   Reddit  North America\n",
      "5     2018-01-01 00:05:42  read  ...   Reddit  North America\n",
      "...                   ...   ...  ...      ...            ...\n",
      "1790  2018-01-01 23:57:14  read  ...  AdWords  North America\n",
      "1791  2018-01-01 23:58:33  read  ...      SEO           Asia\n",
      "1792  2018-01-01 23:59:36  read  ...   Reddit           Asia\n",
      "1793  2018-01-01 23:59:36  read  ...  AdWords         Europe\n",
      "1794  2018-01-01 23:59:38  read  ...   Reddit           Asia\n",
      "\n",
      "[1794 rows x 6 columns] \n",
      "\n",
      "\n",
      "country_code \n",
      "               my_datetime event  ...   source        country\n",
      "1     2018-01-01 00:03:20  read  ...      SEO  South America\n",
      "2     2018-01-01 00:04:01  read  ...  AdWords         Africa\n",
      "3     2018-01-01 00:04:02  read  ...  AdWords         Europe\n",
      "7     2018-01-01 00:06:15  read  ...  AdWords         Europe\n",
      "8     2018-01-01 00:07:21  read  ...  AdWords  North America\n",
      "...                   ...   ...  ...      ...            ...\n",
      "1790  2018-01-01 23:57:14  read  ...  AdWords  North America\n",
      "1791  2018-01-01 23:58:33  read  ...      SEO           Asia\n",
      "1792  2018-01-01 23:59:36  read  ...   Reddit           Asia\n",
      "1793  2018-01-01 23:59:36  read  ...  AdWords         Europe\n",
      "1794  2018-01-01 23:59:38  read  ...   Reddit           Asia\n",
      "\n",
      "[1787 rows x 6 columns] \n",
      "\n",
      "\n",
      "user_id \n",
      " Empty DataFrame\n",
      "Columns: [my_datetime, event, country_code, user_id, source, country]\n",
      "Index: [] \n",
      "\n",
      "\n",
      "source \n",
      "               my_datetime event  ...   source        country\n",
      "1     2018-01-01 00:03:20  read  ...      SEO  South America\n",
      "3     2018-01-01 00:04:02  read  ...  AdWords         Europe\n",
      "5     2018-01-01 00:05:42  read  ...   Reddit  North America\n",
      "6     2018-01-01 00:06:06  read  ...   Reddit         Europe\n",
      "7     2018-01-01 00:06:15  read  ...  AdWords         Europe\n",
      "...                   ...   ...  ...      ...            ...\n",
      "1790  2018-01-01 23:57:14  read  ...  AdWords  North America\n",
      "1791  2018-01-01 23:58:33  read  ...      SEO           Asia\n",
      "1792  2018-01-01 23:59:36  read  ...   Reddit           Asia\n",
      "1793  2018-01-01 23:59:36  read  ...  AdWords         Europe\n",
      "1794  2018-01-01 23:59:38  read  ...   Reddit           Asia\n",
      "\n",
      "[1792 rows x 6 columns] \n",
      "\n",
      "\n",
      "country \n",
      "               my_datetime event  ...   source        country\n",
      "4     2018-01-01 00:05:03  read  ...   Reddit  North America\n",
      "5     2018-01-01 00:05:42  read  ...   Reddit  North America\n",
      "6     2018-01-01 00:06:06  read  ...   Reddit         Europe\n",
      "7     2018-01-01 00:06:15  read  ...  AdWords         Europe\n",
      "8     2018-01-01 00:07:21  read  ...  AdWords  North America\n",
      "...                   ...   ...  ...      ...            ...\n",
      "1790  2018-01-01 23:57:14  read  ...  AdWords  North America\n",
      "1791  2018-01-01 23:58:33  read  ...      SEO           Asia\n",
      "1792  2018-01-01 23:59:36  read  ...   Reddit           Asia\n",
      "1793  2018-01-01 23:59:36  read  ...  AdWords         Europe\n",
      "1794  2018-01-01 23:59:38  read  ...   Reddit           Asia\n",
      "\n",
      "[1789 rows x 6 columns] \n",
      "\n",
      "\n"
     ]
    }
   ],
   "source": [
    "# Check for the duplicate values in all the columns\n",
    "for i in df.columns:\n",
    "    print(i,\"\\n\",df[df[i].duplicated()],\"\\n\\n\")"
   ]
  },
  {
   "cell_type": "code",
   "execution_count": 19,
   "metadata": {
    "colab": {
     "base_uri": "https://localhost:8080/",
     "height": 195
    },
    "colab_type": "code",
    "id": "USqNZoHWzUgx",
    "outputId": "f966bc67-ac26-4ec8-ba73-762426c12e08"
   },
   "outputs": [
    {
     "data": {
      "text/html": [
       "<div>\n",
       "<style scoped>\n",
       "    .dataframe tbody tr th:only-of-type {\n",
       "        vertical-align: middle;\n",
       "    }\n",
       "\n",
       "    .dataframe tbody tr th {\n",
       "        vertical-align: top;\n",
       "    }\n",
       "\n",
       "    .dataframe thead th {\n",
       "        text-align: right;\n",
       "    }\n",
       "</style>\n",
       "<table border=\"1\" class=\"dataframe\">\n",
       "  <thead>\n",
       "    <tr style=\"text-align: right;\">\n",
       "      <th></th>\n",
       "      <th>my_datetime</th>\n",
       "      <th>event</th>\n",
       "      <th>country_code</th>\n",
       "      <th>user_id</th>\n",
       "      <th>source</th>\n",
       "      <th>country</th>\n",
       "    </tr>\n",
       "  </thead>\n",
       "  <tbody>\n",
       "    <tr>\n",
       "      <th>0</th>\n",
       "      <td>2018-01-01 00:01:01</td>\n",
       "      <td>read</td>\n",
       "      <td>country_7</td>\n",
       "      <td>2458151261</td>\n",
       "      <td>SEO</td>\n",
       "      <td>North America</td>\n",
       "    </tr>\n",
       "    <tr>\n",
       "      <th>1</th>\n",
       "      <td>2018-01-01 00:03:20</td>\n",
       "      <td>read</td>\n",
       "      <td>country_7</td>\n",
       "      <td>2458151262</td>\n",
       "      <td>SEO</td>\n",
       "      <td>NaN</td>\n",
       "    </tr>\n",
       "    <tr>\n",
       "      <th>2</th>\n",
       "      <td>2018-01-01 00:04:01</td>\n",
       "      <td>read</td>\n",
       "      <td>country_7</td>\n",
       "      <td>2458151263</td>\n",
       "      <td>AdWords</td>\n",
       "      <td>Africa</td>\n",
       "    </tr>\n",
       "    <tr>\n",
       "      <th>3</th>\n",
       "      <td>2018-01-01 00:04:02</td>\n",
       "      <td>read</td>\n",
       "      <td>country_7</td>\n",
       "      <td>2458151264</td>\n",
       "      <td>AdWords</td>\n",
       "      <td>Europe</td>\n",
       "    </tr>\n",
       "    <tr>\n",
       "      <th>4</th>\n",
       "      <td>2018-01-01 00:05:03</td>\n",
       "      <td>read</td>\n",
       "      <td>country_8</td>\n",
       "      <td>2458151265</td>\n",
       "      <td>Reddit</td>\n",
       "      <td>North America</td>\n",
       "    </tr>\n",
       "  </tbody>\n",
       "</table>\n",
       "</div>"
      ],
      "text/plain": [
       "           my_datetime event country_code     user_id   source        country\n",
       "0  2018-01-01 00:01:01  read    country_7  2458151261      SEO  North America\n",
       "1  2018-01-01 00:03:20  read    country_7  2458151262      SEO            NaN\n",
       "2  2018-01-01 00:04:01  read    country_7  2458151263  AdWords         Africa\n",
       "3  2018-01-01 00:04:02  read    country_7  2458151264  AdWords         Europe\n",
       "4  2018-01-01 00:05:03  read    country_8  2458151265   Reddit  North America"
      ]
     },
     "execution_count": 19,
     "metadata": {
      "tags": []
     },
     "output_type": "execute_result"
    }
   ],
   "source": [
    "#Replace the value “South America” from country column with NaN and fill with mode of the column\n",
    "df1 = df.replace({\"country\":\"South America\"},np.nan)\n",
    "df1.head()"
   ]
  },
  {
   "cell_type": "code",
   "execution_count": 20,
   "metadata": {
    "colab": {
     "base_uri": "https://localhost:8080/",
     "height": 402
    },
    "colab_type": "code",
    "id": "XIp2qmnNzYSw",
    "outputId": "f91cce1a-89ac-47f0-e29a-5473f3e2f62b"
   },
   "outputs": [
    {
     "data": {
      "text/html": [
       "<div>\n",
       "<style scoped>\n",
       "    .dataframe tbody tr th:only-of-type {\n",
       "        vertical-align: middle;\n",
       "    }\n",
       "\n",
       "    .dataframe tbody tr th {\n",
       "        vertical-align: top;\n",
       "    }\n",
       "\n",
       "    .dataframe thead th {\n",
       "        text-align: right;\n",
       "    }\n",
       "</style>\n",
       "<table border=\"1\" class=\"dataframe\">\n",
       "  <thead>\n",
       "    <tr style=\"text-align: right;\">\n",
       "      <th></th>\n",
       "      <th>my_datetime</th>\n",
       "      <th>event</th>\n",
       "      <th>country_code</th>\n",
       "      <th>user_id</th>\n",
       "      <th>source</th>\n",
       "      <th>country</th>\n",
       "    </tr>\n",
       "  </thead>\n",
       "  <tbody>\n",
       "    <tr>\n",
       "      <th>0</th>\n",
       "      <td>2018-01-01 00:01:01</td>\n",
       "      <td>read</td>\n",
       "      <td>country_7</td>\n",
       "      <td>2458151261</td>\n",
       "      <td>SEO</td>\n",
       "      <td>North America</td>\n",
       "    </tr>\n",
       "    <tr>\n",
       "      <th>1</th>\n",
       "      <td>2018-01-01 00:03:20</td>\n",
       "      <td>read</td>\n",
       "      <td>country_7</td>\n",
       "      <td>2458151262</td>\n",
       "      <td>SEO</td>\n",
       "      <td>Asia</td>\n",
       "    </tr>\n",
       "    <tr>\n",
       "      <th>2</th>\n",
       "      <td>2018-01-01 00:04:01</td>\n",
       "      <td>read</td>\n",
       "      <td>country_7</td>\n",
       "      <td>2458151263</td>\n",
       "      <td>AdWords</td>\n",
       "      <td>Africa</td>\n",
       "    </tr>\n",
       "    <tr>\n",
       "      <th>3</th>\n",
       "      <td>2018-01-01 00:04:02</td>\n",
       "      <td>read</td>\n",
       "      <td>country_7</td>\n",
       "      <td>2458151264</td>\n",
       "      <td>AdWords</td>\n",
       "      <td>Europe</td>\n",
       "    </tr>\n",
       "    <tr>\n",
       "      <th>4</th>\n",
       "      <td>2018-01-01 00:05:03</td>\n",
       "      <td>read</td>\n",
       "      <td>country_8</td>\n",
       "      <td>2458151265</td>\n",
       "      <td>Reddit</td>\n",
       "      <td>North America</td>\n",
       "    </tr>\n",
       "    <tr>\n",
       "      <th>...</th>\n",
       "      <td>...</td>\n",
       "      <td>...</td>\n",
       "      <td>...</td>\n",
       "      <td>...</td>\n",
       "      <td>...</td>\n",
       "      <td>...</td>\n",
       "    </tr>\n",
       "    <tr>\n",
       "      <th>1790</th>\n",
       "      <td>2018-01-01 23:57:14</td>\n",
       "      <td>read</td>\n",
       "      <td>country_2</td>\n",
       "      <td>2458153051</td>\n",
       "      <td>AdWords</td>\n",
       "      <td>North America</td>\n",
       "    </tr>\n",
       "    <tr>\n",
       "      <th>1791</th>\n",
       "      <td>2018-01-01 23:58:33</td>\n",
       "      <td>read</td>\n",
       "      <td>country_8</td>\n",
       "      <td>2458153052</td>\n",
       "      <td>SEO</td>\n",
       "      <td>Asia</td>\n",
       "    </tr>\n",
       "    <tr>\n",
       "      <th>1792</th>\n",
       "      <td>2018-01-01 23:59:36</td>\n",
       "      <td>read</td>\n",
       "      <td>country_6</td>\n",
       "      <td>2458153053</td>\n",
       "      <td>Reddit</td>\n",
       "      <td>Asia</td>\n",
       "    </tr>\n",
       "    <tr>\n",
       "      <th>1793</th>\n",
       "      <td>2018-01-01 23:59:36</td>\n",
       "      <td>read</td>\n",
       "      <td>country_7</td>\n",
       "      <td>2458153054</td>\n",
       "      <td>AdWords</td>\n",
       "      <td>Europe</td>\n",
       "    </tr>\n",
       "    <tr>\n",
       "      <th>1794</th>\n",
       "      <td>2018-01-01 23:59:38</td>\n",
       "      <td>read</td>\n",
       "      <td>country_5</td>\n",
       "      <td>2458153055</td>\n",
       "      <td>Reddit</td>\n",
       "      <td>Asia</td>\n",
       "    </tr>\n",
       "  </tbody>\n",
       "</table>\n",
       "<p>1795 rows × 6 columns</p>\n",
       "</div>"
      ],
      "text/plain": [
       "              my_datetime event  ...   source        country\n",
       "0     2018-01-01 00:01:01  read  ...      SEO  North America\n",
       "1     2018-01-01 00:03:20  read  ...      SEO           Asia\n",
       "2     2018-01-01 00:04:01  read  ...  AdWords         Africa\n",
       "3     2018-01-01 00:04:02  read  ...  AdWords         Europe\n",
       "4     2018-01-01 00:05:03  read  ...   Reddit  North America\n",
       "...                   ...   ...  ...      ...            ...\n",
       "1790  2018-01-01 23:57:14  read  ...  AdWords  North America\n",
       "1791  2018-01-01 23:58:33  read  ...      SEO           Asia\n",
       "1792  2018-01-01 23:59:36  read  ...   Reddit           Asia\n",
       "1793  2018-01-01 23:59:36  read  ...  AdWords         Europe\n",
       "1794  2018-01-01 23:59:38  read  ...   Reddit           Asia\n",
       "\n",
       "[1795 rows x 6 columns]"
      ]
     },
     "execution_count": 20,
     "metadata": {
      "tags": []
     },
     "output_type": "execute_result"
    }
   ],
   "source": [
    "#Now we fill nan values with mode of country\n",
    "df1[\"country\"] = df1[\"country\"].fillna(df1[\"country\"].mode().iloc[0])\n",
    "df1"
   ]
  },
  {
   "cell_type": "code",
   "execution_count": 21,
   "metadata": {
    "colab": {
     "base_uri": "https://localhost:8080/",
     "height": 84
    },
    "colab_type": "code",
    "id": "xoAsPMBmzbVv",
    "outputId": "f4ecd6e1-b6e8-465b-8e70-f6624505563b"
   },
   "outputs": [
    {
     "data": {
      "text/plain": [
       "Reddit     949\n",
       "AdWords    500\n",
       "SEO        346\n",
       "Name: source, dtype: int64"
      ]
     },
     "execution_count": 21,
     "metadata": {
      "tags": []
     },
     "output_type": "execute_result"
    }
   ],
   "source": [
    "#Check the count of categories being repeated in the source column.\n",
    "df[\"source\"].value_counts()"
   ]
  },
  {
   "cell_type": "code",
   "execution_count": 0,
   "metadata": {
    "colab": {},
    "colab_type": "code",
    "id": "RBQFKsn4zeHe"
   },
   "outputs": [],
   "source": []
  }
 ],
 "metadata": {
  "colab": {
   "name": "assignment-16(15-06-2020)",
   "provenance": []
  },
  "kernelspec": {
   "display_name": "Python 3",
   "language": "python",
   "name": "python3"
  },
  "language_info": {
   "codemirror_mode": {
    "name": "ipython",
    "version": 3
   },
   "file_extension": ".py",
   "mimetype": "text/x-python",
   "name": "python",
   "nbconvert_exporter": "python",
   "pygments_lexer": "ipython3",
   "version": "3.7.4"
  }
 },
 "nbformat": 4,
 "nbformat_minor": 1
}

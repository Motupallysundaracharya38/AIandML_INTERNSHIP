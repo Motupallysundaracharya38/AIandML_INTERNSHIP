FIRST PROGRAM ON PATTERN PRINTING
1
n=int(input("enter the n value"))
2
for i in range(0,n):
3
    for j in range (0,i+1):
4
        print("*",end=" ")
5
    print("\r")
6
    print("\n")
7
​
8
        
9
        
10
​
enter the n value5
* 


* * 


* * * 


* * * * 


* * * * * 


second program on
Display multiplication table of K. Take k value from user
Ex: 7 x 1 =7
7 x 2 = 14 .....
=
1
n=int(input("enter the number"))
2
for i in range(1,11):
3
    c=n*i
4
    print(n,"*",i,"=",c)
enter the number7
7 * 1 = 7
7 * 2 = 14
7 * 3 = 21
7 * 4 = 28
7 * 5 = 35
7 * 6 = 42
7 * 7 = 49
7 * 8 = 56
7 * 9 = 63
7 * 10 = 70
import cmath
a=int(input("enter the value:"))
b=int(input("enter the value:"))
c=int(input("enter the value:"))
d=((b**2)-(4*a*c))
if d>0 :
    e=((-b+cmath.sqrt(d))/(2*a))
    print(e)
else :
    e=((-b-cmath.sqrt(d))/(2*a))    
    print(round(e))

1
import cmath
2
a=int(input("enter the value:"))
3
b=int(input("enter the value:"))
4
c=int(input("enter the value:"))
5
d=((b**2)-(4*a*c))
6
if d>0 :
7
    e=((-b+cmath.sqrt(d))/(2*a))
8
    print(e)
9
else :
10
    e=((-b-cmath.sqrt(d))/(2*a))    
11
    print(round(e))
12
​
enter the value:1
enter the value:5
enter the value:6
1
(-2+0j)
1
import cmath
2
a=int(input("enter the value:"))
3
b=int(input("enter the value:"))
4
c=int(input("enter the value:"))
5
d=((b**2)-(4*a*c))
6
print(d)
7
if d>0 :
8
    e=(-b+cmath.sqrt(d))/(2*a)
9
    print(e)
10
else :
11
    e=(-b-cmath.sqrt(d))/(2*a)    
12
    print(e)
13
​
enter the value:5
enter the value:6
enter the value:7
-104
(-0.6-1.0198039027185568j)
1
a=0
2
b=1
3
n=int(input("enter the value:"))
4
for i in range (2,n):
5
    x=a+b
6
    a=b;
7
    b=x
8
print(a,b,x)
enter the value:5
2 3 3
n=int(input("enter the value"))
a=0
b=1
if n==1:
    print(a)
elif n==2:
    print(a,b)
else:
    i=3
   
    while i<=n:
        c=a+b
        if i==3:
            print(a,b,c,end=" ")
        else:
            print(c)
        a=b
        b=c
        i+=1
1
n=int(input("enter the value"))
2
a=0
3
b=1
4
if n==1:
5
    print(a)
6
elif n==2:
7
    print(a,b)
8
else:
9
    i=3
10
   
11
    while i<=n:
12
        c=a+b
13
        if i==3:
14
            print(a,b,c,end=" ")
15
        else:
16
            print(c)
17
        a=b
18
        b=c
19
        i+=1
enter the value4
0 1 1 2
